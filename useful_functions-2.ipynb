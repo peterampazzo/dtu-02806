{
 "cells": [
  {
   "cell_type": "markdown",
   "source": "### USEFUL FUNCTIONS\n\nNotebook with useful functions used throughout the `main_explainer.ipynb` and other notebooks.",
   "metadata": {
    "tags": [],
    "deepnote_to_be_reexecuted": false,
    "source_hash": "f47b4add",
    "execution_start": 1618910528076,
    "execution_millis": 8,
    "cell_id": "00000-225e81f0-605f-4976-9a6e-07119210eecc",
    "deepnote_cell_type": "markdown"
   }
  },
  {
   "cell_type": "code",
   "metadata": {
    "tags": [],
    "deepnote_to_be_reexecuted": false,
    "source_hash": "8f152502",
    "execution_millis": 1311,
    "execution_start": 1621019749307,
    "cell_id": "00001-4645c19e-6b8c-4489-bed3-6ddd68b79d17",
    "deepnote_cell_type": "code"
   },
   "source": "# Importing and translating the dataframe:\nimport pandas as pd\nimport numpy as np\nimport matplotlib.pyplot as plt\nimport seaborn as sns\nimport googletrans\nfrom googletrans import Translator\n# sns.set_style('whitegrid') # Do not put this please, it messes with all my plots \nsns.set(style='white')\n\n\nfile_path = './data/2017_ebsib_bcn_enquesta_benestar_subjectiu_infancia_barcelona.csv'\ndf = pd.read_csv(file_path, sep=';')",
   "execution_count": 1,
   "outputs": []
  },
  {
   "cell_type": "code",
   "source": "def translate_svy(df):\n    # use translate method to translate a string - by default, the destination language is english\n    translator = Translator()\n\n    # make a deep copy of the data frame\n    df_en = df.copy()\n\n    # translate columns' name using rename function\n    df_en.rename(columns=lambda x: translator.translate(x, src='ca').text, inplace=True)\n\n    # translated column names\n    df_en.columns",
   "metadata": {
    "tags": [],
    "cell_id": "00002-b0595c90-769c-4143-819f-9390126d60f4",
    "deepnote_to_be_reexecuted": false,
    "source_hash": "77a2913b",
    "execution_start": 1621019750622,
    "execution_millis": 10,
    "deepnote_cell_type": "code"
   },
   "outputs": [],
   "execution_count": 2
  },
  {
   "cell_type": "code",
   "metadata": {
    "tags": [],
    "deepnote_to_be_reexecuted": false,
    "source_hash": "955af002",
    "execution_start": 1621019750637,
    "execution_millis": 105,
    "cell_id": "00002-32df637d-ecc0-46dd-b646-b81c46dbef6b",
    "deepnote_cell_type": "code"
   },
   "source": "# Translated data-frame:\nfile_path_t = '/work/data/translated.csv'\ndf_t = pd.read_csv(file_path_t, sep=',')\ndf_t = df_t.drop(df_t.columns[0], axis=1)",
   "execution_count": 3,
   "outputs": []
  },
  {
   "cell_type": "code",
   "metadata": {
    "tags": [],
    "deepnote_to_be_reexecuted": false,
    "source_hash": "17916280",
    "execution_start": 1621019750749,
    "execution_millis": 44,
    "cell_id": "00003-dd044ca4-4b1b-4913-8d21-5471eeec86f1",
    "deepnote_cell_type": "code"
   },
   "source": "# Include Average income and Population by neighborhood\n# Import Territorial Demographics:\nfile_path = './data/2017_distribucio_territorial_renda_familiar.csv'\ndf_inc = pd.read_csv(file_path, sep=',')\n\n# Calculate sum of Population / Mean RFD Index/ Weighthed Mean RFD Index (taking in to account population) --> By neighborhood\ndf_inc['SumW']= df_inc['Població'] * df_inc['Índex RFD Barcelona = 100']\ndf_dist = df_inc.groupby(['Codi_Districte']).agg({'Població':'sum','SumW':'sum', 'Índex RFD Barcelona = 100':'mean'})\ndf_dist['RFD-sumw']= df_dist['SumW'] / df_dist['Població']\ndf_dist.pop('SumW')\n\n# Aggregate measures in the original data-set\ndf_t = df_t.join(df_dist, on='Codi_Districte_Educatiu').rename(columns={'Índex RFD Barcelona = 100':'RFD-mean'})\n\n# Calculate Std. deviation and Std. error of RFD Index and aggregate to original\ndf_dist2 = df_inc.groupby(['Codi_Districte']).agg({'Índex RFD Barcelona = 100':'std'})\ndf_t = df_t.join(df_dist2, on='Codi_Districte_Educatiu').rename(columns={'Índex RFD Barcelona = 100':'RFD-std'})\ndf_dist3 = df_inc.groupby(['Codi_Districte']).agg({'Índex RFD Barcelona = 100':'sem'})\ndf_t = df_t.join(df_dist3, on='Codi_Districte_Educatiu').rename(columns={'Índex RFD Barcelona = 100':'RFD-sem'})",
   "execution_count": 4,
   "outputs": []
  },
  {
   "cell_type": "code",
   "metadata": {
    "tags": [],
    "deepnote_to_be_reexecuted": false,
    "source_hash": "b77811cd",
    "execution_start": 1621019750820,
    "execution_millis": 1,
    "cell_id": "00004-e3d0d8b9-cdf8-4734-8906-df93722bb209",
    "deepnote_cell_type": "code"
   },
   "source": "def dic_codi_dist(df_):\n    codi_nom = df_.loc[:, ['Codi_Districte_Educatiu', 'Nom_Districte_Educatiu']].drop_duplicates(keep='first',inplace=False).sort_values('Codi_Districte_Educatiu')\n    codi_nom = codi_nom.set_index('Codi_Districte_Educatiu')\n    d_ = codi_nom.to_dict()\n    return (d_['Nom_Districte_Educatiu'])",
   "execution_count": 5,
   "outputs": []
  },
  {
   "cell_type": "code",
   "metadata": {
    "tags": [],
    "deepnote_to_be_reexecuted": false,
    "source_hash": "af84985e",
    "execution_start": 1621019750821,
    "execution_millis": 1,
    "cell_id": "00005-692d53ac-52fe-4044-9ff1-8464b9e08a05",
    "deepnote_cell_type": "code"
   },
   "source": "# COLOR IMPORTS\nimport matplotlib.colors\n\n# Defining incremental color scale\ncolors_rgba_hex = ['#EDF6CA',\"#d9ed92\",\"#b5e48c\",\"#99d98c\",\"#76c893\",\"#52b69a\",\"#34a0a4\",\"#168aad\",\"#1a759f\",\"#1e6091\",\"#184e77\", \"#0E2C44\"]\ncolors_rgba = [matplotlib.colors.to_rgba(col) for col in colors_rgba_hex[::-1]]\n\ncolors_hex = ['#00378F', '#FF595E', '#FFCA3A', '#8AC926', '#1982C4', '#6A4C93']\ncolors = [matplotlib.colors.to_rgba(col) for col in colors_hex[::-1]]\n\n\ncolors2_hex= [\"#FFCA3A\",\"#DAAB50\",\"#A3798B\",\"#7D5C9B\",\"#4D376C\"] # YELLOW - PURPLES\n# colors2_hex= [\"#0B59AD\",\"#66ABF4\",\"#EBEBD3\",\"#F4D35E\",\"#EE964B\"]  # BLUE-ORANGE\ncolors2 = [matplotlib.colors.to_rgba(col) for col in colors2_hex]",
   "execution_count": 6,
   "outputs": []
  },
  {
   "cell_type": "code",
   "source": "# DISTRICTS: COLOR MAP\n\ndef bat_plot2(mtrx,lev_, att_, sec_mtrx, sec_lev, cmap, fig_tup=(5,10)):    \n    fig, axes = plt.subplots(ncols=2, nrows=1, figsize=fig_tup, sharey=True, gridspec_kw={'width_ratios': [3.28, 1]})\n    im1 = axes[0].imshow(mtrx, cmap=cmap)\n    im2 = axes[1].imshow(sec_mtrx, cmap=cmap)\n\n    # We want to show all ticks...\n    axes[0].set_xticks(np.arange(len(lev_)))\n    axes[0].set_yticks(np.arange(len(att_)))\n\n    axes[1].set_xticks(np.arange(len(sec_lev)))\n    # axes[1].set_yticks([])\n\n    # ... and label them with the respective list entries\n    axes[0].set_xticklabels(lev_, rotation = 45, ha= \"left\")\n    axes[0].set_yticklabels(att_)\n\n    axes[1].set_xticklabels(sec_lev, rotation = 45, ha= \"left\")\n\n    # Add grid\n    axes[0].set_xticks(np.arange(len(lev_))-.5, minor=True)\n    axes[0].set_yticks(np.arange(len(lev_))-.5, minor=True)\n    axes[1].set_xticks(np.arange(len(sec_lev))-.5, minor=True)\n\n    # Let the horizontal axes labeling appear on top.\n    axes[0].tick_params(top=True, bottom=False, left=True,\n                labeltop=True, labelbottom=False, labelsize=14, pad=6)\n\n    axes[1].tick_params(top=True, bottom=False, left=False,\n                labeltop=True, labelbottom=False, labelsize=14, pad=6)\n\n    \n    # Loop over data dimensions and create text annotations.\n    for i in range(len(att_)):\n        for j in range(len(lev_)):\n            text = axes[0].text(j, i, round(mtrx[i][j],1),\n                        ha=\"center\", va=\"center\", color=\"w\", fontsize=16, fontweight='bold')\n\n    # Loop over data dimensions and create text annotations.\n    for i2 in range(len(att_)):\n        for j2 in range(len(sec_lev)):\n            text = axes[1].text(j2, i2, round(sec_mtrx[i2][j2],1),\n                        ha=\"center\", va=\"center\", color=\"w\", fontsize=16, fontweight='bold')\n\n    for ax in axes:\n        # Despine\n        for edge, spine in ax.spines.items():\n            spine.set_visible(False)\n        \n        ax.grid(which=\"minor\", color=\"w\", linestyle='-', linewidth=1.5)\n        ax.tick_params(which=\"minor\", bottom=False, left=False)\n    \n    # plt.title(\"Limitted access to materials\", fontsize=22, y=1.3, x=-1)\n\n    # plt.rcParams['figure.dpi'] = 400\n    # plt.savefig('dc_fam-ff.png', bbox_inches='tight', transparent=True)\n    fig.tight_layout()\n    plt.show()",
   "metadata": {
    "tags": [],
    "cell_id": "00007-fb853116-4d11-4eca-b664-c13c800104ba",
    "deepnote_to_be_reexecuted": false,
    "source_hash": "59cac823",
    "execution_start": 1621019827386,
    "execution_millis": 2,
    "deepnote_cell_type": "code"
   },
   "outputs": [],
   "execution_count": 18
  },
  {
   "cell_type": "code",
   "source": "# FEELINGS DISTRIBUTIONS - PLOT BAR SATCKED\n# Preparing thr Function for Plotting the results for feelings stacked plot: \ndef f_sbar_plot(dic): \n    # Plotting Feeling frequencies:\n    plt.figure(figsize=(18, 10))\n    # plt.rcParams['figure.dpi'] = 600\n    axes = []\n\n    # Aggregating each feeling level:\n    cum_size = np.zeros(len(feelings))\n    i=0\n    for level ,row_data in zip(dic.keys(),dic.values()):\n        axes.append(plt.barh(feelings_names, row_data, left=cum_size,\n                                label=level, color=colors_rgba[i]))\n        cum_size += row_data\n        i +=1\n\n    ax = plt.gca()\n    ax.spines[\"right\"].set_visible(False)\n    ax.spines[\"left\"].set_visible(False)\n    ax.spines[\"top\"].set_visible(False)\n    ax.set_xticks(np.arange(0,101,20))\n    plt.legend(bbox_to_anchor=(0.5,0.95), loc=\"lower center\", ncol=len(levels), frameon=False, fontsize='medium',\n    title = \"                    Never                                                                                                                                                           All the time\")\n    # ax.legend(bbox_to_anchor=(0.5,0.95), loc=\"lower center\", ncol=len(levels), frameon=False, fontsize='medium')\n\n    # plt.ylabel(\"Feelings\", fontsize=16)\n    plt.xlabel(\"Ratio of answers per level\", fontsize=16)\n    plt.suptitle(\"How often did you have this feeling during the last two weeks?\", fontsize=22)\n\n    # plt.savefig('f_sbar.png', bbox_inches='tight')\n    plt.show()",
   "metadata": {
    "tags": [],
    "cell_id": "00006-5bf2bb6c-e92e-4df3-8ad6-8e56ccd34d19",
    "deepnote_to_be_reexecuted": false,
    "source_hash": "ed1306af",
    "execution_start": 1621019750822,
    "execution_millis": 3,
    "deepnote_cell_type": "code"
   },
   "outputs": [],
   "execution_count": 7
  },
  {
   "cell_type": "code",
   "source": "# FEELINGS DISTRIBUTIONS - PLOT POSTIVE - NEGATIVE\ndef f_dist_plot(df_):\n    df_ = df_.rename(columns=f_labels)\n    feelings_names = [\"SAD\", \"STRESSED\", \"BORED\",\"HAPPY\",\"CALM\", \"ENERGETIC\"]\n\n    fig,axs = plt.subplots(ncols=2, nrows=1, figsize=(16,6), sharex= True, sharey= True)\n    plt.subplots_adjust(wspace=0.6, hspace=0.01)\n\n    df_.loc[:,feelings_names[3:]].plot(ax=axs[0], lw=2.5, fontsize=12, style={'CALM': '--c', 'ENERGETIC': ':c', 'HAPPY': 'b'})\n    df_.loc[:,feelings_names[:3]].plot(ax=axs[1], lw=2.5, fontsize=12, style={'BORED': ':c', 'STRESSED': '--c', 'SAD': 'b'})\n\n    for ax in axs:\n        ax.spines[\"right\"].set_visible(False)\n        ax.spines[\"left\"].set_visible(False)\n        ax.spines[\"top\"].set_visible(False)\n\n        ax.grid(axis='y', color='#eee9e9', linestyle='dotted', linewidth=1.5)\n        ax.legend(bbox_to_anchor=(1,1), loc=\"upper left\", frameon=False, fontsize='medium')\n        ax.set_xlabel(\"Frequency levels\", fontsize=14)\n        ax.set_ylabel(\"Ratio of answers (%)\", fontsize=14)\n        # ax.legend(frameon=False, fontsize='medium')\n\n    plt.suptitle(\"Feelings Frequency Distribution\", fontsize=18)\n\n    # plt.savefig('f_dist.png', bbox_inches='tight')\n    plt.tight_layout()\n    plt.show()",
   "metadata": {
    "tags": [],
    "cell_id": "00007-44a1faf6-bd1d-43ea-9f61-46450776d8fb",
    "deepnote_to_be_reexecuted": false,
    "source_hash": "8dce761c",
    "execution_start": 1621019750832,
    "execution_millis": 2,
    "deepnote_cell_type": "code"
   },
   "outputs": [],
   "execution_count": 8
  },
  {
   "cell_type": "code",
   "source": "# CORRELATIONS ACCESS TO MATERIALS - DATA PREP\ndef am_dataprep(df_, att_name, levels, no=True):\n    cols = [att_name] + levels + ['RFD-sumw']\n    df_am = df_[cols].copy().sort_values('RFD-sumw')\n    df_am = df_am.dropna()\n    df_am.pop('RFD-sumw')\n\n    att_ = df_am[att_name].unique()\n    if att_name == 'ERFDbllp':\n        values = ['Neighborhoods outside the city Barcelona', 'NC']\n        for value in values:\n            j, = np.where(att_ == value) \n            att_ = np.delete(att_,j )\n\n    mtrx = []\n    for att in att_:\n        row = []\n        for lev in levels:\n            df_temp = df_am.loc[df_am[att_name]==att][lev].value_counts(normalize=True)*100\n            if no:\n                val = df_temp['No']\n            else:\n                val = df_temp['Yes']\n            row.append(val)\n        mtrx.append(row)\n    return(mtrx, att_)",
   "metadata": {
    "tags": [],
    "cell_id": "00008-531af0bd-f4d3-4bc9-b366-cce57ac533af",
    "deepnote_to_be_reexecuted": false,
    "source_hash": "e22feb7e",
    "execution_start": 1621019750850,
    "execution_millis": 0,
    "deepnote_cell_type": "code"
   },
   "outputs": [],
   "execution_count": 9
  },
  {
   "cell_type": "code",
   "source": "# CORRELATIONS ACCESS TO MATERIALS - PLOT CONSOLIDATED\n\ndef sat_plot2(mtrx,lev_, att_, sec_mtrx, sec_lev,cmap, fig_tup=(5,10)):    \n    fig, axes = plt.subplots(ncols=2, nrows=1, figsize=fig_tup, sharey=True, gridspec_kw={'width_ratios': [3.28, 1]})\n    im1 = axes[0].imshow(mtrx, cmap=cmap)\n    im2 = axes[1].imshow(sec_mtrx, cmap=cmap)\n\n    # We want to show all ticks...\n    axes[0].set_xticks(np.arange(len(lev_)))\n    axes[0].set_yticks(np.arange(len(att_)))\n\n    axes[1].set_xticks(np.arange(len(sec_lev)))\n    # axes[1].set_yticks([])\n\n    # ... and label them with the respective list entries\n    axes[0].set_xticklabels(lev_, rotation = 45, ha= \"left\")\n    axes[0].set_yticklabels(att_)\n\n    axes[1].set_xticklabels(sec_lev, rotation = 45, ha= \"left\")\n\n    # Add grid\n    axes[0].set_xticks(np.arange(len(lev_))-.5, minor=True)\n    axes[0].set_yticks(np.arange(len(lev_))-.5, minor=True)\n    axes[1].set_xticks(np.arange(len(sec_lev))-.5, minor=True)\n\n    # Let the horizontal axes labeling appear on top.\n    axes[0].tick_params(top=True, bottom=False, left=True,\n                labeltop=True, labelbottom=False, labelsize=14, pad=6)\n\n    axes[1].tick_params(top=True, bottom=False, left=False,\n                labeltop=True, labelbottom=False, labelsize=14, pad=6)\n\n    for ax in axes:\n        # Despine\n        for edge, spine in ax.spines.items():\n            spine.set_visible(False)\n        \n        ax.grid(which=\"minor\", color=\"w\", linestyle='-', linewidth=1.5)\n        ax.tick_params(which=\"minor\", bottom=False, left=False)\n\n        # Loop over data dimensions and create text annotations.\n        for i in range(len(att_)):\n            for j in range(len(lev_)):\n                text = ax.text(j, i, round(mtrx[i][j],1),\n                            ha=\"center\", va=\"center\", color=\"w\", fontsize=16, fontweight='bold')\n    \n    # plt.title(\"Limitted access to materials\", fontsize=22, y=1.3, x=-1)\n\n    # plt.rcParams['figure.dpi'] = 400\n    # plt.savefig('dc_fam-r.png', bbox_inches='tight')\n    fig.tight_layout()\n    plt.show()",
   "metadata": {
    "tags": [],
    "cell_id": "00009-9032b07f-470e-487a-9ee6-43c1eef6d2ab",
    "deepnote_to_be_reexecuted": false,
    "source_hash": "248aa3d2",
    "execution_start": 1621019750855,
    "execution_millis": 7,
    "deepnote_cell_type": "code"
   },
   "outputs": [],
   "execution_count": 10
  },
  {
   "cell_type": "code",
   "source": "# CORRELATIONS ACCESS TO MATERIALS - PLOT\ndef sat_plot(mtrx,lev_, att_,fig_tup=(5,10), col = 'whitesmoke'):    \n    fig, ax = plt.subplots(figsize=fig_tup)\n    im = ax.imshow(mtrx, cmap='Purples')\n\n    # We want to show all ticks...\n    ax.set_xticks(np.arange(len(lev_)))\n    ax.set_yticks(np.arange(len(att_)))\n\n    # ... and label them with the respective list entries\n    ax.set_xticklabels(lev_, rotation = 45, ha= \"left\")\n    ax.set_yticklabels(att_)\n\n    # Add grid\n    ax.set_xticks(np.arange(len(lev_))-.5, minor=True)\n    ax.set_yticks(np.arange(len(lev_))-.5, minor=True)\n    ax.grid(which=\"minor\", color=\"w\", linestyle='-', linewidth=1.5)\n    ax.tick_params(which=\"minor\", bottom=False, left=False)\n\n    # Let the horizontal axes labeling appear on top.\n    ax.tick_params(top=True, bottom=False, left=True,\n                labeltop=True, labelbottom=False, labelsize=14, pad=6)\n\n    # Despine\n    for edge, spine in ax.spines.items():\n        spine.set_visible(False)\n        \n\n    # Loop over data dimensions and create text annotations.\n    for i in range(len(att_)):\n        for j in range(len(lev_)):\n            text = ax.text(j, i, round(mtrx[i][j],1),\n                    ha=\"center\", va=\"center\", color=col, fontsize=16, fontweight='bold')\n    \n    # plt.title(\"Limitted access to materials\", fontsize=22, y=1.2, fontweight='bold')\n    fig.tight_layout()\n    plt.show()",
   "metadata": {
    "tags": [],
    "cell_id": "00009-8957e05d-ef3d-4d02-bbc3-f1c55240cc1d",
    "deepnote_to_be_reexecuted": false,
    "source_hash": "d9663f3d",
    "execution_start": 1621019750875,
    "execution_millis": 0,
    "deepnote_cell_type": "code"
   },
   "outputs": [],
   "execution_count": 11
  },
  {
   "cell_type": "code",
   "source": "# LIFE SATSIFACTION: DATA PREP\ndef sat_dataprep(df_, att_name):\n    cols = [att_name, 'SLSSmc']\n    df_sat = df_[cols].copy()\n    df_sat = df_sat.dropna()\n\n    lab = list(df_sat['SLSSmc'].unique())\n    lab_new= ['Very','Fairly', 'Slightly', 'Not at all', 'NC']\n\n    df_sat['Satisf'] = pd.Categorical(df_sat['SLSSmc'].replace(lab,lab_new),\n         categories = lab_new, ordered=True)\n    df_sat.pop('SLSSmc')  \n\n    att_ = np.sort(df_sat[att_name].unique())\n    levels = df_sat['Satisf'].unique()\n\n    mtrx = []\n    for att in att_:\n        df_att = df_sat.loc[df_sat[att_name]==att].value_counts(normalize=True)*100\n        df_att= df_att.reset_index().rename(columns={0: 'Ratio'})\n        mtrx.append(list(df_att['Ratio']))\n    \n    return(mtrx,lab_new, att_)",
   "metadata": {
    "tags": [],
    "cell_id": "00011-ed8d7260-42ba-409d-af99-1c86389a9fb9",
    "deepnote_to_be_reexecuted": false,
    "source_hash": "2d05056a",
    "execution_start": 1621019750879,
    "execution_millis": 3,
    "deepnote_cell_type": "code"
   },
   "outputs": [],
   "execution_count": 12
  },
  {
   "cell_type": "code",
   "metadata": {
    "tags": [],
    "deepnote_to_be_reexecuted": false,
    "source_hash": "41aac14",
    "execution_millis": 0,
    "execution_start": 1621019750911,
    "cell_id": "00008-d481a4f9-6e3a-4129-8744-05a7f6c8ea94",
    "deepnote_cell_type": "code"
   },
   "source": "# LIFE SATSIFACTION: PLOT BAR STACKED\n\ndef s_bar_plot(mtrx, level, attr, attr_label='', fig_tup=(16, 10), title = False): \n    plt.figure(figsize=fig_tup)\n    axes = []\n\n    # Aggregating each feeling level:\n    cum_size = np.zeros(len(attr))\n    i=0\n    for lev_, lev_data in zip(level, np.transpose(mtrx)):\n        axes.append(plt.barh(attr, lev_data, left=cum_size,\n                                label=lev_, color=colors2[i]))\n        cum_size += lev_data\n        i +=1\n\n    ax = plt.gca()\n    ax.spines[\"right\"].set_visible(False)\n    ax.spines[\"left\"].set_visible(False)\n    ax.spines[\"top\"].set_visible(False)\n    ax.set_xticks(np.arange(0,101,20))\n    ax.legend(bbox_to_anchor=(0.5,0.95), loc=\"lower center\", ncol=len(level), frameon=False, fontsize='medium')\n    plt.tick_params(labelsize=14, pad=6)\n\n    plt.ylabel(attr_label, fontsize=16)\n    plt.xlabel(\"Ratio of answers per level\", fontsize=16)\n    if title:\n        plt.title(\"To what extent are you satisfied with your life?\", fontsize=22, y=1.03)\n\n    plt.tight_layout()\n    # plt.savefig('f_sbar.png', bbox_inches='tight')\n    plt.show()",
   "execution_count": 13,
   "outputs": []
  },
  {
   "cell_type": "code",
   "source": "# LIFE SATSIFACTION: CLEAN ATTRIBUTES\ndef att_bar_plot(df_, att_name, att_, att_lab='', fig_tup = (12,8)):\n\n    fig, ax = plt.subplots(figsize=fig_tup)\n\n    # Number of kids surveyed by ATTRIBUTE\n    att_count = [(df_[att_name] == x).sum() for x in att_]\n\n    ax.barh(att_, att_count, color=colors2[-1])\n    ax.tick_params(labelsize=14, pad=6)\n\n    ax.spines[\"right\"].set_visible(False)\n    ax.spines[\"left\"].set_visible(False)\n    ax.spines[\"top\"].set_visible(False)\n\n    ax.set_xlabel('Counts', size=16, labelpad = 12)\n    plt.suptitle(att_lab, fontsize=20, y=0.94, x=0.6)\n    plt.tight_layout()\n    plt.show()\n\n\ndef m_att_resize(m,lev,att):\n    m_ = m.copy()\n    att_ = att.copy()\n    # print(\"att\", len(att))\n    for i in range(len(m)):\n        # print(i, m[i], len(lev)>len(m[i]))\n        if len(lev)>len(m[i]):\n            m_.remove(m[i])\n            j, = np.where(att_ == att[i]) \n            att_ = np.delete(att_, j)\n\n    return(m_,att_)",
   "metadata": {
    "tags": [],
    "cell_id": "00014-63b60a54-adb9-448e-8ad2-c062c411c2b9",
    "deepnote_to_be_reexecuted": false,
    "source_hash": "545dc749",
    "execution_start": 1621019750911,
    "execution_millis": 0,
    "deepnote_cell_type": "code"
   },
   "outputs": [],
   "execution_count": 14
  },
  {
   "cell_type": "code",
   "metadata": {
    "tags": [],
    "deepnote_to_be_reexecuted": false,
    "source_hash": "fb7c780e",
    "execution_millis": 1,
    "execution_start": 1621019750912,
    "cell_id": "00009-8da16644-3471-433e-82de-44ff974a4c37",
    "deepnote_cell_type": "code"
   },
   "source": "# Basic statistics for a numerical LIST\ndef basic_stats(LIST, ratio=False, r=0):    \n    # Stats:\n    if ratio:\n        print(\"  N: \", len(LIST), f\"({round(100*len(LIST)/r,2)}%)\")\n    else:\n        print(\"  N: \", len(LIST))\n\n    print('  Variance', round(np.var(LIST),2))\n    print('  Average:', round(np.mean(LIST),2))\n    print('  Median:', np.median(LIST))\n    print('  Max:', max(LIST))\n    print('  Min:', min(LIST))",
   "execution_count": 15,
   "outputs": []
  },
  {
   "cell_type": "code",
   "metadata": {
    "tags": [],
    "deepnote_to_be_reexecuted": false,
    "source_hash": "80919024",
    "execution_millis": 0,
    "execution_start": 1621019750926,
    "cell_id": "00010-cc837033-11e0-414a-aec7-19a6d3104f17",
    "deepnote_cell_type": "code"
   },
   "source": "def plot_yes_no(plot_col):\n    cols = ['Codi_Districte_Educatiu', 'Nom_Districte_Educatiu', plot_col]\n    plot_df = df_t.copy()\n    plot_df = plot_df[cols]\n\n    district_names = plot_df['Nom_Districte_Educatiu'].unique()\n    district_count = [plot_df[plot_df['Nom_Districte_Educatiu'] == name].count()[plot_col] for name in district_names] \n\n    options = plot_df[plot_col].unique()\n\n    plot_grouped = plot_df.groupby(['Nom_Districte_Educatiu', plot_col]).count()\n    plot_grouped.columns = ['count']\n\n    # Looking at yes\n    yes_count = np.array([plot_grouped.loc[(x, 'Yes'), :].values[0] for x in district_names])\n    yes_count = yes_count/district_count\n\n    # Looking at no\n    no_count = np.array([plot_grouped.loc[(x, 'No'), :].values[0] for x in district_names])\n    no_count = no_count/district_count\n\n    fig, ax = plt.subplots(1, 2, figsize=(15, 5))\n\n    ax[0].bar(district_names, yes_count)\n    ax[0].set_title('Yes')\n\n    ax[1].bar(district_names, no_count)\n    ax[1].set_title('No')\n\n    ax[0].tick_params(axis='x', labelrotation=90)\n    ax[1].tick_params(axis='x', labelrotation=90)\n    plt.show()",
   "execution_count": 16,
   "outputs": []
  },
  {
   "cell_type": "code",
   "metadata": {
    "tags": [],
    "deepnote_to_be_reexecuted": false,
    "source_hash": "c0c122dd",
    "execution_start": 1621019750929,
    "execution_millis": 0,
    "cell_id": "00012-8bb8794a-4808-4656-8202-3388108e2581",
    "deepnote_cell_type": "code"
   },
   "source": "def stacked_vars(df_t, name_var, colors, rename_var='', leg='top'):\n    count = df_t[name_var].value_counts(normalize=True)*100\n    piv_ = count.to_frame().T\n    levels = piv_.shape[1]\n\n    if rename_var!='':\n        piv_ = piv_.rename(index={name_var: rename_var})\n\n    piv_.plot.barh(stacked=True, figsize=(10,3), color = colors[:levels])\n\n    if leg=='top':\n        plt.legend(bbox_to_anchor=(0.98,0.9), loc=\"lower right\", ncol=levels, frameon=False, fontsize='medium')\n    elif leg=='r':\n        plt.legend(bbox_to_anchor=(0.98,0.94), loc=\"upper left\", frameon=False, fontsize='medium')\n\n    plt.tick_params(labelsize=14, pad=6)\n    \n    ax = plt.gca()\n    ax.spines[\"right\"].set_visible(False)\n    ax.spines[\"left\"].set_visible(False)\n    ax.spines[\"top\"].set_visible(False)\n    # ax.spines[\"bottom\"].set_visible(False)\n\n    plt.tight_layout()",
   "execution_count": 17,
   "outputs": []
  },
  {
   "cell_type": "markdown",
   "source": "<a style='text-decoration:none;line-height:16px;display:flex;color:#5B5B62;padding:10px;justify-content:end;' href='https://deepnote.com?utm_source=created-in-deepnote-cell&projectId=5cb1a2c0-2f56-40d6-8008-fedeaf8b6a17' target=\"_blank\">\n<img alt='Created in deepnote.com' style='display:inline;max-height:16px;margin:0px;margin-right:7.5px;' src='data:image/svg+xml;base64,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' > </img>\nCreated in <span style='font-weight:600;margin-left:4px;'>Deepnote</span></a>",
   "metadata": {
    "tags": [],
    "created_in_deepnote_cell": true,
    "deepnote_cell_type": "markdown"
   }
  }
 ],
 "nbformat": 4,
 "nbformat_minor": 2,
 "metadata": {
  "orig_nbformat": 2,
  "deepnote": {
   "is_reactive": false
  },
  "deepnote_notebook_id": "c3a1a44f-1db5-4290-8877-64cb2e4197f2",
  "deepnote_execution_queue": []
 }
}