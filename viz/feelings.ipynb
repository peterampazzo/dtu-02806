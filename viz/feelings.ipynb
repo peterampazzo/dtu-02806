{
 "cells": [
  {
   "cell_type": "markdown",
   "source": "# Feelings\n\n## Bar chart\n\n- [Spotify code](https://github.com/peterampazzo/dtu-02805-website/blob/master/src/components/viz/collab-genres.js)\n- [Spotify data](https://github.com/peterampazzo/dtu-02805-website/blob/master/src/data/data-collab-genres.json)\n- [Spotify viz](https://artists-collaborations-network.netlify.app/how-do-artists-collaborate/)\n- [documentation](https://nivo.rocks/bar/)",
   "metadata": {
    "tags": [],
    "cell_id": "00000-8ece8ca8-b269-453a-908e-a719b391a341",
    "deepnote_cell_type": "markdown"
   }
  },
  {
   "cell_type": "code",
   "metadata": {
    "tags": [],
    "cell_id": "00001-0b237bd9-8ab3-4d1b-aa64-dcaff5ec0af6",
    "deepnote_to_be_reexecuted": false,
    "source_hash": "1f57a112",
    "execution_start": 1620159158267,
    "execution_millis": 47,
    "deepnote_cell_type": "code"
   },
   "source": "# Silvia's example for 'feelings'",
   "execution_count": null,
   "outputs": []
  },
  {
   "cell_type": "code",
   "metadata": {
    "tags": [],
    "cell_id": "00002-71b0c17f-4c4d-41ab-97a8-d6957d9bd2fd",
    "deepnote_to_be_reexecuted": false,
    "source_hash": "c110102c",
    "execution_start": 1620159158315,
    "execution_millis": 0,
    "deepnote_cell_type": "code"
   },
   "source": "# data structure: main group feeling, which contains values for each category (NC, 0, 1, ..., 10)",
   "execution_count": null,
   "outputs": []
  },
  {
   "cell_type": "code",
   "metadata": {
    "tags": [],
    "cell_id": "00003-22cd939c-e069-4a35-aac7-ad38ac6dc876",
    "deepnote_to_be_reexecuted": false,
    "source_hash": "b485bc96",
    "execution_start": 1620464717273,
    "execution_millis": 1537,
    "deepnote_cell_type": "code"
   },
   "source": "# IMPORTS\nimport json\nimport numpy as np\nimport pandas as pd\nimport seaborn as sns\nimport matplotlib.pyplot as plt\nsns.set(style='white')\n\n# LOAD FUNCTIONS\n%run ../src/useful_functions.ipynb",
   "execution_count": null,
   "outputs": []
  },
  {
   "cell_type": "code",
   "metadata": {
    "tags": [],
    "cell_id": "00004-177d27e9-c4c4-4dfa-a82d-01c3bd005fd2",
    "deepnote_to_be_reexecuted": false,
    "source_hash": "ba6fb75f",
    "execution_start": 1620464720106,
    "execution_millis": 16,
    "deepnote_cell_type": "code"
   },
   "source": "# Feelings analysis \ncols = ['Codi_Districte_Educatiu','Nom_Districte_Educatiu', 'f_felicitat', 'f_energia','f_calma', 'f_avorriment','f_estres','f_tristesa']\nf_freq = df[cols].copy()\nf_freq = f_freq.dropna()\n\nfeelings = cols[::-1][:-2]\nlevels = ['NC']+[str(n) for n in range(0,11)]\n\ndef f_dataprep(f_freq, ret_dic=True):\n    # Creating a dictionary with the levels to generate stacked bar\n\n    dic = {level:[] for level in levels}\n\n    # Creating a dataframe with the levels for bokeh\n    df_ = pd.DataFrame(index=levels, columns=feelings)\n    df_ = df_.fillna(np.nan)\n\n    for feeling in feelings:\n        ratio = f_freq[feeling].value_counts(normalize=True)*100\n        for level in levels: \n            dic[level].append(ratio[level])\n            df_[feeling] = ratio\n    \n    if ret_dic:\n        return(dic)\n    else:\n        return(df_)",
   "execution_count": null,
   "outputs": []
  },
  {
   "cell_type": "code",
   "metadata": {
    "tags": [],
    "cell_id": "00005-22980f63-10aa-44bc-b250-4d3188ece12d",
    "deepnote_to_be_reexecuted": false,
    "source_hash": "7833dd3f",
    "execution_start": 1620464722076,
    "execution_millis": 11,
    "deepnote_cell_type": "code"
   },
   "source": "# Plot Labels\nfeelings_names = [\"SAD\", \"STRESSED\", \"BORED\",\"CALM\", \"ENERGETIC\", \"HAPPY\"]\nf_labels={}\nfor cat_e,eng_e in zip(feelings,feelings_names):\n    f_labels[cat_e]=eng_e\n\n# Defining incremental color scale\ncolors_hex = ['#EDF6CA',\"#d9ed92\",\"#b5e48c\",\"#99d98c\",\"#76c893\",\"#52b69a\",\"#34a0a4\",\"#168aad\",\"#1a759f\",\"#1e6091\",\"#184e77\", \"#0E2C44\"]\n\nimport matplotlib.colors\ncolors_rgba = [matplotlib.colors.to_rgba(col) for col in colors_hex[::-1]]",
   "execution_count": null,
   "outputs": []
  },
  {
   "cell_type": "code",
   "metadata": {
    "tags": [],
    "cell_id": "00006-896ff4c1-562b-473f-b000-19db1df2bf61",
    "deepnote_to_be_reexecuted": false,
    "source_hash": "25fa31dc",
    "execution_start": 1620464724254,
    "execution_millis": 40,
    "deepnote_cell_type": "code"
   },
   "source": "f_dict = f_dataprep(f_freq, ret_dic=True)",
   "execution_count": null,
   "outputs": []
  },
  {
   "cell_type": "markdown",
   "source": "# Hot fix for website",
   "metadata": {
    "tags": [],
    "cell_id": "00007-dbc67004-da72-439a-a755-9b2cc5c53c96",
    "deepnote_cell_type": "text-cell-h1"
   }
  },
  {
   "cell_type": "code",
   "metadata": {
    "tags": [],
    "cell_id": "00008-56835e64-c7e7-44ca-8545-a99dab3cf6f5",
    "deepnote_to_be_reexecuted": false,
    "source_hash": "750dd9a",
    "execution_start": 1620464725765,
    "execution_millis": 7,
    "output_cleared": true,
    "deepnote_cell_type": "code"
   },
   "source": "# Assign each class a color\ndict(zip(f_dict.keys(), colors_hex))",
   "execution_count": null,
   "outputs": []
  },
  {
   "cell_type": "code",
   "metadata": {
    "tags": [],
    "cell_id": "00007-d6627ab4-3801-4359-8703-e93d7bf44ae4",
    "deepnote_to_be_reexecuted": false,
    "source_hash": "88f8fbde",
    "execution_start": 1620464727592,
    "execution_millis": 0,
    "deepnote_cell_type": "code"
   },
   "source": "data = []\n\nfor i, feeling in enumerate(feelings_names):\n    item = {}\n    item['feeling'] = feeling.capitalize()\n    for key in f_dict.keys():\n        # print(i, f_dict[key][i])\n        item[key] = round(f_dict[key][i], 2)\n\n    data.append(item)",
   "execution_count": null,
   "outputs": []
  },
  {
   "cell_type": "code",
   "metadata": {
    "tags": [],
    "cell_id": "00010-1831771d-b65d-4ef6-9637-b7a426683615",
    "deepnote_to_be_reexecuted": false,
    "source_hash": "4d3b74ba",
    "execution_start": 1620159161468,
    "execution_millis": 0,
    "deepnote_cell_type": "code"
   },
   "source": "with open('../data/feeling-bar-chart.json', 'w') as outfile:\n    json.dump(data, outfile)",
   "execution_count": null,
   "outputs": []
  },
  {
   "cell_type": "markdown",
   "source": "## Distribution",
   "metadata": {
    "tags": [],
    "cell_id": "00011-c480ec4d-f2ae-4953-883b-cfb7a14f0aad",
    "deepnote_cell_type": "markdown"
   }
  },
  {
   "cell_type": "code",
   "metadata": {
    "tags": [],
    "cell_id": "00012-992e546f-faec-452b-a22b-1fdc820b07ab",
    "deepnote_to_be_reexecuted": false,
    "source_hash": "61e2b019",
    "execution_start": 1620464731189,
    "execution_millis": 28,
    "deepnote_cell_type": "code"
   },
   "source": "f_df = f_dataprep(f_freq, ret_dic=False)\n# f_df = f_dataprep(f_freq, ret_dic=True)",
   "execution_count": null,
   "outputs": []
  },
  {
   "cell_type": "code",
   "metadata": {
    "tags": [],
    "cell_id": "00013-1f22d45d-4cb0-4ee5-9872-a548cc5849ed",
    "deepnote_to_be_reexecuted": false,
    "source_hash": "6506c9ef",
    "execution_start": 1620464743147,
    "execution_millis": 12,
    "output_cleared": true,
    "deepnote_cell_type": "code"
   },
   "source": "f_df = f_df.rename(columns=f_labels)",
   "execution_count": null,
   "outputs": []
  },
  {
   "cell_type": "code",
   "metadata": {
    "tags": [],
    "cell_id": "00012-d06e63f0-a645-4d74-b320-8dbf853934e9",
    "deepnote_to_be_reexecuted": false,
    "source_hash": "ca2d9044",
    "execution_start": 1620465970602,
    "execution_millis": 5,
    "output_cleared": true,
    "deepnote_cell_type": "code"
   },
   "source": "data = []\nfor col in feelings_names[:3]:\n    feeling = {}\n    feeling['id'] = col.capitalize()\n    feeling['color'] = '#eee9e9'\n    feeling['data'] = []\n    values = zip(f_df.index, f_df[col]) # here i rounded\n    for item in values:\n        feeling['data'].append({'x': item[0], 'y': item[1]})\n    \n    data.append(feeling)",
   "execution_count": null,
   "outputs": []
  },
  {
   "cell_type": "code",
   "metadata": {
    "tags": [],
    "cell_id": "00015-14ff2fc1-45fb-4b33-9605-d941a14e4f89",
    "deepnote_to_be_reexecuted": false,
    "source_hash": "9d19edcc",
    "execution_start": 1620465974600,
    "execution_millis": 4,
    "deepnote_cell_type": "code"
   },
   "source": "with open('../data/feeling-dist-2.json', 'w') as outfile:\n    json.dump(data, outfile)",
   "execution_count": null,
   "outputs": []
  },
  {
   "cell_type": "markdown",
   "source": "<a style='text-decoration:none;line-height:16px;display:flex;color:#5B5B62;padding:10px;justify-content:end;' href='https://deepnote.com?utm_source=created-in-deepnote-cell&projectId=5cb1a2c0-2f56-40d6-8008-fedeaf8b6a17' target=\"_blank\">\n<img alt='Created in deepnote.com' style='display:inline;max-height:16px;margin:0px;margin-right:7.5px;' src='data:image/svg+xml;base64,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' > </img>\nCreated in <span style='font-weight:600;margin-left:4px;'>Deepnote</span></a>",
   "metadata": {
    "tags": [],
    "created_in_deepnote_cell": true,
    "deepnote_cell_type": "markdown"
   }
  }
 ],
 "nbformat": 4,
 "nbformat_minor": 2,
 "metadata": {
  "orig_nbformat": 2,
  "deepnote": {
   "is_reactive": false
  },
  "deepnote_notebook_id": "46213cd1-53f8-46e7-afd6-99db680dbc61",
  "deepnote_execution_queue": []
 }
}