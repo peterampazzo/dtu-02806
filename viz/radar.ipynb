{
 "cells": [
  {
   "cell_type": "markdown",
   "source": "# Radar\n- [documentation](https://nivo.rocks/radar/)",
   "metadata": {
    "tags": [],
    "cell_id": "00001-b841d3c2-bcce-4933-a74b-a7b299d01784",
    "deepnote_cell_type": "markdown"
   }
  },
  {
   "cell_type": "code",
   "metadata": {
    "tags": [],
    "cell_id": "00001-264e3685-62cd-4cc7-8a85-f549cb0f204c",
    "deepnote_to_be_reexecuted": false,
    "source_hash": "4099d089",
    "execution_start": 1620894170027,
    "execution_millis": 1840,
    "deepnote_cell_type": "code"
   },
   "source": "# IMPORTS\nimport numpy as np\nimport pandas as pd\nimport seaborn as sns\nimport matplotlib.pyplot as plt\nsns.set(style='white')\nimport json\n\n# LOAD FUNCTIONS\n%run ../src/useful_functions.ipynb",
   "execution_count": null,
   "outputs": []
  },
  {
   "cell_type": "code",
   "metadata": {
    "tags": [],
    "cell_id": "00002-237daf2c-41f5-4fd0-8856-b65d067610b8",
    "deepnote_to_be_reexecuted": false,
    "source_hash": "2edd9d1",
    "execution_start": 1620894171880,
    "execution_millis": 4,
    "deepnote_cell_type": "code"
   },
   "source": "# Feelings analysis \ncols = ['Codi_Districte_Educatiu','Nom_Districte_Educatiu', 'f_felicitat', 'f_energia','f_calma', 'f_avorriment','f_estres','f_tristesa']\nf_freq = df[cols].copy()\nf_freq = f_freq.dropna()\n\nfeelings = cols[::-1][:-2]\nlevels = ['NC']+[str(n) for n in range(0,11)]\n\ndef f_dataprep(f_freq, ret_dic=True, codi=0, codi_var=''):\n    # Creating a dictionary with the levels to generate stacked bar\n    dic = {level:[] for level in levels}\n\n    # Creating a dataframe with the levels for bokeh\n    df_ = pd.DataFrame(index=levels, columns=feelings)\n    df_ = df_.fillna(np.nan)\n   \n    for feeling in feelings:\n        if codi == 0: \n            ratio = f_freq[feeling].value_counts(normalize=True)*100\n            for level in levels: \n                dic[level].append(ratio[level])\n                df_[feeling] = ratio\n\n        else:\n            ratio = f_freq[f_freq[codi_var] == codi][feeling].value_counts(normalize=True)*100\n            for level in ratio.index: \n                dic[level].append(ratio[level])\n                df_[feeling] = ratio\n\n    if ret_dic:\n        return(dic)\n    else:\n        return(df_)",
   "execution_count": null,
   "outputs": []
  },
  {
   "cell_type": "code",
   "metadata": {
    "tags": [],
    "cell_id": "00003-ee7d5a57-b7d1-4376-99c2-a9b4338e75ea",
    "deepnote_to_be_reexecuted": false,
    "source_hash": "299799e0",
    "execution_start": 1620894171900,
    "execution_millis": 255,
    "output_cleared": false,
    "deepnote_cell_type": "code"
   },
   "source": "districts = dic_codi_dist(df)\ncols = ['f_tristesa', 'f_estres', 'f_avorriment', 'f_calma', 'f_energia', 'f_felicitat']\n\npositive_values = {'f_felicitat': {'value': 'Happiness'},  'f_calma': {'value': 'Calm'}, 'f_energia': {'value': 'Energy'},}\nnegative_values = {'f_tristesa': {'value': 'Sadness'}, 'f_estres': {'value': 'Stress'}, 'f_avorriment': {'value': 'Boredom'}}\n\nfor dist in districts:\n    # Generate data for district\n    f_df_ = f_dataprep(f_freq, ret_dic=True, codi=dist, codi_var='Codi_Districte_Educatiu')\n\n    # Loop through columns (feelings) these are the items in the lists\n    for index, feeling in enumerate(cols):\n        sum_values = 0\n\n        # We want only values btw 7 and 10\n        for i in range(7,11):\n            sum_values += f_df_[str(i)][index]\n\n        dist_name = districts[dist]\n\n        if feeling in positive_values.keys():\n            positive_values[feeling][dist_name] = round(sum_values, 2)\n        else:\n            negative_values[feeling][dist_name] = round(sum_values, 2)",
   "execution_count": null,
   "outputs": []
  },
  {
   "cell_type": "code",
   "metadata": {
    "tags": [],
    "cell_id": "00008-e747edbc-dea5-492a-a82e-2505db2c2bd8",
    "deepnote_to_be_reexecuted": false,
    "source_hash": "5ac5ce25",
    "execution_start": 1620894172161,
    "execution_millis": 3,
    "deepnote_cell_type": "code"
   },
   "source": "positive_data, negative_data = [], []\n \nfor key in positive_values.keys():\n   positive_data.append(positive_values[key])\n\nfor key in negative_values.keys():\n    negative_data.append(negative_values[key])",
   "execution_count": null,
   "outputs": []
  },
  {
   "cell_type": "code",
   "metadata": {
    "tags": [],
    "cell_id": "00006-da1e09f7-6689-4026-af94-3854abedaf0a",
    "deepnote_to_be_reexecuted": false,
    "source_hash": "5543d586",
    "execution_start": 1620894172166,
    "execution_millis": 7,
    "deepnote_cell_type": "code"
   },
   "source": "with open('../data/radar-positive.json', 'w') as outfile:\n    json.dump(positive_data, outfile)\n\nwith open('../data/radar-negative.json', 'w') as outfile:\n    json.dump(negative_data, outfile)",
   "execution_count": null,
   "outputs": []
  },
  {
   "cell_type": "markdown",
   "source": "<a style='text-decoration:none;line-height:16px;display:flex;color:#5B5B62;padding:10px;justify-content:end;' href='https://deepnote.com?utm_source=created-in-deepnote-cell&projectId=5cb1a2c0-2f56-40d6-8008-fedeaf8b6a17' target=\"_blank\">\n<img alt='Created in deepnote.com' style='display:inline;max-height:16px;margin:0px;margin-right:7.5px;' src='data:image/svg+xml;base64,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' > </img>\nCreated in <span style='font-weight:600;margin-left:4px;'>Deepnote</span></a>",
   "metadata": {
    "tags": [],
    "created_in_deepnote_cell": true,
    "deepnote_cell_type": "markdown"
   }
  }
 ],
 "nbformat": 4,
 "nbformat_minor": 2,
 "metadata": {
  "orig_nbformat": 2,
  "deepnote": {
   "is_reactive": false
  },
  "deepnote_notebook_id": "bc1be33e-8d9c-4337-b34b-e6751b1dbe57",
  "deepnote_execution_queue": []
 }
}