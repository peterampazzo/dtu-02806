{
 "cells": [
  {
   "cell_type": "code",
   "metadata": {
    "tags": [],
    "cell_id": "00001-feb3063d-b8aa-4b29-a63d-349e98a2f76d",
    "deepnote_to_be_reexecuted": false,
    "source_hash": "14dfc037",
    "execution_start": 1621015383537,
    "execution_millis": 256,
    "deepnote_cell_type": "code"
   },
   "source": "# IMPORTS\nimport json\nimport numpy as np\nimport pandas as pd\nimport seaborn as sns\nimport matplotlib.pyplot as plt\nsns.set(style='white')\n\n# LOAD FUNCTIONS\n%run ../src/useful_functions-2-copy.ipynb",
   "execution_count": 78,
   "outputs": []
  },
  {
   "cell_type": "code",
   "metadata": {
    "tags": [],
    "cell_id": "00002-01829367-5aab-4294-af31-42bf84582b83",
    "deepnote_to_be_reexecuted": false,
    "source_hash": "9e2e7de3",
    "execution_start": 1621015385316,
    "execution_millis": 0,
    "deepnote_cell_type": "code"
   },
   "source": "df_ = df_t.copy()\natt_name = 'Codi_Districte_Educatiu'\n\ndef sat_dataprep(df_, att_name):\n    cols = [att_name, 'SLSSmc']\n    df_sat = df_[cols].copy()\n    df_sat = df_sat.dropna()\n\n    lab = list(df_sat['SLSSmc'].unique())\n    lab_new= ['Very','Fairly', 'Slightly', 'Not at all', 'NC']\n\n    df_sat['Satisf'] = pd.Categorical(df_sat['SLSSmc'].replace(lab,lab_new),\n         categories = lab_new, ordered=True)\n    df_sat.pop('SLSSmc')  \n\n    att_ = np.sort(df_sat[att_name].unique())\n    levels = df_sat['Satisf'].unique()\n\n    mtrx = []\n    for att in att_:\n        df_att = df_sat.loc[df_sat[att_name]==att].value_counts(normalize=True)*100\n        df_att= df_att.reset_index().rename(columns={0: 'Ratio'})\n        mtrx.append(list(df_att['Ratio']))\n    \n    return(mtrx,lab_new, att_)",
   "execution_count": 79,
   "outputs": []
  },
  {
   "cell_type": "code",
   "metadata": {
    "tags": [],
    "cell_id": "00003-93ebc62d-91a2-437c-b319-9c1166d61326",
    "deepnote_to_be_reexecuted": false,
    "source_hash": "81822703",
    "execution_start": 1621015387168,
    "execution_millis": 4,
    "deepnote_cell_type": "code"
   },
   "source": "def m_att_resize(m,lev,att):\n    m_ = m.copy()\n    att_ = att.copy()\n    # print(\"att\", len(att))\n    for i in range(len(m)):\n        # print(i, m[i], len(lev)>len(m[i]))\n        if len(lev)>len(m[i]):\n            m_.remove(m[i])\n            j, = np.where(att_ == att[i]) \n            att_ = np.delete(att_, j)\n\n    return(m_,att_)",
   "execution_count": 80,
   "outputs": []
  },
  {
   "cell_type": "code",
   "metadata": {
    "tags": [],
    "cell_id": "00004-edc4f072-a5bc-4e22-b868-5ac6c904d457",
    "deepnote_to_be_reexecuted": false,
    "source_hash": "310d42c2",
    "execution_start": 1621015388828,
    "execution_millis": 1,
    "deepnote_cell_type": "code"
   },
   "source": "def s_bar_plot(mtrx, level, attr, attr_label='', fig_tup=(16, 10), title = False): \n    plt.figure(figsize=fig_tup)\n    axes = []\n\n    # Aggregating each feeling level:\n    cum_size = np.zeros(len(attr))\n    i=0\n    for lev_, lev_data in zip(level, np.transpose(mtrx)):\n        axes.append(plt.barh(attr, lev_data, left=cum_size,\n                                label=lev_, color=colors2[i]))\n        cum_size += lev_data\n        i +=1\n\n    ax = plt.gca()\n    ax.spines[\"right\"].set_visible(False)\n    ax.spines[\"left\"].set_visible(False)\n    ax.spines[\"top\"].set_visible(False)\n    ax.set_xticks(np.arange(0,101,20))\n    ax.legend(bbox_to_anchor=(0.5,0.95), loc=\"lower center\", ncol=len(level), frameon=False, fontsize='medium')\n    plt.tick_params(labelsize=14, pad=6)\n\n    plt.ylabel(attr_label, fontsize=16)\n    plt.xlabel(\"Ratio of answers per level\", fontsize=16)\n    if title:\n        plt.title(\"To what extent are you satisfied with your life?\", fontsize=22, y=1.03)\n\n    plt.tight_layout()\n    # plt.savefig('f_sbar.png', bbox_inches='tight')\n    plt.show()",
   "execution_count": 81,
   "outputs": []
  },
  {
   "cell_type": "code",
   "metadata": {
    "tags": [],
    "cell_id": "00001-4a0221c8-a11d-47eb-9f15-c1cffc03e357",
    "deepnote_to_be_reexecuted": false,
    "source_hash": "32558235",
    "execution_start": 1620995457408,
    "execution_millis": 123,
    "deepnote_cell_type": "code"
   },
   "source": "df_ = df_t.copy()\natt_name = 'Nom_Districte_Educatiu'\nm,lev,att = sat_dataprep(df_, att_name)\nm_, att_ = m_att_resize(m,lev,att)",
   "execution_count": 17,
   "outputs": [
    {
     "name": "stdout",
     "text": "[[62.299465240641716, 21.65775401069519, 8.02139037433155, 4.27807486631016, 3.7433155080213902], [68.43657817109144, 23.893805309734514, 4.129793510324483, 2.949852507374631, 0.5899705014749262], [68.36734693877551, 23.72448979591837, 5.357142857142857, 2.0408163265306123, 0.5102040816326531], [69.17098445595855, 21.502590673575128, 6.476683937823833, 2.072538860103627, 0.7772020725388601], [68.01007556675063, 24.181360201511335, 4.785894206549118, 2.770780856423174, 0.2518891687657431], [69.61325966850829, 23.204419889502763, 4.972375690607735, 1.9337016574585635, 0.2762430939226519], [64.26426426426426, 24.924924924924923, 6.906906906906906, 2.7027027027027026, 1.2012012012012012], [67.99007444168734, 22.8287841191067, 5.459057071960298, 3.225806451612903, 0.49627791563275436], [67.80104712041884, 24.083769633507853, 5.2356020942408374, 2.356020942408377, 0.5235602094240838], [75.08417508417509, 18.68686868686869, 4.208754208754209, 1.3468013468013467, 0.6734006734006733]]\n",
     "output_type": "stream"
    }
   ]
  },
  {
   "cell_type": "code",
   "metadata": {
    "tags": [],
    "cell_id": "00006-94f209f5-57a4-44bc-926e-b777ef453344",
    "deepnote_to_be_reexecuted": false,
    "source_hash": "74cdf103",
    "execution_start": 1620997278301,
    "execution_millis": 8,
    "deepnote_cell_type": "code"
   },
   "source": "dict(zip(lev, colors2_hex))",
   "execution_count": 50,
   "outputs": [
    {
     "output_type": "execute_result",
     "execution_count": 50,
     "data": {
      "text/plain": "{'Very': '#FFCA3A',\n 'Fairly': '#DAAB50',\n 'Slightly': '#A3798B',\n 'Not at all': '#7D5C9B',\n 'NC': '#4D376C'}"
     },
     "metadata": {}
    }
   ]
  },
  {
   "cell_type": "code",
   "metadata": {
    "tags": [],
    "cell_id": "00006-81000ff8-9d12-4a39-bb6b-cbd3abd21ac0",
    "deepnote_to_be_reexecuted": false,
    "source_hash": "b0416dc3",
    "execution_start": 1620996727033,
    "execution_millis": 1,
    "deepnote_cell_type": "code"
   },
   "source": "data = []\n\nfor i, att in enumerate(att_):\n    item = {}\n    item['district'] = att\n    \n    for y, l in enumerate(lev):\n        item[l] = round(m_[i][y], 2)\n    \n    data.append(item)",
   "execution_count": 40,
   "outputs": []
  },
  {
   "cell_type": "code",
   "metadata": {
    "tags": [],
    "cell_id": "00008-6775ca16-f1df-4853-b972-ed66b916bae6",
    "deepnote_to_be_reexecuted": false,
    "source_hash": "8d885e02",
    "execution_start": 1620996757628,
    "execution_millis": 29,
    "deepnote_cell_type": "code"
   },
   "source": "with open('../data/satifaction-1.json', 'w') as outfile:\n    json.dump(data, outfile)",
   "execution_count": 42,
   "outputs": []
  },
  {
   "cell_type": "code",
   "metadata": {
    "tags": [],
    "cell_id": "00006-e8ac932b-fb83-4ec7-b314-a51da2cc7762",
    "deepnote_to_be_reexecuted": false,
    "source_hash": "9f086bc8",
    "execution_start": 1620997539806,
    "execution_millis": 0,
    "deepnote_cell_type": "code"
   },
   "source": "# s_bar_plot(m_,lev,att_, title=True)",
   "execution_count": 51,
   "outputs": []
  },
  {
   "cell_type": "code",
   "metadata": {
    "tags": [],
    "cell_id": "00011-cdab5167-4e44-403c-9dce-82cb4e8b0924",
    "deepnote_cell_type": "code"
   },
   "source": "# Plot 2",
   "execution_count": null,
   "outputs": []
  },
  {
   "cell_type": "code",
   "metadata": {
    "tags": [],
    "cell_id": "00012-6bc88d57-f04b-4db9-9d17-717d089493dd",
    "deepnote_to_be_reexecuted": false,
    "source_hash": "6293c0e8",
    "execution_start": 1620997602144,
    "execution_millis": 27,
    "deepnote_cell_type": "code"
   },
   "source": "att_name = 'ERFDbllp'\nm,lev,att = sat_dataprep(df_, att_name)\nm_, att_ = m_att_resize(m,lev,att)\n\n# Removing the neighbourhoods outside BCN\n# s_plot = s_bar_plot(m_[:3],lev,att_[:3], fig_tup=(16, 6))",
   "execution_count": 52,
   "outputs": []
  },
  {
   "cell_type": "code",
   "metadata": {
    "tags": [],
    "cell_id": "00013-21968310-f978-4a0e-85e1-0fd9e4b7780c",
    "deepnote_to_be_reexecuted": false,
    "source_hash": "58202697",
    "execution_start": 1620997603923,
    "execution_millis": 0,
    "deepnote_cell_type": "code"
   },
   "source": "data = []\n\nfor i, att in enumerate(att_[:3]):\n    item = {}\n    item['district'] = att\n    \n    for y, l in enumerate(lev):\n        item[l] = round(m_[i][y], 2)\n    \n    data.append(item)",
   "execution_count": 53,
   "outputs": []
  },
  {
   "cell_type": "code",
   "metadata": {
    "tags": [],
    "cell_id": "00014-c704e10e-0cad-4ab0-8b9f-4f08696b6a8c",
    "deepnote_to_be_reexecuted": false,
    "source_hash": "481128c6",
    "execution_start": 1620997605644,
    "execution_millis": 20,
    "deepnote_cell_type": "code"
   },
   "source": "with open('../data/satifaction-2.json', 'w') as outfile:\n    json.dump(data, outfile)",
   "execution_count": 54,
   "outputs": []
  },
  {
   "cell_type": "code",
   "source": "# Plot 3",
   "metadata": {
    "tags": [],
    "cell_id": "00015-1c06dd23-8cc3-4864-ab13-05c2ef0a514f",
    "deepnote_cell_type": "code"
   },
   "outputs": [],
   "execution_count": null
  },
  {
   "cell_type": "code",
   "source": "# How often are you concerned about the money your family has?\natt_name = 'preocupacio_diners'\nattr_label = 'Freq. Money Concerns'\nm,lev,att = sat_dataprep(df_, att_name)\nm_, att_ = m_att_resize(m,lev,att)\n# s_bar_plot(m_,lev,att_, fig_tup=(16, 6))\n\natt_ = np.append(np.append(att_[0], att_[3:]), att_[1:3][::-1])\nm_ = [m_[0]] + m_[3:] + m_[1:3][::-1]\n# s_bar_plot(m_[::-1],lev,att_[::-1],fig_tup=(16, 6), attr_label=attr_label)",
   "metadata": {
    "tags": [],
    "cell_id": "00015-cb7b822c-f7f4-49d4-b2fb-ad1be1f6bae6",
    "deepnote_to_be_reexecuted": false,
    "source_hash": "d63f9cda",
    "execution_start": 1621017546601,
    "execution_millis": 29,
    "output_cleared": true,
    "deepnote_cell_type": "code"
   },
   "outputs": [],
   "execution_count": 93
  },
  {
   "cell_type": "code",
   "source": "data = []\n\nfor i, att in enumerate(att_):\n    item = {}\n    item['concern'] = att\n    \n    for y, l in enumerate(lev):\n        item[l] = round(m_[i][y], 2)\n    \n    data.append(item)",
   "metadata": {
    "tags": [],
    "cell_id": "00017-3b01af3b-3182-41ce-b004-cd233e8908ef",
    "deepnote_to_be_reexecuted": false,
    "source_hash": "bd18a436",
    "execution_start": 1621017548145,
    "execution_millis": 3,
    "deepnote_cell_type": "code"
   },
   "outputs": [],
   "execution_count": 94
  },
  {
   "cell_type": "code",
   "source": "data.reverse()\n\nwith open('../data/satifaction-3-bis.json', 'w') as outfile:\n    json.dump(data, outfile)",
   "metadata": {
    "tags": [],
    "cell_id": "00018-361e25cc-802f-4239-8bf0-fd628764b9c9",
    "deepnote_to_be_reexecuted": false,
    "source_hash": "1512ac50",
    "execution_start": 1621017550782,
    "execution_millis": 18,
    "deepnote_cell_type": "code"
   },
   "outputs": [],
   "execution_count": 95
  },
  {
   "cell_type": "code",
   "source": "# Plot 4",
   "metadata": {
    "tags": [],
    "cell_id": "00019-d84e059a-b252-41d2-8cb0-52175524ad4e",
    "deepnote_cell_type": "code"
   },
   "outputs": [],
   "execution_count": null
  },
  {
   "cell_type": "code",
   "source": "df_ = df_t.copy()\natt_name = 'Sexe'\nm,lev,att = sat_dataprep(df_, att_name) \nm_, att_ = m_att_resize(m,lev,att)\n# s_bar_plot(m_,lev,att_, fig_tup=(16, 4))",
   "metadata": {
    "tags": [],
    "cell_id": "00020-10972999-5c33-4ed1-a537-7ca0fa5ba4f4",
    "deepnote_to_be_reexecuted": false,
    "source_hash": "e1c5df6d",
    "execution_start": 1621009254893,
    "execution_millis": 246,
    "deepnote_cell_type": "code"
   },
   "outputs": [
    {
     "data": {
      "text/plain": "<Figure size 1152x288 with 1 Axes>",
      "image/png": "[encoded data removed]"
     },
     "metadata": {
      "image/png": {
       "width": 1140,
       "height": 277
      }
     },
     "output_type": "display_data"
    }
   ],
   "execution_count": 64
  },
  {
   "cell_type": "code",
   "source": "data = []\n\nfor i, att in enumerate(att_):\n    item = {}\n    item['concern'] = att\n    \n    for y, l in enumerate(lev):\n        item[l] = round(m_[i][y], 2)\n    \n    data.append(item)",
   "metadata": {
    "tags": [],
    "cell_id": "00021-2e20a161-25f9-4034-97c1-826da080130d",
    "deepnote_to_be_reexecuted": false,
    "source_hash": "bd18a436",
    "execution_start": 1621009291294,
    "execution_millis": 5,
    "deepnote_cell_type": "code"
   },
   "outputs": [],
   "execution_count": 65
  },
  {
   "cell_type": "code",
   "source": "data",
   "metadata": {
    "tags": [],
    "cell_id": "00022-dc290a8e-15bc-4f14-a972-a532f5feb65a",
    "deepnote_to_be_reexecuted": false,
    "source_hash": "e6928a8f",
    "execution_start": 1621009307643,
    "execution_millis": 20,
    "deepnote_cell_type": "code"
   },
   "outputs": [
    {
     "output_type": "execute_result",
     "execution_count": 66,
     "data": {
      "text/plain": "[{'concern': 'Boy',\n  'Very': 67.69,\n  'Fairly': 24.28,\n  'Slightly': 5.22,\n  'Not at all': 1.81,\n  'NC': 1.0},\n {'concern': 'Girl',\n  'Very': 69.35,\n  'Fairly': 20.84,\n  'Slightly': 5.8,\n  'Not at all': 2.93,\n  'NC': 1.08}]"
     },
     "metadata": {}
    }
   ],
   "execution_count": 66
  },
  {
   "cell_type": "code",
   "source": "with open('../data/gender.json', 'w') as outfile:\n    json.dump(data, outfile)",
   "metadata": {
    "tags": [],
    "cell_id": "00022-fa20c3a8-203b-4bfd-9a86-cc9db9db55b5",
    "deepnote_to_be_reexecuted": false,
    "source_hash": "ebffec71",
    "execution_start": 1621009315884,
    "execution_millis": 0,
    "deepnote_cell_type": "code"
   },
   "outputs": [],
   "execution_count": 67
  },
  {
   "cell_type": "code",
   "source": "# Plot 5",
   "metadata": {
    "tags": [],
    "cell_id": "00024-1a7a932e-e214-4367-b6a7-9f673099335a",
    "deepnote_cell_type": "code"
   },
   "outputs": [],
   "execution_count": null
  },
  {
   "cell_type": "code",
   "source": "att_name = 'Edat'\nm,lev,att = sat_dataprep(df_, att_name) \n\nm_, att_ = m_att_resize(m,lev,att)\n# s_bar_plot(m_,lev,att_, fig_tup=(16, 6), attr_label=\"Age\")",
   "metadata": {
    "tags": [],
    "cell_id": "00025-7ceba895-7dfc-48ef-b611-35006845f443",
    "deepnote_to_be_reexecuted": false,
    "source_hash": "175c77cc",
    "execution_start": 1621009409567,
    "execution_millis": 31,
    "deepnote_cell_type": "code"
   },
   "outputs": [],
   "execution_count": 70
  },
  {
   "cell_type": "code",
   "source": "data = []\n\nfor i, att in enumerate(att_):\n    item = {}\n    item['concern'] = att\n    \n    for y, l in enumerate(lev):\n        item[l] = round(m_[i][y], 2)\n    \n    data.append(item)",
   "metadata": {
    "tags": [],
    "cell_id": "00026-0fd2227c-82e2-4ab2-8e38-0642edb3af40",
    "deepnote_to_be_reexecuted": false,
    "source_hash": "bd18a436",
    "execution_start": 1621009410966,
    "execution_millis": 0,
    "deepnote_cell_type": "code"
   },
   "outputs": [],
   "execution_count": 71
  },
  {
   "cell_type": "code",
   "source": "with open('../data/age.json', 'w') as outfile:\n    json.dump(data, outfile)",
   "metadata": {
    "tags": [],
    "cell_id": "00028-51e3d500-024e-4182-b64c-d852d6a694fc",
    "deepnote_to_be_reexecuted": false,
    "source_hash": "1ce93b6a",
    "execution_start": 1621009429389,
    "execution_millis": 0,
    "deepnote_cell_type": "code"
   },
   "outputs": [],
   "execution_count": 73
  },
  {
   "cell_type": "code",
   "source": "att_name = 'dificultat_aprenentatge'\nattr_label=\"Learning Difficulties\"\nm,lev,att = sat_dataprep(df_, att_name)\nm_, att_ = m_att_resize(m,lev,att)\n# s_bar_plot(m_,lev,att_, fig_tup=(16, 6))\n\natt_ = np.append(att_[0], att_[2:])\nm_ = [m_[0]]+m_[2:]\n# s_bar_plot(m_,lev,att_,fig_tup=(16, 6), attr_label=attr_label)",
   "metadata": {
    "tags": [],
    "cell_id": "00028-58f6009c-8d7a-4da3-a692-32af1e729902",
    "deepnote_to_be_reexecuted": false,
    "source_hash": "4774e460",
    "execution_start": 1621009471134,
    "execution_millis": 22,
    "deepnote_cell_type": "code"
   },
   "outputs": [],
   "execution_count": 74
  },
  {
   "cell_type": "code",
   "source": "data = []\n\nfor i, att in enumerate(att_):\n    item = {}\n    item['concern'] = att\n    \n    for y, l in enumerate(lev):\n        item[l] = round(m_[i][y], 2)\n    \n    data.append(item)",
   "metadata": {
    "tags": [],
    "cell_id": "00029-3866bb49-c789-403b-8314-8414ea2d1dee",
    "deepnote_to_be_reexecuted": false,
    "source_hash": "bd18a436",
    "execution_start": 1621009472338,
    "execution_millis": 0,
    "deepnote_cell_type": "code"
   },
   "outputs": [],
   "execution_count": 75
  },
  {
   "cell_type": "code",
   "source": "with open('../data/learning.json', 'w') as outfile:\n    json.dump(data, outfile)",
   "metadata": {
    "tags": [],
    "cell_id": "00030-2cd64a3f-1ed9-450f-9e2c-2e472ab2727e",
    "deepnote_to_be_reexecuted": false,
    "source_hash": "256ad47e",
    "execution_start": 1621009482067,
    "execution_millis": 2,
    "deepnote_cell_type": "code"
   },
   "outputs": [],
   "execution_count": 77
  },
  {
   "cell_type": "markdown",
   "source": "<a style='text-decoration:none;line-height:16px;display:flex;color:#5B5B62;padding:10px;justify-content:end;' href='https://deepnote.com?utm_source=created-in-deepnote-cell&projectId=5cb1a2c0-2f56-40d6-8008-fedeaf8b6a17' target=\"_blank\">\n<img alt='Created in deepnote.com' style='display:inline;max-height:16px;margin:0px;margin-right:7.5px;' src='data:image/svg+xml;base64,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' > </img>\nCreated in <span style='font-weight:600;margin-left:4px;'>Deepnote</span></a>",
   "metadata": {
    "tags": [],
    "created_in_deepnote_cell": true,
    "deepnote_cell_type": "markdown"
   }
  }
 ],
 "nbformat": 4,
 "nbformat_minor": 2,
 "metadata": {
  "orig_nbformat": 2,
  "deepnote": {
   "is_reactive": false
  },
  "deepnote_notebook_id": "50d29389-e402-42a2-b93e-2239d4f2df66",
  "deepnote_execution_queue": []
 }
}