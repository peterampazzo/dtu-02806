{
 "cells": [
  {
   "cell_type": "markdown",
   "source": "# TO DO\n- DIscussion\n- Genre NB\n- Visualization NB\n- Web formatting\n\n0. WEB CHANGES\n\n1. Exploratory analysis:\n    - WEB | Move all and slightly adjust text **STEFAN**\n    - WEB | If time make the initial stacked plots dynamic **IF TIME, ELSE: UPLOAD PICTURES IN 2X2 MATRIX**\n\n2. \"Factual/ Environment Anlaysis\": (look for better name)\n    -  ~~NB | Include MAP Plots GIF and link to Code **PIETRO**~~\n    - WB | Ch\n    <!-- - ~~NB | Move Heat MAps to exploratory~~ **SILVIA** -->\n    <!-- -  ~~NB | Describe the differences between neighborhoods on income / access to material~~ **SILVIA** -->\n\n3. Feelings Analysis:\n    <!-- - ~~NB + WEB | Stacked bars:  Add possibility to filter by neighborhood (details on demand) - **SILVIA**~~ -->\n    <!-- - ~~WEB | Adapt the description  - **SILVIA**~~ -->\n    - ~~NB | Include Radar Plots GIF and link to Code  **PIETRO**~~\n\n    <!-- <!-- - WEB | Include one additional feature to Radar Plots (?) -->\n    <!-- - WEB | BOREDOM GEO MAP (?) -->\n\n4. Satisfaccion analysis\n    -  ~~WEB | Make stacked plost dynamic and aggregate with selection NIEGHBOURHOOD / INCOME LEVEL / MONEY CONCERN **PIETRO**~~\n    -  ~~WEB | Add bellow the same but for GENDER / AGE / LEARNING DIFF **PIETRO**~~\n    - NB | Adapt comments when website is done **SILVIA**\n    <!-- - ( NB + WEB | Decide which additional levels to include Based on Clustering) - Maybe unnecessary -->\n\n5. CLUSTERING\n    <!-- - SILVIA READ THORUGH\n    - ~~NB | Add all comments to main explainer~~ **STEFAN**\n    - ~~WEB | Add description + visualization~~ **STEFAN**  -->\n\n6. CONCLUSION\n    -  NB + WEB | Write and add\n",
   "metadata": {
    "tags": [],
    "cell_id": "00000-adf90aa0-e16c-4f4c-8840-91b9e8927096",
    "deepnote_cell_type": "markdown"
   }
  },
  {
   "cell_type": "markdown",
   "source": "---\n\n### Pietro\n\n1. ~~Fix feeling distribution plot~~\n1. ~~Fix code transaltion~~\n1. ~~Write down notes in the main_explainer regarding the translation process~~\n1. Make map plot, if click on shape/district show more stuff\n1. Replace `NA` with something more meaningful?\n1. Design inspiration \n    - https://turborepo.com/",
   "metadata": {
    "tags": [],
    "cell_id": "00001-a242a6c5-4088-4667-9c86-b8b2bd8ff33f",
    "deepnote_cell_type": "markdown"
   }
  },
  {
   "cell_type": "markdown",
   "source": "# IDEAS & NOTES\n__Silvia notes__\n\nBy looking at the results of the study I found some interesting ideas that we could try to visualize better than how they do it in the study:\n\n- AIM: The idea is to merge the subjective perceptions of the kids (for example, how bored they felt?) WITH facts about the neighbourhood. Hopefully, we will identify patterns that will help us understand how to help kids feel happier.\n![Picture title](add_resources/viz-aim.png)\n\n- The Optimism Bias: Kids tend to be more positive when describing their feelings compared to adults. The results don't follow a normal distribution. There are some resources mentioned in the results for datasets on adult population.\n![Picture title](add_resources/opt_bias1.png)  \n![Picture title](add_resources/opt_bias2.png)\n\n- We could focus on the groups that are not satisfied by location and see if there are differences depednding on how wealthy is a neigbourhood.\n\n- We could dig in in this interesting fact that are highllighted in the results documentation:\n    - 5 out of 10 boys and girls of Barcelona from 10 to 12 years say they are not satisfied enough with the amount of free time and freedom they have.\n    - 4 out of 10 boys and girls show little satisfied with his student life and with adult listening\n\n\n",
   "metadata": {
    "tags": [],
    "cell_id": "00000-24dd7dd7-5c35-4b42-a1cb-41b45ce39056",
    "deepnote_to_be_reexecuted": false,
    "source_hash": "7b02781e",
    "execution_start": 1618905884050,
    "execution_millis": 4,
    "deepnote_cell_type": "markdown"
   }
  },
  {
   "cell_type": "markdown",
   "source": "<a style='text-decoration:none;line-height:16px;display:flex;color:#5B5B62;padding:10px;justify-content:end;' href='https://deepnote.com?utm_source=created-in-deepnote-cell&projectId=5cb1a2c0-2f56-40d6-8008-fedeaf8b6a17' target=\"_blank\">\n<img alt='Created in deepnote.com' style='display:inline;max-height:16px;margin:0px;margin-right:7.5px;' src='data:image/svg+xml;base64,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' > </img>\nCreated in <span style='font-weight:600;margin-left:4px;'>Deepnote</span></a>",
   "metadata": {
    "tags": [],
    "created_in_deepnote_cell": true,
    "deepnote_cell_type": "markdown"
   }
  }
 ],
 "nbformat": 4,
 "nbformat_minor": 2,
 "metadata": {
  "orig_nbformat": 2,
  "deepnote": {
   "is_reactive": false
  },
  "deepnote_notebook_id": "de1c0177-9faf-4f8a-9015-3b4b848bea53",
  "deepnote_execution_queue": []
 }
}