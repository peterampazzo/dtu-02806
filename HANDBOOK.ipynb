{
 "cells": [
  {
   "cell_type": "markdown",
   "source": "**Index**\n\n1. Documentation\n1. Directory Structure\n\n\n\n---\n\n## DOCUMENTATION\n\n#### Survey Documentation\n__Original study title:__ Enquesta de Benestar subjectiu de la infància a Barcelona 2017 (EBSIB) (In english: _Subjective Child Welfare Survey in Barcelona 2017 (EBSIB)_)\n\n__Registration number:__ 18017\n\n__Object of the study:__ To know the strengths and areas of improvement of the well-being of the children by means of the method of survey, in addition to distinguishing the sociocultural and demographic factors, as well as relational and of experience that relate to it.\n\n__Sample size:__ 3,962 children (52 schools)\n\n__Sample context:__ A group of children selected through publicly and privately owned schools in the city of Barcelona enrolled in the fifth and sixth years of primary education. Children living in the city of Barcelona who are educated in other municipalities are not included.\n\n__Methodology:__ Personal interview conducted with computer support (CAPI) at home\n\n__Sources:__ \n* [Dataset](https://opendata-ajuntament.barcelona.cat/data/en/dataset/ebsib-bcn-enquesta-benestar-subjectiu-infancia#fieldDescription)  \n* [Original Survey](https://w10.bcn.es/APPS/riswestudis/documentacio.do?reqCode=mostrarImatge&idDoc=10447)  \n*  Translated Survey (file uploaded in additional docs)\n* [Survey Portal and additional fields](https://ajuntament.barcelona.cat/ca/informacio-administrativa/registre-enquestes-i-estudis-opinio) *(The survey portal is not supported in Google Chrome)*\n\n#### Barcelona Geo-maps\n\n* GeoJSON: https://github.com/martgnz/bcn-geodata  \n* TopoJSON: https://github.com/martgnz/barcelona-atlas\n\n## DIRECTORY STRUCTURE\n\n```\n├── TODO\n├── HANDBOOK          \n├── README.md                          <- The top-level README for developers using this project\n├── main_explainer.ipynb               <- Explainer Notebook\n├── data\n|   ├── 2017_ebsib_bcn_enquesta_benestar_subjectiu_infancia_barcelona.csv    <- Survey Data (BCN OPEN DATA)\n│   ├── zona-urban-audit.geojson                                             <- Neigbourhoods Data (BCN OPEN DATA)\n│   └── ...                   <- TBC\n├── docs\n|   ├── survey-cat.pdf                 <- Original Survey (in catalan)\n|   ├── survey-eng.pdf                 <- Translated Survey (in english)\n|   ├── Notes-ideas.ipynb              <- Ideas and notes not to forget during analysis (to remove before submission)\n│   └── ...   \n├── src\n│   ├── analysis                       <- Scripts to create exploratory and results\n│   └── data                           <- Scripts to download or generate data\n│\n└── requirements.txt                   <- The requirements file for reproducing the analysis environment\n                                        e.g. generated with `pip freeze > requirements.txt`\n```",
   "metadata": {
    "tags": [],
    "cell_id": "00000-13971da0-440b-417b-8474-f31acfcfd87a",
    "deepnote_to_be_reexecuted": false,
    "source_hash": "bee228f1",
    "execution_millis": 43,
    "execution_start": 1618905596305,
    "deepnote_cell_type": "markdown"
   }
  },
  {
   "cell_type": "markdown",
   "source": "<a style='text-decoration:none;line-height:16px;display:flex;color:#5B5B62;padding:10px;justify-content:end;' href='https://deepnote.com?utm_source=created-in-deepnote-cell&projectId=5cb1a2c0-2f56-40d6-8008-fedeaf8b6a17' target=\"_blank\">\n<img alt='Created in deepnote.com' style='display:inline;max-height:16px;margin:0px;margin-right:7.5px;' src='data:image/svg+xml;base64,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' > </img>\nCreated in <span style='font-weight:600;margin-left:4px;'>Deepnote</span></a>",
   "metadata": {
    "tags": [],
    "created_in_deepnote_cell": true,
    "deepnote_cell_type": "markdown"
   }
  }
 ],
 "nbformat": 4,
 "nbformat_minor": 2,
 "metadata": {
  "orig_nbformat": 2,
  "deepnote": {
   "is_reactive": false
  },
  "deepnote_notebook_id": "a3325217-68cb-481f-81a6-0c6b26ff2fc4",
  "deepnote_execution_queue": []
 }
}