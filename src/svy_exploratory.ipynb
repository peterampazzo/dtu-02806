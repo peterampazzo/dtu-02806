{
 "cells": [
  {
   "cell_type": "code",
   "metadata": {
    "tags": [],
    "cell_id": "00000-8432fa61-6984-46fd-92b2-f724504b34ea",
    "deepnote_to_be_reexecuted": false,
    "source_hash": "762c693c",
    "execution_millis": 2333,
    "execution_start": 1620901572068,
    "deepnote_cell_type": "code"
   },
   "source": "# IMPORTS\nimport numpy as np\nimport pandas as pd\nimport seaborn as sns\nimport matplotlib.pyplot as plt\nimport matplotlib.gridspec as gridspec  \nsns.set(style='white')\n\n# LOAD FUNCTIONS\n%run useful_functions.ipynb",
   "execution_count": null,
   "outputs": []
  },
  {
   "cell_type": "markdown",
   "source": "__Translations__",
   "metadata": {
    "tags": [],
    "cell_id": "00001-94834516-fafe-409e-8b9c-a0c5070fa339",
    "deepnote_cell_type": "markdown"
   }
  },
  {
   "cell_type": "code",
   "metadata": {
    "tags": [],
    "cell_id": "00001-6c94bf8d-c90a-4a13-a1cf-62d889041f5a",
    "deepnote_to_be_reexecuted": false,
    "source_hash": "3a1ea484",
    "execution_millis": 509,
    "execution_start": 1620901574408,
    "deepnote_cell_type": "code"
   },
   "source": "df.head(3)",
   "execution_count": null,
   "outputs": [
    {
     "output_type": "execute_result",
     "execution_count": 2,
     "data": {
      "application/vnd.deepnote.dataframe.v2+json": {
       "row_count": 3,
       "column_count": 130,
       "columns": [
        {
         "name": "ID",
         "dtype": "int64",
         "stats": {
          "unique_count": 3,
          "nan_count": 0,
          "min": "1",
          "max": "3",
          "histogram": [
           {
            "bin_start": 1,
            "bin_end": 1.2,
            "count": 1
           },
           {
            "bin_start": 1.2,
            "bin_end": 1.4,
            "count": 0
           },
           {
            "bin_start": 1.4,
            "bin_end": 1.6,
            "count": 0
           },
           {
            "bin_start": 1.6,
            "bin_end": 1.8,
            "count": 0
           },
           {
            "bin_start": 1.8,
            "bin_end": 2,
            "count": 0
           },
           {
            "bin_start": 2,
            "bin_end": 2.2,
            "count": 1
           },
           {
            "bin_start": 2.2,
            "bin_end": 2.4000000000000004,
            "count": 0
           },
           {
            "bin_start": 2.4000000000000004,
            "bin_end": 2.6,
            "count": 0
           },
           {
            "bin_start": 2.6,
            "bin_end": 2.8,
            "count": 0
           },
           {
            "bin_start": 2.8,
            "bin_end": 3,
            "count": 1
           }
          ]
         }
        },
        {
         "name": "Codi_Districte_Educatiu",
         "dtype": "int64",
         "stats": {
          "unique_count": 1,
          "nan_count": 0,
          "min": "8",
          "max": "8",
          "histogram": [
           {
            "bin_start": 7.5,
            "bin_end": 7.6,
            "count": 0
           },
           {
            "bin_start": 7.6,
            "bin_end": 7.7,
            "count": 0
           },
           {
            "bin_start": 7.7,
            "bin_end": 7.8,
            "count": 0
           },
           {
            "bin_start": 7.8,
            "bin_end": 7.9,
            "count": 0
           },
           {
            "bin_start": 7.9,
            "bin_end": 8,
            "count": 0
           },
           {
            "bin_start": 8,
            "bin_end": 8.1,
            "count": 3
           },
           {
            "bin_start": 8.1,
            "bin_end": 8.2,
            "count": 0
           },
           {
            "bin_start": 8.2,
            "bin_end": 8.3,
            "count": 0
           },
           {
            "bin_start": 8.3,
            "bin_end": 8.4,
            "count": 0
           },
           {
            "bin_start": 8.4,
            "bin_end": 8.5,
            "count": 0
           }
          ]
         }
        },
        {
         "name": "Nom_Districte_Educatiu",
         "dtype": "object",
         "stats": {
          "unique_count": 1,
          "nan_count": 0,
          "categories": [
           {
            "name": "Nou Barris",
            "count": 3
           }
          ]
         }
        },
        {
         "name": "Curs",
         "dtype": "object",
         "stats": {
          "unique_count": 1,
          "nan_count": 0,
          "categories": [
           {
            "name": "6è",
            "count": 3
           }
          ]
         }
        },
        {
         "name": "Sexe",
         "dtype": "object",
         "stats": {
          "unique_count": 2,
          "nan_count": 0,
          "categories": [
           {
            "name": "Nena",
            "count": 2
           },
           {
            "name": "Nen",
            "count": 1
           }
          ]
         }
        },
        {
         "name": "Llar_BCN",
         "dtype": "object",
         "stats": {
          "unique_count": 1,
          "nan_count": 0,
          "categories": [
           {
            "name": "Sí",
            "count": 3
           }
          ]
         }
        },
        {
         "name": "ERFDbllp",
         "dtype": "object",
         "stats": {
          "unique_count": 2,
          "nan_count": 0,
          "categories": [
           {
            "name": "Barris rendes baixes",
            "count": 2
           },
           {
            "name": "Barris rendes intermèdies",
            "count": 1
           }
          ]
         }
        },
        {
         "name": "Edat",
         "dtype": "object",
         "stats": {
          "unique_count": 1,
          "nan_count": 0,
          "categories": [
           {
            "name": "11",
            "count": 3
           }
          ]
         }
        },
        {
         "name": "amb_qui_vius",
         "dtype": "object",
         "stats": {
          "unique_count": 1,
          "nan_count": 0,
          "categories": [
           {
            "name": "Visc amb la meva família",
            "count": 3
           }
          ]
         }
        },
        {
         "name": "familia_altra_casa",
         "dtype": "object",
         "stats": {
          "unique_count": 2,
          "nan_count": 0,
          "categories": [
           {
            "name": "No",
            "count": 2
           },
           {
            "name": "Sí",
            "count": 1
           }
          ]
         }
        },
        {
         "name": "frequencia_altra_familia",
         "dtype": "object",
         "stats": {
          "unique_count": 2,
          "nan_count": 0,
          "categories": [
           {
            "name": "VF",
            "count": 2
           },
           {
            "name": "Mai o gairebé mai",
            "count": 1
           }
          ]
         }
        },
        {
         "name": "mare",
         "dtype": "object",
         "stats": {
          "unique_count": 1,
          "nan_count": 0,
          "categories": [
           {
            "name": "Sí",
            "count": 3
           }
          ]
         }
        },
        {
         "name": "pare",
         "dtype": "object",
         "stats": {
          "unique_count": 1,
          "nan_count": 0,
          "categories": [
           {
            "name": "Sí",
            "count": 3
           }
          ]
         }
        },
        {
         "name": "parella_mare",
         "dtype": "object",
         "stats": {
          "unique_count": 1,
          "nan_count": 0,
          "categories": [
           {
            "name": "No",
            "count": 3
           }
          ]
         }
        },
        {
         "name": "segona_mare",
         "dtype": "object",
         "stats": {
          "unique_count": 1,
          "nan_count": 0,
          "categories": [
           {
            "name": "No",
            "count": 3
           }
          ]
         }
        },
        {
         "name": "parella_pare",
         "dtype": "object",
         "stats": {
          "unique_count": 1,
          "nan_count": 0,
          "categories": [
           {
            "name": "No",
            "count": 3
           }
          ]
         }
        },
        {
         "name": "segon_pare",
         "dtype": "object",
         "stats": {
          "unique_count": 1,
          "nan_count": 0,
          "categories": [
           {
            "name": "No",
            "count": 3
           }
          ]
         }
        },
        {
         "name": "germans",
         "dtype": "object",
         "stats": {
          "unique_count": 1,
          "nan_count": 0,
          "categories": [
           {
            "name": "Sí",
            "count": 3
           }
          ]
         }
        },
        {
         "name": "avis",
         "dtype": "object",
         "stats": {
          "unique_count": 2,
          "nan_count": 0,
          "categories": [
           {
            "name": "No",
            "count": 2
           },
           {
            "name": "Sí",
            "count": 1
           }
          ]
         }
        },
        {
         "name": "altres_infants",
         "dtype": "object",
         "stats": {
          "unique_count": 1,
          "nan_count": 0,
          "categories": [
           {
            "name": "No",
            "count": 3
           }
          ]
         }
        },
        {
         "name": "altres_adults",
         "dtype": "object",
         "stats": {
          "unique_count": 1,
          "nan_count": 0,
          "categories": [
           {
            "name": "No",
            "count": 3
           }
          ]
         }
        },
        {
         "name": "animals",
         "dtype": "object",
         "stats": {
          "unique_count": 2,
          "nan_count": 0,
          "categories": [
           {
            "name": "Sí",
            "count": 2
           },
           {
            "name": "No",
            "count": 1
           }
          ]
         }
        },
        {
         "name": "germans_mateixa_llar",
         "dtype": "object",
         "stats": {
          "unique_count": 1,
          "nan_count": 0,
          "categories": [
           {
            "name": "1",
            "count": 3
           }
          ]
         }
        },
        {
         "name": "avis_mateixa_llar",
         "dtype": "object",
         "stats": {
          "unique_count": 2,
          "nan_count": 0,
          "categories": [
           {
            "name": "VF",
            "count": 2
           },
           {
            "name": "1",
            "count": 1
           }
          ]
         }
        },
        {
         "name": "s_familia",
         "dtype": "object",
         "stats": {
          "unique_count": 1,
          "nan_count": 0,
          "categories": [
           {
            "name": "10",
            "count": 3
           }
          ]
         }
        },
        {
         "name": "f_preocupacio",
         "dtype": "object",
         "stats": {
          "unique_count": 1,
          "nan_count": 0,
          "categories": [
           {
            "name": "Totalment d'acord",
            "count": 3
           }
          ]
         }
        },
        {
         "name": "f_suport",
         "dtype": "object",
         "stats": {
          "unique_count": 1,
          "nan_count": 0,
          "categories": [
           {
            "name": "Totalment d'acord",
            "count": 3
           }
          ]
         }
        },
        {
         "name": "f_bejunts",
         "dtype": "object",
         "stats": {
          "unique_count": 2,
          "nan_count": 0,
          "categories": [
           {
            "name": "Totalment d'acord",
            "count": 2
           },
           {
            "name": "Bastant d'acord",
            "count": 1
           }
          ]
         }
        },
        {
         "name": "f_seguretat",
         "dtype": "object",
         "stats": {
          "unique_count": 1,
          "nan_count": 0,
          "categories": [
           {
            "name": "Totalment d'acord",
            "count": 3
           }
          ]
         }
        },
        {
         "name": "f_escolta",
         "dtype": "object",
         "stats": {
          "unique_count": 2,
          "nan_count": 0,
          "categories": [
           {
            "name": "Totalment d'acord",
            "count": 2
           },
           {
            "name": "No ho sé",
            "count": 1
           }
          ]
         }
        },
        {
         "name": "f_llibertat",
         "dtype": "object",
         "stats": {
          "unique_count": 3,
          "nan_count": 0,
          "categories": [
           {
            "name": "Bastant d'acord",
            "count": 1
           },
           {
            "name": "No ho sé",
            "count": 1
           },
           {
            "name": "Totalment d'acord",
            "count": 1
           }
          ]
         }
        },
        {
         "name": "on_vas_niexer",
         "dtype": "object",
         "stats": {
          "unique_count": 1,
          "nan_count": 0,
          "categories": [
           {
            "name": "Catalunya",
            "count": 3
           }
          ]
         }
        },
        {
         "name": "on_va_neixer_mare_progenitor1",
         "dtype": "object",
         "stats": {
          "unique_count": 3,
          "nan_count": 0,
          "categories": [
           {
            "name": "NC",
            "count": 1
           },
           {
            "name": "En un altre país",
            "count": 1
           },
           {
            "name": "Catalunya",
            "count": 1
           }
          ]
         }
        },
        {
         "name": "on_va_neixer_pare_progenitor2",
         "dtype": "object",
         "stats": {
          "unique_count": 2,
          "nan_count": 0,
          "categories": [
           {
            "name": "NC",
            "count": 2
           },
           {
            "name": "En un altre país",
            "count": 1
           }
          ]
         }
        },
        {
         "name": "dificultat_fisica",
         "dtype": "object",
         "stats": {
          "unique_count": 2,
          "nan_count": 0,
          "categories": [
           {
            "name": "No",
            "count": 2
           },
           {
            "name": "Sí",
            "count": 1
           }
          ]
         }
        },
        {
         "name": "dificultat_aprenentatge",
         "dtype": "object",
         "stats": {
          "unique_count": 2,
          "nan_count": 0,
          "categories": [
           {
            "name": "No",
            "count": 2
           },
           {
            "name": "No n'estic segur/a",
            "count": 1
           }
          ]
         }
        },
        {
         "name": "dificultat_per_malaltia",
         "dtype": "object",
         "stats": {
          "unique_count": 1,
          "nan_count": 0,
          "categories": [
           {
            "name": "No",
            "count": 3
           }
          ]
         }
        },
        {
         "name": "ps_malcap",
         "dtype": "object",
         "stats": {
          "unique_count": 1,
          "nan_count": 0,
          "categories": [
           {
            "name": "Algun dia al mes",
            "count": 3
           }
          ]
         }
        },
        {
         "name": "ps_panxa",
         "dtype": "object",
         "stats": {
          "unique_count": 3,
          "nan_count": 0,
          "categories": [
           {
            "name": "Algun dia al mes",
            "count": 1
           },
           {
            "name": "No n'estic segur/a",
            "count": 1
           },
           {
            "name": "1 o 2 dies a la setmana",
            "count": 1
           }
          ]
         }
        },
        {
         "name": "ps_esquena",
         "dtype": "object",
         "stats": {
          "unique_count": 2,
          "nan_count": 0,
          "categories": [
           {
            "name": "Algun dia al mes",
            "count": 2
           },
           {
            "name": "5 o 6 dies a la setmana",
            "count": 1
           }
          ]
         }
        },
        {
         "name": "ps_insomni",
         "dtype": "object",
         "stats": {
          "unique_count": 2,
          "nan_count": 0,
          "categories": [
           {
            "name": "Cada dia",
            "count": 2
           },
           {
            "name": "1 o 2 dies a la setmana",
            "count": 1
           }
          ]
         }
        },
        {
         "name": "s_llar",
         "dtype": "object",
         "stats": {
          "unique_count": 2,
          "nan_count": 0,
          "categories": [
           {
            "name": "8",
            "count": 2
           },
           {
            "name": "9",
            "count": 1
           }
          ]
         }
        },
        {
         "name": "ll_estudi",
         "dtype": "object",
         "stats": {
          "unique_count": 1,
          "nan_count": 0,
          "categories": [
           {
            "name": "No",
            "count": 3
           }
          ]
         }
        },
        {
         "name": "ll_joc",
         "dtype": "object",
         "stats": {
          "unique_count": 1,
          "nan_count": 0,
          "categories": [
           {
            "name": "No",
            "count": 3
           }
          ]
         }
        },
        {
         "name": "cotxe",
         "dtype": "object",
         "stats": {
          "unique_count": 3,
          "nan_count": 0,
          "categories": [
           {
            "name": "Un",
            "count": 1
           },
           {
            "name": "No",
            "count": 1
           },
           {
            "name": "Dos o més",
            "count": 1
           }
          ]
         }
        },
        {
         "name": "habitacio",
         "dtype": "object",
         "stats": {
          "unique_count": 2,
          "nan_count": 0,
          "categories": [
           {
            "name": "Dormo a una habitació jo sol o sola",
            "count": 2
           },
           {
            "name": "Dormo a una habitació que comparteixo amb germans/es o altres persones",
            "count": 1
           }
          ]
         }
        },
        {
         "name": "ordinadors",
         "dtype": "object",
         "stats": {
          "unique_count": 3,
          "nan_count": 0,
          "categories": [
           {
            "name": "Dos",
            "count": 1
           },
           {
            "name": "Un",
            "count": 1
           },
           {
            "name": "Més de dos",
            "count": 1
           }
          ]
         }
        },
        {
         "name": "banys",
         "dtype": "object",
         "stats": {
          "unique_count": 2,
          "nan_count": 0,
          "categories": [
           {
            "name": "Dos",
            "count": 2
           },
           {
            "name": "Un",
            "count": 1
           }
          ]
         }
        },
        {
         "name": "rentaplats",
         "dtype": "object",
         "stats": {
          "unique_count": 1,
          "nan_count": 0,
          "categories": [
           {
            "name": "Sí",
            "count": 3
           }
          ]
         }
        },
        {
         "name": "vacances",
         "dtype": "object",
         "stats": {
          "unique_count": 2,
          "nan_count": 0,
          "categories": [
           {
            "name": "Cap",
            "count": 2
           },
           {
            "name": "Dues",
            "count": 1
           }
          ]
         }
        },
        {
         "name": "preocupacio_diners",
         "dtype": "object",
         "stats": {
          "unique_count": 3,
          "nan_count": 0,
          "categories": [
           {
            "name": "A vegades",
            "count": 1
           },
           {
            "name": "Sovint",
            "count": 1
           },
           {
            "name": "Sempre",
            "count": 1
           }
          ]
         }
        },
        {
         "name": "amb_qui_vius_feina",
         "dtype": "object",
         "stats": {
          "unique_count": 1,
          "nan_count": 0,
          "categories": [
           {
            "name": "Més de dues",
            "count": 3
           }
          ]
         }
        },
        {
         "name": "s_bmaterials",
         "dtype": "object",
         "stats": {
          "unique_count": 2,
          "nan_count": 0,
          "categories": [
           {
            "name": "9",
            "count": 2
           },
           {
            "name": "6",
            "count": 1
           }
          ]
         }
        },
        {
         "name": "bm_internet",
         "dtype": "object",
         "stats": {
          "unique_count": 1,
          "nan_count": 0,
          "categories": [
           {
            "name": "Sí",
            "count": 3
           }
          ]
         }
        },
        {
         "name": "bm_mobil",
         "dtype": "object",
         "stats": {
          "unique_count": 1,
          "nan_count": 0,
          "categories": [
           {
            "name": "Sí",
            "count": 3
           }
          ]
         }
        },
        {
         "name": "bm_sabates",
         "dtype": "object",
         "stats": {
          "unique_count": 1,
          "nan_count": 0,
          "categories": [
           {
            "name": "Sí",
            "count": 3
           }
          ]
         }
        },
        {
         "name": "bm_mescola",
         "dtype": "object",
         "stats": {
          "unique_count": 1,
          "nan_count": 0,
          "categories": [
           {
            "name": "Sí",
            "count": 3
           }
          ]
         }
        },
        {
         "name": "bm_maficions",
         "dtype": "object",
         "stats": {
          "unique_count": 2,
          "nan_count": 0,
          "categories": [
           {
            "name": "No",
            "count": 2
           },
           {
            "name": "Sí",
            "count": 1
           }
          ]
         }
        },
        {
         "name": "s_amics",
         "dtype": "object",
         "stats": {
          "unique_count": 2,
          "nan_count": 0,
          "categories": [
           {
            "name": "10",
            "count": 2
           },
           {
            "name": "7",
            "count": 1
           }
          ]
         }
        },
        {
         "name": "a_suficients",
         "dtype": "object",
         "stats": {
          "unique_count": 3,
          "nan_count": 0,
          "categories": [
           {
            "name": "Bastant d'acord",
            "count": 1
           },
           {
            "name": "Gens d'acord",
            "count": 1
           },
           {
            "name": "Totalment d'acord",
            "count": 1
           }
          ]
         }
        },
        {
         "name": "a_tractebe",
         "dtype": "object",
         "stats": {
          "unique_count": 2,
          "nan_count": 0,
          "categories": [
           {
            "name": "Totalment d'acord",
            "count": 2
           },
           {
            "name": "Més o menys d'acord",
            "count": 1
           }
          ]
         }
        },
        {
         "name": "a_bejunts",
         "dtype": "object",
         "stats": {
          "unique_count": 2,
          "nan_count": 0,
          "categories": [
           {
            "name": "Totalment d'acord",
            "count": 2
           },
           {
            "name": "Bastant d'acord",
            "count": 1
           }
          ]
         }
        },
        {
         "name": "a_suport",
         "dtype": "object",
         "stats": {
          "unique_count": 3,
          "nan_count": 0,
          "categories": [
           {
            "name": "Bastant d'acord",
            "count": 1
           },
           {
            "name": "Totalment d'acord",
            "count": 1
           },
           {
            "name": "Més o menys d'acord",
            "count": 1
           }
          ]
         }
        },
        {
         "name": "a_freq_foraescola",
         "dtype": "object",
         "stats": {
          "unique_count": 3,
          "nan_count": 0,
          "categories": [
           {
            "name": "1 o 2 dies a la setmana",
            "count": 1
           },
           {
            "name": "Algun dia al mes",
            "count": 1
           },
           {
            "name": "3 o 4 dies a la setmana",
            "count": 1
           }
          ]
         }
        },
        {
         "name": "s_vidaestudiant",
         "dtype": "object",
         "stats": {
          "unique_count": 3,
          "nan_count": 0,
          "categories": [
           {
            "name": "9",
            "count": 1
           },
           {
            "name": "7",
            "count": 1
           },
           {
            "name": "8",
            "count": 1
           }
          ]
         }
        },
        {
         "name": "s_aprenentatges",
         "dtype": "object",
         "stats": {
          "unique_count": 3,
          "nan_count": 0,
          "categories": [
           {
            "name": "10",
            "count": 1
           },
           {
            "name": "8",
            "count": 1
           },
           {
            "name": "9",
            "count": 1
           }
          ]
         }
        },
        {
         "name": "s_igualsclasse",
         "dtype": "object",
         "stats": {
          "unique_count": 2,
          "nan_count": 0,
          "categories": [
           {
            "name": "10",
            "count": 2
           },
           {
            "name": "7",
            "count": 1
           }
          ]
         }
        },
        {
         "name": "temps_trajecte_escolar",
         "dtype": "object",
         "stats": {
          "unique_count": 2,
          "nan_count": 0,
          "categories": [
           {
            "name": "30 minuts o menys",
            "count": 2
           },
           {
            "name": "Gairebé 1 hora",
            "count": 1
           }
          ]
         }
        },
        {
         "name": "seguretat_trajecte_escolar",
         "dtype": "object",
         "stats": {
          "unique_count": 1,
          "nan_count": 0,
          "categories": [
           {
            "name": "Bastant segur/a",
            "count": 3
           }
          ]
         }
        },
        {
         "name": "e_preocupacio",
         "dtype": "object",
         "stats": {
          "unique_count": 1,
          "nan_count": 0,
          "categories": [
           {
            "name": "Totalment d'acord",
            "count": 3
           }
          ]
         }
        },
        {
         "name": "e_suportmestres",
         "dtype": "object",
         "stats": {
          "unique_count": 1,
          "nan_count": 0,
          "categories": [
           {
            "name": "Totalment d'acord",
            "count": 3
           }
          ]
         }
        },
        {
         "name": "e_suportiguals",
         "dtype": "object",
         "stats": {
          "unique_count": 2,
          "nan_count": 0,
          "categories": [
           {
            "name": "Totalment d'acord",
            "count": 2
           },
           {
            "name": "Més o menys d'acord",
            "count": 1
           }
          ]
         }
        },
        {
         "name": "e_discussions_inv",
         "dtype": "object",
         "stats": {
          "unique_count": 2,
          "nan_count": 0,
          "categories": [
           {
            "name": "Bastant d'acord",
            "count": 2
           },
           {
            "name": "No ho sé",
            "count": 1
           }
          ]
         }
        },
        {
         "name": "e_escolta",
         "dtype": "object",
         "stats": {
          "unique_count": 2,
          "nan_count": 0,
          "categories": [
           {
            "name": "Totalment d'acord",
            "count": 2
           },
           {
            "name": "Bastant d'acord",
            "count": 1
           }
          ]
         }
        },
        {
         "name": "e_eleccio",
         "dtype": "object",
         "stats": {
          "unique_count": 2,
          "nan_count": 0,
          "categories": [
           {
            "name": "Bastant d'acord",
            "count": 2
           },
           {
            "name": "Totalment d'acord",
            "count": 1
           }
          ]
         }
        },
        {
         "name": "e_seguretat",
         "dtype": "object",
         "stats": {
          "unique_count": 1,
          "nan_count": 0,
          "categories": [
           {
            "name": "Totalment d'acord",
            "count": 3
           }
          ]
         }
        },
        {
         "name": "e_freq_baralles",
         "dtype": "object",
         "stats": {
          "unique_count": 2,
          "nan_count": 0,
          "categories": [
           {
            "name": "Almenys un dia per setmana",
            "count": 2
           },
           {
            "name": "No ho sé",
            "count": 1
           }
          ]
         }
        },
        {
         "name": "e_vfisica_inv",
         "dtype": "object",
         "stats": {
          "unique_count": 2,
          "nan_count": 0,
          "categories": [
           {
            "name": "Mai",
            "count": 2
           },
           {
            "name": "Una vegada",
            "count": 1
           }
          ]
         }
        },
        {
         "name": "e_vverbal_inv",
         "dtype": "object",
         "stats": {
          "unique_count": 2,
          "nan_count": 0,
          "categories": [
           {
            "name": "Una vegada",
            "count": 2
           },
           {
            "name": "Més de 3 vegades",
            "count": 1
           }
          ]
         }
        },
        {
         "name": "e_vbuit_inv",
         "dtype": "object",
         "stats": {
          "unique_count": 3,
          "nan_count": 0,
          "categories": [
           {
            "name": "Una vegada",
            "count": 1
           },
           {
            "name": "Mai",
            "count": 1
           },
           {
            "name": "Més de 3 vegades",
            "count": 1
           }
          ]
         }
        },
        {
         "name": "e_afisic_inv",
         "dtype": "object",
         "stats": {
          "unique_count": 2,
          "nan_count": 0,
          "categories": [
           {
            "name": "Mai",
            "count": 2
           },
           {
            "name": "Una vegada",
            "count": 1
           }
          ]
         }
        },
        {
         "name": "e_averbal_inv",
         "dtype": "object",
         "stats": {
          "unique_count": 2,
          "nan_count": 0,
          "categories": [
           {
            "name": "Una vegada",
            "count": 2
           },
           {
            "name": "2 o 3 vegades",
            "count": 1
           }
          ]
         }
        },
        {
         "name": "e_abuit_inv",
         "dtype": "object",
         "stats": {
          "unique_count": 2,
          "nan_count": 0,
          "categories": [
           {
            "name": "Mai",
            "count": 2
           },
           {
            "name": "Una vegada",
            "count": 1
           }
          ]
         }
        },
        {
         "name": "s_barri",
         "dtype": "object",
         "stats": {
          "unique_count": 3,
          "nan_count": 0,
          "categories": [
           {
            "name": "10",
            "count": 1
           },
           {
            "name": "3",
            "count": 1
           },
           {
            "name": "9",
            "count": 1
           }
          ]
         }
        },
        {
         "name": "b_seguretat",
         "dtype": "object",
         "stats": {
          "unique_count": 2,
          "nan_count": 0,
          "categories": [
           {
            "name": "Bastant d'acord",
            "count": 2
           },
           {
            "name": "Poc d'acord",
            "count": 1
           }
          ]
         }
        },
        {
         "name": "b_joc",
         "dtype": "object",
         "stats": {
          "unique_count": 3,
          "nan_count": 0,
          "categories": [
           {
            "name": "Bastant d'acord",
            "count": 1
           },
           {
            "name": "No ho sé",
            "count": 1
           },
           {
            "name": "Totalment d'acord",
            "count": 1
           }
          ]
         }
        },
        {
         "name": "b_suport",
         "dtype": "object",
         "stats": {
          "unique_count": 2,
          "nan_count": 0,
          "categories": [
           {
            "name": "Més o menys d'acord",
            "count": 2
           },
           {
            "name": "Gens d'acord",
            "count": 1
           }
          ]
         }
        },
        {
         "name": "b_amabilitat",
         "dtype": "object",
         "stats": {
          "unique_count": 3,
          "nan_count": 0,
          "categories": [
           {
            "name": "Totalment d'acord",
            "count": 1
           },
           {
            "name": "No ho sé",
            "count": 1
           },
           {
            "name": "Més o menys d'acord",
            "count": 1
           }
          ]
         }
        },
        {
         "name": "b_llibertat",
         "dtype": "object",
         "stats": {
          "unique_count": 3,
          "nan_count": 0,
          "categories": [
           {
            "name": "Bastant d'acord",
            "count": 1
           },
           {
            "name": "Gens d'acord",
            "count": 1
           },
           {
            "name": "Més o menys d'acord",
            "count": 1
           }
          ]
         }
        },
        {
         "name": "b_escolta",
         "dtype": "object",
         "stats": {
          "unique_count": 2,
          "nan_count": 0,
          "categories": [
           {
            "name": "No ho sé",
            "count": 2
           },
           {
            "name": "Més o menys d'acord",
            "count": 1
           }
          ]
         }
        },
        {
         "name": "b_freq_baralles",
         "dtype": "object",
         "stats": {
          "unique_count": 2,
          "nan_count": 0,
          "categories": [
           {
            "name": "No ho sé",
            "count": 2
           },
           {
            "name": "Menys sovint",
            "count": 1
           }
          ]
         }
        },
        {
         "name": "s_seguretat",
         "dtype": "object",
         "stats": {
          "unique_count": 2,
          "nan_count": 0,
          "categories": [
           {
            "name": "9",
            "count": 2
           },
           {
            "name": "7",
            "count": 1
           }
          ]
         }
        },
        {
         "name": "s_llibertat",
         "dtype": "object",
         "stats": {
          "unique_count": 3,
          "nan_count": 0,
          "categories": [
           {
            "name": "7",
            "count": 1
           },
           {
            "name": "4",
            "count": 1
           },
           {
            "name": "9",
            "count": 1
           }
          ]
         }
        },
        {
         "name": "s_cos",
         "dtype": "object",
         "stats": {
          "unique_count": 2,
          "nan_count": 0,
          "categories": [
           {
            "name": "10",
            "count": 2
           },
           {
            "name": "9",
            "count": 1
           }
          ]
         }
        },
        {
         "name": "contrastslssm_exps",
         "dtype": "object",
         "stats": {
          "unique_count": 3,
          "nan_count": 0,
          "categories": [
           {
            "name": "10",
            "count": 1
           },
           {
            "name": "6",
            "count": 1
           },
           {
            "name": "7",
            "count": 1
           }
          ]
         }
        },
        {
         "name": "s_escoltaadulta",
         "dtype": "object",
         "stats": {
          "unique_count": 3,
          "nan_count": 0,
          "categories": [
           {
            "name": "9",
            "count": 1
           },
           {
            "name": "8",
            "count": 1
           },
           {
            "name": "5",
            "count": 1
           }
          ]
         }
        },
        {
         "name": "s_salut",
         "dtype": "object",
         "stats": {
          "unique_count": 2,
          "nan_count": 0,
          "categories": [
           {
            "name": "10",
            "count": 2
           },
           {
            "name": "9",
            "count": 1
           }
          ]
         }
        },
        {
         "name": "contrastslssm_olsm",
         "dtype": "object",
         "stats": {
          "unique_count": 3,
          "nan_count": 0,
          "categories": [
           {
            "name": "9",
            "count": 1
           },
           {
            "name": "10",
            "count": 1
           },
           {
            "name": "7",
            "count": 1
           }
          ]
         }
        },
        {
         "name": "SLSSm",
         "dtype": "object",
         "stats": {
          "unique_count": 3,
          "nan_count": 0,
          "categories": [
           {
            "name": "9,4",
            "count": 1
           },
           {
            "name": "7,8",
            "count": 1
           },
           {
            "name": "8,8",
            "count": 1
           }
          ]
         }
        },
        {
         "name": "SLSSmc",
         "dtype": "object",
         "stats": {
          "unique_count": 2,
          "nan_count": 0,
          "categories": [
           {
            "name": "Bastant [70, 89]",
            "count": 2
           },
           {
            "name": "Molt [90, 100]",
            "count": 1
           }
          ]
         }
        },
        {
         "name": "slssm_vabe",
         "dtype": "object",
         "stats": {
          "unique_count": 3,
          "nan_count": 0,
          "categories": [
           {
            "name": "10",
            "count": 1
           },
           {
            "name": "7",
            "count": 1
           },
           {
            "name": "9",
            "count": 1
           }
          ]
         }
        },
        {
         "name": "slssm_hauria",
         "dtype": "object",
         "stats": {
          "unique_count": 1,
          "nan_count": 0,
          "categories": [
           {
            "name": "8",
            "count": 3
           }
          ]
         }
        },
        {
         "name": "slssm_bona",
         "dtype": "object",
         "stats": {
          "unique_count": 1,
          "nan_count": 0,
          "categories": [
           {
            "name": "9",
            "count": 3
           }
          ]
         }
        },
        {
         "name": "slssm_excel",
         "dtype": "object",
         "stats": {
          "unique_count": 3,
          "nan_count": 0,
          "categories": [
           {
            "name": "10",
            "count": 1
           },
           {
            "name": "7",
            "count": 1
           },
           {
            "name": "8",
            "count": 1
           }
          ]
         }
        },
        {
         "name": "slssm_agrada",
         "dtype": "object",
         "stats": {
          "unique_count": 2,
          "nan_count": 0,
          "categories": [
           {
            "name": "10",
            "count": 2
           },
           {
            "name": "8",
            "count": 1
           }
          ]
         }
        },
        {
         "name": "slssm_gaudi",
         "dtype": "object",
         "stats": {
          "unique_count": 2,
          "nan_count": 0,
          "categories": [
           {
            "name": "10",
            "count": 2
           },
           {
            "name": "9",
            "count": 1
           }
          ]
         }
        },
        {
         "name": "slssm_feliç",
         "dtype": "object",
         "stats": {
          "unique_count": 2,
          "nan_count": 0,
          "categories": [
           {
            "name": "10",
            "count": 2
           },
           {
            "name": "9",
            "count": 1
           }
          ]
         }
        },
        {
         "name": "f_felicitat",
         "dtype": "object",
         "stats": {
          "unique_count": 2,
          "nan_count": 0,
          "categories": [
           {
            "name": "9",
            "count": 2
           },
           {
            "name": "5",
            "count": 1
           }
          ]
         }
        },
        {
         "name": "f_tristesa",
         "dtype": "object",
         "stats": {
          "unique_count": 3,
          "nan_count": 0,
          "categories": [
           {
            "name": "1",
            "count": 1
           },
           {
            "name": "8",
            "count": 1
           },
           {
            "name": "7",
            "count": 1
           }
          ]
         }
        },
        {
         "name": "f_calma",
         "dtype": "object",
         "stats": {
          "unique_count": 2,
          "nan_count": 0,
          "categories": [
           {
            "name": "9",
            "count": 2
           },
           {
            "name": "5",
            "count": 1
           }
          ]
         }
        },
        {
         "name": "f_estres",
         "dtype": "object",
         "stats": {
          "unique_count": 3,
          "nan_count": 0,
          "categories": [
           {
            "name": "1",
            "count": 1
           },
           {
            "name": "4",
            "count": 1
           },
           {
            "name": "0",
            "count": 1
           }
          ]
         }
        },
        {
         "name": "f_energia",
         "dtype": "object",
         "stats": {
          "unique_count": 3,
          "nan_count": 0,
          "categories": [
           {
            "name": "9",
            "count": 1
           },
           {
            "name": "7",
            "count": 1
           },
           {
            "name": "10",
            "count": 1
           }
          ]
         }
        },
        {
         "name": "f_avorriment",
         "dtype": "object",
         "stats": {
          "unique_count": 3,
          "nan_count": 0,
          "categories": [
           {
            "name": "2",
            "count": 1
           },
           {
            "name": "9",
            "count": 1
           },
           {
            "name": "10",
            "count": 1
           }
          ]
         }
        },
        {
         "name": "contrastslssm_exp2",
         "dtype": "object",
         "stats": {
          "unique_count": 2,
          "nan_count": 0,
          "categories": [
           {
            "name": "9",
            "count": 2
           },
           {
            "name": "7",
            "count": 1
           }
          ]
         }
        },
        {
         "name": "s_ustemps",
         "dtype": "object",
         "stats": {
          "unique_count": 3,
          "nan_count": 0,
          "categories": [
           {
            "name": "8",
            "count": 1
           },
           {
            "name": "7",
            "count": 1
           },
           {
            "name": "10",
            "count": 1
           }
          ]
         }
        },
        {
         "name": "s_tempslliure",
         "dtype": "object",
         "stats": {
          "unique_count": 3,
          "nan_count": 0,
          "categories": [
           {
            "name": "8",
            "count": 1
           },
           {
            "name": "10",
            "count": 1
           },
           {
            "name": "7",
            "count": 1
           }
          ]
         }
        },
        {
         "name": "t_ajuda",
         "dtype": "object",
         "stats": {
          "unique_count": 2,
          "nan_count": 0,
          "categories": [
           {
            "name": "5 o 6 dies a la setmana",
            "count": 2
           },
           {
            "name": "3 o 4 dies a la setmana",
            "count": 1
           }
          ]
         }
        },
        {
         "name": "t_cuida",
         "dtype": "object",
         "stats": {
          "unique_count": 2,
          "nan_count": 0,
          "categories": [
           {
            "name": "Algun dia al mes",
            "count": 2
           },
           {
            "name": "5 o 6 dies a la setmana",
            "count": 1
           }
          ]
         }
        },
        {
         "name": "t_treball",
         "dtype": "object",
         "stats": {
          "unique_count": 1,
          "nan_count": 0,
          "categories": [
           {
            "name": "Mai o gairebé mai",
            "count": 3
           }
          ]
         }
        },
        {
         "name": "t_classes",
         "dtype": "object",
         "stats": {
          "unique_count": 2,
          "nan_count": 0,
          "categories": [
           {
            "name": "1 o 2 dies a la setmana",
            "count": 2
           },
           {
            "name": "Mai o gairebé mai",
            "count": 1
           }
          ]
         }
        },
        {
         "name": "t_deures",
         "dtype": "object",
         "stats": {
          "unique_count": 1,
          "nan_count": 0,
          "categories": [
           {
            "name": "Cada dia",
            "count": 3
           }
          ]
         }
        },
        {
         "name": "t_tv",
         "dtype": "object",
         "stats": {
          "unique_count": 2,
          "nan_count": 0,
          "categories": [
           {
            "name": "5 o 6 dies a la setmana",
            "count": 2
           },
           {
            "name": "Cada dia",
            "count": 1
           }
          ]
         }
        },
        {
         "name": "t_esport",
         "dtype": "object",
         "stats": {
          "unique_count": 3,
          "nan_count": 0,
          "categories": [
           {
            "name": "5 o 6 dies a la setmana",
            "count": 1
           },
           {
            "name": "1 o 2 dies a la setmana",
            "count": 1
           },
           {
            "name": "Cada dia",
            "count": 1
           }
          ]
         }
        },
        {
         "name": "t_familia",
         "dtype": "object",
         "stats": {
          "unique_count": 3,
          "nan_count": 0,
          "categories": [
           {
            "name": "5 o 6 dies a la setmana",
            "count": 1
           },
           {
            "name": "Algun dia al mes",
            "count": 1
           },
           {
            "name": "Cada dia",
            "count": 1
           }
          ]
         }
        },
        {
         "name": "t_airelliure",
         "dtype": "object",
         "stats": {
          "unique_count": 2,
          "nan_count": 0,
          "categories": [
           {
            "name": "3 o 4 dies a la setmana",
            "count": 2
           },
           {
            "name": "Algun dia al mes",
            "count": 1
           }
          ]
         }
        },
        {
         "name": "t_xarxes",
         "dtype": "object",
         "stats": {
          "unique_count": 2,
          "nan_count": 0,
          "categories": [
           {
            "name": "3 o 4 dies a la setmana",
            "count": 2
           },
           {
            "name": "5 o 6 dies a la setmana",
            "count": 1
           }
          ]
         }
        },
        {
         "name": "t_videojocs",
         "dtype": "object",
         "stats": {
          "unique_count": 2,
          "nan_count": 0,
          "categories": [
           {
            "name": "1 o 2 dies a la setmana",
            "count": 2
           },
           {
            "name": "Algun dia al mes",
            "count": 1
           }
          ]
         }
        },
        {
         "name": "t_resrepos",
         "dtype": "object",
         "stats": {
          "unique_count": 2,
          "nan_count": 0,
          "categories": [
           {
            "name": "1 o 2 dies a la setmana",
            "count": 2
           },
           {
            "name": "Cada dia",
            "count": 1
           }
          ]
         }
        },
        {
         "name": "d_drets",
         "dtype": "object",
         "stats": {
          "unique_count": 2,
          "nan_count": 0,
          "categories": [
           {
            "name": "Sí",
            "count": 2
           },
           {
            "name": "No n'estic segur/a",
            "count": 1
           }
          ]
         }
        },
        {
         "name": "d_convencio",
         "dtype": "object",
         "stats": {
          "unique_count": 2,
          "nan_count": 0,
          "categories": [
           {
            "name": "Sí",
            "count": 2
           },
           {
            "name": "No n'estic segur/a",
            "count": 1
           }
          ]
         }
        },
        {
         "name": "_deepnote_index_column",
         "dtype": "int64"
        }
       ],
       "rows_top": [
        {
         "ID": 1,
         "Codi_Districte_Educatiu": 8,
         "Nom_Districte_Educatiu": "Nou Barris",
         "Curs": "6è",
         "Sexe": "Nena",
         "Llar_BCN": "Sí",
         "ERFDbllp": "Barris rendes baixes",
         "Edat": "11",
         "amb_qui_vius": "Visc amb la meva família",
         "familia_altra_casa": "No",
         "frequencia_altra_familia": "VF",
         "mare": "Sí",
         "pare": "Sí",
         "parella_mare": "No",
         "segona_mare": "No",
         "parella_pare": "No",
         "segon_pare": "No",
         "germans": "Sí",
         "avis": "Sí",
         "altres_infants": "No",
         "altres_adults": "No",
         "animals": "Sí",
         "germans_mateixa_llar": "1",
         "avis_mateixa_llar": "1",
         "s_familia": "10",
         "f_preocupacio": "Totalment d'acord",
         "f_suport": "Totalment d'acord",
         "f_bejunts": "Bastant d'acord",
         "f_seguretat": "Totalment d'acord",
         "f_escolta": "Totalment d'acord",
         "f_llibertat": "Bastant d'acord",
         "on_vas_niexer": "Catalunya",
         "on_va_neixer_mare_progenitor1": "NC",
         "on_va_neixer_pare_progenitor2": "NC",
         "dificultat_fisica": "Sí",
         "dificultat_aprenentatge": "No",
         "dificultat_per_malaltia": "No",
         "ps_malcap": "Algun dia al mes",
         "ps_panxa": "Algun dia al mes",
         "ps_esquena": "Algun dia al mes",
         "ps_insomni": "1 o 2 dies a la setmana",
         "s_llar": "8",
         "ll_estudi": "No",
         "ll_joc": "No",
         "cotxe": "Un",
         "habitacio": "Dormo a una habitació que comparteixo amb germans/es o altres persones",
         "ordinadors": "Dos",
         "banys": "Dos",
         "rentaplats": "Sí",
         "vacances": "Dues",
         "preocupacio_diners": "A vegades",
         "amb_qui_vius_feina": "Més de dues",
         "s_bmaterials": "9",
         "bm_internet": "Sí",
         "bm_mobil": "Sí",
         "bm_sabates": "Sí",
         "bm_mescola": "Sí",
         "bm_maficions": "No",
         "s_amics": "10",
         "a_suficients": "Bastant d'acord",
         "a_tractebe": "Totalment d'acord",
         "a_bejunts": "Totalment d'acord",
         "a_suport": "Bastant d'acord",
         "a_freq_foraescola": "1 o 2 dies a la setmana",
         "s_vidaestudiant": "9",
         "s_aprenentatges": "10",
         "s_igualsclasse": "10",
         "temps_trajecte_escolar": "30 minuts o menys",
         "seguretat_trajecte_escolar": "Bastant segur/a",
         "e_preocupacio": "Totalment d'acord",
         "e_suportmestres": "Totalment d'acord",
         "e_suportiguals": "Totalment d'acord",
         "e_discussions_inv": "Bastant d'acord",
         "e_escolta": "Totalment d'acord",
         "e_eleccio": "Bastant d'acord",
         "e_seguretat": "Totalment d'acord",
         "e_freq_baralles": "Almenys un dia per setmana",
         "e_vfisica_inv": "Mai",
         "e_vverbal_inv": "Una vegada",
         "e_vbuit_inv": "Una vegada",
         "e_afisic_inv": "Mai",
         "e_averbal_inv": "Una vegada",
         "e_abuit_inv": "Mai",
         "s_barri": "10",
         "b_seguretat": "Bastant d'acord",
         "b_joc": "Bastant d'acord",
         "b_suport": "Més o menys d'acord",
         "b_amabilitat": "Totalment d'acord",
         "b_llibertat": "Bastant d'acord",
         "b_escolta": "Més o menys d'acord",
         "b_freq_baralles": "Menys sovint",
         "s_seguretat": "9",
         "s_llibertat": "7",
         "s_cos": "9",
         "contrastslssm_exps": "10",
         "s_escoltaadulta": "9",
         "s_salut": "9",
         "contrastslssm_olsm": "9",
         "SLSSm": "9,4",
         "SLSSmc": "Molt [90, 100]",
         "slssm_vabe": "10",
         "slssm_hauria": "8",
         "slssm_bona": "9",
         "slssm_excel": "10",
         "slssm_agrada": "10",
         "slssm_gaudi": "10",
         "slssm_feliç": "10",
         "f_felicitat": "9",
         "f_tristesa": "1",
         "f_calma": "9",
         "f_estres": "1",
         "f_energia": "9",
         "f_avorriment": "2",
         "contrastslssm_exp2": "9",
         "s_ustemps": "8",
         "s_tempslliure": "8",
         "t_ajuda": "5 o 6 dies a la setmana",
         "t_cuida": "5 o 6 dies a la setmana",
         "t_treball": "Mai o gairebé mai",
         "t_classes": "1 o 2 dies a la setmana",
         "t_deures": "Cada dia",
         "t_tv": "5 o 6 dies a la setmana",
         "t_esport": "5 o 6 dies a la setmana",
         "t_familia": "5 o 6 dies a la setmana",
         "t_airelliure": "3 o 4 dies a la setmana",
         "t_xarxes": "5 o 6 dies a la setmana",
         "t_videojocs": "Algun dia al mes",
         "t_resrepos": "1 o 2 dies a la setmana",
         "d_drets": "Sí",
         "d_convencio": "Sí",
         "_deepnote_index_column": 0
        },
        {
         "ID": 2,
         "Codi_Districte_Educatiu": 8,
         "Nom_Districte_Educatiu": "Nou Barris",
         "Curs": "6è",
         "Sexe": "Nen",
         "Llar_BCN": "Sí",
         "ERFDbllp": "Barris rendes intermèdies",
         "Edat": "11",
         "amb_qui_vius": "Visc amb la meva família",
         "familia_altra_casa": "Sí",
         "frequencia_altra_familia": "Mai o gairebé mai",
         "mare": "Sí",
         "pare": "Sí",
         "parella_mare": "No",
         "segona_mare": "No",
         "parella_pare": "No",
         "segon_pare": "No",
         "germans": "Sí",
         "avis": "No",
         "altres_infants": "No",
         "altres_adults": "No",
         "animals": "No",
         "germans_mateixa_llar": "1",
         "avis_mateixa_llar": "VF",
         "s_familia": "10",
         "f_preocupacio": "Totalment d'acord",
         "f_suport": "Totalment d'acord",
         "f_bejunts": "Totalment d'acord",
         "f_seguretat": "Totalment d'acord",
         "f_escolta": "No ho sé",
         "f_llibertat": "No ho sé",
         "on_vas_niexer": "Catalunya",
         "on_va_neixer_mare_progenitor1": "En un altre país",
         "on_va_neixer_pare_progenitor2": "En un altre país",
         "dificultat_fisica": "No",
         "dificultat_aprenentatge": "No n'estic segur/a",
         "dificultat_per_malaltia": "No",
         "ps_malcap": "Algun dia al mes",
         "ps_panxa": "No n'estic segur/a",
         "ps_esquena": "Algun dia al mes",
         "ps_insomni": "Cada dia",
         "s_llar": "8",
         "ll_estudi": "No",
         "ll_joc": "No",
         "cotxe": "No",
         "habitacio": "Dormo a una habitació jo sol o sola",
         "ordinadors": "Un",
         "banys": "Un",
         "rentaplats": "Sí",
         "vacances": "Cap",
         "preocupacio_diners": "Sovint",
         "amb_qui_vius_feina": "Més de dues",
         "s_bmaterials": "6",
         "bm_internet": "Sí",
         "bm_mobil": "Sí",
         "bm_sabates": "Sí",
         "bm_mescola": "Sí",
         "bm_maficions": "No",
         "s_amics": "10",
         "a_suficients": "Gens d'acord",
         "a_tractebe": "Totalment d'acord",
         "a_bejunts": "Totalment d'acord",
         "a_suport": "Totalment d'acord",
         "a_freq_foraescola": "Algun dia al mes",
         "s_vidaestudiant": "7",
         "s_aprenentatges": "8",
         "s_igualsclasse": "10",
         "temps_trajecte_escolar": "Gairebé 1 hora",
         "seguretat_trajecte_escolar": "Bastant segur/a",
         "e_preocupacio": "Totalment d'acord",
         "e_suportmestres": "Totalment d'acord",
         "e_suportiguals": "Totalment d'acord",
         "e_discussions_inv": "No ho sé",
         "e_escolta": "Bastant d'acord",
         "e_eleccio": "Totalment d'acord",
         "e_seguretat": "Totalment d'acord",
         "e_freq_baralles": "No ho sé",
         "e_vfisica_inv": "Una vegada",
         "e_vverbal_inv": "Més de 3 vegades",
         "e_vbuit_inv": "Mai",
         "e_afisic_inv": "Mai",
         "e_averbal_inv": "2 o 3 vegades",
         "e_abuit_inv": "Mai",
         "s_barri": "3",
         "b_seguretat": "Poc d'acord",
         "b_joc": "No ho sé",
         "b_suport": "Gens d'acord",
         "b_amabilitat": "No ho sé",
         "b_llibertat": "Gens d'acord",
         "b_escolta": "No ho sé",
         "b_freq_baralles": "No ho sé",
         "s_seguretat": "9",
         "s_llibertat": "4",
         "s_cos": "10",
         "contrastslssm_exps": "6",
         "s_escoltaadulta": "8",
         "s_salut": "10",
         "contrastslssm_olsm": "10",
         "SLSSm": "7,8",
         "SLSSmc": "Bastant [70, 89]",
         "slssm_vabe": "7",
         "slssm_hauria": "8",
         "slssm_bona": "9",
         "slssm_excel": "7",
         "slssm_agrada": "8",
         "slssm_gaudi": "9",
         "slssm_feliç": "10",
         "f_felicitat": "5",
         "f_tristesa": "8",
         "f_calma": "9",
         "f_estres": "4",
         "f_energia": "7",
         "f_avorriment": "9",
         "contrastslssm_exp2": "9",
         "s_ustemps": "7",
         "s_tempslliure": "10",
         "t_ajuda": "5 o 6 dies a la setmana",
         "t_cuida": "Algun dia al mes",
         "t_treball": "Mai o gairebé mai",
         "t_classes": "1 o 2 dies a la setmana",
         "t_deures": "Cada dia",
         "t_tv": "Cada dia",
         "t_esport": "1 o 2 dies a la setmana",
         "t_familia": "Algun dia al mes",
         "t_airelliure": "Algun dia al mes",
         "t_xarxes": "3 o 4 dies a la setmana",
         "t_videojocs": "1 o 2 dies a la setmana",
         "t_resrepos": "1 o 2 dies a la setmana",
         "d_drets": "Sí",
         "d_convencio": "No n'estic segur/a",
         "_deepnote_index_column": 1
        },
        {
         "ID": 3,
         "Codi_Districte_Educatiu": 8,
         "Nom_Districte_Educatiu": "Nou Barris",
         "Curs": "6è",
         "Sexe": "Nena",
         "Llar_BCN": "Sí",
         "ERFDbllp": "Barris rendes baixes",
         "Edat": "11",
         "amb_qui_vius": "Visc amb la meva família",
         "familia_altra_casa": "No",
         "frequencia_altra_familia": "VF",
         "mare": "Sí",
         "pare": "Sí",
         "parella_mare": "No",
         "segona_mare": "No",
         "parella_pare": "No",
         "segon_pare": "No",
         "germans": "Sí",
         "avis": "No",
         "altres_infants": "No",
         "altres_adults": "No",
         "animals": "Sí",
         "germans_mateixa_llar": "1",
         "avis_mateixa_llar": "VF",
         "s_familia": "10",
         "f_preocupacio": "Totalment d'acord",
         "f_suport": "Totalment d'acord",
         "f_bejunts": "Totalment d'acord",
         "f_seguretat": "Totalment d'acord",
         "f_escolta": "Totalment d'acord",
         "f_llibertat": "Totalment d'acord",
         "on_vas_niexer": "Catalunya",
         "on_va_neixer_mare_progenitor1": "Catalunya",
         "on_va_neixer_pare_progenitor2": "NC",
         "dificultat_fisica": "No",
         "dificultat_aprenentatge": "No",
         "dificultat_per_malaltia": "No",
         "ps_malcap": "Algun dia al mes",
         "ps_panxa": "1 o 2 dies a la setmana",
         "ps_esquena": "5 o 6 dies a la setmana",
         "ps_insomni": "Cada dia",
         "s_llar": "9",
         "ll_estudi": "No",
         "ll_joc": "No",
         "cotxe": "Dos o més",
         "habitacio": "Dormo a una habitació jo sol o sola",
         "ordinadors": "Més de dos",
         "banys": "Dos",
         "rentaplats": "Sí",
         "vacances": "Cap",
         "preocupacio_diners": "Sempre",
         "amb_qui_vius_feina": "Més de dues",
         "s_bmaterials": "9",
         "bm_internet": "Sí",
         "bm_mobil": "Sí",
         "bm_sabates": "Sí",
         "bm_mescola": "Sí",
         "bm_maficions": "Sí",
         "s_amics": "7",
         "a_suficients": "Totalment d'acord",
         "a_tractebe": "Més o menys d'acord",
         "a_bejunts": "Bastant d'acord",
         "a_suport": "Més o menys d'acord",
         "a_freq_foraescola": "3 o 4 dies a la setmana",
         "s_vidaestudiant": "8",
         "s_aprenentatges": "9",
         "s_igualsclasse": "7",
         "temps_trajecte_escolar": "30 minuts o menys",
         "seguretat_trajecte_escolar": "Bastant segur/a",
         "e_preocupacio": "Totalment d'acord",
         "e_suportmestres": "Totalment d'acord",
         "e_suportiguals": "Més o menys d'acord",
         "e_discussions_inv": "Bastant d'acord",
         "e_escolta": "Totalment d'acord",
         "e_eleccio": "Bastant d'acord",
         "e_seguretat": "Totalment d'acord",
         "e_freq_baralles": "Almenys un dia per setmana",
         "e_vfisica_inv": "Mai",
         "e_vverbal_inv": "Una vegada",
         "e_vbuit_inv": "Més de 3 vegades",
         "e_afisic_inv": "Una vegada",
         "e_averbal_inv": "Una vegada",
         "e_abuit_inv": "Una vegada",
         "s_barri": "9",
         "b_seguretat": "Bastant d'acord",
         "b_joc": "Totalment d'acord",
         "b_suport": "Més o menys d'acord",
         "b_amabilitat": "Més o menys d'acord",
         "b_llibertat": "Més o menys d'acord",
         "b_escolta": "No ho sé",
         "b_freq_baralles": "No ho sé",
         "s_seguretat": "7",
         "s_llibertat": "9",
         "s_cos": "10",
         "contrastslssm_exps": "7",
         "s_escoltaadulta": "5",
         "s_salut": "10",
         "contrastslssm_olsm": "7",
         "SLSSm": "8,8",
         "SLSSmc": "Bastant [70, 89]",
         "slssm_vabe": "9",
         "slssm_hauria": "8",
         "slssm_bona": "9",
         "slssm_excel": "8",
         "slssm_agrada": "10",
         "slssm_gaudi": "10",
         "slssm_feliç": "9",
         "f_felicitat": "9",
         "f_tristesa": "7",
         "f_calma": "5",
         "f_estres": "0",
         "f_energia": "10",
         "f_avorriment": "10",
         "contrastslssm_exp2": "7",
         "s_ustemps": "10",
         "s_tempslliure": "7",
         "t_ajuda": "3 o 4 dies a la setmana",
         "t_cuida": "Algun dia al mes",
         "t_treball": "Mai o gairebé mai",
         "t_classes": "Mai o gairebé mai",
         "t_deures": "Cada dia",
         "t_tv": "5 o 6 dies a la setmana",
         "t_esport": "Cada dia",
         "t_familia": "Cada dia",
         "t_airelliure": "3 o 4 dies a la setmana",
         "t_xarxes": "3 o 4 dies a la setmana",
         "t_videojocs": "1 o 2 dies a la setmana",
         "t_resrepos": "Cada dia",
         "d_drets": "No n'estic segur/a",
         "d_convencio": "Sí",
         "_deepnote_index_column": 2
        }
       ],
       "rows_bottom": null
      },
      "text/plain": "   ID  Codi_Districte_Educatiu Nom_Districte_Educatiu Curs  Sexe Llar_BCN  \\\n0   1                        8             Nou Barris   6è  Nena       Sí   \n1   2                        8             Nou Barris   6è   Nen       Sí   \n2   3                        8             Nou Barris   6è  Nena       Sí   \n\n                    ERFDbllp Edat              amb_qui_vius  \\\n0       Barris rendes baixes   11  Visc amb la meva família   \n1  Barris rendes intermèdies   11  Visc amb la meva família   \n2       Barris rendes baixes   11  Visc amb la meva família   \n\n  familia_altra_casa  ...  t_deures                     t_tv  \\\n0                 No  ...  Cada dia  5 o 6 dies a la setmana   \n1                 Sí  ...  Cada dia                 Cada dia   \n2                 No  ...  Cada dia  5 o 6 dies a la setmana   \n\n                  t_esport                t_familia             t_airelliure  \\\n0  5 o 6 dies a la setmana  5 o 6 dies a la setmana  3 o 4 dies a la setmana   \n1  1 o 2 dies a la setmana         Algun dia al mes         Algun dia al mes   \n2                 Cada dia                 Cada dia  3 o 4 dies a la setmana   \n\n                  t_xarxes              t_videojocs               t_resrepos  \\\n0  5 o 6 dies a la setmana         Algun dia al mes  1 o 2 dies a la setmana   \n1  3 o 4 dies a la setmana  1 o 2 dies a la setmana  1 o 2 dies a la setmana   \n2  3 o 4 dies a la setmana  1 o 2 dies a la setmana                 Cada dia   \n\n              d_drets         d_convencio  \n0                  Sí                  Sí  \n1                  Sí  No n'estic segur/a  \n2  No n'estic segur/a                  Sí  \n\n[3 rows x 130 columns]",
      "text/html": "<div>\n<style scoped>\n    .dataframe tbody tr th:only-of-type {\n        vertical-align: middle;\n    }\n\n    .dataframe tbody tr th {\n        vertical-align: top;\n    }\n\n    .dataframe thead th {\n        text-align: right;\n    }\n</style>\n<table border=\"1\" class=\"dataframe\">\n  <thead>\n    <tr style=\"text-align: right;\">\n      <th></th>\n      <th>ID</th>\n      <th>Codi_Districte_Educatiu</th>\n      <th>Nom_Districte_Educatiu</th>\n      <th>Curs</th>\n      <th>Sexe</th>\n      <th>Llar_BCN</th>\n      <th>ERFDbllp</th>\n      <th>Edat</th>\n      <th>amb_qui_vius</th>\n      <th>familia_altra_casa</th>\n      <th>...</th>\n      <th>t_deures</th>\n      <th>t_tv</th>\n      <th>t_esport</th>\n      <th>t_familia</th>\n      <th>t_airelliure</th>\n      <th>t_xarxes</th>\n      <th>t_videojocs</th>\n      <th>t_resrepos</th>\n      <th>d_drets</th>\n      <th>d_convencio</th>\n    </tr>\n  </thead>\n  <tbody>\n    <tr>\n      <th>0</th>\n      <td>1</td>\n      <td>8</td>\n      <td>Nou Barris</td>\n      <td>6è</td>\n      <td>Nena</td>\n      <td>Sí</td>\n      <td>Barris rendes baixes</td>\n      <td>11</td>\n      <td>Visc amb la meva família</td>\n      <td>No</td>\n      <td>...</td>\n      <td>Cada dia</td>\n      <td>5 o 6 dies a la setmana</td>\n      <td>5 o 6 dies a la setmana</td>\n      <td>5 o 6 dies a la setmana</td>\n      <td>3 o 4 dies a la setmana</td>\n      <td>5 o 6 dies a la setmana</td>\n      <td>Algun dia al mes</td>\n      <td>1 o 2 dies a la setmana</td>\n      <td>Sí</td>\n      <td>Sí</td>\n    </tr>\n    <tr>\n      <th>1</th>\n      <td>2</td>\n      <td>8</td>\n      <td>Nou Barris</td>\n      <td>6è</td>\n      <td>Nen</td>\n      <td>Sí</td>\n      <td>Barris rendes intermèdies</td>\n      <td>11</td>\n      <td>Visc amb la meva família</td>\n      <td>Sí</td>\n      <td>...</td>\n      <td>Cada dia</td>\n      <td>Cada dia</td>\n      <td>1 o 2 dies a la setmana</td>\n      <td>Algun dia al mes</td>\n      <td>Algun dia al mes</td>\n      <td>3 o 4 dies a la setmana</td>\n      <td>1 o 2 dies a la setmana</td>\n      <td>1 o 2 dies a la setmana</td>\n      <td>Sí</td>\n      <td>No n'estic segur/a</td>\n    </tr>\n    <tr>\n      <th>2</th>\n      <td>3</td>\n      <td>8</td>\n      <td>Nou Barris</td>\n      <td>6è</td>\n      <td>Nena</td>\n      <td>Sí</td>\n      <td>Barris rendes baixes</td>\n      <td>11</td>\n      <td>Visc amb la meva família</td>\n      <td>No</td>\n      <td>...</td>\n      <td>Cada dia</td>\n      <td>5 o 6 dies a la setmana</td>\n      <td>Cada dia</td>\n      <td>Cada dia</td>\n      <td>3 o 4 dies a la setmana</td>\n      <td>3 o 4 dies a la setmana</td>\n      <td>1 o 2 dies a la setmana</td>\n      <td>Cada dia</td>\n      <td>No n'estic segur/a</td>\n      <td>Sí</td>\n    </tr>\n  </tbody>\n</table>\n<p>3 rows × 130 columns</p>\n</div>"
     },
     "metadata": {}
    }
   ]
  },
  {
   "cell_type": "code",
   "metadata": {
    "tags": [],
    "cell_id": "00002-eb45b04d-46ae-4ea9-9533-047817206a2c",
    "deepnote_to_be_reexecuted": false,
    "source_hash": "4dbd1475",
    "execution_start": 1620901574943,
    "execution_millis": 532,
    "deepnote_cell_type": "code"
   },
   "source": "df_t.head(3)",
   "execution_count": null,
   "outputs": [
    {
     "output_type": "execute_result",
     "execution_count": 3,
     "data": {
      "application/vnd.deepnote.dataframe.v2+json": {
       "row_count": 3,
       "column_count": 135,
       "columns": [
        {
         "name": "ID",
         "dtype": "int64",
         "stats": {
          "unique_count": 3,
          "nan_count": 0,
          "min": "1",
          "max": "3",
          "histogram": [
           {
            "bin_start": 1,
            "bin_end": 1.2,
            "count": 1
           },
           {
            "bin_start": 1.2,
            "bin_end": 1.4,
            "count": 0
           },
           {
            "bin_start": 1.4,
            "bin_end": 1.6,
            "count": 0
           },
           {
            "bin_start": 1.6,
            "bin_end": 1.8,
            "count": 0
           },
           {
            "bin_start": 1.8,
            "bin_end": 2,
            "count": 0
           },
           {
            "bin_start": 2,
            "bin_end": 2.2,
            "count": 1
           },
           {
            "bin_start": 2.2,
            "bin_end": 2.4000000000000004,
            "count": 0
           },
           {
            "bin_start": 2.4000000000000004,
            "bin_end": 2.6,
            "count": 0
           },
           {
            "bin_start": 2.6,
            "bin_end": 2.8,
            "count": 0
           },
           {
            "bin_start": 2.8,
            "bin_end": 3,
            "count": 1
           }
          ]
         }
        },
        {
         "name": "Codi_Districte_Educatiu",
         "dtype": "int64",
         "stats": {
          "unique_count": 1,
          "nan_count": 0,
          "min": "8",
          "max": "8",
          "histogram": [
           {
            "bin_start": 7.5,
            "bin_end": 7.6,
            "count": 0
           },
           {
            "bin_start": 7.6,
            "bin_end": 7.7,
            "count": 0
           },
           {
            "bin_start": 7.7,
            "bin_end": 7.8,
            "count": 0
           },
           {
            "bin_start": 7.8,
            "bin_end": 7.9,
            "count": 0
           },
           {
            "bin_start": 7.9,
            "bin_end": 8,
            "count": 0
           },
           {
            "bin_start": 8,
            "bin_end": 8.1,
            "count": 3
           },
           {
            "bin_start": 8.1,
            "bin_end": 8.2,
            "count": 0
           },
           {
            "bin_start": 8.2,
            "bin_end": 8.3,
            "count": 0
           },
           {
            "bin_start": 8.3,
            "bin_end": 8.4,
            "count": 0
           },
           {
            "bin_start": 8.4,
            "bin_end": 8.5,
            "count": 0
           }
          ]
         }
        },
        {
         "name": "Nom_Districte_Educatiu",
         "dtype": "object",
         "stats": {
          "unique_count": 1,
          "nan_count": 0,
          "categories": [
           {
            "name": "Nou Barris",
            "count": 3
           }
          ]
         }
        },
        {
         "name": "Curs",
         "dtype": "object",
         "stats": {
          "unique_count": 1,
          "nan_count": 0,
          "categories": [
           {
            "name": "6è",
            "count": 3
           }
          ]
         }
        },
        {
         "name": "Sexe",
         "dtype": "object",
         "stats": {
          "unique_count": 2,
          "nan_count": 0,
          "categories": [
           {
            "name": "Girl",
            "count": 2
           },
           {
            "name": "Boy",
            "count": 1
           }
          ]
         }
        },
        {
         "name": "Llar_BCN",
         "dtype": "object",
         "stats": {
          "unique_count": 1,
          "nan_count": 0,
          "categories": [
           {
            "name": "Yes",
            "count": 3
           }
          ]
         }
        },
        {
         "name": "ERFDbllp",
         "dtype": "object",
         "stats": {
          "unique_count": 2,
          "nan_count": 0,
          "categories": [
           {
            "name": "Low-income neighborhoods",
            "count": 2
           },
           {
            "name": "Intermediate income neighborhoods",
            "count": 1
           }
          ]
         }
        },
        {
         "name": "Edat",
         "dtype": "object",
         "stats": {
          "unique_count": 1,
          "nan_count": 0,
          "categories": [
           {
            "name": "11",
            "count": 3
           }
          ]
         }
        },
        {
         "name": "amb_qui_vius",
         "dtype": "object",
         "stats": {
          "unique_count": 1,
          "nan_count": 0,
          "categories": [
           {
            "name": "I live with my family",
            "count": 3
           }
          ]
         }
        },
        {
         "name": "familia_altra_casa",
         "dtype": "object",
         "stats": {
          "unique_count": 2,
          "nan_count": 0,
          "categories": [
           {
            "name": "No",
            "count": 2
           },
           {
            "name": "Yes",
            "count": 1
           }
          ]
         }
        },
        {
         "name": "frequencia_altra_familia",
         "dtype": "object",
         "stats": {
          "unique_count": 2,
          "nan_count": 0,
          "categories": [
           {
            "name": "VF",
            "count": 2
           },
           {
            "name": "Never or almost never",
            "count": 1
           }
          ]
         }
        },
        {
         "name": "mare",
         "dtype": "object",
         "stats": {
          "unique_count": 1,
          "nan_count": 0,
          "categories": [
           {
            "name": "Yes",
            "count": 3
           }
          ]
         }
        },
        {
         "name": "pare",
         "dtype": "object",
         "stats": {
          "unique_count": 1,
          "nan_count": 0,
          "categories": [
           {
            "name": "Yes",
            "count": 3
           }
          ]
         }
        },
        {
         "name": "parella_mare",
         "dtype": "object",
         "stats": {
          "unique_count": 1,
          "nan_count": 0,
          "categories": [
           {
            "name": "No",
            "count": 3
           }
          ]
         }
        },
        {
         "name": "segona_mare",
         "dtype": "object",
         "stats": {
          "unique_count": 1,
          "nan_count": 0,
          "categories": [
           {
            "name": "No",
            "count": 3
           }
          ]
         }
        },
        {
         "name": "parella_pare",
         "dtype": "object",
         "stats": {
          "unique_count": 1,
          "nan_count": 0,
          "categories": [
           {
            "name": "No",
            "count": 3
           }
          ]
         }
        },
        {
         "name": "segon_pare",
         "dtype": "object",
         "stats": {
          "unique_count": 1,
          "nan_count": 0,
          "categories": [
           {
            "name": "No",
            "count": 3
           }
          ]
         }
        },
        {
         "name": "germans",
         "dtype": "object",
         "stats": {
          "unique_count": 1,
          "nan_count": 0,
          "categories": [
           {
            "name": "Yes",
            "count": 3
           }
          ]
         }
        },
        {
         "name": "avis",
         "dtype": "object",
         "stats": {
          "unique_count": 2,
          "nan_count": 0,
          "categories": [
           {
            "name": "No",
            "count": 2
           },
           {
            "name": "Yes",
            "count": 1
           }
          ]
         }
        },
        {
         "name": "altres_infants",
         "dtype": "object",
         "stats": {
          "unique_count": 1,
          "nan_count": 0,
          "categories": [
           {
            "name": "No",
            "count": 3
           }
          ]
         }
        },
        {
         "name": "altres_adults",
         "dtype": "object",
         "stats": {
          "unique_count": 1,
          "nan_count": 0,
          "categories": [
           {
            "name": "No",
            "count": 3
           }
          ]
         }
        },
        {
         "name": "animals",
         "dtype": "object",
         "stats": {
          "unique_count": 2,
          "nan_count": 0,
          "categories": [
           {
            "name": "Yes",
            "count": 2
           },
           {
            "name": "No",
            "count": 1
           }
          ]
         }
        },
        {
         "name": "germans_mateixa_llar",
         "dtype": "object",
         "stats": {
          "unique_count": 1,
          "nan_count": 0,
          "categories": [
           {
            "name": "1",
            "count": 3
           }
          ]
         }
        },
        {
         "name": "avis_mateixa_llar",
         "dtype": "object",
         "stats": {
          "unique_count": 2,
          "nan_count": 0,
          "categories": [
           {
            "name": "VF",
            "count": 2
           },
           {
            "name": "1",
            "count": 1
           }
          ]
         }
        },
        {
         "name": "s_familia",
         "dtype": "object",
         "stats": {
          "unique_count": 1,
          "nan_count": 0,
          "categories": [
           {
            "name": "10",
            "count": 3
           }
          ]
         }
        },
        {
         "name": "f_preocupacio",
         "dtype": "object",
         "stats": {
          "unique_count": 1,
          "nan_count": 0,
          "categories": [
           {
            "name": "Totally agree",
            "count": 3
           }
          ]
         }
        },
        {
         "name": "f_suport",
         "dtype": "object",
         "stats": {
          "unique_count": 1,
          "nan_count": 0,
          "categories": [
           {
            "name": "Totally agree",
            "count": 3
           }
          ]
         }
        },
        {
         "name": "f_bejunts",
         "dtype": "object",
         "stats": {
          "unique_count": 2,
          "nan_count": 0,
          "categories": [
           {
            "name": "Totally agree",
            "count": 2
           },
           {
            "name": "Quite okay",
            "count": 1
           }
          ]
         }
        },
        {
         "name": "f_seguretat",
         "dtype": "object",
         "stats": {
          "unique_count": 1,
          "nan_count": 0,
          "categories": [
           {
            "name": "Totally agree",
            "count": 3
           }
          ]
         }
        },
        {
         "name": "f_escolta",
         "dtype": "object",
         "stats": {
          "unique_count": 2,
          "nan_count": 0,
          "categories": [
           {
            "name": "Totally agree",
            "count": 2
           },
           {
            "name": "I do not know",
            "count": 1
           }
          ]
         }
        },
        {
         "name": "f_llibertat",
         "dtype": "object",
         "stats": {
          "unique_count": 3,
          "nan_count": 0,
          "categories": [
           {
            "name": "Quite okay",
            "count": 1
           },
           {
            "name": "I do not know",
            "count": 1
           },
           {
            "name": "Totally agree",
            "count": 1
           }
          ]
         }
        },
        {
         "name": "on_vas_niexer",
         "dtype": "object",
         "stats": {
          "unique_count": 1,
          "nan_count": 0,
          "categories": [
           {
            "name": "Catalonia",
            "count": 3
           }
          ]
         }
        },
        {
         "name": "on_va_neixer_mare_progenitor1",
         "dtype": "object",
         "stats": {
          "unique_count": 3,
          "nan_count": 0,
          "categories": [
           {
            "name": "NC",
            "count": 1
           },
           {
            "name": "In another country",
            "count": 1
           },
           {
            "name": "Catalonia",
            "count": 1
           }
          ]
         }
        },
        {
         "name": "on_va_neixer_pare_progenitor2",
         "dtype": "object",
         "stats": {
          "unique_count": 2,
          "nan_count": 0,
          "categories": [
           {
            "name": "NC",
            "count": 2
           },
           {
            "name": "In another country",
            "count": 1
           }
          ]
         }
        },
        {
         "name": "dificultat_fisica",
         "dtype": "object",
         "stats": {
          "unique_count": 2,
          "nan_count": 0,
          "categories": [
           {
            "name": "No",
            "count": 2
           },
           {
            "name": "Yes",
            "count": 1
           }
          ]
         }
        },
        {
         "name": "dificultat_aprenentatge",
         "dtype": "object",
         "stats": {
          "unique_count": 2,
          "nan_count": 0,
          "categories": [
           {
            "name": "No",
            "count": 2
           },
           {
            "name": "I'm not sure",
            "count": 1
           }
          ]
         }
        },
        {
         "name": "dificultat_per_malaltia",
         "dtype": "object",
         "stats": {
          "unique_count": 1,
          "nan_count": 0,
          "categories": [
           {
            "name": "No",
            "count": 3
           }
          ]
         }
        },
        {
         "name": "ps_malcap",
         "dtype": "object",
         "stats": {
          "unique_count": 1,
          "nan_count": 0,
          "categories": [
           {
            "name": "One day a month",
            "count": 3
           }
          ]
         }
        },
        {
         "name": "ps_panxa",
         "dtype": "object",
         "stats": {
          "unique_count": 3,
          "nan_count": 0,
          "categories": [
           {
            "name": "One day a month",
            "count": 1
           },
           {
            "name": "I'm not sure",
            "count": 1
           },
           {
            "name": "1 or 2 days a week",
            "count": 1
           }
          ]
         }
        },
        {
         "name": "ps_esquena",
         "dtype": "object",
         "stats": {
          "unique_count": 2,
          "nan_count": 0,
          "categories": [
           {
            "name": "One day a month",
            "count": 2
           },
           {
            "name": "5 or 6 days a week",
            "count": 1
           }
          ]
         }
        },
        {
         "name": "ps_insomni",
         "dtype": "object",
         "stats": {
          "unique_count": 2,
          "nan_count": 0,
          "categories": [
           {
            "name": "Every day",
            "count": 2
           },
           {
            "name": "1 or 2 days a week",
            "count": 1
           }
          ]
         }
        },
        {
         "name": "s_llar",
         "dtype": "object",
         "stats": {
          "unique_count": 2,
          "nan_count": 0,
          "categories": [
           {
            "name": "8",
            "count": 2
           },
           {
            "name": "9",
            "count": 1
           }
          ]
         }
        },
        {
         "name": "ll_estudi",
         "dtype": "object",
         "stats": {
          "unique_count": 1,
          "nan_count": 0,
          "categories": [
           {
            "name": "No",
            "count": 3
           }
          ]
         }
        },
        {
         "name": "ll_joc",
         "dtype": "object",
         "stats": {
          "unique_count": 1,
          "nan_count": 0,
          "categories": [
           {
            "name": "No",
            "count": 3
           }
          ]
         }
        },
        {
         "name": "cotxe",
         "dtype": "object",
         "stats": {
          "unique_count": 3,
          "nan_count": 0,
          "categories": [
           {
            "name": "One",
            "count": 1
           },
           {
            "name": "No",
            "count": 1
           },
           {
            "name": "Two or more",
            "count": 1
           }
          ]
         }
        },
        {
         "name": "habitacio",
         "dtype": "object",
         "stats": {
          "unique_count": 2,
          "nan_count": 0,
          "categories": [
           {
            "name": "I sleep in a room alone or alone",
            "count": 2
           },
           {
            "name": "I sleep in a room that I share with siblings or other people",
            "count": 1
           }
          ]
         }
        },
        {
         "name": "ordinadors",
         "dtype": "object",
         "stats": {
          "unique_count": 3,
          "nan_count": 0,
          "categories": [
           {
            "name": "Two",
            "count": 1
           },
           {
            "name": "One",
            "count": 1
           },
           {
            "name": "More than two",
            "count": 1
           }
          ]
         }
        },
        {
         "name": "banys",
         "dtype": "object",
         "stats": {
          "unique_count": 2,
          "nan_count": 0,
          "categories": [
           {
            "name": "Two",
            "count": 2
           },
           {
            "name": "One",
            "count": 1
           }
          ]
         }
        },
        {
         "name": "rentaplats",
         "dtype": "object",
         "stats": {
          "unique_count": 1,
          "nan_count": 0,
          "categories": [
           {
            "name": "Yes",
            "count": 3
           }
          ]
         }
        },
        {
         "name": "vacances",
         "dtype": "object",
         "stats": {
          "unique_count": 2,
          "nan_count": 0,
          "categories": [
           {
            "name": "Cap",
            "count": 2
           },
           {
            "name": "Two",
            "count": 1
           }
          ]
         }
        },
        {
         "name": "preocupacio_diners",
         "dtype": "object",
         "stats": {
          "unique_count": 3,
          "nan_count": 0,
          "categories": [
           {
            "name": "Sometimes",
            "count": 1
           },
           {
            "name": "Often",
            "count": 1
           },
           {
            "name": "Always",
            "count": 1
           }
          ]
         }
        },
        {
         "name": "amb_qui_vius_feina",
         "dtype": "object",
         "stats": {
          "unique_count": 1,
          "nan_count": 0,
          "categories": [
           {
            "name": "More than two",
            "count": 3
           }
          ]
         }
        },
        {
         "name": "s_bmaterials",
         "dtype": "object",
         "stats": {
          "unique_count": 2,
          "nan_count": 0,
          "categories": [
           {
            "name": "9",
            "count": 2
           },
           {
            "name": "6",
            "count": 1
           }
          ]
         }
        },
        {
         "name": "bm_internet",
         "dtype": "object",
         "stats": {
          "unique_count": 1,
          "nan_count": 0,
          "categories": [
           {
            "name": "Yes",
            "count": 3
           }
          ]
         }
        },
        {
         "name": "bm_mobil",
         "dtype": "object",
         "stats": {
          "unique_count": 1,
          "nan_count": 0,
          "categories": [
           {
            "name": "Yes",
            "count": 3
           }
          ]
         }
        },
        {
         "name": "bm_sabates",
         "dtype": "object",
         "stats": {
          "unique_count": 1,
          "nan_count": 0,
          "categories": [
           {
            "name": "Yes",
            "count": 3
           }
          ]
         }
        },
        {
         "name": "bm_mescola",
         "dtype": "object",
         "stats": {
          "unique_count": 1,
          "nan_count": 0,
          "categories": [
           {
            "name": "Yes",
            "count": 3
           }
          ]
         }
        },
        {
         "name": "bm_maficions",
         "dtype": "object",
         "stats": {
          "unique_count": 2,
          "nan_count": 0,
          "categories": [
           {
            "name": "No",
            "count": 2
           },
           {
            "name": "Yes",
            "count": 1
           }
          ]
         }
        },
        {
         "name": "s_amics",
         "dtype": "object",
         "stats": {
          "unique_count": 2,
          "nan_count": 0,
          "categories": [
           {
            "name": "10",
            "count": 2
           },
           {
            "name": "7",
            "count": 1
           }
          ]
         }
        },
        {
         "name": "a_suficients",
         "dtype": "object",
         "stats": {
          "unique_count": 3,
          "nan_count": 0,
          "categories": [
           {
            "name": "Quite okay",
            "count": 1
           },
           {
            "name": "People agree",
            "count": 1
           },
           {
            "name": "Totally agree",
            "count": 1
           }
          ]
         }
        },
        {
         "name": "a_tractebe",
         "dtype": "object",
         "stats": {
          "unique_count": 2,
          "nan_count": 0,
          "categories": [
           {
            "name": "Totally agree",
            "count": 2
           },
           {
            "name": "More or less agree",
            "count": 1
           }
          ]
         }
        },
        {
         "name": "a_bejunts",
         "dtype": "object",
         "stats": {
          "unique_count": 2,
          "nan_count": 0,
          "categories": [
           {
            "name": "Totally agree",
            "count": 2
           },
           {
            "name": "Quite okay",
            "count": 1
           }
          ]
         }
        },
        {
         "name": "a_suport",
         "dtype": "object",
         "stats": {
          "unique_count": 3,
          "nan_count": 0,
          "categories": [
           {
            "name": "Quite okay",
            "count": 1
           },
           {
            "name": "Totally agree",
            "count": 1
           },
           {
            "name": "More or less agree",
            "count": 1
           }
          ]
         }
        },
        {
         "name": "a_freq_foraescola",
         "dtype": "object",
         "stats": {
          "unique_count": 3,
          "nan_count": 0,
          "categories": [
           {
            "name": "1 or 2 days a week",
            "count": 1
           },
           {
            "name": "One day a month",
            "count": 1
           },
           {
            "name": "3 or 4 days a week",
            "count": 1
           }
          ]
         }
        },
        {
         "name": "s_vidaestudiant",
         "dtype": "object",
         "stats": {
          "unique_count": 3,
          "nan_count": 0,
          "categories": [
           {
            "name": "9",
            "count": 1
           },
           {
            "name": "7",
            "count": 1
           },
           {
            "name": "8",
            "count": 1
           }
          ]
         }
        },
        {
         "name": "s_aprenentatges",
         "dtype": "object",
         "stats": {
          "unique_count": 3,
          "nan_count": 0,
          "categories": [
           {
            "name": "10",
            "count": 1
           },
           {
            "name": "8",
            "count": 1
           },
           {
            "name": "9",
            "count": 1
           }
          ]
         }
        },
        {
         "name": "s_igualsclasse",
         "dtype": "object",
         "stats": {
          "unique_count": 2,
          "nan_count": 0,
          "categories": [
           {
            "name": "10",
            "count": 2
           },
           {
            "name": "7",
            "count": 1
           }
          ]
         }
        },
        {
         "name": "temps_trajecte_escolar",
         "dtype": "object",
         "stats": {
          "unique_count": 2,
          "nan_count": 0,
          "categories": [
           {
            "name": "30 minutes or less",
            "count": 2
           },
           {
            "name": "Almost 1 hour",
            "count": 1
           }
          ]
         }
        },
        {
         "name": "seguretat_trajecte_escolar",
         "dtype": "object",
         "stats": {
          "unique_count": 1,
          "nan_count": 0,
          "categories": [
           {
            "name": "Pretty safe",
            "count": 3
           }
          ]
         }
        },
        {
         "name": "e_preocupacio",
         "dtype": "object",
         "stats": {
          "unique_count": 1,
          "nan_count": 0,
          "categories": [
           {
            "name": "Totally agree",
            "count": 3
           }
          ]
         }
        },
        {
         "name": "e_suportmestres",
         "dtype": "object",
         "stats": {
          "unique_count": 1,
          "nan_count": 0,
          "categories": [
           {
            "name": "Totally agree",
            "count": 3
           }
          ]
         }
        },
        {
         "name": "e_suportiguals",
         "dtype": "object",
         "stats": {
          "unique_count": 2,
          "nan_count": 0,
          "categories": [
           {
            "name": "Totally agree",
            "count": 2
           },
           {
            "name": "More or less agree",
            "count": 1
           }
          ]
         }
        },
        {
         "name": "e_discussions_inv",
         "dtype": "object",
         "stats": {
          "unique_count": 2,
          "nan_count": 0,
          "categories": [
           {
            "name": "Quite okay",
            "count": 2
           },
           {
            "name": "I do not know",
            "count": 1
           }
          ]
         }
        },
        {
         "name": "e_escolta",
         "dtype": "object",
         "stats": {
          "unique_count": 2,
          "nan_count": 0,
          "categories": [
           {
            "name": "Totally agree",
            "count": 2
           },
           {
            "name": "Quite okay",
            "count": 1
           }
          ]
         }
        },
        {
         "name": "e_eleccio",
         "dtype": "object",
         "stats": {
          "unique_count": 2,
          "nan_count": 0,
          "categories": [
           {
            "name": "Quite okay",
            "count": 2
           },
           {
            "name": "Totally agree",
            "count": 1
           }
          ]
         }
        },
        {
         "name": "e_seguretat",
         "dtype": "object",
         "stats": {
          "unique_count": 1,
          "nan_count": 0,
          "categories": [
           {
            "name": "Totally agree",
            "count": 3
           }
          ]
         }
        },
        {
         "name": "e_freq_baralles",
         "dtype": "object",
         "stats": {
          "unique_count": 2,
          "nan_count": 0,
          "categories": [
           {
            "name": "At least one day a week",
            "count": 2
           },
           {
            "name": "I do not know",
            "count": 1
           }
          ]
         }
        },
        {
         "name": "e_vfisica_inv",
         "dtype": "object",
         "stats": {
          "unique_count": 2,
          "nan_count": 0,
          "categories": [
           {
            "name": "Never",
            "count": 2
           },
           {
            "name": "Once",
            "count": 1
           }
          ]
         }
        },
        {
         "name": "e_vverbal_inv",
         "dtype": "object",
         "stats": {
          "unique_count": 2,
          "nan_count": 0,
          "categories": [
           {
            "name": "Once",
            "count": 2
           },
           {
            "name": "Més de 3 vegades",
            "count": 1
           }
          ]
         }
        },
        {
         "name": "e_vbuit_inv",
         "dtype": "object",
         "stats": {
          "unique_count": 3,
          "nan_count": 0,
          "categories": [
           {
            "name": "Once",
            "count": 1
           },
           {
            "name": "Never",
            "count": 1
           },
           {
            "name": "Més de 3 vegades",
            "count": 1
           }
          ]
         }
        },
        {
         "name": "e_afisic_inv",
         "dtype": "object",
         "stats": {
          "unique_count": 2,
          "nan_count": 0,
          "categories": [
           {
            "name": "Never",
            "count": 2
           },
           {
            "name": "Once",
            "count": 1
           }
          ]
         }
        },
        {
         "name": "e_averbal_inv",
         "dtype": "object",
         "stats": {
          "unique_count": 2,
          "nan_count": 0,
          "categories": [
           {
            "name": "Once",
            "count": 2
           },
           {
            "name": "2 or 3 times",
            "count": 1
           }
          ]
         }
        },
        {
         "name": "e_abuit_inv",
         "dtype": "object",
         "stats": {
          "unique_count": 2,
          "nan_count": 0,
          "categories": [
           {
            "name": "Never",
            "count": 2
           },
           {
            "name": "Once",
            "count": 1
           }
          ]
         }
        },
        {
         "name": "s_barri",
         "dtype": "object",
         "stats": {
          "unique_count": 3,
          "nan_count": 0,
          "categories": [
           {
            "name": "10",
            "count": 1
           },
           {
            "name": "3",
            "count": 1
           },
           {
            "name": "9",
            "count": 1
           }
          ]
         }
        },
        {
         "name": "b_seguretat",
         "dtype": "object",
         "stats": {
          "unique_count": 2,
          "nan_count": 0,
          "categories": [
           {
            "name": "Quite okay",
            "count": 2
           },
           {
            "name": "Little agreement",
            "count": 1
           }
          ]
         }
        },
        {
         "name": "b_joc",
         "dtype": "object",
         "stats": {
          "unique_count": 3,
          "nan_count": 0,
          "categories": [
           {
            "name": "Quite okay",
            "count": 1
           },
           {
            "name": "I do not know",
            "count": 1
           },
           {
            "name": "Totally agree",
            "count": 1
           }
          ]
         }
        },
        {
         "name": "b_suport",
         "dtype": "object",
         "stats": {
          "unique_count": 2,
          "nan_count": 0,
          "categories": [
           {
            "name": "More or less agree",
            "count": 2
           },
           {
            "name": "People agree",
            "count": 1
           }
          ]
         }
        },
        {
         "name": "b_amabilitat",
         "dtype": "object",
         "stats": {
          "unique_count": 3,
          "nan_count": 0,
          "categories": [
           {
            "name": "Totally agree",
            "count": 1
           },
           {
            "name": "I do not know",
            "count": 1
           },
           {
            "name": "More or less agree",
            "count": 1
           }
          ]
         }
        },
        {
         "name": "b_llibertat",
         "dtype": "object",
         "stats": {
          "unique_count": 3,
          "nan_count": 0,
          "categories": [
           {
            "name": "Quite okay",
            "count": 1
           },
           {
            "name": "People agree",
            "count": 1
           },
           {
            "name": "More or less agree",
            "count": 1
           }
          ]
         }
        },
        {
         "name": "b_escolta",
         "dtype": "object",
         "stats": {
          "unique_count": 2,
          "nan_count": 0,
          "categories": [
           {
            "name": "I do not know",
            "count": 2
           },
           {
            "name": "More or less agree",
            "count": 1
           }
          ]
         }
        },
        {
         "name": "b_freq_baralles",
         "dtype": "object",
         "stats": {
          "unique_count": 2,
          "nan_count": 0,
          "categories": [
           {
            "name": "I do not know",
            "count": 2
           },
           {
            "name": "Less often",
            "count": 1
           }
          ]
         }
        },
        {
         "name": "s_seguretat",
         "dtype": "object",
         "stats": {
          "unique_count": 2,
          "nan_count": 0,
          "categories": [
           {
            "name": "9",
            "count": 2
           },
           {
            "name": "7",
            "count": 1
           }
          ]
         }
        },
        {
         "name": "s_llibertat",
         "dtype": "object",
         "stats": {
          "unique_count": 3,
          "nan_count": 0,
          "categories": [
           {
            "name": "7",
            "count": 1
           },
           {
            "name": "4",
            "count": 1
           },
           {
            "name": "9",
            "count": 1
           }
          ]
         }
        },
        {
         "name": "s_cos",
         "dtype": "object",
         "stats": {
          "unique_count": 2,
          "nan_count": 0,
          "categories": [
           {
            "name": "10",
            "count": 2
           },
           {
            "name": "9",
            "count": 1
           }
          ]
         }
        },
        {
         "name": "contrastslssm_exps",
         "dtype": "object",
         "stats": {
          "unique_count": 3,
          "nan_count": 0,
          "categories": [
           {
            "name": "10",
            "count": 1
           },
           {
            "name": "6",
            "count": 1
           },
           {
            "name": "7",
            "count": 1
           }
          ]
         }
        },
        {
         "name": "s_escoltaadulta",
         "dtype": "object",
         "stats": {
          "unique_count": 3,
          "nan_count": 0,
          "categories": [
           {
            "name": "9",
            "count": 1
           },
           {
            "name": "8",
            "count": 1
           },
           {
            "name": "5",
            "count": 1
           }
          ]
         }
        },
        {
         "name": "s_salut",
         "dtype": "object",
         "stats": {
          "unique_count": 2,
          "nan_count": 0,
          "categories": [
           {
            "name": "10",
            "count": 2
           },
           {
            "name": "9",
            "count": 1
           }
          ]
         }
        },
        {
         "name": "contrastslssm_olsm",
         "dtype": "object",
         "stats": {
          "unique_count": 3,
          "nan_count": 0,
          "categories": [
           {
            "name": "9",
            "count": 1
           },
           {
            "name": "10",
            "count": 1
           },
           {
            "name": "7",
            "count": 1
           }
          ]
         }
        },
        {
         "name": "SLSSm",
         "dtype": "object",
         "stats": {
          "unique_count": 3,
          "nan_count": 0,
          "categories": [
           {
            "name": "9,4",
            "count": 1
           },
           {
            "name": "7,8",
            "count": 1
           },
           {
            "name": "8,8",
            "count": 1
           }
          ]
         }
        },
        {
         "name": "SLSSmc",
         "dtype": "object",
         "stats": {
          "unique_count": 2,
          "nan_count": 0,
          "categories": [
           {
            "name": "Enough [70, 89]",
            "count": 2
           },
           {
            "name": "A lot [90, 100]",
            "count": 1
           }
          ]
         }
        },
        {
         "name": "slssm_vabe",
         "dtype": "object",
         "stats": {
          "unique_count": 3,
          "nan_count": 0,
          "categories": [
           {
            "name": "10",
            "count": 1
           },
           {
            "name": "7",
            "count": 1
           },
           {
            "name": "9",
            "count": 1
           }
          ]
         }
        },
        {
         "name": "slssm_hauria",
         "dtype": "object",
         "stats": {
          "unique_count": 1,
          "nan_count": 0,
          "categories": [
           {
            "name": "8",
            "count": 3
           }
          ]
         }
        },
        {
         "name": "slssm_bona",
         "dtype": "object",
         "stats": {
          "unique_count": 1,
          "nan_count": 0,
          "categories": [
           {
            "name": "9",
            "count": 3
           }
          ]
         }
        },
        {
         "name": "slssm_excel",
         "dtype": "object",
         "stats": {
          "unique_count": 3,
          "nan_count": 0,
          "categories": [
           {
            "name": "10",
            "count": 1
           },
           {
            "name": "7",
            "count": 1
           },
           {
            "name": "8",
            "count": 1
           }
          ]
         }
        },
        {
         "name": "slssm_agrada",
         "dtype": "object",
         "stats": {
          "unique_count": 2,
          "nan_count": 0,
          "categories": [
           {
            "name": "10",
            "count": 2
           },
           {
            "name": "8",
            "count": 1
           }
          ]
         }
        },
        {
         "name": "slssm_gaudi",
         "dtype": "object",
         "stats": {
          "unique_count": 2,
          "nan_count": 0,
          "categories": [
           {
            "name": "10",
            "count": 2
           },
           {
            "name": "9",
            "count": 1
           }
          ]
         }
        },
        {
         "name": "slssm_feliç",
         "dtype": "object",
         "stats": {
          "unique_count": 2,
          "nan_count": 0,
          "categories": [
           {
            "name": "10",
            "count": 2
           },
           {
            "name": "9",
            "count": 1
           }
          ]
         }
        },
        {
         "name": "f_felicitat",
         "dtype": "object",
         "stats": {
          "unique_count": 2,
          "nan_count": 0,
          "categories": [
           {
            "name": "9",
            "count": 2
           },
           {
            "name": "5",
            "count": 1
           }
          ]
         }
        },
        {
         "name": "f_tristesa",
         "dtype": "object",
         "stats": {
          "unique_count": 3,
          "nan_count": 0,
          "categories": [
           {
            "name": "1",
            "count": 1
           },
           {
            "name": "8",
            "count": 1
           },
           {
            "name": "7",
            "count": 1
           }
          ]
         }
        },
        {
         "name": "f_calma",
         "dtype": "object",
         "stats": {
          "unique_count": 2,
          "nan_count": 0,
          "categories": [
           {
            "name": "9",
            "count": 2
           },
           {
            "name": "5",
            "count": 1
           }
          ]
         }
        },
        {
         "name": "f_estres",
         "dtype": "object",
         "stats": {
          "unique_count": 3,
          "nan_count": 0,
          "categories": [
           {
            "name": "1",
            "count": 1
           },
           {
            "name": "4",
            "count": 1
           },
           {
            "name": "0",
            "count": 1
           }
          ]
         }
        },
        {
         "name": "f_energia",
         "dtype": "object",
         "stats": {
          "unique_count": 3,
          "nan_count": 0,
          "categories": [
           {
            "name": "9",
            "count": 1
           },
           {
            "name": "7",
            "count": 1
           },
           {
            "name": "10",
            "count": 1
           }
          ]
         }
        },
        {
         "name": "f_avorriment",
         "dtype": "object",
         "stats": {
          "unique_count": 3,
          "nan_count": 0,
          "categories": [
           {
            "name": "2",
            "count": 1
           },
           {
            "name": "9",
            "count": 1
           },
           {
            "name": "10",
            "count": 1
           }
          ]
         }
        },
        {
         "name": "contrastslssm_exp2",
         "dtype": "object",
         "stats": {
          "unique_count": 2,
          "nan_count": 0,
          "categories": [
           {
            "name": "9",
            "count": 2
           },
           {
            "name": "7",
            "count": 1
           }
          ]
         }
        },
        {
         "name": "s_ustemps",
         "dtype": "object",
         "stats": {
          "unique_count": 3,
          "nan_count": 0,
          "categories": [
           {
            "name": "8",
            "count": 1
           },
           {
            "name": "7",
            "count": 1
           },
           {
            "name": "10",
            "count": 1
           }
          ]
         }
        },
        {
         "name": "s_tempslliure",
         "dtype": "object",
         "stats": {
          "unique_count": 3,
          "nan_count": 0,
          "categories": [
           {
            "name": "8",
            "count": 1
           },
           {
            "name": "10",
            "count": 1
           },
           {
            "name": "7",
            "count": 1
           }
          ]
         }
        },
        {
         "name": "t_ajuda",
         "dtype": "object",
         "stats": {
          "unique_count": 2,
          "nan_count": 0,
          "categories": [
           {
            "name": "5 or 6 days a week",
            "count": 2
           },
           {
            "name": "3 or 4 days a week",
            "count": 1
           }
          ]
         }
        },
        {
         "name": "t_cuida",
         "dtype": "object",
         "stats": {
          "unique_count": 2,
          "nan_count": 0,
          "categories": [
           {
            "name": "One day a month",
            "count": 2
           },
           {
            "name": "5 or 6 days a week",
            "count": 1
           }
          ]
         }
        },
        {
         "name": "t_treball",
         "dtype": "object",
         "stats": {
          "unique_count": 1,
          "nan_count": 0,
          "categories": [
           {
            "name": "Never or almost never",
            "count": 3
           }
          ]
         }
        },
        {
         "name": "t_classes",
         "dtype": "object",
         "stats": {
          "unique_count": 2,
          "nan_count": 0,
          "categories": [
           {
            "name": "1 or 2 days a week",
            "count": 2
           },
           {
            "name": "Never or almost never",
            "count": 1
           }
          ]
         }
        },
        {
         "name": "t_deures",
         "dtype": "object",
         "stats": {
          "unique_count": 1,
          "nan_count": 0,
          "categories": [
           {
            "name": "Every day",
            "count": 3
           }
          ]
         }
        },
        {
         "name": "t_tv",
         "dtype": "object",
         "stats": {
          "unique_count": 2,
          "nan_count": 0,
          "categories": [
           {
            "name": "5 or 6 days a week",
            "count": 2
           },
           {
            "name": "Every day",
            "count": 1
           }
          ]
         }
        },
        {
         "name": "t_esport",
         "dtype": "object",
         "stats": {
          "unique_count": 3,
          "nan_count": 0,
          "categories": [
           {
            "name": "5 or 6 days a week",
            "count": 1
           },
           {
            "name": "1 or 2 days a week",
            "count": 1
           },
           {
            "name": "Every day",
            "count": 1
           }
          ]
         }
        },
        {
         "name": "t_familia",
         "dtype": "object",
         "stats": {
          "unique_count": 3,
          "nan_count": 0,
          "categories": [
           {
            "name": "5 or 6 days a week",
            "count": 1
           },
           {
            "name": "One day a month",
            "count": 1
           },
           {
            "name": "Every day",
            "count": 1
           }
          ]
         }
        },
        {
         "name": "t_airelliure",
         "dtype": "object",
         "stats": {
          "unique_count": 2,
          "nan_count": 0,
          "categories": [
           {
            "name": "3 or 4 days a week",
            "count": 2
           },
           {
            "name": "One day a month",
            "count": 1
           }
          ]
         }
        },
        {
         "name": "t_xarxes",
         "dtype": "object",
         "stats": {
          "unique_count": 2,
          "nan_count": 0,
          "categories": [
           {
            "name": "3 or 4 days a week",
            "count": 2
           },
           {
            "name": "5 or 6 days a week",
            "count": 1
           }
          ]
         }
        },
        {
         "name": "t_videojocs",
         "dtype": "object",
         "stats": {
          "unique_count": 2,
          "nan_count": 0,
          "categories": [
           {
            "name": "1 or 2 days a week",
            "count": 2
           },
           {
            "name": "One day a month",
            "count": 1
           }
          ]
         }
        },
        {
         "name": "t_resrepos",
         "dtype": "object",
         "stats": {
          "unique_count": 2,
          "nan_count": 0,
          "categories": [
           {
            "name": "1 or 2 days a week",
            "count": 2
           },
           {
            "name": "Every day",
            "count": 1
           }
          ]
         }
        },
        {
         "name": "d_drets",
         "dtype": "object",
         "stats": {
          "unique_count": 2,
          "nan_count": 0,
          "categories": [
           {
            "name": "Yes",
            "count": 2
           },
           {
            "name": "I'm not sure",
            "count": 1
           }
          ]
         }
        },
        {
         "name": "d_convencio",
         "dtype": "object",
         "stats": {
          "unique_count": 2,
          "nan_count": 0,
          "categories": [
           {
            "name": "Yes",
            "count": 2
           },
           {
            "name": "I'm not sure",
            "count": 1
           }
          ]
         }
        },
        {
         "name": "Població",
         "dtype": "int64",
         "stats": {
          "unique_count": 1,
          "nan_count": 0,
          "min": "166805",
          "max": "166805",
          "histogram": [
           {
            "bin_start": 166804.5,
            "bin_end": 166804.6,
            "count": 0
           },
           {
            "bin_start": 166804.6,
            "bin_end": 166804.7,
            "count": 0
           },
           {
            "bin_start": 166804.7,
            "bin_end": 166804.8,
            "count": 0
           },
           {
            "bin_start": 166804.8,
            "bin_end": 166804.9,
            "count": 0
           },
           {
            "bin_start": 166804.9,
            "bin_end": 166805,
            "count": 0
           },
           {
            "bin_start": 166805,
            "bin_end": 166805.1,
            "count": 3
           },
           {
            "bin_start": 166805.1,
            "bin_end": 166805.2,
            "count": 0
           },
           {
            "bin_start": 166805.2,
            "bin_end": 166805.3,
            "count": 0
           },
           {
            "bin_start": 166805.3,
            "bin_end": 166805.4,
            "count": 0
           },
           {
            "bin_start": 166805.4,
            "bin_end": 166805.5,
            "count": 0
           }
          ]
         }
        },
        {
         "name": "RFD-mean",
         "dtype": "float64",
         "stats": {
          "unique_count": 1,
          "nan_count": 0,
          "min": "51.44615384615384",
          "max": "51.44615384615384",
          "histogram": [
           {
            "bin_start": 50.94615384615384,
            "bin_end": 51.04615384615384,
            "count": 0
           },
           {
            "bin_start": 51.04615384615384,
            "bin_end": 51.146153846153844,
            "count": 0
           },
           {
            "bin_start": 51.146153846153844,
            "bin_end": 51.24615384615384,
            "count": 0
           },
           {
            "bin_start": 51.24615384615384,
            "bin_end": 51.34615384615384,
            "count": 0
           },
           {
            "bin_start": 51.34615384615384,
            "bin_end": 51.44615384615384,
            "count": 0
           },
           {
            "bin_start": 51.44615384615384,
            "bin_end": 51.54615384615384,
            "count": 3
           },
           {
            "bin_start": 51.54615384615384,
            "bin_end": 51.646153846153844,
            "count": 0
           },
           {
            "bin_start": 51.646153846153844,
            "bin_end": 51.74615384615384,
            "count": 0
           },
           {
            "bin_start": 51.74615384615384,
            "bin_end": 51.84615384615384,
            "count": 0
           },
           {
            "bin_start": 51.84615384615384,
            "bin_end": 51.94615384615384,
            "count": 0
           }
          ]
         }
        },
        {
         "name": "RFD-sumw",
         "dtype": "float64",
         "stats": {
          "unique_count": 1,
          "nan_count": 0,
          "min": "55.01160696621804",
          "max": "55.01160696621804",
          "histogram": [
           {
            "bin_start": 54.51160696621804,
            "bin_end": 54.61160696621804,
            "count": 0
           },
           {
            "bin_start": 54.61160696621804,
            "bin_end": 54.71160696621804,
            "count": 0
           },
           {
            "bin_start": 54.71160696621804,
            "bin_end": 54.81160696621804,
            "count": 0
           },
           {
            "bin_start": 54.81160696621804,
            "bin_end": 54.91160696621804,
            "count": 0
           },
           {
            "bin_start": 54.91160696621804,
            "bin_end": 55.01160696621804,
            "count": 0
           },
           {
            "bin_start": 55.01160696621804,
            "bin_end": 55.11160696621804,
            "count": 3
           },
           {
            "bin_start": 55.11160696621804,
            "bin_end": 55.21160696621804,
            "count": 0
           },
           {
            "bin_start": 55.21160696621804,
            "bin_end": 55.31160696621804,
            "count": 0
           },
           {
            "bin_start": 55.31160696621804,
            "bin_end": 55.41160696621804,
            "count": 0
           },
           {
            "bin_start": 55.41160696621804,
            "bin_end": 55.51160696621804,
            "count": 0
           }
          ]
         }
        },
        {
         "name": "RFD-std",
         "dtype": "float64",
         "stats": {
          "unique_count": 1,
          "nan_count": 0,
          "min": "7.426261439941295",
          "max": "7.426261439941295",
          "histogram": [
           {
            "bin_start": 6.926261439941295,
            "bin_end": 7.026261439941295,
            "count": 0
           },
           {
            "bin_start": 7.026261439941295,
            "bin_end": 7.126261439941295,
            "count": 0
           },
           {
            "bin_start": 7.126261439941295,
            "bin_end": 7.226261439941295,
            "count": 0
           },
           {
            "bin_start": 7.226261439941295,
            "bin_end": 7.3262614399412955,
            "count": 0
           },
           {
            "bin_start": 7.3262614399412955,
            "bin_end": 7.426261439941295,
            "count": 0
           },
           {
            "bin_start": 7.426261439941295,
            "bin_end": 7.526261439941296,
            "count": 3
           },
           {
            "bin_start": 7.526261439941296,
            "bin_end": 7.626261439941295,
            "count": 0
           },
           {
            "bin_start": 7.626261439941295,
            "bin_end": 7.726261439941295,
            "count": 0
           },
           {
            "bin_start": 7.726261439941295,
            "bin_end": 7.8262614399412955,
            "count": 0
           },
           {
            "bin_start": 7.8262614399412955,
            "bin_end": 7.926261439941295,
            "count": 0
           }
          ]
         }
        },
        {
         "name": "RFD-sem",
         "dtype": "float64",
         "stats": {
          "unique_count": 1,
          "nan_count": 0,
          "min": "2.0596743389776444",
          "max": "2.0596743389776444",
          "histogram": [
           {
            "bin_start": 1.5596743389776444,
            "bin_end": 1.6596743389776445,
            "count": 0
           },
           {
            "bin_start": 1.6596743389776445,
            "bin_end": 1.7596743389776444,
            "count": 0
           },
           {
            "bin_start": 1.7596743389776444,
            "bin_end": 1.8596743389776444,
            "count": 0
           },
           {
            "bin_start": 1.8596743389776444,
            "bin_end": 1.9596743389776443,
            "count": 0
           },
           {
            "bin_start": 1.9596743389776443,
            "bin_end": 2.0596743389776444,
            "count": 0
           },
           {
            "bin_start": 2.0596743389776444,
            "bin_end": 2.1596743389776445,
            "count": 3
           },
           {
            "bin_start": 2.1596743389776445,
            "bin_end": 2.2596743389776446,
            "count": 0
           },
           {
            "bin_start": 2.2596743389776446,
            "bin_end": 2.3596743389776442,
            "count": 0
           },
           {
            "bin_start": 2.3596743389776442,
            "bin_end": 2.4596743389776443,
            "count": 0
           },
           {
            "bin_start": 2.4596743389776443,
            "bin_end": 2.5596743389776444,
            "count": 0
           }
          ]
         }
        },
        {
         "name": "_deepnote_index_column",
         "dtype": "int64"
        }
       ],
       "rows_top": [
        {
         "ID": 1,
         "Codi_Districte_Educatiu": 8,
         "Nom_Districte_Educatiu": "Nou Barris",
         "Curs": "6è",
         "Sexe": "Girl",
         "Llar_BCN": "Yes",
         "ERFDbllp": "Low-income neighborhoods",
         "Edat": "11",
         "amb_qui_vius": "I live with my family",
         "familia_altra_casa": "No",
         "frequencia_altra_familia": "VF",
         "mare": "Yes",
         "pare": "Yes",
         "parella_mare": "No",
         "segona_mare": "No",
         "parella_pare": "No",
         "segon_pare": "No",
         "germans": "Yes",
         "avis": "Yes",
         "altres_infants": "No",
         "altres_adults": "No",
         "animals": "Yes",
         "germans_mateixa_llar": "1",
         "avis_mateixa_llar": "1",
         "s_familia": "10",
         "f_preocupacio": "Totally agree",
         "f_suport": "Totally agree",
         "f_bejunts": "Quite okay",
         "f_seguretat": "Totally agree",
         "f_escolta": "Totally agree",
         "f_llibertat": "Quite okay",
         "on_vas_niexer": "Catalonia",
         "on_va_neixer_mare_progenitor1": "NC",
         "on_va_neixer_pare_progenitor2": "NC",
         "dificultat_fisica": "Yes",
         "dificultat_aprenentatge": "No",
         "dificultat_per_malaltia": "No",
         "ps_malcap": "One day a month",
         "ps_panxa": "One day a month",
         "ps_esquena": "One day a month",
         "ps_insomni": "1 or 2 days a week",
         "s_llar": "8",
         "ll_estudi": "No",
         "ll_joc": "No",
         "cotxe": "One",
         "habitacio": "I sleep in a room that I share with siblings or other people",
         "ordinadors": "Two",
         "banys": "Two",
         "rentaplats": "Yes",
         "vacances": "Two",
         "preocupacio_diners": "Sometimes",
         "amb_qui_vius_feina": "More than two",
         "s_bmaterials": "9",
         "bm_internet": "Yes",
         "bm_mobil": "Yes",
         "bm_sabates": "Yes",
         "bm_mescola": "Yes",
         "bm_maficions": "No",
         "s_amics": "10",
         "a_suficients": "Quite okay",
         "a_tractebe": "Totally agree",
         "a_bejunts": "Totally agree",
         "a_suport": "Quite okay",
         "a_freq_foraescola": "1 or 2 days a week",
         "s_vidaestudiant": "9",
         "s_aprenentatges": "10",
         "s_igualsclasse": "10",
         "temps_trajecte_escolar": "30 minutes or less",
         "seguretat_trajecte_escolar": "Pretty safe",
         "e_preocupacio": "Totally agree",
         "e_suportmestres": "Totally agree",
         "e_suportiguals": "Totally agree",
         "e_discussions_inv": "Quite okay",
         "e_escolta": "Totally agree",
         "e_eleccio": "Quite okay",
         "e_seguretat": "Totally agree",
         "e_freq_baralles": "At least one day a week",
         "e_vfisica_inv": "Never",
         "e_vverbal_inv": "Once",
         "e_vbuit_inv": "Once",
         "e_afisic_inv": "Never",
         "e_averbal_inv": "Once",
         "e_abuit_inv": "Never",
         "s_barri": "10",
         "b_seguretat": "Quite okay",
         "b_joc": "Quite okay",
         "b_suport": "More or less agree",
         "b_amabilitat": "Totally agree",
         "b_llibertat": "Quite okay",
         "b_escolta": "More or less agree",
         "b_freq_baralles": "Less often",
         "s_seguretat": "9",
         "s_llibertat": "7",
         "s_cos": "9",
         "contrastslssm_exps": "10",
         "s_escoltaadulta": "9",
         "s_salut": "9",
         "contrastslssm_olsm": "9",
         "SLSSm": "9,4",
         "SLSSmc": "A lot [90, 100]",
         "slssm_vabe": "10",
         "slssm_hauria": "8",
         "slssm_bona": "9",
         "slssm_excel": "10",
         "slssm_agrada": "10",
         "slssm_gaudi": "10",
         "slssm_feliç": "10",
         "f_felicitat": "9",
         "f_tristesa": "1",
         "f_calma": "9",
         "f_estres": "1",
         "f_energia": "9",
         "f_avorriment": "2",
         "contrastslssm_exp2": "9",
         "s_ustemps": "8",
         "s_tempslliure": "8",
         "t_ajuda": "5 or 6 days a week",
         "t_cuida": "5 or 6 days a week",
         "t_treball": "Never or almost never",
         "t_classes": "1 or 2 days a week",
         "t_deures": "Every day",
         "t_tv": "5 or 6 days a week",
         "t_esport": "5 or 6 days a week",
         "t_familia": "5 or 6 days a week",
         "t_airelliure": "3 or 4 days a week",
         "t_xarxes": "5 or 6 days a week",
         "t_videojocs": "One day a month",
         "t_resrepos": "1 or 2 days a week",
         "d_drets": "Yes",
         "d_convencio": "Yes",
         "Població": 166805,
         "RFD-mean": 51.44615384615384,
         "RFD-sumw": 55.01160696621804,
         "RFD-std": 7.426261439941295,
         "RFD-sem": 2.0596743389776444,
         "_deepnote_index_column": 0
        },
        {
         "ID": 2,
         "Codi_Districte_Educatiu": 8,
         "Nom_Districte_Educatiu": "Nou Barris",
         "Curs": "6è",
         "Sexe": "Boy",
         "Llar_BCN": "Yes",
         "ERFDbllp": "Intermediate income neighborhoods",
         "Edat": "11",
         "amb_qui_vius": "I live with my family",
         "familia_altra_casa": "Yes",
         "frequencia_altra_familia": "Never or almost never",
         "mare": "Yes",
         "pare": "Yes",
         "parella_mare": "No",
         "segona_mare": "No",
         "parella_pare": "No",
         "segon_pare": "No",
         "germans": "Yes",
         "avis": "No",
         "altres_infants": "No",
         "altres_adults": "No",
         "animals": "No",
         "germans_mateixa_llar": "1",
         "avis_mateixa_llar": "VF",
         "s_familia": "10",
         "f_preocupacio": "Totally agree",
         "f_suport": "Totally agree",
         "f_bejunts": "Totally agree",
         "f_seguretat": "Totally agree",
         "f_escolta": "I do not know",
         "f_llibertat": "I do not know",
         "on_vas_niexer": "Catalonia",
         "on_va_neixer_mare_progenitor1": "In another country",
         "on_va_neixer_pare_progenitor2": "In another country",
         "dificultat_fisica": "No",
         "dificultat_aprenentatge": "I'm not sure",
         "dificultat_per_malaltia": "No",
         "ps_malcap": "One day a month",
         "ps_panxa": "I'm not sure",
         "ps_esquena": "One day a month",
         "ps_insomni": "Every day",
         "s_llar": "8",
         "ll_estudi": "No",
         "ll_joc": "No",
         "cotxe": "No",
         "habitacio": "I sleep in a room alone or alone",
         "ordinadors": "One",
         "banys": "One",
         "rentaplats": "Yes",
         "vacances": "Cap",
         "preocupacio_diners": "Often",
         "amb_qui_vius_feina": "More than two",
         "s_bmaterials": "6",
         "bm_internet": "Yes",
         "bm_mobil": "Yes",
         "bm_sabates": "Yes",
         "bm_mescola": "Yes",
         "bm_maficions": "No",
         "s_amics": "10",
         "a_suficients": "People agree",
         "a_tractebe": "Totally agree",
         "a_bejunts": "Totally agree",
         "a_suport": "Totally agree",
         "a_freq_foraescola": "One day a month",
         "s_vidaestudiant": "7",
         "s_aprenentatges": "8",
         "s_igualsclasse": "10",
         "temps_trajecte_escolar": "Almost 1 hour",
         "seguretat_trajecte_escolar": "Pretty safe",
         "e_preocupacio": "Totally agree",
         "e_suportmestres": "Totally agree",
         "e_suportiguals": "Totally agree",
         "e_discussions_inv": "I do not know",
         "e_escolta": "Quite okay",
         "e_eleccio": "Totally agree",
         "e_seguretat": "Totally agree",
         "e_freq_baralles": "I do not know",
         "e_vfisica_inv": "Once",
         "e_vverbal_inv": "Més de 3 vegades",
         "e_vbuit_inv": "Never",
         "e_afisic_inv": "Never",
         "e_averbal_inv": "2 or 3 times",
         "e_abuit_inv": "Never",
         "s_barri": "3",
         "b_seguretat": "Little agreement",
         "b_joc": "I do not know",
         "b_suport": "People agree",
         "b_amabilitat": "I do not know",
         "b_llibertat": "People agree",
         "b_escolta": "I do not know",
         "b_freq_baralles": "I do not know",
         "s_seguretat": "9",
         "s_llibertat": "4",
         "s_cos": "10",
         "contrastslssm_exps": "6",
         "s_escoltaadulta": "8",
         "s_salut": "10",
         "contrastslssm_olsm": "10",
         "SLSSm": "7,8",
         "SLSSmc": "Enough [70, 89]",
         "slssm_vabe": "7",
         "slssm_hauria": "8",
         "slssm_bona": "9",
         "slssm_excel": "7",
         "slssm_agrada": "8",
         "slssm_gaudi": "9",
         "slssm_feliç": "10",
         "f_felicitat": "5",
         "f_tristesa": "8",
         "f_calma": "9",
         "f_estres": "4",
         "f_energia": "7",
         "f_avorriment": "9",
         "contrastslssm_exp2": "9",
         "s_ustemps": "7",
         "s_tempslliure": "10",
         "t_ajuda": "5 or 6 days a week",
         "t_cuida": "One day a month",
         "t_treball": "Never or almost never",
         "t_classes": "1 or 2 days a week",
         "t_deures": "Every day",
         "t_tv": "Every day",
         "t_esport": "1 or 2 days a week",
         "t_familia": "One day a month",
         "t_airelliure": "One day a month",
         "t_xarxes": "3 or 4 days a week",
         "t_videojocs": "1 or 2 days a week",
         "t_resrepos": "1 or 2 days a week",
         "d_drets": "Yes",
         "d_convencio": "I'm not sure",
         "Població": 166805,
         "RFD-mean": 51.44615384615384,
         "RFD-sumw": 55.01160696621804,
         "RFD-std": 7.426261439941295,
         "RFD-sem": 2.0596743389776444,
         "_deepnote_index_column": 1
        },
        {
         "ID": 3,
         "Codi_Districte_Educatiu": 8,
         "Nom_Districte_Educatiu": "Nou Barris",
         "Curs": "6è",
         "Sexe": "Girl",
         "Llar_BCN": "Yes",
         "ERFDbllp": "Low-income neighborhoods",
         "Edat": "11",
         "amb_qui_vius": "I live with my family",
         "familia_altra_casa": "No",
         "frequencia_altra_familia": "VF",
         "mare": "Yes",
         "pare": "Yes",
         "parella_mare": "No",
         "segona_mare": "No",
         "parella_pare": "No",
         "segon_pare": "No",
         "germans": "Yes",
         "avis": "No",
         "altres_infants": "No",
         "altres_adults": "No",
         "animals": "Yes",
         "germans_mateixa_llar": "1",
         "avis_mateixa_llar": "VF",
         "s_familia": "10",
         "f_preocupacio": "Totally agree",
         "f_suport": "Totally agree",
         "f_bejunts": "Totally agree",
         "f_seguretat": "Totally agree",
         "f_escolta": "Totally agree",
         "f_llibertat": "Totally agree",
         "on_vas_niexer": "Catalonia",
         "on_va_neixer_mare_progenitor1": "Catalonia",
         "on_va_neixer_pare_progenitor2": "NC",
         "dificultat_fisica": "No",
         "dificultat_aprenentatge": "No",
         "dificultat_per_malaltia": "No",
         "ps_malcap": "One day a month",
         "ps_panxa": "1 or 2 days a week",
         "ps_esquena": "5 or 6 days a week",
         "ps_insomni": "Every day",
         "s_llar": "9",
         "ll_estudi": "No",
         "ll_joc": "No",
         "cotxe": "Two or more",
         "habitacio": "I sleep in a room alone or alone",
         "ordinadors": "More than two",
         "banys": "Two",
         "rentaplats": "Yes",
         "vacances": "Cap",
         "preocupacio_diners": "Always",
         "amb_qui_vius_feina": "More than two",
         "s_bmaterials": "9",
         "bm_internet": "Yes",
         "bm_mobil": "Yes",
         "bm_sabates": "Yes",
         "bm_mescola": "Yes",
         "bm_maficions": "Yes",
         "s_amics": "7",
         "a_suficients": "Totally agree",
         "a_tractebe": "More or less agree",
         "a_bejunts": "Quite okay",
         "a_suport": "More or less agree",
         "a_freq_foraescola": "3 or 4 days a week",
         "s_vidaestudiant": "8",
         "s_aprenentatges": "9",
         "s_igualsclasse": "7",
         "temps_trajecte_escolar": "30 minutes or less",
         "seguretat_trajecte_escolar": "Pretty safe",
         "e_preocupacio": "Totally agree",
         "e_suportmestres": "Totally agree",
         "e_suportiguals": "More or less agree",
         "e_discussions_inv": "Quite okay",
         "e_escolta": "Totally agree",
         "e_eleccio": "Quite okay",
         "e_seguretat": "Totally agree",
         "e_freq_baralles": "At least one day a week",
         "e_vfisica_inv": "Never",
         "e_vverbal_inv": "Once",
         "e_vbuit_inv": "Més de 3 vegades",
         "e_afisic_inv": "Once",
         "e_averbal_inv": "Once",
         "e_abuit_inv": "Once",
         "s_barri": "9",
         "b_seguretat": "Quite okay",
         "b_joc": "Totally agree",
         "b_suport": "More or less agree",
         "b_amabilitat": "More or less agree",
         "b_llibertat": "More or less agree",
         "b_escolta": "I do not know",
         "b_freq_baralles": "I do not know",
         "s_seguretat": "7",
         "s_llibertat": "9",
         "s_cos": "10",
         "contrastslssm_exps": "7",
         "s_escoltaadulta": "5",
         "s_salut": "10",
         "contrastslssm_olsm": "7",
         "SLSSm": "8,8",
         "SLSSmc": "Enough [70, 89]",
         "slssm_vabe": "9",
         "slssm_hauria": "8",
         "slssm_bona": "9",
         "slssm_excel": "8",
         "slssm_agrada": "10",
         "slssm_gaudi": "10",
         "slssm_feliç": "9",
         "f_felicitat": "9",
         "f_tristesa": "7",
         "f_calma": "5",
         "f_estres": "0",
         "f_energia": "10",
         "f_avorriment": "10",
         "contrastslssm_exp2": "7",
         "s_ustemps": "10",
         "s_tempslliure": "7",
         "t_ajuda": "3 or 4 days a week",
         "t_cuida": "One day a month",
         "t_treball": "Never or almost never",
         "t_classes": "Never or almost never",
         "t_deures": "Every day",
         "t_tv": "5 or 6 days a week",
         "t_esport": "Every day",
         "t_familia": "Every day",
         "t_airelliure": "3 or 4 days a week",
         "t_xarxes": "3 or 4 days a week",
         "t_videojocs": "1 or 2 days a week",
         "t_resrepos": "Every day",
         "d_drets": "I'm not sure",
         "d_convencio": "Yes",
         "Població": 166805,
         "RFD-mean": 51.44615384615384,
         "RFD-sumw": 55.01160696621804,
         "RFD-std": 7.426261439941295,
         "RFD-sem": 2.0596743389776444,
         "_deepnote_index_column": 2
        }
       ],
       "rows_bottom": null
      },
      "text/plain": "   ID  Codi_Districte_Educatiu Nom_Districte_Educatiu Curs  Sexe Llar_BCN  \\\n0   1                        8             Nou Barris   6è  Girl      Yes   \n1   2                        8             Nou Barris   6è   Boy      Yes   \n2   3                        8             Nou Barris   6è  Girl      Yes   \n\n                            ERFDbllp Edat           amb_qui_vius  \\\n0           Low-income neighborhoods   11  I live with my family   \n1  Intermediate income neighborhoods   11  I live with my family   \n2           Low-income neighborhoods   11  I live with my family   \n\n  familia_altra_casa  ...            t_xarxes         t_videojocs  \\\n0                 No  ...  5 or 6 days a week     One day a month   \n1                Yes  ...  3 or 4 days a week  1 or 2 days a week   \n2                 No  ...  3 or 4 days a week  1 or 2 days a week   \n\n           t_resrepos       d_drets   d_convencio Població   RFD-mean  \\\n0  1 or 2 days a week           Yes           Yes   166805  51.446154   \n1  1 or 2 days a week           Yes  I'm not sure   166805  51.446154   \n2           Every day  I'm not sure           Yes   166805  51.446154   \n\n    RFD-sumw   RFD-std   RFD-sem  \n0  55.011607  7.426261  2.059674  \n1  55.011607  7.426261  2.059674  \n2  55.011607  7.426261  2.059674  \n\n[3 rows x 135 columns]",
      "text/html": "<div>\n<style scoped>\n    .dataframe tbody tr th:only-of-type {\n        vertical-align: middle;\n    }\n\n    .dataframe tbody tr th {\n        vertical-align: top;\n    }\n\n    .dataframe thead th {\n        text-align: right;\n    }\n</style>\n<table border=\"1\" class=\"dataframe\">\n  <thead>\n    <tr style=\"text-align: right;\">\n      <th></th>\n      <th>ID</th>\n      <th>Codi_Districte_Educatiu</th>\n      <th>Nom_Districte_Educatiu</th>\n      <th>Curs</th>\n      <th>Sexe</th>\n      <th>Llar_BCN</th>\n      <th>ERFDbllp</th>\n      <th>Edat</th>\n      <th>amb_qui_vius</th>\n      <th>familia_altra_casa</th>\n      <th>...</th>\n      <th>t_xarxes</th>\n      <th>t_videojocs</th>\n      <th>t_resrepos</th>\n      <th>d_drets</th>\n      <th>d_convencio</th>\n      <th>Població</th>\n      <th>RFD-mean</th>\n      <th>RFD-sumw</th>\n      <th>RFD-std</th>\n      <th>RFD-sem</th>\n    </tr>\n  </thead>\n  <tbody>\n    <tr>\n      <th>0</th>\n      <td>1</td>\n      <td>8</td>\n      <td>Nou Barris</td>\n      <td>6è</td>\n      <td>Girl</td>\n      <td>Yes</td>\n      <td>Low-income neighborhoods</td>\n      <td>11</td>\n      <td>I live with my family</td>\n      <td>No</td>\n      <td>...</td>\n      <td>5 or 6 days a week</td>\n      <td>One day a month</td>\n      <td>1 or 2 days a week</td>\n      <td>Yes</td>\n      <td>Yes</td>\n      <td>166805</td>\n      <td>51.446154</td>\n      <td>55.011607</td>\n      <td>7.426261</td>\n      <td>2.059674</td>\n    </tr>\n    <tr>\n      <th>1</th>\n      <td>2</td>\n      <td>8</td>\n      <td>Nou Barris</td>\n      <td>6è</td>\n      <td>Boy</td>\n      <td>Yes</td>\n      <td>Intermediate income neighborhoods</td>\n      <td>11</td>\n      <td>I live with my family</td>\n      <td>Yes</td>\n      <td>...</td>\n      <td>3 or 4 days a week</td>\n      <td>1 or 2 days a week</td>\n      <td>1 or 2 days a week</td>\n      <td>Yes</td>\n      <td>I'm not sure</td>\n      <td>166805</td>\n      <td>51.446154</td>\n      <td>55.011607</td>\n      <td>7.426261</td>\n      <td>2.059674</td>\n    </tr>\n    <tr>\n      <th>2</th>\n      <td>3</td>\n      <td>8</td>\n      <td>Nou Barris</td>\n      <td>6è</td>\n      <td>Girl</td>\n      <td>Yes</td>\n      <td>Low-income neighborhoods</td>\n      <td>11</td>\n      <td>I live with my family</td>\n      <td>No</td>\n      <td>...</td>\n      <td>3 or 4 days a week</td>\n      <td>1 or 2 days a week</td>\n      <td>Every day</td>\n      <td>I'm not sure</td>\n      <td>Yes</td>\n      <td>166805</td>\n      <td>51.446154</td>\n      <td>55.011607</td>\n      <td>7.426261</td>\n      <td>2.059674</td>\n    </tr>\n  </tbody>\n</table>\n<p>3 rows × 135 columns</p>\n</div>"
     },
     "metadata": {}
    }
   ]
  },
  {
   "cell_type": "markdown",
   "source": "# 2. Exploratory analysis",
   "metadata": {
    "tags": [],
    "cell_id": "00006-ef31c3d4-c85b-47d8-b104-b4049fc51735",
    "deepnote_cell_type": "markdown"
   }
  },
  {
   "cell_type": "markdown",
   "source": "Starting with the descriptive elements of the children surveyed, we are gonna asses the gender and age distribution. We will asses as well in which school grade they currently are, and where are they from originally.",
   "metadata": {
    "tags": [],
    "cell_id": "00006-ab30ec32-ea25-4ac8-ad8e-56e832a8c9d0",
    "deepnote_cell_type": "markdown"
   }
  },
  {
   "cell_type": "code",
   "metadata": {
    "tags": [],
    "cell_id": "00008-e17fc4e9-0197-4bd0-9225-0d675fb9df70",
    "deepnote_to_be_reexecuted": false,
    "source_hash": "75f4984b",
    "execution_start": 1620901591318,
    "execution_millis": 1850,
    "deepnote_cell_type": "code"
   },
   "source": "sns.set(style='white')\n\ncolors_hex = ['#00378F', '#FF595E', '#FFCA3A', '#8AC926', '#1982C4', '#6A4C93']\nimport matplotlib.colors\ncolors = [matplotlib.colors.to_rgba(col) for col in colors_hex[::-1]]\n\nexp_vars = ['Sexe', 'Curs', 'Edat', 'on_vas_niexer']\nname_vars = ['Gender', 'Grade', 'Age', 'Birthplace']\nfor elem,lab in zip(exp_vars, name_vars):\n    stacked_vars(df_t, elem, colors, lab, leg='top') # in useful functions",
   "execution_count": null,
   "outputs": [
    {
     "data": {
      "text/plain": "<Figure size 720x216 with 1 Axes>",
      "image/png": "[encoded data removed]"
     },
     "metadata": {
      "image/png": {
       "width": 708,
       "height": 205
      }
     },
     "output_type": "display_data"
    },
    {
     "data": {
      "text/plain": "<Figure size 720x216 with 1 Axes>",
      "image/png": "[encoded data removed]"
     },
     "metadata": {
      "image/png": {
       "width": 708,
       "height": 205
      }
     },
     "output_type": "display_data"
    },
    {
     "data": {
      "text/plain": "<Figure size 720x216 with 1 Axes>",
      "image/png": "[encoded data removed]"
     },
     "metadata": {
      "image/png": {
       "width": 708,
       "height": 205
      }
     },
     "output_type": "display_data"
    },
    {
     "data": {
      "text/plain": "<Figure size 720x216 with 1 Axes>",
      "image/png": "[encoded data removed]"
     },
     "metadata": {
      "image/png": {
       "width": 708,
       "height": 205
      }
     },
     "output_type": "display_data"
    }
   ]
  },
  {
   "cell_type": "markdown",
   "source": "COMMENT - on distributions\n\nNow let's look at the districs of the kids surveyed and let's compare it with the actual population from Barcelona:",
   "metadata": {
    "tags": [],
    "cell_id": "00008-d683edab-3c62-4b49-bd68-62bb4b564b39",
    "deepnote_cell_type": "markdown"
   }
  },
  {
   "cell_type": "code",
   "metadata": {
    "tags": [],
    "cell_id": "00013-faf54e7a-a2e8-4512-9b1b-0fc8e926f3d1",
    "deepnote_to_be_reexecuted": false,
    "source_hash": "d445633b",
    "execution_start": 1620901577575,
    "execution_millis": 1044,
    "deepnote_cell_type": "code"
   },
   "source": "# Getting POPULATION data by DISTRICT OPT 1\ndist_name ='Nom_Districte_Educatiu'\ndf_POB = df_t.loc[:,[dist_name, 'Població']].drop_duplicates(keep='first',inplace=False).sort_values(by=['Població'])\n\n# Number of kids surveyed by DISTRICT (sorted with POPULATION)\ndistrict_names = df_POB[dist_name].unique()\ndistrict_count = [(df_t[dist_name] == x).sum() for x in district_names]\n\nfig, ax1 = plt.subplots(figsize=(14,8))\nax1.barh(df_POB.Nom_Districte_Educatiu, df_POB.Població, color=colors[1], alpha=0.8, height=0.8)\nax1.tick_params(labelsize=14, pad=6)\n\n# Creating a secondary axis and plotting population\nax2 = ax1.twiny()\nax2.barh(district_names, district_count, color=colors[4], alpha=0.9, height=0.4, align='edge')\nax2.set_xlim([0, 800])\nax2.tick_params(labelsize=14, pad=6)\n\nax2.set_xlabel('Count kids surveyed', color=colors[4], size=16, labelpad = 12, fontweight =\"bold\")\nax1.set_xlabel('Population', color=colors[1], size=16, labelpad = 12,fontweight =\"bold\")\nplt.title('Volume of kids surveyed compared to district population', fontsize=20, y=1.15)\n\nplt.tight_layout()\nplt.show()",
   "execution_count": null,
   "outputs": [
    {
     "data": {
      "text/plain": "<Figure size 1008x576 with 2 Axes>",
      "image/png": "[encoded data removed]"
     },
     "metadata": {
      "image/png": {
       "width": 996,
       "height": 560
      }
     },
     "output_type": "display_data"
    }
   ]
  },
  {
   "cell_type": "code",
   "metadata": {
    "tags": [],
    "cell_id": "00008-1015ff10-c95f-4362-a644-f4ffc5fe9ce0",
    "deepnote_to_be_reexecuted": false,
    "source_hash": "5067ca29",
    "execution_start": 1620901577550,
    "execution_millis": 9,
    "output_cleared": true,
    "deepnote_cell_type": "code"
   },
   "source": "# Aggregating income and population values\nfile_path = '../data/2017_distribucio_territorial_renda_familiar.csv'\ndf_inc = pd.read_csv(file_path, sep=',')\n\n# df_dist = df_inc.groupby(['Codi_Districte']).agg({'Població':'sum', 'Índex RFD Barcelona = 100':'mean'})\n# df_t = df_t.join(df_dist, on='Codi_Districte_Educatiu')",
   "execution_count": null,
   "outputs": []
  },
  {
   "cell_type": "code",
   "metadata": {
    "tags": [],
    "cell_id": "00014-a1f1125e-5405-4303-a713-0c131e9e05f1",
    "deepnote_to_be_reexecuted": false,
    "source_hash": "c7425d2a",
    "execution_start": 1620901578685,
    "execution_millis": 1,
    "deepnote_cell_type": "code"
   },
   "source": "# print(min(district_count), max(district_count))\n# print(min(df_t.Població), max(df_t.Població))",
   "execution_count": null,
   "outputs": []
  },
  {
   "cell_type": "markdown",
   "source": "COMMENT - previous graph: not same distribution\n\nAn error was identifed in the average income columns from the survey `'ERFDbllp'`.   \nDifferent Levels where aggregated to the same district, thus it was not possible to divide the district by a unqiue income level.  \nIt was necessary to include the information from the actual RFD income of the district on the same year, the infomration was indetifed in another dataset from  [BCN OpenData](https://upload.wikimedia.org/wikipedia/commons/a/ab/Barcelona_Barris_map.svg)\n\nShow plot with discrepancies:",
   "metadata": {
    "tags": [],
    "cell_id": "00016-d04445e5-d449-4e3e-857e-da8c4c8c265f",
    "deepnote_cell_type": "markdown"
   }
  },
  {
   "cell_type": "code",
   "metadata": {
    "tags": [],
    "cell_id": "00011-0a42fc6a-dd84-452d-b6bf-510fe50192bc",
    "deepnote_to_be_reexecuted": false,
    "source_hash": "d64c38f9",
    "execution_start": 1620901578686,
    "execution_millis": 786,
    "deepnote_cell_type": "code"
   },
   "source": "# Evaluating Ciutat Vella and Les Corts Income levels\nname_var='ERFDbllp'\nix_mean = 'RFD-mean'\nix_std = 'RFD-std'\nnoms = ['Ciutat Vella', 'Les Corts']\n\ncount1 = df_t.loc[df_t.Nom_Districte_Educatiu == noms[0]][name_var].value_counts(normalize=True)*100\npiv_1 = count1.to_frame().T.rename(index={name_var: noms[0]})\n\ncount2 = df_t.loc[df_t.Nom_Districte_Educatiu == noms[1]][name_var].value_counts(normalize=True)*100\npiv_2 = count2.to_frame().T.rename(index={name_var: noms[1]})\n\npiv_ = piv_1.append(piv_2)\nlevels = piv_.shape[1]\n\npiv_.plot.barh(stacked=True, figsize=(15,4), color = colors[:levels])\nplt.tick_params(labelsize=14, pad=6)\n\nplt.legend(bbox_to_anchor=(0.98,0.94), loc=\"upper left\", frameon=False, fontsize='medium')\nax = plt.gca()\nax.spines[\"right\"].set_visible(False)\nax.spines[\"left\"].set_visible(False)\nax.spines[\"top\"].set_visible(False)\n\nplt.title('Incongruence in Income Level Variable', fontsize=18, y=1)\n\n# Adding text box\nix_1_m = df_t.loc[df_t.Nom_Districte_Educatiu == noms[0]][ix_mean].unique()[0]\nix_1_s = df_t.loc[df_t.Nom_Districte_Educatiu == noms[0]][ix_std].unique()[0]\nix_2_m = df_t.loc[df_t.Nom_Districte_Educatiu == noms[1]][ix_mean].unique()[0]\nix_2_s = df_t.loc[df_t.Nom_Districte_Educatiu == noms[1]][ix_std].unique()[0]\n\ntextstr1 = 'RFD:  '+ '   '.join((r'$\\mu= %.1f$' % (ix_1_m,), r'$\\sigma= %.1f$' % (ix_1_s,)))\nax.text(0, 0.45, textstr1, transform=ax.transAxes, fontsize=12, fontweight =\"bold\",\n        verticalalignment='top')\n\ntextstr2 = 'RFD:  '+ '   '.join((r'$\\mu= %.1f$' % (ix_2_m,), r'$\\sigma= %.1f$' % (ix_2_s,)))\nax.text(0, 0.96, textstr2, transform=ax.transAxes, fontsize=12, fontweight =\"bold\",\n        verticalalignment='top')\n        \nplt.tight_layout()",
   "execution_count": null,
   "outputs": [
    {
     "data": {
      "text/plain": "<Figure size 1080x288 with 1 Axes>",
      "image/png": "[encoded data removed]"
     },
     "metadata": {
      "image/png": {
       "width": 1071,
       "height": 276
      }
     },
     "output_type": "display_data"
    }
   ]
  },
  {
   "cell_type": "code",
   "metadata": {
    "tags": [],
    "cell_id": "00016-53db1eaf-1c37-4148-97d1-840e30330158",
    "deepnote_to_be_reexecuted": false,
    "source_hash": "eee04d0d",
    "execution_start": 1620901579510,
    "execution_millis": 8,
    "deepnote_cell_type": "code"
   },
   "source": "piv_",
   "execution_count": null,
   "outputs": [
    {
     "output_type": "execute_result",
     "execution_count": 9,
     "data": {
      "application/vnd.deepnote.dataframe.v2+json": {
       "row_count": 2,
       "column_count": 4,
       "columns": [
        {
         "name": "Low-income neighborhoods",
         "dtype": "float64",
         "stats": {
          "unique_count": 2,
          "nan_count": 0,
          "min": "8.312342569269521",
          "max": "58.55614973262032",
          "histogram": [
           {
            "bin_start": 8.312342569269521,
            "bin_end": 13.3367232856046,
            "count": 1
           },
           {
            "bin_start": 13.3367232856046,
            "bin_end": 18.36110400193968,
            "count": 0
           },
           {
            "bin_start": 18.36110400193968,
            "bin_end": 23.38548471827476,
            "count": 0
           },
           {
            "bin_start": 23.38548471827476,
            "bin_end": 28.409865434609838,
            "count": 0
           },
           {
            "bin_start": 28.409865434609838,
            "bin_end": 33.434246150944915,
            "count": 0
           },
           {
            "bin_start": 33.434246150944915,
            "bin_end": 38.458626867279996,
            "count": 0
           },
           {
            "bin_start": 38.458626867279996,
            "bin_end": 43.48300758361508,
            "count": 0
           },
           {
            "bin_start": 43.48300758361508,
            "bin_end": 48.50738829995015,
            "count": 0
           },
           {
            "bin_start": 48.50738829995015,
            "bin_end": 53.53176901628524,
            "count": 0
           },
           {
            "bin_start": 53.53176901628524,
            "bin_end": 58.55614973262032,
            "count": 1
           }
          ]
         }
        },
        {
         "name": "Intermediate income neighborhoods",
         "dtype": "float64",
         "stats": {
          "unique_count": 2,
          "nan_count": 0,
          "min": "37.16577540106952",
          "max": "46.59949622166247",
          "histogram": [
           {
            "bin_start": 37.16577540106952,
            "bin_end": 38.109147483128815,
            "count": 1
           },
           {
            "bin_start": 38.109147483128815,
            "bin_end": 39.052519565188106,
            "count": 0
           },
           {
            "bin_start": 39.052519565188106,
            "bin_end": 39.995891647247404,
            "count": 0
           },
           {
            "bin_start": 39.995891647247404,
            "bin_end": 40.939263729306695,
            "count": 0
           },
           {
            "bin_start": 40.939263729306695,
            "bin_end": 41.882635811365994,
            "count": 0
           },
           {
            "bin_start": 41.882635811365994,
            "bin_end": 42.826007893425285,
            "count": 0
           },
           {
            "bin_start": 42.826007893425285,
            "bin_end": 43.76937997548458,
            "count": 0
           },
           {
            "bin_start": 43.76937997548458,
            "bin_end": 44.71275205754388,
            "count": 0
           },
           {
            "bin_start": 44.71275205754388,
            "bin_end": 45.65612413960317,
            "count": 0
           },
           {
            "bin_start": 45.65612413960317,
            "bin_end": 46.59949622166247,
            "count": 1
           }
          ]
         }
        },
        {
         "name": "Neighborhoods outside the city Barcelona",
         "dtype": "float64",
         "stats": {
          "unique_count": 2,
          "nan_count": 0,
          "min": "2.6737967914438503",
          "max": "38.287153652392945",
          "histogram": [
           {
            "bin_start": 2.6737967914438503,
            "bin_end": 6.23513247753876,
            "count": 1
           },
           {
            "bin_start": 6.23513247753876,
            "bin_end": 9.79646816363367,
            "count": 0
           },
           {
            "bin_start": 9.79646816363367,
            "bin_end": 13.357803849728578,
            "count": 0
           },
           {
            "bin_start": 13.357803849728578,
            "bin_end": 16.91913953582349,
            "count": 0
           },
           {
            "bin_start": 16.91913953582349,
            "bin_end": 20.480475221918397,
            "count": 0
           },
           {
            "bin_start": 20.480475221918397,
            "bin_end": 24.041810908013304,
            "count": 0
           },
           {
            "bin_start": 24.041810908013304,
            "bin_end": 27.603146594108217,
            "count": 0
           },
           {
            "bin_start": 27.603146594108217,
            "bin_end": 31.164482280203124,
            "count": 0
           },
           {
            "bin_start": 31.164482280203124,
            "bin_end": 34.72581796629803,
            "count": 0
           },
           {
            "bin_start": 34.72581796629803,
            "bin_end": 38.287153652392945,
            "count": 1
           }
          ]
         }
        },
        {
         "name": "High-income neighborhoods",
         "dtype": "float64",
         "stats": {
          "unique_count": 2,
          "nan_count": 0,
          "min": "1.6042780748663104",
          "max": "6.801007556675064",
          "histogram": [
           {
            "bin_start": 1.6042780748663104,
            "bin_end": 2.1239510230471854,
            "count": 1
           },
           {
            "bin_start": 2.1239510230471854,
            "bin_end": 2.643623971228061,
            "count": 0
           },
           {
            "bin_start": 2.643623971228061,
            "bin_end": 3.1632969194089364,
            "count": 0
           },
           {
            "bin_start": 3.1632969194089364,
            "bin_end": 3.6829698675898115,
            "count": 0
           },
           {
            "bin_start": 3.6829698675898115,
            "bin_end": 4.2026428157706865,
            "count": 0
           },
           {
            "bin_start": 4.2026428157706865,
            "bin_end": 4.722315763951562,
            "count": 0
           },
           {
            "bin_start": 4.722315763951562,
            "bin_end": 5.2419887121324376,
            "count": 0
           },
           {
            "bin_start": 5.2419887121324376,
            "bin_end": 5.761661660313313,
            "count": 0
           },
           {
            "bin_start": 5.761661660313313,
            "bin_end": 6.281334608494188,
            "count": 0
           },
           {
            "bin_start": 6.281334608494188,
            "bin_end": 6.801007556675064,
            "count": 1
           }
          ]
         }
        },
        {
         "name": "_deepnote_index_column",
         "dtype": "object"
        }
       ],
       "rows_top": [
        {
         "Low-income neighborhoods": 58.55614973262032,
         "Intermediate income neighborhoods": 37.16577540106952,
         "Neighborhoods outside the city Barcelona": 2.6737967914438503,
         "High-income neighborhoods": 1.6042780748663104,
         "_deepnote_index_column": "Ciutat Vella"
        },
        {
         "Low-income neighborhoods": 8.312342569269521,
         "Intermediate income neighborhoods": 46.59949622166247,
         "Neighborhoods outside the city Barcelona": 38.287153652392945,
         "High-income neighborhoods": 6.801007556675064,
         "_deepnote_index_column": "Les Corts"
        }
       ],
       "rows_bottom": null
      },
      "text/plain": "              Low-income neighborhoods  Intermediate income neighborhoods  \\\nCiutat Vella                 58.556150                          37.165775   \nLes Corts                     8.312343                          46.599496   \n\n              Neighborhoods outside the city Barcelona  \\\nCiutat Vella                                  2.673797   \nLes Corts                                    38.287154   \n\n              High-income neighborhoods  \nCiutat Vella                   1.604278  \nLes Corts                      6.801008  ",
      "text/html": "<div>\n<style scoped>\n    .dataframe tbody tr th:only-of-type {\n        vertical-align: middle;\n    }\n\n    .dataframe tbody tr th {\n        vertical-align: top;\n    }\n\n    .dataframe thead th {\n        text-align: right;\n    }\n</style>\n<table border=\"1\" class=\"dataframe\">\n  <thead>\n    <tr style=\"text-align: right;\">\n      <th></th>\n      <th>Low-income neighborhoods</th>\n      <th>Intermediate income neighborhoods</th>\n      <th>Neighborhoods outside the city Barcelona</th>\n      <th>High-income neighborhoods</th>\n    </tr>\n  </thead>\n  <tbody>\n    <tr>\n      <th>Ciutat Vella</th>\n      <td>58.556150</td>\n      <td>37.165775</td>\n      <td>2.673797</td>\n      <td>1.604278</td>\n    </tr>\n    <tr>\n      <th>Les Corts</th>\n      <td>8.312343</td>\n      <td>46.599496</td>\n      <td>38.287154</td>\n      <td>6.801008</td>\n    </tr>\n  </tbody>\n</table>\n</div>"
     },
     "metadata": {}
    }
   ]
  },
  {
   "cell_type": "markdown",
   "source": "Th stacked bars highlight a Clear incongurence. Rthe expactation would be that one district is descrived by one level, one color. And as a first look we can clearly see that we are not in front of a residual issue:\n> Ciutat Vella with  60% low income and almost 40% Intermdiate  \n> Les Corts marked in almost 40% of the cases as a neighborhood outside of Barcelona. Which is not.\n\nThe error comes from the aggregation of neighbourhoods to districts. Since we don't have the nieghborhoods in the data--set we can use an external source and calculate teh aggregated RFD index\n",
   "metadata": {
    "tags": [],
    "cell_id": "00016-448c2aea-c3f0-4ca7-8d89-827515f513c0",
    "deepnote_cell_type": "markdown"
   }
  },
  {
   "cell_type": "code",
   "metadata": {
    "tags": [],
    "cell_id": "00020-4d7d6c5e-b35d-4989-912f-ada671b7b9c4",
    "deepnote_to_be_reexecuted": false,
    "source_hash": "fb3c6f9f",
    "execution_start": 1620901579514,
    "execution_millis": 53,
    "output_cleared": false,
    "deepnote_cell_type": "code"
   },
   "source": "df_t.loc[:,['Nom_Districte_Educatiu','RFD-std','RFD-sem']].drop_duplicates(keep='first',inplace=False)",
   "execution_count": null,
   "outputs": [
    {
     "output_type": "execute_result",
     "execution_count": 10,
     "data": {
      "application/vnd.deepnote.dataframe.v2+json": {
       "row_count": 10,
       "column_count": 3,
       "columns": [
        {
         "name": "Nom_Districte_Educatiu",
         "dtype": "object",
         "stats": {
          "unique_count": 10,
          "nan_count": 0,
          "categories": [
           {
            "name": "Nou Barris",
            "count": 1
           },
           {
            "name": "Ciutat Vella",
            "count": 1
           },
           {
            "name": "8 others",
            "count": 8
           }
          ]
         }
        },
        {
         "name": "RFD-std",
         "dtype": "float64",
         "stats": {
          "unique_count": 10,
          "nan_count": 0,
          "min": "7.426261439941295",
          "max": "76.09231235808255",
          "histogram": [
           {
            "bin_start": 7.426261439941295,
            "bin_end": 14.29286653175542,
            "count": 4
           },
           {
            "bin_start": 14.29286653175542,
            "bin_end": 21.159471623569544,
            "count": 2
           },
           {
            "bin_start": 21.159471623569544,
            "bin_end": 28.02607671538367,
            "count": 0
           },
           {
            "bin_start": 28.02607671538367,
            "bin_end": 34.892681807197796,
            "count": 2
           },
           {
            "bin_start": 34.892681807197796,
            "bin_end": 41.75928689901192,
            "count": 1
           },
           {
            "bin_start": 41.75928689901192,
            "bin_end": 48.62589199082604,
            "count": 0
           },
           {
            "bin_start": 48.62589199082604,
            "bin_end": 55.49249708264017,
            "count": 0
           },
           {
            "bin_start": 55.49249708264017,
            "bin_end": 62.35910217445429,
            "count": 0
           },
           {
            "bin_start": 62.35910217445429,
            "bin_end": 69.22570726626842,
            "count": 0
           },
           {
            "bin_start": 69.22570726626842,
            "bin_end": 76.09231235808255,
            "count": 1
           }
          ]
         }
        },
        {
         "name": "RFD-sem",
         "dtype": "float64",
         "stats": {
          "unique_count": 10,
          "nan_count": 0,
          "min": "2.0596743389776444",
          "max": "43.93191702320005",
          "histogram": [
           {
            "bin_start": 2.0596743389776444,
            "bin_end": 6.246898607399885,
            "count": 4
           },
           {
            "bin_start": 6.246898607399885,
            "bin_end": 10.434122875822126,
            "count": 2
           },
           {
            "bin_start": 10.434122875822126,
            "bin_end": 14.621347144244364,
            "count": 3
           },
           {
            "bin_start": 14.621347144244364,
            "bin_end": 18.808571412666605,
            "count": 0
           },
           {
            "bin_start": 18.808571412666605,
            "bin_end": 22.995795681088847,
            "count": 0
           },
           {
            "bin_start": 22.995795681088847,
            "bin_end": 27.183019949511085,
            "count": 0
           },
           {
            "bin_start": 27.183019949511085,
            "bin_end": 31.370244217933326,
            "count": 0
           },
           {
            "bin_start": 31.370244217933326,
            "bin_end": 35.55746848635557,
            "count": 0
           },
           {
            "bin_start": 35.55746848635557,
            "bin_end": 39.74469275477781,
            "count": 0
           },
           {
            "bin_start": 39.74469275477781,
            "bin_end": 43.93191702320005,
            "count": 1
           }
          ]
         }
        },
        {
         "name": "_deepnote_index_column",
         "dtype": "int64"
        }
       ],
       "rows_top": [
        {
         "Nom_Districte_Educatiu": "Nou Barris",
         "RFD-std": 7.426261439941295,
         "RFD-sem": 2.0596743389776444,
         "_deepnote_index_column": 0
        },
        {
         "Nom_Districte_Educatiu": "Ciutat Vella",
         "RFD-std": 16.38848681239363,
         "RFD-sem": 8.194243406196815,
         "_deepnote_index_column": 41
        },
        {
         "Nom_Districte_Educatiu": "Sant Martí",
         "RFD-std": 35.919632514823974,
         "RFD-sem": 11.35878514630856,
         "_deepnote_index_column": 74
        },
        {
         "Nom_Districte_Educatiu": "Horta-Guinardó",
         "RFD-std": 11.81440569043495,
         "RFD-sem": 3.5621773451102237,
         "_deepnote_index_column": 222
        },
        {
         "Nom_Districte_Educatiu": "Sarrià-Sant Gervasi",
         "RFD-std": 28.884713373455288,
         "RFD-sem": 11.792134855251804,
         "_deepnote_index_column": 391
        },
        {
         "Nom_Districte_Educatiu": "Sants-Montjuïc",
         "RFD-std": 18.687352483889814,
         "RFD-sem": 6.606976831890879,
         "_deepnote_index_column": 603
        },
        {
         "Nom_Districte_Educatiu": "Sant Andreu",
         "RFD-std": 11.682852717510718,
         "RFD-sem": 4.415703270618357,
         "_deepnote_index_column": 923
        },
        {
         "Nom_Districte_Educatiu": "Les Corts",
         "RFD-std": 76.09231235808255,
         "RFD-sem": 43.93191702320005,
         "_deepnote_index_column": 1138
        },
        {
         "Nom_Districte_Educatiu": "Gràcia",
         "RFD-std": 9.988243088751895,
         "RFD-sem": 4.46687810444834,
         "_deepnote_index_column": 1435
        },
        {
         "Nom_Districte_Educatiu": "L'Eixample",
         "RFD-std": 29.11430347211945,
         "RFD-sem": 11.885864620538877,
         "_deepnote_index_column": 2212
        }
       ],
       "rows_bottom": null
      },
      "text/plain": "     Nom_Districte_Educatiu    RFD-std    RFD-sem\n0                Nou Barris   7.426261   2.059674\n41             Ciutat Vella  16.388487   8.194243\n74               Sant Martí  35.919633  11.358785\n222          Horta-Guinardó  11.814406   3.562177\n391     Sarrià-Sant Gervasi  28.884713  11.792135\n603          Sants-Montjuïc  18.687352   6.606977\n923             Sant Andreu  11.682853   4.415703\n1138              Les Corts  76.092312  43.931917\n1435                 Gràcia   9.988243   4.466878\n2212             L'Eixample  29.114303  11.885865",
      "text/html": "<div>\n<style scoped>\n    .dataframe tbody tr th:only-of-type {\n        vertical-align: middle;\n    }\n\n    .dataframe tbody tr th {\n        vertical-align: top;\n    }\n\n    .dataframe thead th {\n        text-align: right;\n    }\n</style>\n<table border=\"1\" class=\"dataframe\">\n  <thead>\n    <tr style=\"text-align: right;\">\n      <th></th>\n      <th>Nom_Districte_Educatiu</th>\n      <th>RFD-std</th>\n      <th>RFD-sem</th>\n    </tr>\n  </thead>\n  <tbody>\n    <tr>\n      <th>0</th>\n      <td>Nou Barris</td>\n      <td>7.426261</td>\n      <td>2.059674</td>\n    </tr>\n    <tr>\n      <th>41</th>\n      <td>Ciutat Vella</td>\n      <td>16.388487</td>\n      <td>8.194243</td>\n    </tr>\n    <tr>\n      <th>74</th>\n      <td>Sant Martí</td>\n      <td>35.919633</td>\n      <td>11.358785</td>\n    </tr>\n    <tr>\n      <th>222</th>\n      <td>Horta-Guinardó</td>\n      <td>11.814406</td>\n      <td>3.562177</td>\n    </tr>\n    <tr>\n      <th>391</th>\n      <td>Sarrià-Sant Gervasi</td>\n      <td>28.884713</td>\n      <td>11.792135</td>\n    </tr>\n    <tr>\n      <th>603</th>\n      <td>Sants-Montjuïc</td>\n      <td>18.687352</td>\n      <td>6.606977</td>\n    </tr>\n    <tr>\n      <th>923</th>\n      <td>Sant Andreu</td>\n      <td>11.682853</td>\n      <td>4.415703</td>\n    </tr>\n    <tr>\n      <th>1138</th>\n      <td>Les Corts</td>\n      <td>76.092312</td>\n      <td>43.931917</td>\n    </tr>\n    <tr>\n      <th>1435</th>\n      <td>Gràcia</td>\n      <td>9.988243</td>\n      <td>4.466878</td>\n    </tr>\n    <tr>\n      <th>2212</th>\n      <td>L'Eixample</td>\n      <td>29.114303</td>\n      <td>11.885865</td>\n    </tr>\n  </tbody>\n</table>\n</div>"
     },
     "metadata": {}
    }
   ]
  },
  {
   "cell_type": "code",
   "metadata": {
    "tags": [],
    "cell_id": "00017-f214ab16-7c19-418a-82c0-309e1b956e81",
    "deepnote_to_be_reexecuted": false,
    "source_hash": "b623e53d",
    "execution_start": 1620901579565,
    "execution_millis": 3,
    "deepnote_cell_type": "code"
   },
   "source": "",
   "execution_count": null,
   "outputs": []
  },
  {
   "cell_type": "code",
   "metadata": {
    "tags": [],
    "cell_id": "00021-c597805d-b0de-47c0-8888-6870fa6b1345",
    "deepnote_to_be_reexecuted": false,
    "source_hash": "41c00da9",
    "execution_start": 1620901579625,
    "execution_millis": 870,
    "deepnote_cell_type": "code"
   },
   "source": "# RFD index TEST 1:\nix_sem = 'RFD-sem'\nix_sw = 'RFD-sumw'\ndf_RFD = df_t.loc[:,[dist_name, ix_sw, ix_std, ix_sem,'Població']].drop_duplicates(keep='first',inplace=False).sort_values(by=[ix_sw])\n\nfig, ax1 = plt.subplots(figsize=(14,8))\nax1.barh(df_RFD[dist_name], df_RFD['Població'], color=colors[1])\nax1.tick_params(labelsize=14, pad=6)\nax1.set_xlim([0,300000])\n\n# Creating a secondary axis and plotting population\nax2 = ax1.twiny()\nax2.scatter(y=df_RFD[dist_name], x= df_RFD[ix_sw], color=colors[2], s=150, marker=\"o\")\nax2.errorbar(y=df_RFD[dist_name], x= df_RFD[ix_sw], xerr=df_RFD[ix_sem], linestyle=\"None\", color=colors[2])\nax2.set_xlim([0,255])\nax2.tick_params(labelsize=14, pad=6)\n\ncorts = df_inc.loc[df_inc.Nom_Districte == 'Les Corts'].loc[:,['Nom_Districte', 'Índex RFD Barcelona = 100']]\nax2.scatter(y=corts['Nom_Districte'], x= corts['Índex RFD Barcelona = 100'], color=colors[3], s=70, marker=\"x\")\n\nax1.set_xlabel('Population', size=16, labelpad = 12, color=colors[1], fontweight =\"bold\")\nax2.set_xlabel('RFD Index - Neighbourhoods weigthed mean', size=16, labelpad = 12, color=colors[2], fontweight =\"bold\")\n# plt.title('RFD Index by District', fontsize=20, y=1.15)\nplt.tight_layout()\nplt.show()",
   "execution_count": null,
   "outputs": [
    {
     "data": {
      "text/plain": "<Figure size 1008x576 with 2 Axes>",
      "image/png": "[encoded data removed]"
     },
     "metadata": {
      "image/png": {
       "width": 996,
       "height": 564
      }
     },
     "output_type": "display_data"
    }
   ]
  },
  {
   "cell_type": "markdown",
   "source": "Les Corts - deviation coming from small number of neighborhoods very different between them: Pedralbes vs La Maternitat and Les corts (barri) ",
   "metadata": {
    "tags": [],
    "cell_id": "00020-cf61f6d0-325a-453c-aedc-00ce54fac321",
    "deepnote_cell_type": "markdown"
   }
  },
  {
   "cell_type": "code",
   "metadata": {
    "tags": [],
    "cell_id": "00021-7bbbf206-a6bb-46fe-9981-49fd6687f140",
    "deepnote_to_be_reexecuted": false,
    "source_hash": "a39fdd8e",
    "execution_start": 1620901580503,
    "execution_millis": 52,
    "deepnote_cell_type": "code"
   },
   "source": "corts = df_inc.loc[df_inc.Nom_Districte == 'Les Corts'].loc[:,['Nom_Districte', 'Nom_Barri','Població', 'Índex RFD Barcelona = 100']]\ncorts",
   "execution_count": null,
   "outputs": [
    {
     "output_type": "execute_result",
     "execution_count": 12,
     "data": {
      "application/vnd.deepnote.dataframe.v2+json": {
       "row_count": 3,
       "column_count": 4,
       "columns": [
        {
         "name": "Nom_Districte",
         "dtype": "object",
         "stats": {
          "unique_count": 1,
          "nan_count": 0,
          "categories": [
           {
            "name": "Les Corts",
            "count": 3
           }
          ]
         }
        },
        {
         "name": "Nom_Barri",
         "dtype": "object",
         "stats": {
          "unique_count": 3,
          "nan_count": 0,
          "categories": [
           {
            "name": "les Corts",
            "count": 1
           },
           {
            "name": "la Maternitat i Sant Ramon",
            "count": 1
           },
           {
            "name": "Pedralbes",
            "count": 1
           }
          ]
         }
        },
        {
         "name": "Població",
         "dtype": "int64",
         "stats": {
          "unique_count": 3,
          "nan_count": 0,
          "min": "12117",
          "max": "46104",
          "histogram": [
           {
            "bin_start": 12117,
            "bin_end": 15515.7,
            "count": 1
           },
           {
            "bin_start": 15515.7,
            "bin_end": 18914.4,
            "count": 0
           },
           {
            "bin_start": 18914.4,
            "bin_end": 22313.1,
            "count": 0
           },
           {
            "bin_start": 22313.1,
            "bin_end": 25711.8,
            "count": 1
           },
           {
            "bin_start": 25711.8,
            "bin_end": 29110.5,
            "count": 0
           },
           {
            "bin_start": 29110.5,
            "bin_end": 32509.199999999997,
            "count": 0
           },
           {
            "bin_start": 32509.199999999997,
            "bin_end": 35907.899999999994,
            "count": 0
           },
           {
            "bin_start": 35907.899999999994,
            "bin_end": 39306.6,
            "count": 0
           },
           {
            "bin_start": 39306.6,
            "bin_end": 42705.3,
            "count": 0
           },
           {
            "bin_start": 42705.3,
            "bin_end": 46104,
            "count": 1
           }
          ]
         }
        },
        {
         "name": "Índex RFD Barcelona = 100",
         "dtype": "float64",
         "stats": {
          "unique_count": 3,
          "nan_count": 0,
          "min": "114.2",
          "max": "248.8",
          "histogram": [
           {
            "bin_start": 114.2,
            "bin_end": 127.66000000000001,
            "count": 2
           },
           {
            "bin_start": 127.66000000000001,
            "bin_end": 141.12,
            "count": 0
           },
           {
            "bin_start": 141.12,
            "bin_end": 154.58,
            "count": 0
           },
           {
            "bin_start": 154.58,
            "bin_end": 168.04000000000002,
            "count": 0
           },
           {
            "bin_start": 168.04000000000002,
            "bin_end": 181.5,
            "count": 0
           },
           {
            "bin_start": 181.5,
            "bin_end": 194.96000000000004,
            "count": 0
           },
           {
            "bin_start": 194.96000000000004,
            "bin_end": 208.42000000000002,
            "count": 0
           },
           {
            "bin_start": 208.42000000000002,
            "bin_end": 221.88000000000002,
            "count": 0
           },
           {
            "bin_start": 221.88000000000002,
            "bin_end": 235.34000000000003,
            "count": 0
           },
           {
            "bin_start": 235.34000000000003,
            "bin_end": 248.8,
            "count": 1
           }
          ]
         }
        },
        {
         "name": "_deepnote_index_column",
         "dtype": "int64"
        }
       ],
       "rows_top": [
        {
         "Nom_Districte": "Les Corts",
         "Nom_Barri": "les Corts",
         "Població": 46104,
         "Índex RFD Barcelona = 100": 120,
         "_deepnote_index_column": 18
        },
        {
         "Nom_Districte": "Les Corts",
         "Nom_Barri": "la Maternitat i Sant Ramon",
         "Població": 23980,
         "Índex RFD Barcelona = 100": 114.2,
         "_deepnote_index_column": 19
        },
        {
         "Nom_Districte": "Les Corts",
         "Nom_Barri": "Pedralbes",
         "Població": 12117,
         "Índex RFD Barcelona = 100": 248.8,
         "_deepnote_index_column": 20
        }
       ],
       "rows_bottom": null
      },
      "text/plain": "   Nom_Districte                   Nom_Barri  Població  \\\n18     Les Corts                   les Corts     46104   \n19     Les Corts  la Maternitat i Sant Ramon     23980   \n20     Les Corts                   Pedralbes     12117   \n\n    Índex RFD Barcelona = 100  \n18                      120.0  \n19                      114.2  \n20                      248.8  ",
      "text/html": "<div>\n<style scoped>\n    .dataframe tbody tr th:only-of-type {\n        vertical-align: middle;\n    }\n\n    .dataframe tbody tr th {\n        vertical-align: top;\n    }\n\n    .dataframe thead th {\n        text-align: right;\n    }\n</style>\n<table border=\"1\" class=\"dataframe\">\n  <thead>\n    <tr style=\"text-align: right;\">\n      <th></th>\n      <th>Nom_Districte</th>\n      <th>Nom_Barri</th>\n      <th>Població</th>\n      <th>Índex RFD Barcelona = 100</th>\n    </tr>\n  </thead>\n  <tbody>\n    <tr>\n      <th>18</th>\n      <td>Les Corts</td>\n      <td>les Corts</td>\n      <td>46104</td>\n      <td>120.0</td>\n    </tr>\n    <tr>\n      <th>19</th>\n      <td>Les Corts</td>\n      <td>la Maternitat i Sant Ramon</td>\n      <td>23980</td>\n      <td>114.2</td>\n    </tr>\n    <tr>\n      <th>20</th>\n      <td>Les Corts</td>\n      <td>Pedralbes</td>\n      <td>12117</td>\n      <td>248.8</td>\n    </tr>\n  </tbody>\n</table>\n</div>"
     },
     "metadata": {}
    }
   ]
  },
  {
   "cell_type": "markdown",
   "source": "How to create divisons?",
   "metadata": {
    "tags": [],
    "cell_id": "00025-e212fa4d-d04b-4d4d-8cce-e3a9b7815692",
    "deepnote_cell_type": "markdown"
   }
  },
  {
   "cell_type": "code",
   "metadata": {
    "tags": [],
    "cell_id": "00024-7844f6ef-06fb-4d96-90e1-e51060cc020d",
    "deepnote_to_be_reexecuted": false,
    "source_hash": "287139ae",
    "execution_start": 1620901580553,
    "execution_millis": 1531,
    "deepnote_cell_type": "code"
   },
   "source": "#------------------------------------------------------------------------\n# CLUSTERING TESTS \n\n# >> 1 . Mean and STD\nfrom sklearn.cluster import KMeans\n\nX = df_RFD.loc[:,[dist_name, ix_var, ix_std,]].set_index(dist_name)\nX_norm = (X - np.mean(X))/np.std(X) # should it be standardized?\nX_norm.describe()",
   "execution_count": null,
   "outputs": [
    {
     "output_type": "error",
     "ename": "NameError",
     "evalue": "name 'ix_var' is not defined",
     "traceback": [
      "\u001b[0;31m---------------------------------------------------------------------------\u001b[0m",
      "\u001b[0;31mNameError\u001b[0m                                 Traceback (most recent call last)",
      "\u001b[0;32m<ipython-input-13-f9515dd530ce>\u001b[0m in \u001b[0;36m<module>\u001b[0;34m\u001b[0m\n\u001b[1;32m      5\u001b[0m \u001b[0;32mfrom\u001b[0m \u001b[0msklearn\u001b[0m\u001b[0;34m.\u001b[0m\u001b[0mcluster\u001b[0m \u001b[0;32mimport\u001b[0m \u001b[0mKMeans\u001b[0m\u001b[0;34m\u001b[0m\u001b[0;34m\u001b[0m\u001b[0m\n\u001b[1;32m      6\u001b[0m \u001b[0;34m\u001b[0m\u001b[0m\n\u001b[0;32m----> 7\u001b[0;31m \u001b[0mX\u001b[0m \u001b[0;34m=\u001b[0m \u001b[0mdf_RFD\u001b[0m\u001b[0;34m.\u001b[0m\u001b[0mloc\u001b[0m\u001b[0;34m[\u001b[0m\u001b[0;34m:\u001b[0m\u001b[0;34m,\u001b[0m\u001b[0;34m[\u001b[0m\u001b[0mdist_name\u001b[0m\u001b[0;34m,\u001b[0m \u001b[0mix_var\u001b[0m\u001b[0;34m,\u001b[0m \u001b[0mix_std\u001b[0m\u001b[0;34m,\u001b[0m\u001b[0;34m]\u001b[0m\u001b[0;34m]\u001b[0m\u001b[0;34m.\u001b[0m\u001b[0mset_index\u001b[0m\u001b[0;34m(\u001b[0m\u001b[0mdist_name\u001b[0m\u001b[0;34m)\u001b[0m\u001b[0;34m\u001b[0m\u001b[0;34m\u001b[0m\u001b[0m\n\u001b[0m\u001b[1;32m      8\u001b[0m \u001b[0mX_norm\u001b[0m \u001b[0;34m=\u001b[0m \u001b[0;34m(\u001b[0m\u001b[0mX\u001b[0m \u001b[0;34m-\u001b[0m \u001b[0mnp\u001b[0m\u001b[0;34m.\u001b[0m\u001b[0mmean\u001b[0m\u001b[0;34m(\u001b[0m\u001b[0mX\u001b[0m\u001b[0;34m)\u001b[0m\u001b[0;34m)\u001b[0m\u001b[0;34m/\u001b[0m\u001b[0mnp\u001b[0m\u001b[0;34m.\u001b[0m\u001b[0mstd\u001b[0m\u001b[0;34m(\u001b[0m\u001b[0mX\u001b[0m\u001b[0;34m)\u001b[0m \u001b[0;31m# should it be standardized?\u001b[0m\u001b[0;34m\u001b[0m\u001b[0;34m\u001b[0m\u001b[0m\n\u001b[1;32m      9\u001b[0m \u001b[0mX_norm\u001b[0m\u001b[0;34m.\u001b[0m\u001b[0mdescribe\u001b[0m\u001b[0;34m(\u001b[0m\u001b[0;34m)\u001b[0m\u001b[0;34m\u001b[0m\u001b[0;34m\u001b[0m\u001b[0m\n",
      "\u001b[0;31mNameError\u001b[0m: name 'ix_var' is not defined"
     ]
    }
   ]
  },
  {
   "cell_type": "code",
   "metadata": {
    "tags": [],
    "cell_id": "00025-16d6f580-0b74-42dc-83cf-0b038a0b27d8",
    "deepnote_to_be_reexecuted": true,
    "source_hash": "b1bc0363",
    "execution_start": 1620813566957,
    "execution_millis": 31,
    "deepnote_cell_type": "code"
   },
   "source": "K = 3\nk = KMeans(K, init = 'k-means++', random_state = 1)\nk.fit(X_norm)\nX_norm['k3_means_cluster'] = k.fit_predict(X_norm)\n# X_norm['k3_means_cluster'] = X_norm['k3_means_cluster'] + 1",
   "execution_count": null,
   "outputs": []
  },
  {
   "cell_type": "code",
   "metadata": {
    "tags": [],
    "cell_id": "00026-b31b070f-7f2a-4cd5-901d-61ec313fdbfb",
    "deepnote_to_be_reexecuted": true,
    "source_hash": "859aa427",
    "execution_start": 1620813567007,
    "execution_millis": 23,
    "deepnote_cell_type": "code"
   },
   "source": "X['k3_cluster'] = X_norm.k3_means_cluster\nX.groupby('k3_cluster').mean().sort_values('RFD-mean').round(2)",
   "execution_count": null,
   "outputs": [
    {
     "output_type": "execute_result",
     "execution_count": 18,
     "data": {
      "application/vnd.deepnote.dataframe.v2+json": {
       "row_count": 3,
       "column_count": 2,
       "columns": [
        {
         "name": "RFD-mean",
         "dtype": "float64",
         "stats": {
          "unique_count": 3,
          "nan_count": 0,
          "min": "79.39",
          "max": "161.0",
          "histogram": [
           {
            "bin_start": 79.39,
            "bin_end": 87.551,
            "count": 1
           },
           {
            "bin_start": 87.551,
            "bin_end": 95.712,
            "count": 0
           },
           {
            "bin_start": 95.712,
            "bin_end": 103.87299999999999,
            "count": 0
           },
           {
            "bin_start": 103.87299999999999,
            "bin_end": 112.03399999999999,
            "count": 0
           },
           {
            "bin_start": 112.03399999999999,
            "bin_end": 120.195,
            "count": 0
           },
           {
            "bin_start": 120.195,
            "bin_end": 128.356,
            "count": 0
           },
           {
            "bin_start": 128.356,
            "bin_end": 136.517,
            "count": 1
           },
           {
            "bin_start": 136.517,
            "bin_end": 144.678,
            "count": 0
           },
           {
            "bin_start": 144.678,
            "bin_end": 152.839,
            "count": 0
           },
           {
            "bin_start": 152.839,
            "bin_end": 161,
            "count": 1
           }
          ]
         }
        },
        {
         "name": "RFD-std",
         "dtype": "float64",
         "stats": {
          "unique_count": 3,
          "nan_count": 0,
          "min": "12.66",
          "max": "76.09",
          "histogram": [
           {
            "bin_start": 12.66,
            "bin_end": 19.003,
            "count": 1
           },
           {
            "bin_start": 19.003,
            "bin_end": 25.346000000000004,
            "count": 0
           },
           {
            "bin_start": 25.346000000000004,
            "bin_end": 31.689000000000004,
            "count": 1
           },
           {
            "bin_start": 31.689000000000004,
            "bin_end": 38.032000000000004,
            "count": 0
           },
           {
            "bin_start": 38.032000000000004,
            "bin_end": 44.375,
            "count": 0
           },
           {
            "bin_start": 44.375,
            "bin_end": 50.718,
            "count": 0
           },
           {
            "bin_start": 50.718,
            "bin_end": 57.06100000000001,
            "count": 0
           },
           {
            "bin_start": 57.06100000000001,
            "bin_end": 63.40400000000001,
            "count": 0
           },
           {
            "bin_start": 63.40400000000001,
            "bin_end": 69.74700000000001,
            "count": 0
           },
           {
            "bin_start": 69.74700000000001,
            "bin_end": 76.09,
            "count": 1
           }
          ]
         }
        },
        {
         "name": "_deepnote_index_column",
         "dtype": "int64"
        }
       ],
       "rows_top": [
        {
         "RFD-mean": 79.39,
         "RFD-std": 12.66,
         "_deepnote_index_column": 1
        },
        {
         "RFD-mean": 132.82,
         "RFD-std": 31.31,
         "_deepnote_index_column": 0
        },
        {
         "RFD-mean": 161,
         "RFD-std": 76.09,
         "_deepnote_index_column": 2
        }
       ],
       "rows_bottom": null
      },
      "text/plain": "            RFD-mean  RFD-std\nk3_cluster                   \n1              79.39    12.66\n0             132.82    31.31\n2             161.00    76.09",
      "text/html": "<div>\n<style scoped>\n    .dataframe tbody tr th:only-of-type {\n        vertical-align: middle;\n    }\n\n    .dataframe tbody tr th {\n        vertical-align: top;\n    }\n\n    .dataframe thead th {\n        text-align: right;\n    }\n</style>\n<table border=\"1\" class=\"dataframe\">\n  <thead>\n    <tr style=\"text-align: right;\">\n      <th></th>\n      <th>RFD-mean</th>\n      <th>RFD-std</th>\n    </tr>\n    <tr>\n      <th>k3_cluster</th>\n      <th></th>\n      <th></th>\n    </tr>\n  </thead>\n  <tbody>\n    <tr>\n      <th>1</th>\n      <td>79.39</td>\n      <td>12.66</td>\n    </tr>\n    <tr>\n      <th>0</th>\n      <td>132.82</td>\n      <td>31.31</td>\n    </tr>\n    <tr>\n      <th>2</th>\n      <td>161.00</td>\n      <td>76.09</td>\n    </tr>\n  </tbody>\n</table>\n</div>"
     },
     "metadata": {}
    }
   ]
  },
  {
   "cell_type": "code",
   "metadata": {
    "tags": [],
    "cell_id": "00027-f80ed210-35d6-4d1e-bbe3-9a7397191080",
    "deepnote_to_be_reexecuted": true,
    "source_hash": "8b1f6264",
    "execution_start": 1620813567024,
    "execution_millis": 50,
    "deepnote_cell_type": "code"
   },
   "source": "X = X.reset_index().sort_values('RFD-mean')\nX",
   "execution_count": null,
   "outputs": [
    {
     "output_type": "execute_result",
     "execution_count": 19,
     "data": {
      "application/vnd.deepnote.dataframe.v2+json": {
       "row_count": 10,
       "column_count": 4,
       "columns": [
        {
         "name": "Nom_Districte_Educatiu",
         "dtype": "object",
         "stats": {
          "unique_count": 10,
          "nan_count": 0,
          "categories": [
           {
            "name": "Nou Barris",
            "count": 1
           },
           {
            "name": "Sant Andreu",
            "count": 1
           },
           {
            "name": "8 others",
            "count": 8
           }
          ]
         }
        },
        {
         "name": "RFD-mean",
         "dtype": "float64",
         "stats": {
          "unique_count": 10,
          "nan_count": 0,
          "min": "51.44615384615384",
          "max": "179.13333333333333",
          "histogram": [
           {
            "bin_start": 51.44615384615384,
            "bin_end": 64.21487179487178,
            "count": 1
           },
           {
            "bin_start": 64.21487179487178,
            "bin_end": 76.98358974358973,
            "count": 1
           },
           {
            "bin_start": 76.98358974358973,
            "bin_end": 89.75230769230768,
            "count": 3
           },
           {
            "bin_start": 89.75230769230768,
            "bin_end": 102.52102564102563,
            "count": 1
           },
           {
            "bin_start": 102.52102564102563,
            "bin_end": 115.28974358974358,
            "count": 1
           },
           {
            "bin_start": 115.28974358974358,
            "bin_end": 128.05846153846153,
            "count": 1
           },
           {
            "bin_start": 128.05846153846153,
            "bin_end": 140.82717948717948,
            "count": 0
           },
           {
            "bin_start": 140.82717948717948,
            "bin_end": 153.59589743589743,
            "count": 0
           },
           {
            "bin_start": 153.59589743589743,
            "bin_end": 166.36461538461538,
            "count": 1
           },
           {
            "bin_start": 166.36461538461538,
            "bin_end": 179.13333333333333,
            "count": 1
           }
          ]
         }
        },
        {
         "name": "RFD-std",
         "dtype": "float64",
         "stats": {
          "unique_count": 10,
          "nan_count": 0,
          "min": "7.426261439941295",
          "max": "76.09231235808255",
          "histogram": [
           {
            "bin_start": 7.426261439941295,
            "bin_end": 14.29286653175542,
            "count": 4
           },
           {
            "bin_start": 14.29286653175542,
            "bin_end": 21.159471623569544,
            "count": 2
           },
           {
            "bin_start": 21.159471623569544,
            "bin_end": 28.02607671538367,
            "count": 0
           },
           {
            "bin_start": 28.02607671538367,
            "bin_end": 34.892681807197796,
            "count": 2
           },
           {
            "bin_start": 34.892681807197796,
            "bin_end": 41.75928689901192,
            "count": 1
           },
           {
            "bin_start": 41.75928689901192,
            "bin_end": 48.62589199082604,
            "count": 0
           },
           {
            "bin_start": 48.62589199082604,
            "bin_end": 55.49249708264017,
            "count": 0
           },
           {
            "bin_start": 55.49249708264017,
            "bin_end": 62.35910217445429,
            "count": 0
           },
           {
            "bin_start": 62.35910217445429,
            "bin_end": 69.22570726626842,
            "count": 0
           },
           {
            "bin_start": 69.22570726626842,
            "bin_end": 76.09231235808255,
            "count": 1
           }
          ]
         }
        },
        {
         "name": "k3_cluster",
         "dtype": "int32",
         "stats": {
          "unique_count": 3,
          "nan_count": 0,
          "min": "0",
          "max": "2",
          "histogram": [
           {
            "bin_start": 0,
            "bin_end": 0.2,
            "count": 3
           },
           {
            "bin_start": 0.2,
            "bin_end": 0.4,
            "count": 0
           },
           {
            "bin_start": 0.4,
            "bin_end": 0.6000000000000001,
            "count": 0
           },
           {
            "bin_start": 0.6000000000000001,
            "bin_end": 0.8,
            "count": 0
           },
           {
            "bin_start": 0.8,
            "bin_end": 1,
            "count": 0
           },
           {
            "bin_start": 1,
            "bin_end": 1.2000000000000002,
            "count": 6
           },
           {
            "bin_start": 1.2000000000000002,
            "bin_end": 1.4000000000000001,
            "count": 0
           },
           {
            "bin_start": 1.4000000000000001,
            "bin_end": 1.6,
            "count": 0
           },
           {
            "bin_start": 1.6,
            "bin_end": 1.8,
            "count": 0
           },
           {
            "bin_start": 1.8,
            "bin_end": 2,
            "count": 1
           }
          ]
         }
        },
        {
         "name": "_deepnote_index_column",
         "dtype": "int64"
        }
       ],
       "rows_top": [
        {
         "Nom_Districte_Educatiu": "Nou Barris",
         "RFD-mean": 51.44615384615384,
         "RFD-std": 7.426261439941295,
         "k3_cluster": 1,
         "_deepnote_index_column": 0
        },
        {
         "Nom_Districte_Educatiu": "Sant Andreu",
         "RFD-mean": 70.37142857142858,
         "RFD-std": 11.682852717510718,
         "k3_cluster": 1,
         "_deepnote_index_column": 1
        },
        {
         "Nom_Districte_Educatiu": "Sants-Montjuïc",
         "RFD-mean": 79.05,
         "RFD-std": 18.687352483889814,
         "k3_cluster": 1,
         "_deepnote_index_column": 2
        },
        {
         "Nom_Districte_Educatiu": "Horta-Guinardó",
         "RFD-mean": 82.52727272727272,
         "RFD-std": 11.81440569043495,
         "k3_cluster": 1,
         "_deepnote_index_column": 3
        },
        {
         "Nom_Districte_Educatiu": "Ciutat Vella",
         "RFD-mean": 89.07499999999999,
         "RFD-std": 16.38848681239363,
         "k3_cluster": 1,
         "_deepnote_index_column": 4
        },
        {
         "Nom_Districte_Educatiu": "Sant Martí",
         "RFD-mean": 96.7,
         "RFD-std": 35.919632514823974,
         "k3_cluster": 0,
         "_deepnote_index_column": 5
        },
        {
         "Nom_Districte_Educatiu": "Gràcia",
         "RFD-mean": 103.9,
         "RFD-std": 9.988243088751895,
         "k3_cluster": 1,
         "_deepnote_index_column": 6
        },
        {
         "Nom_Districte_Educatiu": "L'Eixample",
         "RFD-mean": 122.63333333333337,
         "RFD-std": 29.11430347211945,
         "k3_cluster": 0,
         "_deepnote_index_column": 7
        },
        {
         "Nom_Districte_Educatiu": "Les Corts",
         "RFD-mean": 161,
         "RFD-std": 76.09231235808255,
         "k3_cluster": 2,
         "_deepnote_index_column": 8
        },
        {
         "Nom_Districte_Educatiu": "Sarrià-Sant Gervasi",
         "RFD-mean": 179.13333333333333,
         "RFD-std": 28.884713373455288,
         "k3_cluster": 0,
         "_deepnote_index_column": 9
        }
       ],
       "rows_bottom": null
      },
      "text/plain": "  Nom_Districte_Educatiu    RFD-mean    RFD-std  k3_cluster\n0             Nou Barris   51.446154   7.426261           1\n1            Sant Andreu   70.371429  11.682853           1\n2         Sants-Montjuïc   79.050000  18.687352           1\n3         Horta-Guinardó   82.527273  11.814406           1\n4           Ciutat Vella   89.075000  16.388487           1\n5             Sant Martí   96.700000  35.919633           0\n6                 Gràcia  103.900000   9.988243           1\n7             L'Eixample  122.633333  29.114303           0\n8              Les Corts  161.000000  76.092312           2\n9    Sarrià-Sant Gervasi  179.133333  28.884713           0",
      "text/html": "<div>\n<style scoped>\n    .dataframe tbody tr th:only-of-type {\n        vertical-align: middle;\n    }\n\n    .dataframe tbody tr th {\n        vertical-align: top;\n    }\n\n    .dataframe thead th {\n        text-align: right;\n    }\n</style>\n<table border=\"1\" class=\"dataframe\">\n  <thead>\n    <tr style=\"text-align: right;\">\n      <th></th>\n      <th>Nom_Districte_Educatiu</th>\n      <th>RFD-mean</th>\n      <th>RFD-std</th>\n      <th>k3_cluster</th>\n    </tr>\n  </thead>\n  <tbody>\n    <tr>\n      <th>0</th>\n      <td>Nou Barris</td>\n      <td>51.446154</td>\n      <td>7.426261</td>\n      <td>1</td>\n    </tr>\n    <tr>\n      <th>1</th>\n      <td>Sant Andreu</td>\n      <td>70.371429</td>\n      <td>11.682853</td>\n      <td>1</td>\n    </tr>\n    <tr>\n      <th>2</th>\n      <td>Sants-Montjuïc</td>\n      <td>79.050000</td>\n      <td>18.687352</td>\n      <td>1</td>\n    </tr>\n    <tr>\n      <th>3</th>\n      <td>Horta-Guinardó</td>\n      <td>82.527273</td>\n      <td>11.814406</td>\n      <td>1</td>\n    </tr>\n    <tr>\n      <th>4</th>\n      <td>Ciutat Vella</td>\n      <td>89.075000</td>\n      <td>16.388487</td>\n      <td>1</td>\n    </tr>\n    <tr>\n      <th>5</th>\n      <td>Sant Martí</td>\n      <td>96.700000</td>\n      <td>35.919633</td>\n      <td>0</td>\n    </tr>\n    <tr>\n      <th>6</th>\n      <td>Gràcia</td>\n      <td>103.900000</td>\n      <td>9.988243</td>\n      <td>1</td>\n    </tr>\n    <tr>\n      <th>7</th>\n      <td>L'Eixample</td>\n      <td>122.633333</td>\n      <td>29.114303</td>\n      <td>0</td>\n    </tr>\n    <tr>\n      <th>8</th>\n      <td>Les Corts</td>\n      <td>161.000000</td>\n      <td>76.092312</td>\n      <td>2</td>\n    </tr>\n    <tr>\n      <th>9</th>\n      <td>Sarrià-Sant Gervasi</td>\n      <td>179.133333</td>\n      <td>28.884713</td>\n      <td>0</td>\n    </tr>\n  </tbody>\n</table>\n</div>"
     },
     "metadata": {}
    }
   ]
  },
  {
   "cell_type": "code",
   "metadata": {
    "tags": [],
    "cell_id": "00028-3bd1715a-4393-4a1c-a91f-2f0676186f7f",
    "deepnote_to_be_reexecuted": true,
    "source_hash": "317aeb7",
    "execution_start": 1620813567051,
    "execution_millis": 240,
    "deepnote_cell_type": "code"
   },
   "source": "fig, ax1 = plt.subplots(figsize=(14,8))\ncdict= {0:'b',1:'g',3:'r'}\nax1.scatter(y=X[dist_name], x= X[ix_var], c = X['k3_cluster'], s=150, marker=\"o\")\nax1.errorbar(y=X[dist_name], x= X[ix_var], xerr=X[ix_std],linestyle=\"None\")\nplt.show()",
   "execution_count": null,
   "outputs": [
    {
     "data": {
      "text/plain": "<Figure size 1008x576 with 1 Axes>",
      "image/png": "[encoded data removed]"
     },
     "metadata": {
      "image/png": {
       "width": 912,
       "height": 468
      }
     },
     "output_type": "display_data"
    }
   ]
  },
  {
   "cell_type": "code",
   "metadata": {
    "tags": [],
    "cell_id": "00029-981992da-0060-41c0-8b3b-4e160e4b3f6c",
    "deepnote_to_be_reexecuted": true,
    "source_hash": "b623e53d",
    "execution_start": 1620850669525,
    "execution_millis": 3,
    "deepnote_cell_type": "code"
   },
   "source": "",
   "execution_count": null,
   "outputs": []
  },
  {
   "cell_type": "code",
   "metadata": {
    "tags": [],
    "cell_id": "00024-f6beaef1-a7bb-4fe8-b5bc-5e04755a4f4d",
    "deepnote_to_be_reexecuted": true,
    "source_hash": "52fdfa50",
    "execution_start": 1620813567277,
    "execution_millis": 201,
    "deepnote_cell_type": "code"
   },
   "source": "# >> 2 - Clustering with POPULATION AND RFD\nX = df_RFD.loc[:,[dist_name, ix_var, ix_std,'Population']].set_index(dist_name)\nX.corr()",
   "execution_count": null,
   "outputs": [
    {
     "output_type": "error",
     "ename": "KeyError",
     "evalue": "\"Passing list-likes to .loc or [] with any missing labels is no longer supported. The following labels were missing: Index(['Population'], dtype='object'). See https://pandas.pydata.org/pandas-docs/stable/user_guide/indexing.html#deprecate-loc-reindex-listlike\"",
     "traceback": [
      "\u001b[0;31m---------------------------------------------------------------------------\u001b[0m",
      "\u001b[0;31mKeyError\u001b[0m                                  Traceback (most recent call last)",
      "\u001b[0;32m<ipython-input-21-ddcea09f1e44>\u001b[0m in \u001b[0;36m<module>\u001b[0;34m\u001b[0m\n\u001b[1;32m      1\u001b[0m \u001b[0;31m# >> 2 - Clustering with POPULATION AND RFD\u001b[0m\u001b[0;34m\u001b[0m\u001b[0;34m\u001b[0m\u001b[0;34m\u001b[0m\u001b[0m\n\u001b[0;32m----> 2\u001b[0;31m \u001b[0mX\u001b[0m \u001b[0;34m=\u001b[0m \u001b[0mdf_RFD\u001b[0m\u001b[0;34m.\u001b[0m\u001b[0mloc\u001b[0m\u001b[0;34m[\u001b[0m\u001b[0;34m:\u001b[0m\u001b[0;34m,\u001b[0m\u001b[0;34m[\u001b[0m\u001b[0mdist_name\u001b[0m\u001b[0;34m,\u001b[0m \u001b[0mix_var\u001b[0m\u001b[0;34m,\u001b[0m \u001b[0mix_std\u001b[0m\u001b[0;34m,\u001b[0m\u001b[0;34m'Population'\u001b[0m\u001b[0;34m]\u001b[0m\u001b[0;34m]\u001b[0m\u001b[0;34m.\u001b[0m\u001b[0mset_index\u001b[0m\u001b[0;34m(\u001b[0m\u001b[0mdist_name\u001b[0m\u001b[0;34m)\u001b[0m\u001b[0;34m\u001b[0m\u001b[0;34m\u001b[0m\u001b[0m\n\u001b[0m\u001b[1;32m      3\u001b[0m \u001b[0mX\u001b[0m\u001b[0;34m.\u001b[0m\u001b[0mcorr\u001b[0m\u001b[0;34m(\u001b[0m\u001b[0;34m)\u001b[0m\u001b[0;34m\u001b[0m\u001b[0;34m\u001b[0m\u001b[0m\n",
      "\u001b[0;32m/shared-libs/python3.7/py/lib/python3.7/site-packages/pandas/core/indexing.py\u001b[0m in \u001b[0;36m__getitem__\u001b[0;34m(self, key)\u001b[0m\n\u001b[1;32m    887\u001b[0m                     \u001b[0;31m# AttributeError for IntervalTree get_value\u001b[0m\u001b[0;34m\u001b[0m\u001b[0;34m\u001b[0m\u001b[0;34m\u001b[0m\u001b[0m\n\u001b[1;32m    888\u001b[0m                     \u001b[0;32mreturn\u001b[0m \u001b[0mself\u001b[0m\u001b[0;34m.\u001b[0m\u001b[0mobj\u001b[0m\u001b[0;34m.\u001b[0m\u001b[0m_get_value\u001b[0m\u001b[0;34m(\u001b[0m\u001b[0;34m*\u001b[0m\u001b[0mkey\u001b[0m\u001b[0;34m,\u001b[0m \u001b[0mtakeable\u001b[0m\u001b[0;34m=\u001b[0m\u001b[0mself\u001b[0m\u001b[0;34m.\u001b[0m\u001b[0m_takeable\u001b[0m\u001b[0;34m)\u001b[0m\u001b[0;34m\u001b[0m\u001b[0;34m\u001b[0m\u001b[0m\n\u001b[0;32m--> 889\u001b[0;31m             \u001b[0;32mreturn\u001b[0m \u001b[0mself\u001b[0m\u001b[0;34m.\u001b[0m\u001b[0m_getitem_tuple\u001b[0m\u001b[0;34m(\u001b[0m\u001b[0mkey\u001b[0m\u001b[0;34m)\u001b[0m\u001b[0;34m\u001b[0m\u001b[0;34m\u001b[0m\u001b[0m\n\u001b[0m\u001b[1;32m    890\u001b[0m         \u001b[0;32melse\u001b[0m\u001b[0;34m:\u001b[0m\u001b[0;34m\u001b[0m\u001b[0;34m\u001b[0m\u001b[0m\n\u001b[1;32m    891\u001b[0m             \u001b[0;31m# we by definition only have the 0th axis\u001b[0m\u001b[0;34m\u001b[0m\u001b[0;34m\u001b[0m\u001b[0;34m\u001b[0m\u001b[0m\n",
      "\u001b[0;32m/shared-libs/python3.7/py/lib/python3.7/site-packages/pandas/core/indexing.py\u001b[0m in \u001b[0;36m_getitem_tuple\u001b[0;34m(self, tup)\u001b[0m\n\u001b[1;32m   1067\u001b[0m             \u001b[0;32mreturn\u001b[0m \u001b[0mself\u001b[0m\u001b[0;34m.\u001b[0m\u001b[0m_multi_take\u001b[0m\u001b[0;34m(\u001b[0m\u001b[0mtup\u001b[0m\u001b[0;34m)\u001b[0m\u001b[0;34m\u001b[0m\u001b[0;34m\u001b[0m\u001b[0m\n\u001b[1;32m   1068\u001b[0m \u001b[0;34m\u001b[0m\u001b[0m\n\u001b[0;32m-> 1069\u001b[0;31m         \u001b[0;32mreturn\u001b[0m \u001b[0mself\u001b[0m\u001b[0;34m.\u001b[0m\u001b[0m_getitem_tuple_same_dim\u001b[0m\u001b[0;34m(\u001b[0m\u001b[0mtup\u001b[0m\u001b[0;34m)\u001b[0m\u001b[0;34m\u001b[0m\u001b[0;34m\u001b[0m\u001b[0m\n\u001b[0m\u001b[1;32m   1070\u001b[0m \u001b[0;34m\u001b[0m\u001b[0m\n\u001b[1;32m   1071\u001b[0m     \u001b[0;32mdef\u001b[0m \u001b[0m_get_label\u001b[0m\u001b[0;34m(\u001b[0m\u001b[0mself\u001b[0m\u001b[0;34m,\u001b[0m \u001b[0mlabel\u001b[0m\u001b[0;34m,\u001b[0m \u001b[0maxis\u001b[0m\u001b[0;34m:\u001b[0m \u001b[0mint\u001b[0m\u001b[0;34m)\u001b[0m\u001b[0;34m:\u001b[0m\u001b[0;34m\u001b[0m\u001b[0;34m\u001b[0m\u001b[0m\n",
      "\u001b[0;32m/shared-libs/python3.7/py/lib/python3.7/site-packages/pandas/core/indexing.py\u001b[0m in \u001b[0;36m_getitem_tuple_same_dim\u001b[0;34m(self, tup)\u001b[0m\n\u001b[1;32m    773\u001b[0m                 \u001b[0;32mcontinue\u001b[0m\u001b[0;34m\u001b[0m\u001b[0;34m\u001b[0m\u001b[0m\n\u001b[1;32m    774\u001b[0m \u001b[0;34m\u001b[0m\u001b[0m\n\u001b[0;32m--> 775\u001b[0;31m             \u001b[0mretval\u001b[0m \u001b[0;34m=\u001b[0m \u001b[0mgetattr\u001b[0m\u001b[0;34m(\u001b[0m\u001b[0mretval\u001b[0m\u001b[0;34m,\u001b[0m \u001b[0mself\u001b[0m\u001b[0;34m.\u001b[0m\u001b[0mname\u001b[0m\u001b[0;34m)\u001b[0m\u001b[0;34m.\u001b[0m\u001b[0m_getitem_axis\u001b[0m\u001b[0;34m(\u001b[0m\u001b[0mkey\u001b[0m\u001b[0;34m,\u001b[0m \u001b[0maxis\u001b[0m\u001b[0;34m=\u001b[0m\u001b[0mi\u001b[0m\u001b[0;34m)\u001b[0m\u001b[0;34m\u001b[0m\u001b[0;34m\u001b[0m\u001b[0m\n\u001b[0m\u001b[1;32m    776\u001b[0m             \u001b[0;31m# We should never have retval.ndim < self.ndim, as that should\u001b[0m\u001b[0;34m\u001b[0m\u001b[0;34m\u001b[0m\u001b[0;34m\u001b[0m\u001b[0m\n\u001b[1;32m    777\u001b[0m             \u001b[0;31m#  be handled by the _getitem_lowerdim call above.\u001b[0m\u001b[0;34m\u001b[0m\u001b[0;34m\u001b[0m\u001b[0;34m\u001b[0m\u001b[0m\n",
      "\u001b[0;32m/shared-libs/python3.7/py/lib/python3.7/site-packages/pandas/core/indexing.py\u001b[0m in \u001b[0;36m_getitem_axis\u001b[0;34m(self, key, axis)\u001b[0m\n\u001b[1;32m   1111\u001b[0m                     \u001b[0;32mraise\u001b[0m \u001b[0mValueError\u001b[0m\u001b[0;34m(\u001b[0m\u001b[0;34m\"Cannot index with multidimensional key\"\u001b[0m\u001b[0;34m)\u001b[0m\u001b[0;34m\u001b[0m\u001b[0;34m\u001b[0m\u001b[0m\n\u001b[1;32m   1112\u001b[0m \u001b[0;34m\u001b[0m\u001b[0m\n\u001b[0;32m-> 1113\u001b[0;31m                 \u001b[0;32mreturn\u001b[0m \u001b[0mself\u001b[0m\u001b[0;34m.\u001b[0m\u001b[0m_getitem_iterable\u001b[0m\u001b[0;34m(\u001b[0m\u001b[0mkey\u001b[0m\u001b[0;34m,\u001b[0m \u001b[0maxis\u001b[0m\u001b[0;34m=\u001b[0m\u001b[0maxis\u001b[0m\u001b[0;34m)\u001b[0m\u001b[0;34m\u001b[0m\u001b[0;34m\u001b[0m\u001b[0m\n\u001b[0m\u001b[1;32m   1114\u001b[0m \u001b[0;34m\u001b[0m\u001b[0m\n\u001b[1;32m   1115\u001b[0m             \u001b[0;31m# nested tuple slicing\u001b[0m\u001b[0;34m\u001b[0m\u001b[0;34m\u001b[0m\u001b[0;34m\u001b[0m\u001b[0m\n",
      "\u001b[0;32m/shared-libs/python3.7/py/lib/python3.7/site-packages/pandas/core/indexing.py\u001b[0m in \u001b[0;36m_getitem_iterable\u001b[0;34m(self, key, axis)\u001b[0m\n\u001b[1;32m   1051\u001b[0m \u001b[0;34m\u001b[0m\u001b[0m\n\u001b[1;32m   1052\u001b[0m         \u001b[0;31m# A collection of keys\u001b[0m\u001b[0;34m\u001b[0m\u001b[0;34m\u001b[0m\u001b[0;34m\u001b[0m\u001b[0m\n\u001b[0;32m-> 1053\u001b[0;31m         \u001b[0mkeyarr\u001b[0m\u001b[0;34m,\u001b[0m \u001b[0mindexer\u001b[0m \u001b[0;34m=\u001b[0m \u001b[0mself\u001b[0m\u001b[0;34m.\u001b[0m\u001b[0m_get_listlike_indexer\u001b[0m\u001b[0;34m(\u001b[0m\u001b[0mkey\u001b[0m\u001b[0;34m,\u001b[0m \u001b[0maxis\u001b[0m\u001b[0;34m,\u001b[0m \u001b[0mraise_missing\u001b[0m\u001b[0;34m=\u001b[0m\u001b[0;32mFalse\u001b[0m\u001b[0;34m)\u001b[0m\u001b[0;34m\u001b[0m\u001b[0;34m\u001b[0m\u001b[0m\n\u001b[0m\u001b[1;32m   1054\u001b[0m         return self.obj._reindex_with_indexers(\n\u001b[1;32m   1055\u001b[0m             \u001b[0;34m{\u001b[0m\u001b[0maxis\u001b[0m\u001b[0;34m:\u001b[0m \u001b[0;34m[\u001b[0m\u001b[0mkeyarr\u001b[0m\u001b[0;34m,\u001b[0m \u001b[0mindexer\u001b[0m\u001b[0;34m]\u001b[0m\u001b[0;34m}\u001b[0m\u001b[0;34m,\u001b[0m \u001b[0mcopy\u001b[0m\u001b[0;34m=\u001b[0m\u001b[0;32mTrue\u001b[0m\u001b[0;34m,\u001b[0m \u001b[0mallow_dups\u001b[0m\u001b[0;34m=\u001b[0m\u001b[0;32mTrue\u001b[0m\u001b[0;34m\u001b[0m\u001b[0;34m\u001b[0m\u001b[0m\n",
      "\u001b[0;32m/shared-libs/python3.7/py/lib/python3.7/site-packages/pandas/core/indexing.py\u001b[0m in \u001b[0;36m_get_listlike_indexer\u001b[0;34m(self, key, axis, raise_missing)\u001b[0m\n\u001b[1;32m   1264\u001b[0m             \u001b[0mkeyarr\u001b[0m\u001b[0;34m,\u001b[0m \u001b[0mindexer\u001b[0m\u001b[0;34m,\u001b[0m \u001b[0mnew_indexer\u001b[0m \u001b[0;34m=\u001b[0m \u001b[0max\u001b[0m\u001b[0;34m.\u001b[0m\u001b[0m_reindex_non_unique\u001b[0m\u001b[0;34m(\u001b[0m\u001b[0mkeyarr\u001b[0m\u001b[0;34m)\u001b[0m\u001b[0;34m\u001b[0m\u001b[0;34m\u001b[0m\u001b[0m\n\u001b[1;32m   1265\u001b[0m \u001b[0;34m\u001b[0m\u001b[0m\n\u001b[0;32m-> 1266\u001b[0;31m         \u001b[0mself\u001b[0m\u001b[0;34m.\u001b[0m\u001b[0m_validate_read_indexer\u001b[0m\u001b[0;34m(\u001b[0m\u001b[0mkeyarr\u001b[0m\u001b[0;34m,\u001b[0m \u001b[0mindexer\u001b[0m\u001b[0;34m,\u001b[0m \u001b[0maxis\u001b[0m\u001b[0;34m,\u001b[0m \u001b[0mraise_missing\u001b[0m\u001b[0;34m=\u001b[0m\u001b[0mraise_missing\u001b[0m\u001b[0;34m)\u001b[0m\u001b[0;34m\u001b[0m\u001b[0;34m\u001b[0m\u001b[0m\n\u001b[0m\u001b[1;32m   1267\u001b[0m         \u001b[0;32mreturn\u001b[0m \u001b[0mkeyarr\u001b[0m\u001b[0;34m,\u001b[0m \u001b[0mindexer\u001b[0m\u001b[0;34m\u001b[0m\u001b[0;34m\u001b[0m\u001b[0m\n\u001b[1;32m   1268\u001b[0m \u001b[0;34m\u001b[0m\u001b[0m\n",
      "\u001b[0;32m/shared-libs/python3.7/py/lib/python3.7/site-packages/pandas/core/indexing.py\u001b[0m in \u001b[0;36m_validate_read_indexer\u001b[0;34m(self, key, indexer, axis, raise_missing)\u001b[0m\n\u001b[1;32m   1320\u001b[0m             \u001b[0;32mwith\u001b[0m \u001b[0moption_context\u001b[0m\u001b[0;34m(\u001b[0m\u001b[0;34m\"display.max_seq_items\"\u001b[0m\u001b[0;34m,\u001b[0m \u001b[0;36m10\u001b[0m\u001b[0;34m,\u001b[0m \u001b[0;34m\"display.width\"\u001b[0m\u001b[0;34m,\u001b[0m \u001b[0;36m80\u001b[0m\u001b[0;34m)\u001b[0m\u001b[0;34m:\u001b[0m\u001b[0;34m\u001b[0m\u001b[0;34m\u001b[0m\u001b[0m\n\u001b[1;32m   1321\u001b[0m                 raise KeyError(\n\u001b[0;32m-> 1322\u001b[0;31m                     \u001b[0;34m\"Passing list-likes to .loc or [] with any missing labels \"\u001b[0m\u001b[0;34m\u001b[0m\u001b[0;34m\u001b[0m\u001b[0m\n\u001b[0m\u001b[1;32m   1323\u001b[0m                     \u001b[0;34m\"is no longer supported. \"\u001b[0m\u001b[0;34m\u001b[0m\u001b[0;34m\u001b[0m\u001b[0m\n\u001b[1;32m   1324\u001b[0m                     \u001b[0;34mf\"The following labels were missing: {not_found}. \"\u001b[0m\u001b[0;34m\u001b[0m\u001b[0;34m\u001b[0m\u001b[0m\n",
      "\u001b[0;31mKeyError\u001b[0m: \"Passing list-likes to .loc or [] with any missing labels is no longer supported. The following labels were missing: Index(['Population'], dtype='object'). See https://pandas.pydata.org/pandas-docs/stable/user_guide/indexing.html#deprecate-loc-reindex-listlike\""
     ]
    }
   ]
  },
  {
   "cell_type": "code",
   "metadata": {
    "tags": [],
    "cell_id": "00025-38fd33ca-417b-4404-9570-8c2eb3d07904",
    "deepnote_to_be_reexecuted": true,
    "source_hash": "1c4ac07e",
    "execution_start": 1620804712963,
    "execution_millis": 30,
    "deepnote_cell_type": "code"
   },
   "source": "X_norm = (X - np.mean(X))/np.std(X)\nX_norm.describe()",
   "execution_count": null,
   "outputs": [
    {
     "output_type": "execute_result",
     "execution_count": 19,
     "data": {
      "application/vnd.deepnote.dataframe.v2+json": {
       "row_count": 8,
       "column_count": 2,
       "columns": [
        {
         "name": "RFD",
         "dtype": "float64",
         "stats": {
          "unique_count": 8,
          "nan_count": 0,
          "min": "-1.3695799445604058",
          "max": "10.0",
          "histogram": [
           {
            "bin_start": -1.3695799445604058,
            "bin_end": -0.23262195010436515,
            "count": 3
           },
           {
            "bin_start": -0.23262195010436515,
            "bin_end": 0.9043360443516755,
            "count": 2
           },
           {
            "bin_start": 0.9043360443516755,
            "bin_end": 2.041294038807716,
            "count": 2
           },
           {
            "bin_start": 2.041294038807716,
            "bin_end": 3.1782520332637567,
            "count": 0
           },
           {
            "bin_start": 3.1782520332637567,
            "bin_end": 4.315210027719798,
            "count": 0
           },
           {
            "bin_start": 4.315210027719798,
            "bin_end": 5.4521680221758375,
            "count": 0
           },
           {
            "bin_start": 5.4521680221758375,
            "bin_end": 6.589126016631878,
            "count": 0
           },
           {
            "bin_start": 6.589126016631878,
            "bin_end": 7.726084011087919,
            "count": 0
           },
           {
            "bin_start": 7.726084011087919,
            "bin_end": 8.86304200554396,
            "count": 0
           },
           {
            "bin_start": 8.86304200554396,
            "bin_end": 10,
            "count": 1
           }
          ]
         }
        },
        {
         "name": "Població",
         "dtype": "float64",
         "stats": {
          "unique_count": 8,
          "nan_count": 0,
          "min": "-1.4919300550309502",
          "max": "10.0",
          "histogram": [
           {
            "bin_start": -1.4919300550309502,
            "bin_end": -0.3427370495278552,
            "count": 2
           },
           {
            "bin_start": -0.3427370495278552,
            "bin_end": 0.8064559559752398,
            "count": 3
           },
           {
            "bin_start": 0.8064559559752398,
            "bin_end": 1.9556489614783346,
            "count": 2
           },
           {
            "bin_start": 1.9556489614783346,
            "bin_end": 3.1048419669814296,
            "count": 0
           },
           {
            "bin_start": 3.1048419669814296,
            "bin_end": 4.254034972484525,
            "count": 0
           },
           {
            "bin_start": 4.254034972484525,
            "bin_end": 5.403227977987619,
            "count": 0
           },
           {
            "bin_start": 5.403227977987619,
            "bin_end": 6.552420983490714,
            "count": 0
           },
           {
            "bin_start": 6.552420983490714,
            "bin_end": 7.70161398899381,
            "count": 0
           },
           {
            "bin_start": 7.70161398899381,
            "bin_end": 8.850806994496905,
            "count": 0
           },
           {
            "bin_start": 8.850806994496905,
            "bin_end": 10,
            "count": 1
           }
          ]
         }
        },
        {
         "name": "_deepnote_index_column",
         "dtype": "object"
        }
       ],
       "rows_top": [
        {
         "RFD": 10,
         "Població": 10,
         "_deepnote_index_column": "count"
        },
        {
         "RFD": -1.7763568394002506e-16,
         "Població": -1.8041124150158794e-16,
         "_deepnote_index_column": "mean"
        },
        {
         "RFD": 1.0540925533894598,
         "Població": 1.0540925533894598,
         "_deepnote_index_column": "std"
        },
        {
         "RFD": -1.3695799445604058,
         "Població": -1.4919300550309502,
         "_deepnote_index_column": "min"
        },
        {
         "RFD": -0.62162931252708,
         "Població": -0.6393284023254411,
         "_deepnote_index_column": "25%"
        },
        {
         "RFD": -0.2809731187550763,
         "Població": -0.07884244384216164,
         "_deepnote_index_column": "50%"
        },
        {
         "RFD": 0.37738408012693825,
         "Població": 0.30741438293299084,
         "_deepnote_index_column": "75%"
        },
        {
         "RFD": 1.9845855944051567,
         "Població": 1.9444093703624215,
         "_deepnote_index_column": "max"
        }
       ],
       "rows_bottom": null
      },
      "text/plain": "                RFD      Població\ncount  1.000000e+01  1.000000e+01\nmean  -1.776357e-16 -1.804112e-16\nstd    1.054093e+00  1.054093e+00\nmin   -1.369580e+00 -1.491930e+00\n25%   -6.216293e-01 -6.393284e-01\n50%   -2.809731e-01 -7.884244e-02\n75%    3.773841e-01  3.074144e-01\nmax    1.984586e+00  1.944409e+00",
      "text/html": "<div>\n<style scoped>\n    .dataframe tbody tr th:only-of-type {\n        vertical-align: middle;\n    }\n\n    .dataframe tbody tr th {\n        vertical-align: top;\n    }\n\n    .dataframe thead th {\n        text-align: right;\n    }\n</style>\n<table border=\"1\" class=\"dataframe\">\n  <thead>\n    <tr style=\"text-align: right;\">\n      <th></th>\n      <th>RFD</th>\n      <th>Població</th>\n    </tr>\n  </thead>\n  <tbody>\n    <tr>\n      <th>count</th>\n      <td>1.000000e+01</td>\n      <td>1.000000e+01</td>\n    </tr>\n    <tr>\n      <th>mean</th>\n      <td>-1.776357e-16</td>\n      <td>-1.804112e-16</td>\n    </tr>\n    <tr>\n      <th>std</th>\n      <td>1.054093e+00</td>\n      <td>1.054093e+00</td>\n    </tr>\n    <tr>\n      <th>min</th>\n      <td>-1.369580e+00</td>\n      <td>-1.491930e+00</td>\n    </tr>\n    <tr>\n      <th>25%</th>\n      <td>-6.216293e-01</td>\n      <td>-6.393284e-01</td>\n    </tr>\n    <tr>\n      <th>50%</th>\n      <td>-2.809731e-01</td>\n      <td>-7.884244e-02</td>\n    </tr>\n    <tr>\n      <th>75%</th>\n      <td>3.773841e-01</td>\n      <td>3.074144e-01</td>\n    </tr>\n    <tr>\n      <th>max</th>\n      <td>1.984586e+00</td>\n      <td>1.944409e+00</td>\n    </tr>\n  </tbody>\n</table>\n</div>"
     },
     "metadata": {}
    }
   ]
  },
  {
   "cell_type": "code",
   "metadata": {
    "tags": [],
    "cell_id": "00026-a65d8ad6-78b4-4209-b811-6190ef842ca8",
    "deepnote_to_be_reexecuted": true,
    "source_hash": "5c75adad",
    "execution_start": 1620804712989,
    "execution_millis": 895,
    "deepnote_cell_type": "code"
   },
   "source": "from sklearn.cluster import KMeans",
   "execution_count": null,
   "outputs": []
  },
  {
   "cell_type": "code",
   "metadata": {
    "tags": [],
    "cell_id": "00026-8be66fdc-6c8a-4f0d-a8a9-9650d8e55657",
    "deepnote_to_be_reexecuted": true,
    "source_hash": "fec6f40a",
    "execution_start": 1620804713890,
    "execution_millis": 30,
    "deepnote_cell_type": "code"
   },
   "source": "K = 3\nk = KMeans(K, init = 'k-means++', random_state = 1)\nk.fit(X_norm)\nX_norm['k3_means_cluster'] = k.fit_predict(X_norm)\nX_norm['k3_means_cluster'] = X_norm['k3_means_cluster'] + 1",
   "execution_count": null,
   "outputs": []
  },
  {
   "cell_type": "code",
   "metadata": {
    "tags": [],
    "cell_id": "00028-a9f1e262-bd97-4712-90be-5da12ab177a1",
    "deepnote_to_be_reexecuted": true,
    "source_hash": "89edfa37",
    "execution_start": 1620804713937,
    "execution_millis": 13,
    "deepnote_cell_type": "code"
   },
   "source": "X['k3_cluster'] = X_norm.k3_means_cluster\nX.groupby('k3_cluster').mean().sort_values('RFD').round(2)",
   "execution_count": null,
   "outputs": [
    {
     "output_type": "execute_result",
     "execution_count": 22,
     "data": {
      "application/vnd.deepnote.dataframe.v2+json": {
       "row_count": 3,
       "column_count": 2,
       "columns": [
        {
         "name": "RFD",
         "dtype": "float64",
         "stats": {
          "unique_count": 3,
          "nan_count": 0,
          "min": "79.39",
          "max": "170.07",
          "histogram": [
           {
            "bin_start": 79.39,
            "bin_end": 88.458,
            "count": 1
           },
           {
            "bin_start": 88.458,
            "bin_end": 97.526,
            "count": 0
           },
           {
            "bin_start": 97.526,
            "bin_end": 106.594,
            "count": 0
           },
           {
            "bin_start": 106.594,
            "bin_end": 115.662,
            "count": 1
           },
           {
            "bin_start": 115.662,
            "bin_end": 124.72999999999999,
            "count": 0
           },
           {
            "bin_start": 124.72999999999999,
            "bin_end": 133.798,
            "count": 0
           },
           {
            "bin_start": 133.798,
            "bin_end": 142.86599999999999,
            "count": 0
           },
           {
            "bin_start": 142.86599999999999,
            "bin_end": 151.934,
            "count": 0
           },
           {
            "bin_start": 151.934,
            "bin_end": 161.002,
            "count": 0
           },
           {
            "bin_start": 161.002,
            "bin_end": 170.07,
            "count": 1
           }
          ]
         }
        },
        {
         "name": "Població",
         "dtype": "float64",
         "stats": {
          "unique_count": 3,
          "nan_count": 0,
          "min": "115967.5",
          "max": "251673.5",
          "histogram": [
           {
            "bin_start": 115967.5,
            "bin_end": 129538.1,
            "count": 1
           },
           {
            "bin_start": 129538.1,
            "bin_end": 143108.7,
            "count": 0
           },
           {
            "bin_start": 143108.7,
            "bin_end": 156679.3,
            "count": 1
           },
           {
            "bin_start": 156679.3,
            "bin_end": 170249.9,
            "count": 0
           },
           {
            "bin_start": 170249.9,
            "bin_end": 183820.5,
            "count": 0
           },
           {
            "bin_start": 183820.5,
            "bin_end": 197391.1,
            "count": 0
           },
           {
            "bin_start": 197391.1,
            "bin_end": 210961.7,
            "count": 0
           },
           {
            "bin_start": 210961.7,
            "bin_end": 224532.3,
            "count": 0
           },
           {
            "bin_start": 224532.3,
            "bin_end": 238102.90000000002,
            "count": 0
           },
           {
            "bin_start": 238102.90000000002,
            "bin_end": 251673.5,
            "count": 1
           }
          ]
         }
        },
        {
         "name": "_deepnote_index_column",
         "dtype": "int64"
        }
       ],
       "rows_top": [
        {
         "RFD": 79.39,
         "Població": 148309.17,
         "_deepnote_index_column": 2
        },
        {
         "RFD": 109.67,
         "Població": 251673.5,
         "_deepnote_index_column": 1
        },
        {
         "RFD": 170.07,
         "Població": 115967.5,
         "_deepnote_index_column": 3
        }
       ],
       "rows_bottom": null
      },
      "text/plain": "               RFD   Població\nk3_cluster                   \n2            79.39  148309.17\n1           109.67  251673.50\n3           170.07  115967.50",
      "text/html": "<div>\n<style scoped>\n    .dataframe tbody tr th:only-of-type {\n        vertical-align: middle;\n    }\n\n    .dataframe tbody tr th {\n        vertical-align: top;\n    }\n\n    .dataframe thead th {\n        text-align: right;\n    }\n</style>\n<table border=\"1\" class=\"dataframe\">\n  <thead>\n    <tr style=\"text-align: right;\">\n      <th></th>\n      <th>RFD</th>\n      <th>Població</th>\n    </tr>\n    <tr>\n      <th>k3_cluster</th>\n      <th></th>\n      <th></th>\n    </tr>\n  </thead>\n  <tbody>\n    <tr>\n      <th>2</th>\n      <td>79.39</td>\n      <td>148309.17</td>\n    </tr>\n    <tr>\n      <th>1</th>\n      <td>109.67</td>\n      <td>251673.50</td>\n    </tr>\n    <tr>\n      <th>3</th>\n      <td>170.07</td>\n      <td>115967.50</td>\n    </tr>\n  </tbody>\n</table>\n</div>"
     },
     "metadata": {}
    }
   ]
  },
  {
   "cell_type": "code",
   "metadata": {
    "tags": [],
    "cell_id": "00034-9f2be986-28a2-4d8a-a306-c0cc0d57ce65",
    "deepnote_to_be_reexecuted": true,
    "source_hash": "317aeb7",
    "deepnote_cell_type": "code"
   },
   "source": "fig, ax1 = plt.subplots(figsize=(14,8))\ncdict= {0:'b',1:'g',3:'r'}\nax1.scatter(y=X[dist_name], x= X[ix_var], c = X['k3_cluster'], s=150, marker=\"o\")\nax1.errorbar(y=X[dist_name], x= X[ix_var], xerr=X[ix_std],linestyle=\"None\")\nplt.show()",
   "execution_count": null,
   "outputs": []
  },
  {
   "cell_type": "markdown",
   "source": "-----------\n\n# SUPERSSEEDED:",
   "metadata": {
    "tags": [],
    "cell_id": "00011-82ce1aaf-9793-4162-9e97-6cd2f8e26077",
    "deepnote_cell_type": "markdown"
   }
  },
  {
   "cell_type": "code",
   "metadata": {
    "tags": [],
    "cell_id": "00037-a0958288-12c0-46a2-a222-48c4c4e0fa9d",
    "deepnote_to_be_reexecuted": true,
    "source_hash": "55d31bdd",
    "execution_start": 1620812327897,
    "execution_millis": 536,
    "deepnote_cell_type": "code"
   },
   "source": "# Getting POPULATION data by DISTRICT OPT 2\ndist_name ='Nom_Districte_Educatiu'\ndf_POB = df_t.loc[:,[dist_name, 'Població']].drop_duplicates(keep='first',inplace=False).sort_values(by=['Població'])\n\n# Number of kids surveyed by DISTRICT (sorted with POPULATION)\ndistrict_names = df_POB[dist_name].unique()\ndistrict_count = [(df_t[dist_name] == x).sum() for x in district_names]\n\nfig, ax1 = plt.subplots(figsize=(14,8))\nax1.barh(district_names, district_count, color=colors[1])\nplt.tick_params(labelsize=14, pad=6)\nax1.set_xlim([0, 800])\n\n# Creating a secondary axis and plotting population\nax2 = ax1.twiny()\nax2.scatter(x=df_POB.Població, y=df_POB.Nom_Districte_Educatiu, color=colors[4], s=100, marker=\"o\")\nax2.scatter(y='Les Corts', x=0, color=colors[1], s=1)\nax2.set_xlim([0, 300000])\nplt.tick_params(labelsize=14, pad=6)\n\nax1.set_xlabel('Count kids surveyed', color=colors[1], size=16, labelpad = 12)\nax2.set_xlabel('Population', color=colors[4], size=16, labelpad = 12)\nplt.title('Volume of kids surveyed compared to district population', fontsize=20, y=1.15)\n\nplt.tight_layout()\nplt.show()",
   "execution_count": null,
   "outputs": [
    {
     "data": {
      "text/plain": "<Figure size 1008x576 with 2 Axes>",
      "image/png": "[encoded data removed]"
     },
     "metadata": {
      "image/png": {
       "width": 996,
       "height": 560
      }
     },
     "output_type": "display_data"
    }
   ]
  },
  {
   "cell_type": "code",
   "metadata": {
    "tags": [],
    "cell_id": "00031-297ab8fe-a8b9-454c-92c7-4763a264b0c8",
    "deepnote_to_be_reexecuted": true,
    "source_hash": "7fa61731",
    "execution_start": 1620896378746,
    "execution_millis": 803,
    "deepnote_cell_type": "code"
   },
   "source": "# RFD index TEST 2:\ndf_RFD = df_t.loc[:,[dist_name, ix_sw]].drop_duplicates(keep='first',inplace=False).sort_values(by=[ix_sw])\ndf_RFD = df_t.loc[:,[dist_name, ix_sw, 'Població']].drop_duplicates(keep='first',inplace=False).sort_values(by=[ix_sw])\n\nfig, ax = plt.subplots(figsize=(12,8))\ngs = gridspec.GridSpec(1, 2, width_ratios=[3, 1])\n\nax1 = plt.subplot(gs[0])\nax2 = plt.subplot(gs[1], sharey=ax1)\nplt.setp(ax2.get_yticklabels(), visible=False)\n\nax1.scatter(y=df_RFD[dist_name], x= df_RFD[ix_sw], color=colors[2], s=200, marker=\"+\")\nax1.tick_params(labelsize=16, pad=6)\n\nax2.barh(df_RFD[dist_name], df_RFD['Població'], color=colors[1])\nax2.tick_params(labelsize=14, pad=6)\n\nfor ax in [ax1,ax2]: \n    ax.spines[\"right\"].set_visible(False)\n    ax.spines[\"left\"].set_visible(False)\n    ax.spines[\"top\"].set_visible(False)\n\nax1.set_xlabel('RFD Index', size=16, labelpad = 12)\nax2.set_xlabel('Population', size=16, labelpad = 12)\nplt.suptitle('RFD Index by District', fontsize=20, y=0.94, x=0.6)\nplt.tight_layout()\nplt.show()",
   "execution_count": null,
   "outputs": [
    {
     "data": {
      "text/plain": "<Figure size 864x576 with 2 Axes>",
      "image/png": "[encoded data removed]"
     },
     "metadata": {
      "image/png": {
       "width": 852,
       "height": 542
      }
     },
     "output_type": "display_data"
    }
   ]
  },
  {
   "cell_type": "code",
   "metadata": {
    "tags": [],
    "cell_id": "00021-cd6f9ab6-1479-4008-8983-9d22da1f43b9",
    "deepnote_to_be_reexecuted": true,
    "source_hash": "dc050f39",
    "execution_start": 1620804713947,
    "execution_millis": 181,
    "deepnote_cell_type": "code"
   },
   "source": "# df_inc.groupby(['Codi_Districte', 'Nom_Districte']).agg({'Població':'sum', 'Índex RFD Barcelona = 100':'mean'}).reset_index()\n\ndf_INC = df_t.loc[:,['Codi_Districte_Educatiu', 'Nom_Districte_Educatiu', 'ERFDbllp', 'Índex RFD Barcelona = 100']]\ndf_dup = df_INC.drop_duplicates(keep='first',inplace=False).sort_values(by=['Codi_Districte_Educatiu'])\ndf_dup\n",
   "execution_count": null,
   "outputs": [
    {
     "output_type": "error",
     "ename": "KeyError",
     "evalue": "\"Passing list-likes to .loc or [] with any missing labels is no longer supported. The following labels were missing: Index(['Índex RFD Barcelona = 100'], dtype='object'). See https://pandas.pydata.org/pandas-docs/stable/user_guide/indexing.html#deprecate-loc-reindex-listlike\"",
     "traceback": [
      "\u001b[0;31m---------------------------------------------------------------------------\u001b[0m",
      "\u001b[0;31mKeyError\u001b[0m                                  Traceback (most recent call last)",
      "\u001b[0;32m<ipython-input-23-a665e263fe0a>\u001b[0m in \u001b[0;36m<module>\u001b[0;34m\u001b[0m\n\u001b[1;32m      1\u001b[0m \u001b[0;31m# df_inc.groupby(['Codi_Districte', 'Nom_Districte']).agg({'Població':'sum', 'Índex RFD Barcelona = 100':'mean'}).reset_index()\u001b[0m\u001b[0;34m\u001b[0m\u001b[0;34m\u001b[0m\u001b[0;34m\u001b[0m\u001b[0m\n\u001b[1;32m      2\u001b[0m \u001b[0;34m\u001b[0m\u001b[0m\n\u001b[0;32m----> 3\u001b[0;31m \u001b[0mdf_INC\u001b[0m \u001b[0;34m=\u001b[0m \u001b[0mdf_t\u001b[0m\u001b[0;34m.\u001b[0m\u001b[0mloc\u001b[0m\u001b[0;34m[\u001b[0m\u001b[0;34m:\u001b[0m\u001b[0;34m,\u001b[0m\u001b[0;34m[\u001b[0m\u001b[0;34m'Codi_Districte_Educatiu'\u001b[0m\u001b[0;34m,\u001b[0m \u001b[0;34m'Nom_Districte_Educatiu'\u001b[0m\u001b[0;34m,\u001b[0m \u001b[0;34m'ERFDbllp'\u001b[0m\u001b[0;34m,\u001b[0m \u001b[0;34m'Índex RFD Barcelona = 100'\u001b[0m\u001b[0;34m]\u001b[0m\u001b[0;34m]\u001b[0m\u001b[0;34m\u001b[0m\u001b[0;34m\u001b[0m\u001b[0m\n\u001b[0m\u001b[1;32m      4\u001b[0m \u001b[0mdf_dup\u001b[0m \u001b[0;34m=\u001b[0m \u001b[0mdf_INC\u001b[0m\u001b[0;34m.\u001b[0m\u001b[0mdrop_duplicates\u001b[0m\u001b[0;34m(\u001b[0m\u001b[0mkeep\u001b[0m\u001b[0;34m=\u001b[0m\u001b[0;34m'first'\u001b[0m\u001b[0;34m,\u001b[0m\u001b[0minplace\u001b[0m\u001b[0;34m=\u001b[0m\u001b[0;32mFalse\u001b[0m\u001b[0;34m)\u001b[0m\u001b[0;34m.\u001b[0m\u001b[0msort_values\u001b[0m\u001b[0;34m(\u001b[0m\u001b[0mby\u001b[0m\u001b[0;34m=\u001b[0m\u001b[0;34m[\u001b[0m\u001b[0;34m'Codi_Districte_Educatiu'\u001b[0m\u001b[0;34m]\u001b[0m\u001b[0;34m)\u001b[0m\u001b[0;34m\u001b[0m\u001b[0;34m\u001b[0m\u001b[0m\n\u001b[1;32m      5\u001b[0m \u001b[0mdf_dup\u001b[0m\u001b[0;34m\u001b[0m\u001b[0;34m\u001b[0m\u001b[0m\n",
      "\u001b[0;32m/shared-libs/python3.7/py/lib/python3.7/site-packages/pandas/core/indexing.py\u001b[0m in \u001b[0;36m__getitem__\u001b[0;34m(self, key)\u001b[0m\n\u001b[1;32m    887\u001b[0m                     \u001b[0;31m# AttributeError for IntervalTree get_value\u001b[0m\u001b[0;34m\u001b[0m\u001b[0;34m\u001b[0m\u001b[0;34m\u001b[0m\u001b[0m\n\u001b[1;32m    888\u001b[0m                     \u001b[0;32mreturn\u001b[0m \u001b[0mself\u001b[0m\u001b[0;34m.\u001b[0m\u001b[0mobj\u001b[0m\u001b[0;34m.\u001b[0m\u001b[0m_get_value\u001b[0m\u001b[0;34m(\u001b[0m\u001b[0;34m*\u001b[0m\u001b[0mkey\u001b[0m\u001b[0;34m,\u001b[0m \u001b[0mtakeable\u001b[0m\u001b[0;34m=\u001b[0m\u001b[0mself\u001b[0m\u001b[0;34m.\u001b[0m\u001b[0m_takeable\u001b[0m\u001b[0;34m)\u001b[0m\u001b[0;34m\u001b[0m\u001b[0;34m\u001b[0m\u001b[0m\n\u001b[0;32m--> 889\u001b[0;31m             \u001b[0;32mreturn\u001b[0m \u001b[0mself\u001b[0m\u001b[0;34m.\u001b[0m\u001b[0m_getitem_tuple\u001b[0m\u001b[0;34m(\u001b[0m\u001b[0mkey\u001b[0m\u001b[0;34m)\u001b[0m\u001b[0;34m\u001b[0m\u001b[0;34m\u001b[0m\u001b[0m\n\u001b[0m\u001b[1;32m    890\u001b[0m         \u001b[0;32melse\u001b[0m\u001b[0;34m:\u001b[0m\u001b[0;34m\u001b[0m\u001b[0;34m\u001b[0m\u001b[0m\n\u001b[1;32m    891\u001b[0m             \u001b[0;31m# we by definition only have the 0th axis\u001b[0m\u001b[0;34m\u001b[0m\u001b[0;34m\u001b[0m\u001b[0;34m\u001b[0m\u001b[0m\n",
      "\u001b[0;32m/shared-libs/python3.7/py/lib/python3.7/site-packages/pandas/core/indexing.py\u001b[0m in \u001b[0;36m_getitem_tuple\u001b[0;34m(self, tup)\u001b[0m\n\u001b[1;32m   1067\u001b[0m             \u001b[0;32mreturn\u001b[0m \u001b[0mself\u001b[0m\u001b[0;34m.\u001b[0m\u001b[0m_multi_take\u001b[0m\u001b[0;34m(\u001b[0m\u001b[0mtup\u001b[0m\u001b[0;34m)\u001b[0m\u001b[0;34m\u001b[0m\u001b[0;34m\u001b[0m\u001b[0m\n\u001b[1;32m   1068\u001b[0m \u001b[0;34m\u001b[0m\u001b[0m\n\u001b[0;32m-> 1069\u001b[0;31m         \u001b[0;32mreturn\u001b[0m \u001b[0mself\u001b[0m\u001b[0;34m.\u001b[0m\u001b[0m_getitem_tuple_same_dim\u001b[0m\u001b[0;34m(\u001b[0m\u001b[0mtup\u001b[0m\u001b[0;34m)\u001b[0m\u001b[0;34m\u001b[0m\u001b[0;34m\u001b[0m\u001b[0m\n\u001b[0m\u001b[1;32m   1070\u001b[0m \u001b[0;34m\u001b[0m\u001b[0m\n\u001b[1;32m   1071\u001b[0m     \u001b[0;32mdef\u001b[0m \u001b[0m_get_label\u001b[0m\u001b[0;34m(\u001b[0m\u001b[0mself\u001b[0m\u001b[0;34m,\u001b[0m \u001b[0mlabel\u001b[0m\u001b[0;34m,\u001b[0m \u001b[0maxis\u001b[0m\u001b[0;34m:\u001b[0m \u001b[0mint\u001b[0m\u001b[0;34m)\u001b[0m\u001b[0;34m:\u001b[0m\u001b[0;34m\u001b[0m\u001b[0;34m\u001b[0m\u001b[0m\n",
      "\u001b[0;32m/shared-libs/python3.7/py/lib/python3.7/site-packages/pandas/core/indexing.py\u001b[0m in \u001b[0;36m_getitem_tuple_same_dim\u001b[0;34m(self, tup)\u001b[0m\n\u001b[1;32m    773\u001b[0m                 \u001b[0;32mcontinue\u001b[0m\u001b[0;34m\u001b[0m\u001b[0;34m\u001b[0m\u001b[0m\n\u001b[1;32m    774\u001b[0m \u001b[0;34m\u001b[0m\u001b[0m\n\u001b[0;32m--> 775\u001b[0;31m             \u001b[0mretval\u001b[0m \u001b[0;34m=\u001b[0m \u001b[0mgetattr\u001b[0m\u001b[0;34m(\u001b[0m\u001b[0mretval\u001b[0m\u001b[0;34m,\u001b[0m \u001b[0mself\u001b[0m\u001b[0;34m.\u001b[0m\u001b[0mname\u001b[0m\u001b[0;34m)\u001b[0m\u001b[0;34m.\u001b[0m\u001b[0m_getitem_axis\u001b[0m\u001b[0;34m(\u001b[0m\u001b[0mkey\u001b[0m\u001b[0;34m,\u001b[0m \u001b[0maxis\u001b[0m\u001b[0;34m=\u001b[0m\u001b[0mi\u001b[0m\u001b[0;34m)\u001b[0m\u001b[0;34m\u001b[0m\u001b[0;34m\u001b[0m\u001b[0m\n\u001b[0m\u001b[1;32m    776\u001b[0m             \u001b[0;31m# We should never have retval.ndim < self.ndim, as that should\u001b[0m\u001b[0;34m\u001b[0m\u001b[0;34m\u001b[0m\u001b[0;34m\u001b[0m\u001b[0m\n\u001b[1;32m    777\u001b[0m             \u001b[0;31m#  be handled by the _getitem_lowerdim call above.\u001b[0m\u001b[0;34m\u001b[0m\u001b[0;34m\u001b[0m\u001b[0;34m\u001b[0m\u001b[0m\n",
      "\u001b[0;32m/shared-libs/python3.7/py/lib/python3.7/site-packages/pandas/core/indexing.py\u001b[0m in \u001b[0;36m_getitem_axis\u001b[0;34m(self, key, axis)\u001b[0m\n\u001b[1;32m   1111\u001b[0m                     \u001b[0;32mraise\u001b[0m \u001b[0mValueError\u001b[0m\u001b[0;34m(\u001b[0m\u001b[0;34m\"Cannot index with multidimensional key\"\u001b[0m\u001b[0;34m)\u001b[0m\u001b[0;34m\u001b[0m\u001b[0;34m\u001b[0m\u001b[0m\n\u001b[1;32m   1112\u001b[0m \u001b[0;34m\u001b[0m\u001b[0m\n\u001b[0;32m-> 1113\u001b[0;31m                 \u001b[0;32mreturn\u001b[0m \u001b[0mself\u001b[0m\u001b[0;34m.\u001b[0m\u001b[0m_getitem_iterable\u001b[0m\u001b[0;34m(\u001b[0m\u001b[0mkey\u001b[0m\u001b[0;34m,\u001b[0m \u001b[0maxis\u001b[0m\u001b[0;34m=\u001b[0m\u001b[0maxis\u001b[0m\u001b[0;34m)\u001b[0m\u001b[0;34m\u001b[0m\u001b[0;34m\u001b[0m\u001b[0m\n\u001b[0m\u001b[1;32m   1114\u001b[0m \u001b[0;34m\u001b[0m\u001b[0m\n\u001b[1;32m   1115\u001b[0m             \u001b[0;31m# nested tuple slicing\u001b[0m\u001b[0;34m\u001b[0m\u001b[0;34m\u001b[0m\u001b[0;34m\u001b[0m\u001b[0m\n",
      "\u001b[0;32m/shared-libs/python3.7/py/lib/python3.7/site-packages/pandas/core/indexing.py\u001b[0m in \u001b[0;36m_getitem_iterable\u001b[0;34m(self, key, axis)\u001b[0m\n\u001b[1;32m   1051\u001b[0m \u001b[0;34m\u001b[0m\u001b[0m\n\u001b[1;32m   1052\u001b[0m         \u001b[0;31m# A collection of keys\u001b[0m\u001b[0;34m\u001b[0m\u001b[0;34m\u001b[0m\u001b[0;34m\u001b[0m\u001b[0m\n\u001b[0;32m-> 1053\u001b[0;31m         \u001b[0mkeyarr\u001b[0m\u001b[0;34m,\u001b[0m \u001b[0mindexer\u001b[0m \u001b[0;34m=\u001b[0m \u001b[0mself\u001b[0m\u001b[0;34m.\u001b[0m\u001b[0m_get_listlike_indexer\u001b[0m\u001b[0;34m(\u001b[0m\u001b[0mkey\u001b[0m\u001b[0;34m,\u001b[0m \u001b[0maxis\u001b[0m\u001b[0;34m,\u001b[0m \u001b[0mraise_missing\u001b[0m\u001b[0;34m=\u001b[0m\u001b[0;32mFalse\u001b[0m\u001b[0;34m)\u001b[0m\u001b[0;34m\u001b[0m\u001b[0;34m\u001b[0m\u001b[0m\n\u001b[0m\u001b[1;32m   1054\u001b[0m         return self.obj._reindex_with_indexers(\n\u001b[1;32m   1055\u001b[0m             \u001b[0;34m{\u001b[0m\u001b[0maxis\u001b[0m\u001b[0;34m:\u001b[0m \u001b[0;34m[\u001b[0m\u001b[0mkeyarr\u001b[0m\u001b[0;34m,\u001b[0m \u001b[0mindexer\u001b[0m\u001b[0;34m]\u001b[0m\u001b[0;34m}\u001b[0m\u001b[0;34m,\u001b[0m \u001b[0mcopy\u001b[0m\u001b[0;34m=\u001b[0m\u001b[0;32mTrue\u001b[0m\u001b[0;34m,\u001b[0m \u001b[0mallow_dups\u001b[0m\u001b[0;34m=\u001b[0m\u001b[0;32mTrue\u001b[0m\u001b[0;34m\u001b[0m\u001b[0;34m\u001b[0m\u001b[0m\n",
      "\u001b[0;32m/shared-libs/python3.7/py/lib/python3.7/site-packages/pandas/core/indexing.py\u001b[0m in \u001b[0;36m_get_listlike_indexer\u001b[0;34m(self, key, axis, raise_missing)\u001b[0m\n\u001b[1;32m   1264\u001b[0m             \u001b[0mkeyarr\u001b[0m\u001b[0;34m,\u001b[0m \u001b[0mindexer\u001b[0m\u001b[0;34m,\u001b[0m \u001b[0mnew_indexer\u001b[0m \u001b[0;34m=\u001b[0m \u001b[0max\u001b[0m\u001b[0;34m.\u001b[0m\u001b[0m_reindex_non_unique\u001b[0m\u001b[0;34m(\u001b[0m\u001b[0mkeyarr\u001b[0m\u001b[0;34m)\u001b[0m\u001b[0;34m\u001b[0m\u001b[0;34m\u001b[0m\u001b[0m\n\u001b[1;32m   1265\u001b[0m \u001b[0;34m\u001b[0m\u001b[0m\n\u001b[0;32m-> 1266\u001b[0;31m         \u001b[0mself\u001b[0m\u001b[0;34m.\u001b[0m\u001b[0m_validate_read_indexer\u001b[0m\u001b[0;34m(\u001b[0m\u001b[0mkeyarr\u001b[0m\u001b[0;34m,\u001b[0m \u001b[0mindexer\u001b[0m\u001b[0;34m,\u001b[0m \u001b[0maxis\u001b[0m\u001b[0;34m,\u001b[0m \u001b[0mraise_missing\u001b[0m\u001b[0;34m=\u001b[0m\u001b[0mraise_missing\u001b[0m\u001b[0;34m)\u001b[0m\u001b[0;34m\u001b[0m\u001b[0;34m\u001b[0m\u001b[0m\n\u001b[0m\u001b[1;32m   1267\u001b[0m         \u001b[0;32mreturn\u001b[0m \u001b[0mkeyarr\u001b[0m\u001b[0;34m,\u001b[0m \u001b[0mindexer\u001b[0m\u001b[0;34m\u001b[0m\u001b[0;34m\u001b[0m\u001b[0m\n\u001b[1;32m   1268\u001b[0m \u001b[0;34m\u001b[0m\u001b[0m\n",
      "\u001b[0;32m/shared-libs/python3.7/py/lib/python3.7/site-packages/pandas/core/indexing.py\u001b[0m in \u001b[0;36m_validate_read_indexer\u001b[0;34m(self, key, indexer, axis, raise_missing)\u001b[0m\n\u001b[1;32m   1320\u001b[0m             \u001b[0;32mwith\u001b[0m \u001b[0moption_context\u001b[0m\u001b[0;34m(\u001b[0m\u001b[0;34m\"display.max_seq_items\"\u001b[0m\u001b[0;34m,\u001b[0m \u001b[0;36m10\u001b[0m\u001b[0;34m,\u001b[0m \u001b[0;34m\"display.width\"\u001b[0m\u001b[0;34m,\u001b[0m \u001b[0;36m80\u001b[0m\u001b[0;34m)\u001b[0m\u001b[0;34m:\u001b[0m\u001b[0;34m\u001b[0m\u001b[0;34m\u001b[0m\u001b[0m\n\u001b[1;32m   1321\u001b[0m                 raise KeyError(\n\u001b[0;32m-> 1322\u001b[0;31m                     \u001b[0;34m\"Passing list-likes to .loc or [] with any missing labels \"\u001b[0m\u001b[0;34m\u001b[0m\u001b[0;34m\u001b[0m\u001b[0m\n\u001b[0m\u001b[1;32m   1323\u001b[0m                     \u001b[0;34m\"is no longer supported. \"\u001b[0m\u001b[0;34m\u001b[0m\u001b[0;34m\u001b[0m\u001b[0m\n\u001b[1;32m   1324\u001b[0m                     \u001b[0;34mf\"The following labels were missing: {not_found}. \"\u001b[0m\u001b[0;34m\u001b[0m\u001b[0;34m\u001b[0m\u001b[0m\n",
      "\u001b[0;31mKeyError\u001b[0m: \"Passing list-likes to .loc or [] with any missing labels is no longer supported. The following labels were missing: Index(['Índex RFD Barcelona = 100'], dtype='object'). See https://pandas.pydata.org/pandas-docs/stable/user_guide/indexing.html#deprecate-loc-reindex-listlike\""
     ]
    }
   ]
  },
  {
   "cell_type": "code",
   "metadata": {
    "tags": [],
    "cell_id": "00023-d34e3cb9-9ab2-402d-bc6a-a6372228988c",
    "deepnote_to_be_reexecuted": true,
    "source_hash": "62d5f702",
    "execution_start": 1620753135549,
    "execution_millis": 437,
    "deepnote_cell_type": "code"
   },
   "source": "df_POB = df_t.loc[:,['Nom_Districte_Educatiu', 'Població']].drop_duplicates(keep='first',inplace=False).sort_values(by=['Població'])\ndf_POB.plot(kind='scatter',x='Població', y='Nom_Districte_Educatiu', color=colors[4])\nplt.show()",
   "execution_count": null,
   "outputs": [
    {
     "data": {
      "text/plain": "<Figure size 432x288 with 1 Axes>",
      "image/png": "[encoded data removed]"
     },
     "metadata": {
      "image/png": {
       "width": 501,
       "height": 268
      }
     },
     "output_type": "display_data"
    }
   ]
  },
  {
   "cell_type": "code",
   "metadata": {
    "tags": [],
    "cell_id": "00005-001c0608-e9ff-444b-a140-50c4d2553b15",
    "deepnote_to_be_reexecuted": true,
    "source_hash": "7ccc3807",
    "execution_millis": 264,
    "execution_start": 1620753135978,
    "deepnote_cell_type": "code"
   },
   "source": "## First looking at the distribution of the answers:\nsex_names = df_t['Sexe'].unique()\nsex_count = [(df_t['Sexe'] == x).sum() for x in sex_names]\n\nplt.barh(sex_names, sex_count)\nplt.xticks(rotation=90)\nplt.show()",
   "execution_count": null,
   "outputs": [
    {
     "data": {
      "text/plain": "<Figure size 432x288 with 1 Axes>",
      "image/png": "[encoded data removed]"
     },
     "metadata": {
      "image/png": {
       "width": 379,
       "height": 269
      }
     },
     "output_type": "display_data"
    }
   ]
  },
  {
   "cell_type": "code",
   "metadata": {
    "tags": [],
    "cell_id": "00006-a2d79ba0-539c-48a5-bd4d-4aee57c9f822",
    "deepnote_to_be_reexecuted": true,
    "source_hash": "3cb394a4",
    "execution_start": 1620753136244,
    "execution_millis": 248,
    "deepnote_cell_type": "code"
   },
   "source": "## First looking at the distribution of the answers:\ngrade_names = df['Curs'].unique()\ngrade_count = [(df['Curs'] == x).sum() for x in grade_names]\n\nplt.bar(grade_names, grade_count)\nplt.xticks(rotation=90)\nplt.show()",
   "execution_count": null,
   "outputs": [
    {
     "data": {
      "text/plain": "<Figure size 432x288 with 1 Axes>",
      "image/png": "[encoded data removed]"
     },
     "metadata": {
      "image/png": {
       "width": 386,
       "height": 255
      }
     },
     "output_type": "display_data"
    }
   ]
  },
  {
   "cell_type": "code",
   "metadata": {
    "tags": [],
    "cell_id": "00007-efbf1560-6c81-424a-a59c-3e7bf9236658",
    "deepnote_to_be_reexecuted": true,
    "source_hash": "a7425cf0",
    "execution_millis": 289,
    "execution_start": 1620753136490,
    "deepnote_cell_type": "code"
   },
   "source": "## First looking at the distribution of the answers:\nedat_names = df['Edat'].unique()\nedat_count = [(df['Edat'] == x).sum() for x in edat_names]\n\nplt.bar(edat_names, edat_count)\nplt.xticks(rotation=90)\nplt.show()",
   "execution_count": null,
   "outputs": [
    {
     "data": {
      "text/plain": "<Figure size 432x288 with 1 Axes>",
      "image/png": "[encoded data removed]"
     },
     "metadata": {
      "image/png": {
       "width": 386,
       "height": 259
      }
     },
     "output_type": "display_data"
    }
   ]
  },
  {
   "cell_type": "code",
   "metadata": {
    "tags": [],
    "cell_id": "00008-44efb457-0197-41f1-9fab-6dbe065e7bab",
    "deepnote_to_be_reexecuted": true,
    "source_hash": "7ab87f31",
    "execution_millis": 6,
    "execution_start": 1620753136781,
    "deepnote_cell_type": "code"
   },
   "source": "# cols = ['Nom_Districte_Educatiu', 'Sexe']\n# d_gen = df[cols].copy()\n# dummy_gen = pd.get_dummies(d_gen['Sexe'])\n# d_gen = d_gen.drop('Sexe', 1)\n# d_gen = pd.concat([d_gen, dummy_gen],axis=1)\n# d_gen = d_gen.groupby['Nom_Districte_Educatiu'].sum()\n# d_gen.info()\n# # d_gen\n",
   "execution_count": null,
   "outputs": []
  },
  {
   "cell_type": "markdown",
   "source": "<a style='text-decoration:none;line-height:16px;display:flex;color:#5B5B62;padding:10px;justify-content:end;' href='https://deepnote.com?utm_source=created-in-deepnote-cell&projectId=5cb1a2c0-2f56-40d6-8008-fedeaf8b6a17' target=\"_blank\">\n<img alt='Created in deepnote.com' style='display:inline;max-height:16px;margin:0px;margin-right:7.5px;' src='data:image/svg+xml;base64,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' > </img>\nCreated in <span style='font-weight:600;margin-left:4px;'>Deepnote</span></a>",
   "metadata": {
    "tags": [],
    "created_in_deepnote_cell": true,
    "deepnote_cell_type": "markdown"
   }
  }
 ],
 "nbformat": 4,
 "nbformat_minor": 2,
 "metadata": {
  "orig_nbformat": 2,
  "deepnote": {
   "is_reactive": false
  },
  "deepnote_notebook_id": "5b02e314-2b64-4e26-b9fe-23b6808544f7",
  "deepnote_execution_queue": []
 }
}