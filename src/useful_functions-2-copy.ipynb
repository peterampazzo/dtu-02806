{
 "cells": [
  {
   "cell_type": "markdown",
   "source": "### USEFUL FUNCTIONS\n\nNotebook with useful functions used throughout the `main_explainer.ipynb` and other notebooks.",
   "metadata": {
    "tags": [],
    "deepnote_to_be_reexecuted": false,
    "source_hash": "f47b4add",
    "execution_start": 1618910528076,
    "execution_millis": 8,
    "cell_id": "00000-c242dde2-4705-4656-964e-fafa66727329",
    "deepnote_cell_type": "markdown"
   }
  },
  {
   "cell_type": "code",
   "metadata": {
    "tags": [],
    "deepnote_to_be_reexecuted": false,
    "source_hash": "8f152502",
    "execution_millis": 1364,
    "execution_start": 1620977277659,
    "cell_id": "00001-3e1cfcc0-2ecf-4d90-8dae-2f917a739331",
    "deepnote_cell_type": "code"
   },
   "source": "# Importing and translating the dataframe:\nimport pandas as pd\nimport numpy as np\nimport matplotlib.pyplot as plt\nimport seaborn as sns\nimport googletrans\nfrom googletrans import Translator\n# sns.set_style('whitegrid') # Do not put this please, it messes with all my plots \nsns.set(style='white')\n\n\nfile_path = '../data/2017_ebsib_bcn_enquesta_benestar_subjectiu_infancia_barcelona.csv'\ndf = pd.read_csv(file_path, sep=';')",
   "execution_count": 1,
   "outputs": []
  },
  {
   "cell_type": "code",
   "metadata": {
    "tags": [],
    "deepnote_to_be_reexecuted": false,
    "source_hash": "955af002",
    "execution_start": 1620995295223,
    "execution_millis": 193,
    "cell_id": "00002-969384f5-ca43-4972-aec2-0cf37ec42b4c",
    "deepnote_cell_type": "code"
   },
   "source": "# Translated data-frame:\nfile_path_t = '/work/data/translated.csv'\ndf_t = pd.read_csv(file_path_t, sep=',')\ndf_t = df_t.drop(df_t.columns[0], axis=1)",
   "execution_count": 1,
   "outputs": [
    {
     "output_type": "error",
     "ename": "NameError",
     "evalue": "name 'pd' is not defined",
     "traceback": [
      "\u001b[0;31m---------------------------------------------------------------------------\u001b[0m",
      "\u001b[0;31mNameError\u001b[0m                                 Traceback (most recent call last)",
      "\u001b[0;32m<ipython-input-1-89cd0b4804a4>\u001b[0m in \u001b[0;36m<module>\u001b[0;34m\u001b[0m\n\u001b[1;32m      1\u001b[0m \u001b[0;31m# Translated data-frame:\u001b[0m\u001b[0;34m\u001b[0m\u001b[0;34m\u001b[0m\u001b[0;34m\u001b[0m\u001b[0m\n\u001b[1;32m      2\u001b[0m \u001b[0mfile_path_t\u001b[0m \u001b[0;34m=\u001b[0m \u001b[0;34m'/work/data/translated.csv'\u001b[0m\u001b[0;34m\u001b[0m\u001b[0;34m\u001b[0m\u001b[0m\n\u001b[0;32m----> 3\u001b[0;31m \u001b[0mdf_t\u001b[0m \u001b[0;34m=\u001b[0m \u001b[0mpd\u001b[0m\u001b[0;34m.\u001b[0m\u001b[0mread_csv\u001b[0m\u001b[0;34m(\u001b[0m\u001b[0mfile_path_t\u001b[0m\u001b[0;34m,\u001b[0m \u001b[0msep\u001b[0m\u001b[0;34m=\u001b[0m\u001b[0;34m','\u001b[0m\u001b[0;34m)\u001b[0m\u001b[0;34m\u001b[0m\u001b[0;34m\u001b[0m\u001b[0m\n\u001b[0m\u001b[1;32m      4\u001b[0m \u001b[0mdf_t\u001b[0m \u001b[0;34m=\u001b[0m \u001b[0mdf_t\u001b[0m\u001b[0;34m.\u001b[0m\u001b[0mdrop\u001b[0m\u001b[0;34m(\u001b[0m\u001b[0mdf_t\u001b[0m\u001b[0;34m.\u001b[0m\u001b[0mcolumns\u001b[0m\u001b[0;34m[\u001b[0m\u001b[0;36m0\u001b[0m\u001b[0;34m]\u001b[0m\u001b[0;34m,\u001b[0m \u001b[0maxis\u001b[0m\u001b[0;34m=\u001b[0m\u001b[0;36m1\u001b[0m\u001b[0;34m)\u001b[0m\u001b[0;34m\u001b[0m\u001b[0;34m\u001b[0m\u001b[0m\n",
      "\u001b[0;31mNameError\u001b[0m: name 'pd' is not defined"
     ]
    }
   ]
  },
  {
   "cell_type": "code",
   "metadata": {
    "tags": [],
    "deepnote_to_be_reexecuted": false,
    "source_hash": "17916280",
    "execution_start": 1620977279230,
    "execution_millis": 79,
    "cell_id": "00003-e63dd302-bbee-431e-bcca-16572c8708cd",
    "deepnote_cell_type": "code"
   },
   "source": "# Include Average income and Population by neighborhood\n# Import Territorial Demographics:\nfile_path = '../data/2017_distribucio_territorial_renda_familiar.csv'\ndf_inc = pd.read_csv(file_path, sep=',')\n\n# Calculate sum of Population / Mean RFD Index/ Weighthed Mean RFD Index (taking in to account population) --> By neighborhood\ndf_inc['SumW']= df_inc['Població'] * df_inc['Índex RFD Barcelona = 100']\ndf_dist = df_inc.groupby(['Codi_Districte']).agg({'Població':'sum','SumW':'sum', 'Índex RFD Barcelona = 100':'mean'})\ndf_dist['RFD-sumw']= df_dist['SumW'] / df_dist['Població']\ndf_dist.pop('SumW')\n\n# Aggregate measures in the original data-set\ndf_t = df_t.join(df_dist, on='Codi_Districte_Educatiu').rename(columns={'Índex RFD Barcelona = 100':'RFD-mean'})\n\n# Calculate Std. deviation and Std. error of RFD Index and aggregate to original\ndf_dist2 = df_inc.groupby(['Codi_Districte']).agg({'Índex RFD Barcelona = 100':'std'})\ndf_t = df_t.join(df_dist2, on='Codi_Districte_Educatiu').rename(columns={'Índex RFD Barcelona = 100':'RFD-std'})\ndf_dist3 = df_inc.groupby(['Codi_Districte']).agg({'Índex RFD Barcelona = 100':'sem'})\ndf_t = df_t.join(df_dist3, on='Codi_Districte_Educatiu').rename(columns={'Índex RFD Barcelona = 100':'RFD-sem'})",
   "execution_count": 3,
   "outputs": []
  },
  {
   "cell_type": "code",
   "metadata": {
    "tags": [],
    "deepnote_to_be_reexecuted": false,
    "source_hash": "b77811cd",
    "execution_start": 1620977279322,
    "execution_millis": 9,
    "cell_id": "00004-cf818e7b-1035-4419-ae0c-0061c2df73f3",
    "deepnote_cell_type": "code"
   },
   "source": "def dic_codi_dist(df_):\n    codi_nom = df_.loc[:, ['Codi_Districte_Educatiu', 'Nom_Districte_Educatiu']].drop_duplicates(keep='first',inplace=False).sort_values('Codi_Districte_Educatiu')\n    codi_nom = codi_nom.set_index('Codi_Districte_Educatiu')\n    d_ = codi_nom.to_dict()\n    return (d_['Nom_Districte_Educatiu'])",
   "execution_count": 4,
   "outputs": []
  },
  {
   "cell_type": "code",
   "metadata": {
    "tags": [],
    "deepnote_to_be_reexecuted": false,
    "source_hash": "ee3d816e",
    "execution_start": 1620977279357,
    "execution_millis": 20,
    "cell_id": "00005-10b7b1f1-88df-4db4-816c-b8630ebf94f5",
    "deepnote_cell_type": "code"
   },
   "source": "# COOR IMPORTS\nimport matplotlib.colors\n\n# Defining incremental color scale\ncolors_rgba_hex = ['#EDF6CA',\"#d9ed92\",\"#b5e48c\",\"#99d98c\",\"#76c893\",\"#52b69a\",\"#34a0a4\",\"#168aad\",\"#1a759f\",\"#1e6091\",\"#184e77\", \"#0E2C44\"]\ncolors_rgba = [matplotlib.colors.to_rgba(col) for col in colors_rgba_hex[::-1]]\n\ncolors_hex = ['#00378F', '#FF595E', '#FFCA3A', '#8AC926', '#1982C4', '#6A4C93']\ncolors = [matplotlib.colors.to_rgba(col) for col in colors_hex[::-1]]\n\n\ncolors2_hex= [\"#FFCA3A\",\"#DAAB50\",\"#A3798B\",\"#7D5C9B\",\"#4D376C\"] # YELLOW - PURPLES\n# colors2_hex= [\"#0B59AD\",\"#66ABF4\",\"#EBEBD3\",\"#F4D35E\",\"#EE964B\"]  # BLUE-ORANGE\ncolors2 = [matplotlib.colors.to_rgba(col) for col in colors2_hex]",
   "execution_count": 6,
   "outputs": []
  },
  {
   "cell_type": "code",
   "metadata": {
    "tags": [],
    "deepnote_to_be_reexecuted": false,
    "source_hash": "40529bf7",
    "execution_start": 1620980362186,
    "execution_millis": 0,
    "cell_id": "00006-57a2ab57-714f-4416-b94d-bff20d32a486",
    "deepnote_cell_type": "code"
   },
   "source": "# FEELINGS DISTRIBUTIONS - PLOT BAR SATCKED\n# Preparing thr Function for Plotting the results for feelings stacked plot: \ndef f_sbar_plot(dic): \n    # Plotting Feeling frequencies:\n    plt.figure(figsize=(18, 10))\n    # plt.rcParams['figure.dpi'] = 600\n    axes = []\n\n    # Aggregating each feeling level:\n    cum_size = np.zeros(len(feelings))\n    i=0\n    for level ,row_data in zip(dic.keys(),dic.values()):\n        axes.append(plt.barh(feelings_names, row_data, left=cum_size,\n                                label=level, color=colors_rgba[i]))\n        cum_size += row_data\n        i +=1\n\n    ax = plt.gca()\n    ax.spines[\"right\"].set_visible(False)\n    ax.spines[\"left\"].set_visible(False)\n    ax.spines[\"top\"].set_visible(False)\n    ax.set_xticks(np.arange(0,101,20))\n    plt.legend(bbox_to_anchor=(0.5,0.95), loc=\"lower center\", ncol=len(levels), frameon=False, fontsize='medium',\n    title = \"                    Never                                                                                                                                                           All the time\")\n    # ax.legend(bbox_to_anchor=(0.5,0.95), loc=\"lower center\", ncol=len(levels), frameon=False, fontsize='medium')\n\n    # plt.ylabel(\"Feelings\", fontsize=16)\n    plt.xlabel(\"Ratio of answers per level\", fontsize=16)\n    plt.suptitle(\"How often did you have this feeling during the last two weeks?\", fontsize=22)\n\n    # plt.savefig('f_sbar.png', bbox_inches='tight')\n    plt.show()",
   "execution_count": 14,
   "outputs": []
  },
  {
   "cell_type": "code",
   "metadata": {
    "tags": [],
    "deepnote_to_be_reexecuted": false,
    "source_hash": "f5d162ed",
    "execution_start": 1620980475321,
    "execution_millis": 1,
    "cell_id": "00007-533c0209-c418-48b7-b0e3-afd2af5d8253",
    "deepnote_cell_type": "code"
   },
   "source": "# FEELINGS DISTRIBUTIONS - PLOT POSTIVE - NEGATIVE\ndef f_dist_plot(df_):\n    df_ = df_.rename(columns=f_labels)\n    feelings_names = [\"SAD\", \"STRESSED\", \"BORED\",\"HAPPY\",\"CALM\", \"ENERGETIC\"]\n\n    fig,axs = plt.subplots(ncols=2, nrows=1, figsize=(16,6), sharex= True, sharey= True)\n    plt.subplots_adjust(wspace=0.6, hspace=0.01)\n\n    df_.loc[:,feelings_names[3:]].plot(ax=axs[0], lw=2.5, fontsize=12, style={'CALM': '--c', 'ENERGETIC': ':c', 'HAPPY': 'b'})\n    df_.loc[:,feelings_names[:3]].plot(ax=axs[1], lw=2.5, fontsize=12, style={'BORED': ':c', 'STRESSED': '--c', 'SAD': 'b'})\n\n    for ax in axs:\n        ax.spines[\"right\"].set_visible(False)\n        ax.spines[\"left\"].set_visible(False)\n        ax.spines[\"top\"].set_visible(False)\n\n        ax.grid(axis='y', color='#eee9e9', linestyle='dotted', linewidth=1.5)\n        ax.legend(bbox_to_anchor=(1,1), loc=\"upper left\", frameon=False, fontsize='medium')\n        ax.set_xlabel(\"Frequency levels\", fontsize=14)\n        ax.set_ylabel(\"Ratio of answers (%)\", fontsize=14)\n        # ax.legend(frameon=False, fontsize='medium')\n\n    plt.suptitle(\"Feelings Frequency Distribution\", fontsize=18)\n\n    # plt.savefig('f_dist.png', bbox_inches='tight')\n    plt.tight_layout()\n    plt.show()",
   "execution_count": 15,
   "outputs": []
  },
  {
   "cell_type": "code",
   "metadata": {
    "tags": [],
    "deepnote_to_be_reexecuted": false,
    "source_hash": "e22feb7e",
    "execution_start": 1620987737651,
    "execution_millis": 1,
    "cell_id": "00008-fd060766-0dd3-4d09-bb43-d2c5106c6dc6",
    "deepnote_cell_type": "code"
   },
   "source": "# CORRELATIONS ACCESS TO MATERIALS - DATA PREP\ndef am_dataprep(df_, att_name, levels, no=True):\n    cols = [att_name] + levels + ['RFD-sumw']\n    df_am = df_[cols].copy().sort_values('RFD-sumw')\n    df_am = df_am.dropna()\n    df_am.pop('RFD-sumw')\n\n    att_ = df_am[att_name].unique()\n    if att_name == 'ERFDbllp':\n        values = ['Neighborhoods outside the city Barcelona', 'NC']\n        for value in values:\n            j, = np.where(att_ == value) \n            att_ = np.delete(att_,j )\n\n    mtrx = []\n    for att in att_:\n        row = []\n        for lev in levels:\n            df_temp = df_am.loc[df_am[att_name]==att][lev].value_counts(normalize=True)*100\n            if no:\n                val = df_temp['No']\n            else:\n                val = df_temp['Yes']\n            row.append(val)\n        mtrx.append(row)\n    return(mtrx, att_)",
   "execution_count": 17,
   "outputs": []
  },
  {
   "cell_type": "code",
   "metadata": {
    "tags": [],
    "deepnote_to_be_reexecuted": false,
    "source_hash": "d9663f3d",
    "execution_start": 1620987736013,
    "execution_millis": 1,
    "cell_id": "00009-9bfcfbfd-51cb-4bfb-a7de-b47cea58ee7e",
    "deepnote_cell_type": "code"
   },
   "source": "# CORRELATIONS ACCESS TO MATERIALS - PLOT\ndef sat_plot(mtrx,lev_, att_,fig_tup=(5,10), col = 'whitesmoke'):    \n    fig, ax = plt.subplots(figsize=fig_tup)\n    im = ax.imshow(mtrx, cmap='Purples')\n\n    # We want to show all ticks...\n    ax.set_xticks(np.arange(len(lev_)))\n    ax.set_yticks(np.arange(len(att_)))\n\n    # ... and label them with the respective list entries\n    ax.set_xticklabels(lev_, rotation = 45, ha= \"left\")\n    ax.set_yticklabels(att_)\n\n    # Add grid\n    ax.set_xticks(np.arange(len(lev_))-.5, minor=True)\n    ax.set_yticks(np.arange(len(lev_))-.5, minor=True)\n    ax.grid(which=\"minor\", color=\"w\", linestyle='-', linewidth=1.5)\n    ax.tick_params(which=\"minor\", bottom=False, left=False)\n\n    # Let the horizontal axes labeling appear on top.\n    ax.tick_params(top=True, bottom=False, left=True,\n                labeltop=True, labelbottom=False, labelsize=14, pad=6)\n\n    # Despine\n    for edge, spine in ax.spines.items():\n        spine.set_visible(False)\n        \n\n    # Loop over data dimensions and create text annotations.\n    for i in range(len(att_)):\n        for j in range(len(lev_)):\n            text = ax.text(j, i, round(mtrx[i][j],1),\n                    ha=\"center\", va=\"center\", color=col, fontsize=16, fontweight='bold')\n    \n    # plt.title(\"Limitted access to materials\", fontsize=22, y=1.2, fontweight='bold')\n    fig.tight_layout()\n    plt.show()",
   "execution_count": 16,
   "outputs": []
  },
  {
   "cell_type": "code",
   "metadata": {
    "tags": [],
    "deepnote_to_be_reexecuted": false,
    "source_hash": "bed5bd9b",
    "execution_millis": 6,
    "execution_start": 1620977279382,
    "cell_id": "00010-ed0fd268-5ee7-4a4f-9de0-617ab639d7a3",
    "deepnote_cell_type": "code"
   },
   "source": "# WIP: generate dict of districts and code\n# df.groupby(['Codi_Districte_Educatiu','Nom_Districte_Educatiu']).toList()",
   "execution_count": 7,
   "outputs": []
  },
  {
   "cell_type": "code",
   "metadata": {
    "tags": [],
    "deepnote_to_be_reexecuted": false,
    "source_hash": "26e48f07",
    "execution_start": 1620977279393,
    "execution_millis": 40,
    "cell_id": "00011-19c1e938-5aca-4c0d-b298-f2d316963f42",
    "deepnote_cell_type": "code"
   },
   "source": "# # Existing Columns\n\n# {\n#  'ID',\n#  'Codi_Districte_Educatiu',\n#  'Nom_Districte_Educatiu',\n#  'Curs',\n#  # Part 1?\n#  'Sexe',\n#  'Llar_BCN',\n#  'ERFDbllp',\n#  'Edat',\n#  '4.1': 'amb_qui_vius',\n#  '4.2': 'familia_altra_casa',\n#  '4.3': 'frequencia_altra_familia',\n#  '5.1.1': 'mare',\n#  '5.1.2': 'pare',\n#  '5.1.3': 'parella_mare',\n#  '5.1.4': 'segona_mare',\n#  '5.1.5': 'parella_pare',\n#  '5.1.6': 'segon_pare',\n#  '5.1.7': 'germans',\n#  '5.1.8': 'avis',\n#  '5.1.9': 'altres_infants',\n#  '5.1.10': 'altres_adults',\n#  '5.1.11': 'animals',\n#  '5.2': 'germans_mateixa_llar',\n#  '5.3': 'avis_mateixa_llar', # not sure\n#  '6': 's_familia', # not sure\n#  '7.1': 'f_preocupacio',\n#  '7.2': 'f_suport',\n#  '7.3': 'f_bejunts',\n#  '7.4': 'f_seguretat',\n#  '7.5': 'f_escolta',\n#  '7.6': 'f_llibertat',\n#  'on_vas_niexer', # not sure\n#  'on_va_neixer_mare_progenitor1',# not sure\n#  'on_va_neixer_pare_progenitor2',# not sure\n#  'dificultat_fisica',# not sure\n#  'dificultat_aprenentatge',# not sure\n#  'dificultat_per_malaltia',# not sure\n#  'ps_malcap',\n#  'ps_panxa',\n#  'ps_esquena',\n#  'ps_insomni',\n#  's_llar',\n#  'll_estudi',\n#  'll_joc',\n#  'cotxe',\n#  'habitacio',\n#  'ordinadors',\n#  'banys',\n#  'rentaplats',\n#  'vacances',\n#  'preocupacio_diners',\n#  'amb_qui_vius_feina',\n#  's_bmaterials',\n#  'bm_internet',\n#  'bm_mobil',\n#  'bm_sabates',\n#  'bm_mescola',\n#  'bm_maficions',\n#  's_amics',\n#  'a_suficients',\n#  'a_tractebe',\n#  'a_bejunts',\n#  'a_suport',\n#  'a_freq_foraescola',\n#  's_vidaestudiant',\n#  's_aprenentatges',\n#  's_igualsclasse',\n#  'temps_trajecte_escolar',\n#  'seguretat_trajecte_escolar',\n#  'e_preocupacio',\n#  'e_suportmestres',\n#  'e_suportiguals',\n#  'e_discussions_inv',\n#  'e_escolta',\n#  'e_eleccio',\n#  'e_seguretat',\n#  'e_freq_baralles',\n#  'e_vfisica_inv',\n#  'e_vverbal_inv',\n#  'e_vbuit_inv',\n#  'e_afisic_inv',\n#  'e_averbal_inv',\n#  'e_abuit_inv',\n#  's_barri',\n#  'b_seguretat',\n#  'b_joc',\n#  'b_suport',\n#  'b_amabilitat',\n#  'b_llibertat',\n#  'b_escolta',\n#  'b_freq_baralles',\n#  's_seguretat',\n#  's_llibertat',\n#  's_cos',\n#  'contrastslssm_exps',\n#  's_escoltaadulta',\n#  's_salut',\n#  'contrastslssm_olsm',\n#  'SLSSm',\n#  'SLSSmc',\n#  'slssm_vabe',\n#  'slssm_hauria',\n#  'slssm_bona',\n#  'slssm_excel',\n#  'slssm_agrada',\n#  'slssm_gaudi',\n#  'slssm_feliç',\n#  'f_felicitat',\n#  'f_tristesa',\n#  'f_calma',\n#  'f_estres',\n#  'f_energia',\n#  'f_avorriment',\n#  'contrastslssm_exp2',\n#  's_ustemps',\n#  's_tempslliure',\n#  't_ajuda',\n#  't_cuida',\n#  't_treball',\n#  't_classes',\n#  't_deures',\n#  't_tv',\n#  't_esport',\n#  't_familia',\n#  't_airelliure',\n#  't_xarxes',\n#  't_videojocs',\n#  't_resrepos',\n#  'd_drets',\n#  'd_convencio'\n# }",
   "execution_count": 8,
   "outputs": []
  },
  {
   "cell_type": "code",
   "metadata": {
    "tags": [],
    "deepnote_to_be_reexecuted": false,
    "source_hash": "77a2913b",
    "execution_millis": 0,
    "execution_start": 1620977279433,
    "cell_id": "00012-5ebe4566-729e-4761-a645-a872e345103f",
    "deepnote_cell_type": "code"
   },
   "source": "def translate_svy(df):\n    # use translate method to translate a string - by default, the destination language is english\n    translator = Translator()\n\n    # make a deep copy of the data frame\n    df_en = df.copy()\n\n    # translate columns' name using rename function\n    df_en.rename(columns=lambda x: translator.translate(x, src='ca').text, inplace=True)\n\n    # translated column names\n    df_en.columns",
   "execution_count": 9,
   "outputs": []
  },
  {
   "cell_type": "code",
   "metadata": {
    "tags": [],
    "deepnote_to_be_reexecuted": false,
    "source_hash": "fb7c780e",
    "execution_millis": 0,
    "execution_start": 1620977279434,
    "cell_id": "00013-4c986d27-114f-4be3-aa32-21fd177f18e1",
    "deepnote_cell_type": "code"
   },
   "source": "# Basic statistics for a numerical LIST\ndef basic_stats(LIST, ratio=False, r=0):    \n    # Stats:\n    if ratio:\n        print(\"  N: \", len(LIST), f\"({round(100*len(LIST)/r,2)}%)\")\n    else:\n        print(\"  N: \", len(LIST))\n\n    print('  Variance', round(np.var(LIST),2))\n    print('  Average:', round(np.mean(LIST),2))\n    print('  Median:', np.median(LIST))\n    print('  Max:', max(LIST))\n    print('  Min:', min(LIST))",
   "execution_count": 10,
   "outputs": []
  },
  {
   "cell_type": "code",
   "metadata": {
    "tags": [],
    "deepnote_to_be_reexecuted": false,
    "source_hash": "80919024",
    "execution_millis": 13,
    "execution_start": 1620977279434,
    "cell_id": "00014-3ff7ad7c-7469-47c9-beac-5e507cf6f6bb",
    "deepnote_cell_type": "code"
   },
   "source": "def plot_yes_no(plot_col):\n    cols = ['Codi_Districte_Educatiu', 'Nom_Districte_Educatiu', plot_col]\n    plot_df = df_t.copy()\n    plot_df = plot_df[cols]\n\n    district_names = plot_df['Nom_Districte_Educatiu'].unique()\n    district_count = [plot_df[plot_df['Nom_Districte_Educatiu'] == name].count()[plot_col] for name in district_names] \n\n    options = plot_df[plot_col].unique()\n\n    plot_grouped = plot_df.groupby(['Nom_Districte_Educatiu', plot_col]).count()\n    plot_grouped.columns = ['count']\n\n    # Looking at yes\n    yes_count = np.array([plot_grouped.loc[(x, 'Yes'), :].values[0] for x in district_names])\n    yes_count = yes_count/district_count\n\n    # Looking at no\n    no_count = np.array([plot_grouped.loc[(x, 'No'), :].values[0] for x in district_names])\n    no_count = no_count/district_count\n\n    fig, ax = plt.subplots(1, 2, figsize=(15, 5))\n\n    ax[0].bar(district_names, yes_count)\n    ax[0].set_title('Yes')\n\n    ax[1].bar(district_names, no_count)\n    ax[1].set_title('No')\n\n    ax[0].tick_params(axis='x', labelrotation=90)\n    ax[1].tick_params(axis='x', labelrotation=90)\n    plt.show()",
   "execution_count": 11,
   "outputs": []
  },
  {
   "cell_type": "code",
   "metadata": {
    "tags": [],
    "deepnote_to_be_reexecuted": false,
    "source_hash": "46eaa0a9",
    "execution_start": 1620977279451,
    "execution_millis": 6,
    "cell_id": "00015-e7b24845-e695-4967-810e-d83fe2fc3633",
    "deepnote_cell_type": "code"
   },
   "source": "# plot_yes_no('ll_estudi')",
   "execution_count": 12,
   "outputs": []
  },
  {
   "cell_type": "code",
   "metadata": {
    "tags": [],
    "deepnote_to_be_reexecuted": false,
    "source_hash": "c0c122dd",
    "execution_start": 1620977279462,
    "execution_millis": 14,
    "cell_id": "00016-53809bec-0cd8-4032-a6b0-90deeb4f523f",
    "deepnote_cell_type": "code"
   },
   "source": "def stacked_vars(df_t, name_var, colors, rename_var='', leg='top'):\n    count = df_t[name_var].value_counts(normalize=True)*100\n    piv_ = count.to_frame().T\n    levels = piv_.shape[1]\n\n    if rename_var!='':\n        piv_ = piv_.rename(index={name_var: rename_var})\n\n    piv_.plot.barh(stacked=True, figsize=(10,3), color = colors[:levels])\n\n    if leg=='top':\n        plt.legend(bbox_to_anchor=(0.98,0.9), loc=\"lower right\", ncol=levels, frameon=False, fontsize='medium')\n    elif leg=='r':\n        plt.legend(bbox_to_anchor=(0.98,0.94), loc=\"upper left\", frameon=False, fontsize='medium')\n\n    plt.tick_params(labelsize=14, pad=6)\n    \n    ax = plt.gca()\n    ax.spines[\"right\"].set_visible(False)\n    ax.spines[\"left\"].set_visible(False)\n    ax.spines[\"top\"].set_visible(False)\n    # ax.spines[\"bottom\"].set_visible(False)\n\n    plt.tight_layout()",
   "execution_count": 13,
   "outputs": []
  },
  {
   "cell_type": "code",
   "metadata": {
    "tags": [],
    "deepnote_to_be_reexecuted": false,
    "source_hash": "b623e53d",
    "execution_start": 1620977279481,
    "execution_millis": 5,
    "cell_id": "00017-984b49cf-8293-4c38-89fa-398e5084e3c9",
    "deepnote_cell_type": "code"
   },
   "source": "",
   "execution_count": 13,
   "outputs": []
  },
  {
   "cell_type": "markdown",
   "source": "<a style='text-decoration:none;line-height:16px;display:flex;color:#5B5B62;padding:10px;justify-content:end;' href='https://deepnote.com?utm_source=created-in-deepnote-cell&projectId=5cb1a2c0-2f56-40d6-8008-fedeaf8b6a17' target=\"_blank\">\n<img alt='Created in deepnote.com' style='display:inline;max-height:16px;margin:0px;margin-right:7.5px;' src='data:image/svg+xml;base64,PD94bWwgdmVyc2lvbj0iMS4wIiBlbmNvZGluZz0iVVRGLTgiPz4KPHN2ZyB3aWR0aD0iODBweCIgaGVpZ2h0PSI4MHB4IiB2aWV3Qm94PSIwIDAgODAgODAiIHZlcnNpb249IjEuMSIgeG1sbnM9Imh0dHA6Ly93d3cudzMub3JnLzIwMDAvc3ZnIiB4bWxuczp4bGluaz0iaHR0cDovL3d3dy53My5vcmcvMTk5OS94bGluayI+CiAgICA8IS0tIEdlbmVyYXRvcjogU2tldGNoIDU0LjEgKDc2NDkwKSAtIGh0dHBzOi8vc2tldGNoYXBwLmNvbSAtLT4KICAgIDx0aXRsZT5Hcm91cCAzPC90aXRsZT4KICAgIDxkZXNjPkNyZWF0ZWQgd2l0aCBTa2V0Y2guPC9kZXNjPgogICAgPGcgaWQ9IkxhbmRpbmciIHN0cm9rZT0ibm9uZSIgc3Ryb2tlLXdpZHRoPSIxIiBmaWxsPSJub25lIiBmaWxsLXJ1bGU9ImV2ZW5vZGQiPgogICAgICAgIDxnIGlkPSJBcnRib2FyZCIgdHJhbnNmb3JtPSJ0cmFuc2xhdGUoLTEyMzUuMDAwMDAwLCAtNzkuMDAwMDAwKSI+CiAgICAgICAgICAgIDxnIGlkPSJHcm91cC0zIiB0cmFuc2Zvcm09InRyYW5zbGF0ZSgxMjM1LjAwMDAwMCwgNzkuMDAwMDAwKSI+CiAgICAgICAgICAgICAgICA8cG9seWdvbiBpZD0iUGF0aC0yMCIgZmlsbD0iIzAyNjVCNCIgcG9pbnRzPSIyLjM3NjIzNzYyIDgwIDM4LjA0NzY2NjcgODAgNTcuODIxNzgyMiA3My44MDU3NTkyIDU3LjgyMTc4MjIgMzIuNzU5MjczOSAzOS4xNDAyMjc4IDMxLjY4MzE2ODMiPjwvcG9seWdvbj4KICAgICAgICAgICAgICAgIDxwYXRoIGQ9Ik0zNS4wMDc3MTgsODAgQzQyLjkwNjIwMDcsNzYuNDU0OTM1OCA0Ny41NjQ5MTY3LDcxLjU0MjI2NzEgNDguOTgzODY2LDY1LjI2MTk5MzkgQzUxLjExMjI4OTksNTUuODQxNTg0MiA0MS42NzcxNzk1LDQ5LjIxMjIyODQgMjUuNjIzOTg0Niw0OS4yMTIyMjg0IEMyNS40ODQ5Mjg5LDQ5LjEyNjg0NDggMjkuODI2MTI5Niw0My4yODM4MjQ4IDM4LjY0NzU4NjksMzEuNjgzMTY4MyBMNzIuODcxMjg3MSwzMi41NTQ0MjUgTDY1LjI4MDk3Myw2Ny42NzYzNDIxIEw1MS4xMTIyODk5LDc3LjM3NjE0NCBMMzUuMDA3NzE4LDgwIFoiIGlkPSJQYXRoLTIyIiBmaWxsPSIjMDAyODY4Ij48L3BhdGg+CiAgICAgICAgICAgICAgICA8cGF0aCBkPSJNMCwzNy43MzA0NDA1IEwyNy4xMTQ1MzcsMC4yNTcxMTE0MzYgQzYyLjM3MTUxMjMsLTEuOTkwNzE3MDEgODAsMTAuNTAwMzkyNyA4MCwzNy43MzA0NDA1IEM4MCw2NC45NjA0ODgyIDY0Ljc3NjUwMzgsNzkuMDUwMzQxNCAzNC4zMjk1MTEzLDgwIEM0Ny4wNTUzNDg5LDc3LjU2NzA4MDggNTMuNDE4MjY3Nyw3MC4zMTM2MTAzIDUzLjQxODI2NzcsNTguMjM5NTg4NSBDNTMuNDE4MjY3Nyw0MC4xMjg1NTU3IDM2LjMwMzk1NDQsMzcuNzMwNDQwNSAyNS4yMjc0MTcsMzcuNzMwNDQwNSBDMTcuODQzMDU4NiwzNy43MzA0NDA1IDkuNDMzOTE5NjYsMzcuNzMwNDQwNSAwLDM3LjczMDQ0MDUgWiIgaWQ9IlBhdGgtMTkiIGZpbGw9IiMzNzkzRUYiPjwvcGF0aD4KICAgICAgICAgICAgPC9nPgogICAgICAgIDwvZz4KICAgIDwvZz4KPC9zdmc+' > </img>\nCreated in <span style='font-weight:600;margin-left:4px;'>Deepnote</span></a>",
   "metadata": {
    "tags": [],
    "created_in_deepnote_cell": true,
    "deepnote_cell_type": "markdown"
   }
  }
 ],
 "nbformat": 4,
 "nbformat_minor": 2,
 "metadata": {
  "orig_nbformat": 2,
  "deepnote": {
   "is_reactive": false
  },
  "deepnote_notebook_id": "476d0fb0-0c48-400e-940d-766d8ee50b9f",
  "deepnote_execution_queue": []
 }
}