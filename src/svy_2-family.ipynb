{
 "cells": [
  {
   "cell_type": "code",
   "metadata": {
    "tags": [],
    "cell_id": "00000-d5128ea3-8f6e-48a7-9edb-432b6f2b30a7",
    "deepnote_to_be_reexecuted": false,
    "source_hash": "4860be42",
    "execution_start": 1620135087746,
    "execution_millis": 240,
    "deepnote_cell_type": "code"
   },
   "source": "# LOAD FUNCTIONS\n%run useful_functions.ipynb\n\nimport pandas as pd\nimport numpy as np\nimport matplotlib.pyplot as plt\nimport seaborn as sns",
   "execution_count": null,
   "outputs": []
  },
  {
   "cell_type": "code",
   "metadata": {
    "tags": [],
    "cell_id": "00001-9f49807f-87b9-444a-80d2-058ce573154c",
    "deepnote_to_be_reexecuted": false,
    "source_hash": "5ab4e6ff",
    "execution_start": 1620125186245,
    "execution_millis": 81,
    "deepnote_cell_type": "code"
   },
   "source": "df_t.head()",
   "execution_count": null,
   "outputs": [
    {
     "output_type": "execute_result",
     "execution_count": 68,
     "data": {
      "application/vnd.deepnote.dataframe.v2+json": {
       "row_count": 5,
       "column_count": 130,
       "columns": [
        {
         "name": "ID",
         "dtype": "int64",
         "stats": {
          "unique_count": 5,
          "nan_count": 0,
          "min": "1",
          "max": "5",
          "histogram": [
           {
            "bin_start": 1,
            "bin_end": 1.4,
            "count": 1
           },
           {
            "bin_start": 1.4,
            "bin_end": 1.8,
            "count": 0
           },
           {
            "bin_start": 1.8,
            "bin_end": 2.2,
            "count": 1
           },
           {
            "bin_start": 2.2,
            "bin_end": 2.6,
            "count": 0
           },
           {
            "bin_start": 2.6,
            "bin_end": 3,
            "count": 0
           },
           {
            "bin_start": 3,
            "bin_end": 3.4000000000000004,
            "count": 1
           },
           {
            "bin_start": 3.4000000000000004,
            "bin_end": 3.8000000000000003,
            "count": 0
           },
           {
            "bin_start": 3.8000000000000003,
            "bin_end": 4.2,
            "count": 1
           },
           {
            "bin_start": 4.2,
            "bin_end": 4.6,
            "count": 0
           },
           {
            "bin_start": 4.6,
            "bin_end": 5,
            "count": 1
           }
          ]
         }
        },
        {
         "name": "Codi_Districte_Educatiu",
         "dtype": "int64",
         "stats": {
          "unique_count": 1,
          "nan_count": 0,
          "min": "8",
          "max": "8",
          "histogram": [
           {
            "bin_start": 7.5,
            "bin_end": 7.6,
            "count": 0
           },
           {
            "bin_start": 7.6,
            "bin_end": 7.7,
            "count": 0
           },
           {
            "bin_start": 7.7,
            "bin_end": 7.8,
            "count": 0
           },
           {
            "bin_start": 7.8,
            "bin_end": 7.9,
            "count": 0
           },
           {
            "bin_start": 7.9,
            "bin_end": 8,
            "count": 0
           },
           {
            "bin_start": 8,
            "bin_end": 8.1,
            "count": 5
           },
           {
            "bin_start": 8.1,
            "bin_end": 8.2,
            "count": 0
           },
           {
            "bin_start": 8.2,
            "bin_end": 8.3,
            "count": 0
           },
           {
            "bin_start": 8.3,
            "bin_end": 8.4,
            "count": 0
           },
           {
            "bin_start": 8.4,
            "bin_end": 8.5,
            "count": 0
           }
          ]
         }
        },
        {
         "name": "Nom_Districte_Educatiu",
         "dtype": "object",
         "stats": {
          "unique_count": 1,
          "nan_count": 0,
          "categories": [
           {
            "name": "Nou Barris",
            "count": 5
           }
          ]
         }
        },
        {
         "name": "Curs",
         "dtype": "object",
         "stats": {
          "unique_count": 1,
          "nan_count": 0,
          "categories": [
           {
            "name": "6è",
            "count": 5
           }
          ]
         }
        },
        {
         "name": "Sexe",
         "dtype": "object",
         "stats": {
          "unique_count": 2,
          "nan_count": 0,
          "categories": [
           {
            "name": "Girl",
            "count": 4
           },
           {
            "name": "Boy",
            "count": 1
           }
          ]
         }
        },
        {
         "name": "Llar_BCN",
         "dtype": "object",
         "stats": {
          "unique_count": 1,
          "nan_count": 0,
          "categories": [
           {
            "name": "Yes",
            "count": 5
           }
          ]
         }
        },
        {
         "name": "ERFDbllp",
         "dtype": "object",
         "stats": {
          "unique_count": 2,
          "nan_count": 0,
          "categories": [
           {
            "name": "Low-income neighborhoods",
            "count": 4
           },
           {
            "name": "Intermediate income neighborhoods",
            "count": 1
           }
          ]
         }
        },
        {
         "name": "Edat",
         "dtype": "object",
         "stats": {
          "unique_count": 1,
          "nan_count": 0,
          "categories": [
           {
            "name": "11",
            "count": 5
           }
          ]
         }
        },
        {
         "name": "amb_qui_vius",
         "dtype": "object",
         "stats": {
          "unique_count": 1,
          "nan_count": 0,
          "categories": [
           {
            "name": "I live with my family",
            "count": 5
           }
          ]
         }
        },
        {
         "name": "familia_altra_casa",
         "dtype": "object",
         "stats": {
          "unique_count": 2,
          "nan_count": 0,
          "categories": [
           {
            "name": "No",
            "count": 4
           },
           {
            "name": "Yes",
            "count": 1
           }
          ]
         }
        },
        {
         "name": "frequencia_altra_familia",
         "dtype": "object",
         "stats": {
          "unique_count": 2,
          "nan_count": 0,
          "categories": [
           {
            "name": "VF",
            "count": 4
           },
           {
            "name": "Never or almost never",
            "count": 1
           }
          ]
         }
        },
        {
         "name": "mare",
         "dtype": "object",
         "stats": {
          "unique_count": 1,
          "nan_count": 0,
          "categories": [
           {
            "name": "Yes",
            "count": 5
           }
          ]
         }
        },
        {
         "name": "pare",
         "dtype": "object",
         "stats": {
          "unique_count": 1,
          "nan_count": 0,
          "categories": [
           {
            "name": "Yes",
            "count": 5
           }
          ]
         }
        },
        {
         "name": "parella_mare",
         "dtype": "object",
         "stats": {
          "unique_count": 1,
          "nan_count": 0,
          "categories": [
           {
            "name": "No",
            "count": 5
           }
          ]
         }
        },
        {
         "name": "segona_mare",
         "dtype": "object",
         "stats": {
          "unique_count": 1,
          "nan_count": 0,
          "categories": [
           {
            "name": "No",
            "count": 5
           }
          ]
         }
        },
        {
         "name": "parella_pare",
         "dtype": "object",
         "stats": {
          "unique_count": 1,
          "nan_count": 0,
          "categories": [
           {
            "name": "No",
            "count": 5
           }
          ]
         }
        },
        {
         "name": "segon_pare",
         "dtype": "object",
         "stats": {
          "unique_count": 1,
          "nan_count": 0,
          "categories": [
           {
            "name": "No",
            "count": 5
           }
          ]
         }
        },
        {
         "name": "germans",
         "dtype": "object",
         "stats": {
          "unique_count": 2,
          "nan_count": 0,
          "categories": [
           {
            "name": "Yes",
            "count": 4
           },
           {
            "name": "No",
            "count": 1
           }
          ]
         }
        },
        {
         "name": "avis",
         "dtype": "object",
         "stats": {
          "unique_count": 2,
          "nan_count": 0,
          "categories": [
           {
            "name": "No",
            "count": 3
           },
           {
            "name": "Yes",
            "count": 2
           }
          ]
         }
        },
        {
         "name": "altres_infants",
         "dtype": "object",
         "stats": {
          "unique_count": 1,
          "nan_count": 0,
          "categories": [
           {
            "name": "No",
            "count": 5
           }
          ]
         }
        },
        {
         "name": "altres_adults",
         "dtype": "object",
         "stats": {
          "unique_count": 2,
          "nan_count": 0,
          "categories": [
           {
            "name": "No",
            "count": 4
           },
           {
            "name": "Yes",
            "count": 1
           }
          ]
         }
        },
        {
         "name": "animals",
         "dtype": "object",
         "stats": {
          "unique_count": 2,
          "nan_count": 0,
          "categories": [
           {
            "name": "Yes",
            "count": 3
           },
           {
            "name": "No",
            "count": 2
           }
          ]
         }
        },
        {
         "name": "germans_mateixa_llar",
         "dtype": "object",
         "stats": {
          "unique_count": 3,
          "nan_count": 0,
          "categories": [
           {
            "name": "1",
            "count": 3
           },
           {
            "name": "2",
            "count": 1
           },
           {
            "name": "VF",
            "count": 1
           }
          ]
         }
        },
        {
         "name": "avis_mateixa_llar",
         "dtype": "object",
         "stats": {
          "unique_count": 3,
          "nan_count": 0,
          "categories": [
           {
            "name": "VF",
            "count": 3
           },
           {
            "name": "1",
            "count": 1
           },
           {
            "name": "3 or more",
            "count": 1
           }
          ]
         }
        },
        {
         "name": "s_familia",
         "dtype": "object",
         "stats": {
          "unique_count": 1,
          "nan_count": 0,
          "categories": [
           {
            "name": "10",
            "count": 5
           }
          ]
         }
        },
        {
         "name": "f_preocupacio",
         "dtype": "object",
         "stats": {
          "unique_count": 1,
          "nan_count": 0,
          "categories": [
           {
            "name": "Totally agree",
            "count": 5
           }
          ]
         }
        },
        {
         "name": "f_suport",
         "dtype": "object",
         "stats": {
          "unique_count": 2,
          "nan_count": 0,
          "categories": [
           {
            "name": "Totally agree",
            "count": 4
           },
           {
            "name": "Quite okay",
            "count": 1
           }
          ]
         }
        },
        {
         "name": "f_bejunts",
         "dtype": "object",
         "stats": {
          "unique_count": 2,
          "nan_count": 0,
          "categories": [
           {
            "name": "Totally agree",
            "count": 4
           },
           {
            "name": "Quite okay",
            "count": 1
           }
          ]
         }
        },
        {
         "name": "f_seguretat",
         "dtype": "object",
         "stats": {
          "unique_count": 1,
          "nan_count": 0,
          "categories": [
           {
            "name": "Totally agree",
            "count": 5
           }
          ]
         }
        },
        {
         "name": "f_escolta",
         "dtype": "object",
         "stats": {
          "unique_count": 3,
          "nan_count": 0,
          "categories": [
           {
            "name": "Totally agree",
            "count": 3
           },
           {
            "name": "I do not know",
            "count": 1
           },
           {
            "name": "Quite okay",
            "count": 1
           }
          ]
         }
        },
        {
         "name": "f_llibertat",
         "dtype": "object",
         "stats": {
          "unique_count": 4,
          "nan_count": 0,
          "categories": [
           {
            "name": "Totally agree",
            "count": 2
           },
           {
            "name": "Quite okay",
            "count": 1
           },
           {
            "name": "2 others",
            "count": 2
           }
          ]
         }
        },
        {
         "name": "on_vas_niexer",
         "dtype": "object",
         "stats": {
          "unique_count": 2,
          "nan_count": 0,
          "categories": [
           {
            "name": "Catalonia",
            "count": 4
           },
           {
            "name": "Rest of Spain",
            "count": 1
           }
          ]
         }
        },
        {
         "name": "on_va_neixer_mare_progenitor1",
         "dtype": "object",
         "stats": {
          "unique_count": 4,
          "nan_count": 0,
          "categories": [
           {
            "name": "Catalonia",
            "count": 2
           },
           {
            "name": "NC",
            "count": 1
           },
           {
            "name": "2 others",
            "count": 2
           }
          ]
         }
        },
        {
         "name": "on_va_neixer_pare_progenitor2",
         "dtype": "object",
         "stats": {
          "unique_count": 3,
          "nan_count": 0,
          "categories": [
           {
            "name": "NC",
            "count": 2
           },
           {
            "name": "Catalonia",
            "count": 2
           },
           {
            "name": "In another country",
            "count": 1
           }
          ]
         }
        },
        {
         "name": "dificultat_fisica",
         "dtype": "object",
         "stats": {
          "unique_count": 2,
          "nan_count": 0,
          "categories": [
           {
            "name": "No",
            "count": 4
           },
           {
            "name": "Yes",
            "count": 1
           }
          ]
         }
        },
        {
         "name": "dificultat_aprenentatge",
         "dtype": "object",
         "stats": {
          "unique_count": 2,
          "nan_count": 0,
          "categories": [
           {
            "name": "No",
            "count": 4
           },
           {
            "name": "I'm not sure",
            "count": 1
           }
          ]
         }
        },
        {
         "name": "dificultat_per_malaltia",
         "dtype": "object",
         "stats": {
          "unique_count": 1,
          "nan_count": 0,
          "categories": [
           {
            "name": "No",
            "count": 5
           }
          ]
         }
        },
        {
         "name": "ps_malcap",
         "dtype": "object",
         "stats": {
          "unique_count": 3,
          "nan_count": 0,
          "categories": [
           {
            "name": "One day a month",
            "count": 3
           },
           {
            "name": "1 or 2 days a week",
            "count": 1
           },
           {
            "name": "Never or almost never",
            "count": 1
           }
          ]
         }
        },
        {
         "name": "ps_panxa",
         "dtype": "object",
         "stats": {
          "unique_count": 4,
          "nan_count": 0,
          "categories": [
           {
            "name": "One day a month",
            "count": 2
           },
           {
            "name": "I'm not sure",
            "count": 1
           },
           {
            "name": "2 others",
            "count": 2
           }
          ]
         }
        },
        {
         "name": "ps_esquena",
         "dtype": "object",
         "stats": {
          "unique_count": 3,
          "nan_count": 0,
          "categories": [
           {
            "name": "One day a month",
            "count": 3
           },
           {
            "name": "5 or 6 days a week",
            "count": 1
           },
           {
            "name": "Never or almost never",
            "count": 1
           }
          ]
         }
        },
        {
         "name": "ps_insomni",
         "dtype": "object",
         "stats": {
          "unique_count": 3,
          "nan_count": 0,
          "categories": [
           {
            "name": "Every day",
            "count": 2
           },
           {
            "name": "Never or almost never",
            "count": 2
           },
           {
            "name": "1 or 2 days a week",
            "count": 1
           }
          ]
         }
        },
        {
         "name": "s_llar",
         "dtype": "object",
         "stats": {
          "unique_count": 3,
          "nan_count": 0,
          "categories": [
           {
            "name": "8",
            "count": 2
           },
           {
            "name": "10",
            "count": 2
           },
           {
            "name": "9",
            "count": 1
           }
          ]
         }
        },
        {
         "name": "ll_estudi",
         "dtype": "object",
         "stats": {
          "unique_count": 2,
          "nan_count": 0,
          "categories": [
           {
            "name": "No",
            "count": 3
           },
           {
            "name": "Yes",
            "count": 2
           }
          ]
         }
        },
        {
         "name": "ll_joc",
         "dtype": "object",
         "stats": {
          "unique_count": 2,
          "nan_count": 0,
          "categories": [
           {
            "name": "No",
            "count": 3
           },
           {
            "name": "Yes",
            "count": 2
           }
          ]
         }
        },
        {
         "name": "cotxe",
         "dtype": "object",
         "stats": {
          "unique_count": 3,
          "nan_count": 0,
          "categories": [
           {
            "name": "One",
            "count": 2
           },
           {
            "name": "No",
            "count": 2
           },
           {
            "name": "Two or more",
            "count": 1
           }
          ]
         }
        },
        {
         "name": "habitacio",
         "dtype": "object",
         "stats": {
          "unique_count": 2,
          "nan_count": 0,
          "categories": [
           {
            "name": "I sleep in a room alone or alone",
            "count": 3
           },
           {
            "name": "I sleep in a room that I share with siblings or other people",
            "count": 2
           }
          ]
         }
        },
        {
         "name": "ordinadors",
         "dtype": "object",
         "stats": {
          "unique_count": 3,
          "nan_count": 0,
          "categories": [
           {
            "name": "One",
            "count": 3
           },
           {
            "name": "Two",
            "count": 1
           },
           {
            "name": "More than two",
            "count": 1
           }
          ]
         }
        },
        {
         "name": "banys",
         "dtype": "object",
         "stats": {
          "unique_count": 2,
          "nan_count": 0,
          "categories": [
           {
            "name": "One",
            "count": 3
           },
           {
            "name": "Two",
            "count": 2
           }
          ]
         }
        },
        {
         "name": "rentaplats",
         "dtype": "object",
         "stats": {
          "unique_count": 2,
          "nan_count": 0,
          "categories": [
           {
            "name": "Yes",
            "count": 4
           },
           {
            "name": "No",
            "count": 1
           }
          ]
         }
        },
        {
         "name": "vacances",
         "dtype": "object",
         "stats": {
          "unique_count": 3,
          "nan_count": 0,
          "categories": [
           {
            "name": "Two",
            "count": 2
           },
           {
            "name": "Cap",
            "count": 2
           },
           {
            "name": "More than two",
            "count": 1
           }
          ]
         }
        },
        {
         "name": "preocupacio_diners",
         "dtype": "object",
         "stats": {
          "unique_count": 4,
          "nan_count": 0,
          "categories": [
           {
            "name": "Sometimes",
            "count": 2
           },
           {
            "name": "Often",
            "count": 1
           },
           {
            "name": "2 others",
            "count": 2
           }
          ]
         }
        },
        {
         "name": "amb_qui_vius_feina",
         "dtype": "object",
         "stats": {
          "unique_count": 3,
          "nan_count": 0,
          "categories": [
           {
            "name": "More than two",
            "count": 3
           },
           {
            "name": "Two",
            "count": 1
           },
           {
            "name": "One",
            "count": 1
           }
          ]
         }
        },
        {
         "name": "s_bmaterials",
         "dtype": "object",
         "stats": {
          "unique_count": 3,
          "nan_count": 0,
          "categories": [
           {
            "name": "9",
            "count": 2
           },
           {
            "name": "10",
            "count": 2
           },
           {
            "name": "6",
            "count": 1
           }
          ]
         }
        },
        {
         "name": "bm_internet",
         "dtype": "object",
         "stats": {
          "unique_count": 1,
          "nan_count": 0,
          "categories": [
           {
            "name": "Yes",
            "count": 5
           }
          ]
         }
        },
        {
         "name": "bm_mobil",
         "dtype": "object",
         "stats": {
          "unique_count": 1,
          "nan_count": 0,
          "categories": [
           {
            "name": "Yes",
            "count": 5
           }
          ]
         }
        },
        {
         "name": "bm_sabates",
         "dtype": "object",
         "stats": {
          "unique_count": 1,
          "nan_count": 0,
          "categories": [
           {
            "name": "Yes",
            "count": 5
           }
          ]
         }
        },
        {
         "name": "bm_mescola",
         "dtype": "object",
         "stats": {
          "unique_count": 1,
          "nan_count": 0,
          "categories": [
           {
            "name": "Yes",
            "count": 5
           }
          ]
         }
        },
        {
         "name": "bm_maficions",
         "dtype": "object",
         "stats": {
          "unique_count": 2,
          "nan_count": 0,
          "categories": [
           {
            "name": "Yes",
            "count": 3
           },
           {
            "name": "No",
            "count": 2
           }
          ]
         }
        },
        {
         "name": "s_amics",
         "dtype": "object",
         "stats": {
          "unique_count": 2,
          "nan_count": 0,
          "categories": [
           {
            "name": "10",
            "count": 4
           },
           {
            "name": "7",
            "count": 1
           }
          ]
         }
        },
        {
         "name": "a_suficients",
         "dtype": "object",
         "stats": {
          "unique_count": 3,
          "nan_count": 0,
          "categories": [
           {
            "name": "Quite okay",
            "count": 2
           },
           {
            "name": "Totally agree",
            "count": 2
           },
           {
            "name": "People agree",
            "count": 1
           }
          ]
         }
        },
        {
         "name": "a_tractebe",
         "dtype": "object",
         "stats": {
          "unique_count": 2,
          "nan_count": 0,
          "categories": [
           {
            "name": "Totally agree",
            "count": 4
           },
           {
            "name": "More or less agree",
            "count": 1
           }
          ]
         }
        },
        {
         "name": "a_bejunts",
         "dtype": "object",
         "stats": {
          "unique_count": 2,
          "nan_count": 0,
          "categories": [
           {
            "name": "Totally agree",
            "count": 3
           },
           {
            "name": "Quite okay",
            "count": 2
           }
          ]
         }
        },
        {
         "name": "a_suport",
         "dtype": "object",
         "stats": {
          "unique_count": 3,
          "nan_count": 0,
          "categories": [
           {
            "name": "Totally agree",
            "count": 3
           },
           {
            "name": "Quite okay",
            "count": 1
           },
           {
            "name": "More or less agree",
            "count": 1
           }
          ]
         }
        },
        {
         "name": "a_freq_foraescola",
         "dtype": "object",
         "stats": {
          "unique_count": 4,
          "nan_count": 0,
          "categories": [
           {
            "name": "1 or 2 days a week",
            "count": 2
           },
           {
            "name": "One day a month",
            "count": 1
           },
           {
            "name": "2 others",
            "count": 2
           }
          ]
         }
        },
        {
         "name": "s_vidaestudiant",
         "dtype": "object",
         "stats": {
          "unique_count": 4,
          "nan_count": 0,
          "categories": [
           {
            "name": "10",
            "count": 2
           },
           {
            "name": "9",
            "count": 1
           },
           {
            "name": "2 others",
            "count": 2
           }
          ]
         }
        },
        {
         "name": "s_aprenentatges",
         "dtype": "object",
         "stats": {
          "unique_count": 3,
          "nan_count": 0,
          "categories": [
           {
            "name": "10",
            "count": 3
           },
           {
            "name": "8",
            "count": 1
           },
           {
            "name": "9",
            "count": 1
           }
          ]
         }
        },
        {
         "name": "s_igualsclasse",
         "dtype": "object",
         "stats": {
          "unique_count": 2,
          "nan_count": 0,
          "categories": [
           {
            "name": "10",
            "count": 4
           },
           {
            "name": "7",
            "count": 1
           }
          ]
         }
        },
        {
         "name": "temps_trajecte_escolar",
         "dtype": "object",
         "stats": {
          "unique_count": 2,
          "nan_count": 0,
          "categories": [
           {
            "name": "30 minutes or less",
            "count": 4
           },
           {
            "name": "Almost 1 hour",
            "count": 1
           }
          ]
         }
        },
        {
         "name": "seguretat_trajecte_escolar",
         "dtype": "object",
         "stats": {
          "unique_count": 2,
          "nan_count": 0,
          "categories": [
           {
            "name": "Pretty safe",
            "count": 4
           },
           {
            "name": "Very safe",
            "count": 1
           }
          ]
         }
        },
        {
         "name": "e_preocupacio",
         "dtype": "object",
         "stats": {
          "unique_count": 2,
          "nan_count": 0,
          "categories": [
           {
            "name": "Totally agree",
            "count": 4
           },
           {
            "name": "Quite okay",
            "count": 1
           }
          ]
         }
        },
        {
         "name": "e_suportmestres",
         "dtype": "object",
         "stats": {
          "unique_count": 2,
          "nan_count": 0,
          "categories": [
           {
            "name": "Totally agree",
            "count": 4
           },
           {
            "name": "Quite okay",
            "count": 1
           }
          ]
         }
        },
        {
         "name": "e_suportiguals",
         "dtype": "object",
         "stats": {
          "unique_count": 2,
          "nan_count": 0,
          "categories": [
           {
            "name": "Totally agree",
            "count": 4
           },
           {
            "name": "More or less agree",
            "count": 1
           }
          ]
         }
        },
        {
         "name": "e_discussions_inv",
         "dtype": "object",
         "stats": {
          "unique_count": 4,
          "nan_count": 0,
          "categories": [
           {
            "name": "Quite okay",
            "count": 2
           },
           {
            "name": "I do not know",
            "count": 1
           },
           {
            "name": "2 others",
            "count": 2
           }
          ]
         }
        },
        {
         "name": "e_escolta",
         "dtype": "object",
         "stats": {
          "unique_count": 2,
          "nan_count": 0,
          "categories": [
           {
            "name": "Totally agree",
            "count": 4
           },
           {
            "name": "Quite okay",
            "count": 1
           }
          ]
         }
        },
        {
         "name": "e_eleccio",
         "dtype": "object",
         "stats": {
          "unique_count": 2,
          "nan_count": 0,
          "categories": [
           {
            "name": "Quite okay",
            "count": 3
           },
           {
            "name": "Totally agree",
            "count": 2
           }
          ]
         }
        },
        {
         "name": "e_seguretat",
         "dtype": "object",
         "stats": {
          "unique_count": 1,
          "nan_count": 0,
          "categories": [
           {
            "name": "Totally agree",
            "count": 5
           }
          ]
         }
        },
        {
         "name": "e_freq_baralles",
         "dtype": "object",
         "stats": {
          "unique_count": 3,
          "nan_count": 0,
          "categories": [
           {
            "name": "At least one day a week",
            "count": 2
           },
           {
            "name": "Less often",
            "count": 2
           },
           {
            "name": "I do not know",
            "count": 1
           }
          ]
         }
        },
        {
         "name": "e_vfisica_inv",
         "dtype": "object",
         "stats": {
          "unique_count": 2,
          "nan_count": 0,
          "categories": [
           {
            "name": "Never",
            "count": 4
           },
           {
            "name": "Once",
            "count": 1
           }
          ]
         }
        },
        {
         "name": "e_vverbal_inv",
         "dtype": "object",
         "stats": {
          "unique_count": 3,
          "nan_count": 0,
          "categories": [
           {
            "name": "Once",
            "count": 3
           },
           {
            "name": "Més de 3 vegades",
            "count": 1
           },
           {
            "name": "Never",
            "count": 1
           }
          ]
         }
        },
        {
         "name": "e_vbuit_inv",
         "dtype": "object",
         "stats": {
          "unique_count": 3,
          "nan_count": 0,
          "categories": [
           {
            "name": "Never",
            "count": 3
           },
           {
            "name": "Once",
            "count": 1
           },
           {
            "name": "Més de 3 vegades",
            "count": 1
           }
          ]
         }
        },
        {
         "name": "e_afisic_inv",
         "dtype": "object",
         "stats": {
          "unique_count": 2,
          "nan_count": 0,
          "categories": [
           {
            "name": "Never",
            "count": 4
           },
           {
            "name": "Once",
            "count": 1
           }
          ]
         }
        },
        {
         "name": "e_averbal_inv",
         "dtype": "object",
         "stats": {
          "unique_count": 3,
          "nan_count": 0,
          "categories": [
           {
            "name": "Once",
            "count": 2
           },
           {
            "name": "Never",
            "count": 2
           },
           {
            "name": "2 or 3 times",
            "count": 1
           }
          ]
         }
        },
        {
         "name": "e_abuit_inv",
         "dtype": "object",
         "stats": {
          "unique_count": 2,
          "nan_count": 0,
          "categories": [
           {
            "name": "Never",
            "count": 4
           },
           {
            "name": "Once",
            "count": 1
           }
          ]
         }
        },
        {
         "name": "s_barri",
         "dtype": "object",
         "stats": {
          "unique_count": 3,
          "nan_count": 0,
          "categories": [
           {
            "name": "10",
            "count": 2
           },
           {
            "name": "9",
            "count": 2
           },
           {
            "name": "3",
            "count": 1
           }
          ]
         }
        },
        {
         "name": "b_seguretat",
         "dtype": "object",
         "stats": {
          "unique_count": 4,
          "nan_count": 0,
          "categories": [
           {
            "name": "Quite okay",
            "count": 2
           },
           {
            "name": "Little agreement",
            "count": 1
           },
           {
            "name": "2 others",
            "count": 2
           }
          ]
         }
        },
        {
         "name": "b_joc",
         "dtype": "object",
         "stats": {
          "unique_count": 4,
          "nan_count": 0,
          "categories": [
           {
            "name": "Totally agree",
            "count": 2
           },
           {
            "name": "Quite okay",
            "count": 1
           },
           {
            "name": "2 others",
            "count": 2
           }
          ]
         }
        },
        {
         "name": "b_suport",
         "dtype": "object",
         "stats": {
          "unique_count": 3,
          "nan_count": 0,
          "categories": [
           {
            "name": "More or less agree",
            "count": 3
           },
           {
            "name": "People agree",
            "count": 1
           },
           {
            "name": "Totally agree",
            "count": 1
           }
          ]
         }
        },
        {
         "name": "b_amabilitat",
         "dtype": "object",
         "stats": {
          "unique_count": 4,
          "nan_count": 0,
          "categories": [
           {
            "name": "Totally agree",
            "count": 2
           },
           {
            "name": "I do not know",
            "count": 1
           },
           {
            "name": "2 others",
            "count": 2
           }
          ]
         }
        },
        {
         "name": "b_llibertat",
         "dtype": "object",
         "stats": {
          "unique_count": 4,
          "nan_count": 0,
          "categories": [
           {
            "name": "Totally agree",
            "count": 2
           },
           {
            "name": "Quite okay",
            "count": 1
           },
           {
            "name": "2 others",
            "count": 2
           }
          ]
         }
        },
        {
         "name": "b_escolta",
         "dtype": "object",
         "stats": {
          "unique_count": 3,
          "nan_count": 0,
          "categories": [
           {
            "name": "I do not know",
            "count": 2
           },
           {
            "name": "Totally agree",
            "count": 2
           },
           {
            "name": "More or less agree",
            "count": 1
           }
          ]
         }
        },
        {
         "name": "b_freq_baralles",
         "dtype": "object",
         "stats": {
          "unique_count": 2,
          "nan_count": 0,
          "categories": [
           {
            "name": "I do not know",
            "count": 3
           },
           {
            "name": "Less often",
            "count": 2
           }
          ]
         }
        },
        {
         "name": "s_seguretat",
         "dtype": "object",
         "stats": {
          "unique_count": 3,
          "nan_count": 0,
          "categories": [
           {
            "name": "9",
            "count": 2
           },
           {
            "name": "10",
            "count": 2
           },
           {
            "name": "7",
            "count": 1
           }
          ]
         }
        },
        {
         "name": "s_llibertat",
         "dtype": "object",
         "stats": {
          "unique_count": 4,
          "nan_count": 0,
          "categories": [
           {
            "name": "8",
            "count": 2
           },
           {
            "name": "7",
            "count": 1
           },
           {
            "name": "2 others",
            "count": 2
           }
          ]
         }
        },
        {
         "name": "s_cos",
         "dtype": "object",
         "stats": {
          "unique_count": 2,
          "nan_count": 0,
          "categories": [
           {
            "name": "10",
            "count": 4
           },
           {
            "name": "9",
            "count": 1
           }
          ]
         }
        },
        {
         "name": "contrastslssm_exps",
         "dtype": "object",
         "stats": {
          "unique_count": 3,
          "nan_count": 0,
          "categories": [
           {
            "name": "10",
            "count": 3
           },
           {
            "name": "6",
            "count": 1
           },
           {
            "name": "7",
            "count": 1
           }
          ]
         }
        },
        {
         "name": "s_escoltaadulta",
         "dtype": "object",
         "stats": {
          "unique_count": 4,
          "nan_count": 0,
          "categories": [
           {
            "name": "9",
            "count": 2
           },
           {
            "name": "8",
            "count": 1
           },
           {
            "name": "2 others",
            "count": 2
           }
          ]
         }
        },
        {
         "name": "s_salut",
         "dtype": "object",
         "stats": {
          "unique_count": 2,
          "nan_count": 0,
          "categories": [
           {
            "name": "10",
            "count": 3
           },
           {
            "name": "9",
            "count": 2
           }
          ]
         }
        },
        {
         "name": "contrastslssm_olsm",
         "dtype": "object",
         "stats": {
          "unique_count": 3,
          "nan_count": 0,
          "categories": [
           {
            "name": "10",
            "count": 3
           },
           {
            "name": "9",
            "count": 1
           },
           {
            "name": "7",
            "count": 1
           }
          ]
         }
        },
        {
         "name": "SLSSm",
         "dtype": "object",
         "stats": {
          "unique_count": 4,
          "nan_count": 0,
          "categories": [
           {
            "name": "10",
            "count": 2
           },
           {
            "name": "9,4",
            "count": 1
           },
           {
            "name": "2 others",
            "count": 2
           }
          ]
         }
        },
        {
         "name": "SLSSmc",
         "dtype": "object",
         "stats": {
          "unique_count": 2,
          "nan_count": 0,
          "categories": [
           {
            "name": "A lot [90, 100]",
            "count": 3
           },
           {
            "name": "Enough [70, 89]",
            "count": 2
           }
          ]
         }
        },
        {
         "name": "slssm_vabe",
         "dtype": "object",
         "stats": {
          "unique_count": 3,
          "nan_count": 0,
          "categories": [
           {
            "name": "10",
            "count": 3
           },
           {
            "name": "7",
            "count": 1
           },
           {
            "name": "9",
            "count": 1
           }
          ]
         }
        },
        {
         "name": "slssm_hauria",
         "dtype": "object",
         "stats": {
          "unique_count": 2,
          "nan_count": 0,
          "categories": [
           {
            "name": "8",
            "count": 3
           },
           {
            "name": "10",
            "count": 2
           }
          ]
         }
        },
        {
         "name": "slssm_bona",
         "dtype": "object",
         "stats": {
          "unique_count": 2,
          "nan_count": 0,
          "categories": [
           {
            "name": "9",
            "count": 3
           },
           {
            "name": "10",
            "count": 2
           }
          ]
         }
        },
        {
         "name": "slssm_excel",
         "dtype": "object",
         "stats": {
          "unique_count": 3,
          "nan_count": 0,
          "categories": [
           {
            "name": "10",
            "count": 3
           },
           {
            "name": "7",
            "count": 1
           },
           {
            "name": "8",
            "count": 1
           }
          ]
         }
        },
        {
         "name": "slssm_agrada",
         "dtype": "object",
         "stats": {
          "unique_count": 2,
          "nan_count": 0,
          "categories": [
           {
            "name": "10",
            "count": 4
           },
           {
            "name": "8",
            "count": 1
           }
          ]
         }
        },
        {
         "name": "slssm_gaudi",
         "dtype": "object",
         "stats": {
          "unique_count": 2,
          "nan_count": 0,
          "categories": [
           {
            "name": "10",
            "count": 4
           },
           {
            "name": "9",
            "count": 1
           }
          ]
         }
        },
        {
         "name": "slssm_feliç",
         "dtype": "object",
         "stats": {
          "unique_count": 2,
          "nan_count": 0,
          "categories": [
           {
            "name": "10",
            "count": 4
           },
           {
            "name": "9",
            "count": 1
           }
          ]
         }
        },
        {
         "name": "f_felicitat",
         "dtype": "object",
         "stats": {
          "unique_count": 3,
          "nan_count": 0,
          "categories": [
           {
            "name": "9",
            "count": 2
           },
           {
            "name": "10",
            "count": 2
           },
           {
            "name": "5",
            "count": 1
           }
          ]
         }
        },
        {
         "name": "f_tristesa",
         "dtype": "object",
         "stats": {
          "unique_count": 4,
          "nan_count": 0,
          "categories": [
           {
            "name": "1",
            "count": 2
           },
           {
            "name": "8",
            "count": 1
           },
           {
            "name": "2 others",
            "count": 2
           }
          ]
         }
        },
        {
         "name": "f_calma",
         "dtype": "object",
         "stats": {
          "unique_count": 3,
          "nan_count": 0,
          "categories": [
           {
            "name": "9",
            "count": 2
           },
           {
            "name": "10",
            "count": 2
           },
           {
            "name": "5",
            "count": 1
           }
          ]
         }
        },
        {
         "name": "f_estres",
         "dtype": "object",
         "stats": {
          "unique_count": 3,
          "nan_count": 0,
          "categories": [
           {
            "name": "0",
            "count": 3
           },
           {
            "name": "1",
            "count": 1
           },
           {
            "name": "4",
            "count": 1
           }
          ]
         }
        },
        {
         "name": "f_energia",
         "dtype": "object",
         "stats": {
          "unique_count": 3,
          "nan_count": 0,
          "categories": [
           {
            "name": "10",
            "count": 3
           },
           {
            "name": "9",
            "count": 1
           },
           {
            "name": "7",
            "count": 1
           }
          ]
         }
        },
        {
         "name": "f_avorriment",
         "dtype": "object",
         "stats": {
          "unique_count": 5,
          "nan_count": 0,
          "categories": [
           {
            "name": "2",
            "count": 1
           },
           {
            "name": "9",
            "count": 1
           },
           {
            "name": "3 others",
            "count": 3
           }
          ]
         }
        },
        {
         "name": "contrastslssm_exp2",
         "dtype": "object",
         "stats": {
          "unique_count": 3,
          "nan_count": 0,
          "categories": [
           {
            "name": "9",
            "count": 2
           },
           {
            "name": "10",
            "count": 2
           },
           {
            "name": "7",
            "count": 1
           }
          ]
         }
        },
        {
         "name": "s_ustemps",
         "dtype": "object",
         "stats": {
          "unique_count": 3,
          "nan_count": 0,
          "categories": [
           {
            "name": "10",
            "count": 3
           },
           {
            "name": "8",
            "count": 1
           },
           {
            "name": "7",
            "count": 1
           }
          ]
         }
        },
        {
         "name": "s_tempslliure",
         "dtype": "object",
         "stats": {
          "unique_count": 3,
          "nan_count": 0,
          "categories": [
           {
            "name": "10",
            "count": 3
           },
           {
            "name": "8",
            "count": 1
           },
           {
            "name": "7",
            "count": 1
           }
          ]
         }
        },
        {
         "name": "t_ajuda",
         "dtype": "object",
         "stats": {
          "unique_count": 3,
          "nan_count": 0,
          "categories": [
           {
            "name": "5 or 6 days a week",
            "count": 2
           },
           {
            "name": "3 or 4 days a week",
            "count": 2
           },
           {
            "name": "Every day",
            "count": 1
           }
          ]
         }
        },
        {
         "name": "t_cuida",
         "dtype": "object",
         "stats": {
          "unique_count": 4,
          "nan_count": 0,
          "categories": [
           {
            "name": "One day a month",
            "count": 2
           },
           {
            "name": "5 or 6 days a week",
            "count": 1
           },
           {
            "name": "2 others",
            "count": 2
           }
          ]
         }
        },
        {
         "name": "t_treball",
         "dtype": "object",
         "stats": {
          "unique_count": 2,
          "nan_count": 0,
          "categories": [
           {
            "name": "Never or almost never",
            "count": 4
           },
           {
            "name": "Every day",
            "count": 1
           }
          ]
         }
        },
        {
         "name": "t_classes",
         "dtype": "object",
         "stats": {
          "unique_count": 2,
          "nan_count": 0,
          "categories": [
           {
            "name": "1 or 2 days a week",
            "count": 3
           },
           {
            "name": "Never or almost never",
            "count": 2
           }
          ]
         }
        },
        {
         "name": "t_deures",
         "dtype": "object",
         "stats": {
          "unique_count": 2,
          "nan_count": 0,
          "categories": [
           {
            "name": "Every day",
            "count": 4
           },
           {
            "name": "3 or 4 days a week",
            "count": 1
           }
          ]
         }
        },
        {
         "name": "t_tv",
         "dtype": "object",
         "stats": {
          "unique_count": 2,
          "nan_count": 0,
          "categories": [
           {
            "name": "5 or 6 days a week",
            "count": 4
           },
           {
            "name": "Every day",
            "count": 1
           }
          ]
         }
        },
        {
         "name": "t_esport",
         "dtype": "object",
         "stats": {
          "unique_count": 4,
          "nan_count": 0,
          "categories": [
           {
            "name": "Every day",
            "count": 2
           },
           {
            "name": "5 or 6 days a week",
            "count": 1
           },
           {
            "name": "2 others",
            "count": 2
           }
          ]
         }
        },
        {
         "name": "t_familia",
         "dtype": "object",
         "stats": {
          "unique_count": 4,
          "nan_count": 0,
          "categories": [
           {
            "name": "5 or 6 days a week",
            "count": 2
           },
           {
            "name": "One day a month",
            "count": 1
           },
           {
            "name": "2 others",
            "count": 2
           }
          ]
         }
        },
        {
         "name": "t_airelliure",
         "dtype": "object",
         "stats": {
          "unique_count": 2,
          "nan_count": 0,
          "categories": [
           {
            "name": "3 or 4 days a week",
            "count": 4
           },
           {
            "name": "One day a month",
            "count": 1
           }
          ]
         }
        },
        {
         "name": "t_xarxes",
         "dtype": "object",
         "stats": {
          "unique_count": 4,
          "nan_count": 0,
          "categories": [
           {
            "name": "3 or 4 days a week",
            "count": 2
           },
           {
            "name": "5 or 6 days a week",
            "count": 1
           },
           {
            "name": "2 others",
            "count": 2
           }
          ]
         }
        },
        {
         "name": "t_videojocs",
         "dtype": "object",
         "stats": {
          "unique_count": 2,
          "nan_count": 0,
          "categories": [
           {
            "name": "1 or 2 days a week",
            "count": 3
           },
           {
            "name": "One day a month",
            "count": 2
           }
          ]
         }
        },
        {
         "name": "t_resrepos",
         "dtype": "object",
         "stats": {
          "unique_count": 4,
          "nan_count": 0,
          "categories": [
           {
            "name": "1 or 2 days a week",
            "count": 2
           },
           {
            "name": "Every day",
            "count": 1
           },
           {
            "name": "2 others",
            "count": 2
           }
          ]
         }
        },
        {
         "name": "d_drets",
         "dtype": "object",
         "stats": {
          "unique_count": 2,
          "nan_count": 0,
          "categories": [
           {
            "name": "Yes",
            "count": 4
           },
           {
            "name": "I'm not sure",
            "count": 1
           }
          ]
         }
        },
        {
         "name": "d_convencio",
         "dtype": "object",
         "stats": {
          "unique_count": 2,
          "nan_count": 0,
          "categories": [
           {
            "name": "Yes",
            "count": 4
           },
           {
            "name": "I'm not sure",
            "count": 1
           }
          ]
         }
        },
        {
         "name": "_deepnote_index_column",
         "dtype": "int64"
        }
       ],
       "rows_top": [
        {
         "ID": 1,
         "Codi_Districte_Educatiu": 8,
         "Nom_Districte_Educatiu": "Nou Barris",
         "Curs": "6è",
         "Sexe": "Girl",
         "Llar_BCN": "Yes",
         "ERFDbllp": "Low-income neighborhoods",
         "Edat": "11",
         "amb_qui_vius": "I live with my family",
         "familia_altra_casa": "No",
         "frequencia_altra_familia": "VF",
         "mare": "Yes",
         "pare": "Yes",
         "parella_mare": "No",
         "segona_mare": "No",
         "parella_pare": "No",
         "segon_pare": "No",
         "germans": "Yes",
         "avis": "Yes",
         "altres_infants": "No",
         "altres_adults": "No",
         "animals": "Yes",
         "germans_mateixa_llar": "1",
         "avis_mateixa_llar": "1",
         "s_familia": "10",
         "f_preocupacio": "Totally agree",
         "f_suport": "Totally agree",
         "f_bejunts": "Quite okay",
         "f_seguretat": "Totally agree",
         "f_escolta": "Totally agree",
         "f_llibertat": "Quite okay",
         "on_vas_niexer": "Catalonia",
         "on_va_neixer_mare_progenitor1": "NC",
         "on_va_neixer_pare_progenitor2": "NC",
         "dificultat_fisica": "Yes",
         "dificultat_aprenentatge": "No",
         "dificultat_per_malaltia": "No",
         "ps_malcap": "One day a month",
         "ps_panxa": "One day a month",
         "ps_esquena": "One day a month",
         "ps_insomni": "1 or 2 days a week",
         "s_llar": "8",
         "ll_estudi": "No",
         "ll_joc": "No",
         "cotxe": "One",
         "habitacio": "I sleep in a room that I share with siblings or other people",
         "ordinadors": "Two",
         "banys": "Two",
         "rentaplats": "Yes",
         "vacances": "Two",
         "preocupacio_diners": "Sometimes",
         "amb_qui_vius_feina": "More than two",
         "s_bmaterials": "9",
         "bm_internet": "Yes",
         "bm_mobil": "Yes",
         "bm_sabates": "Yes",
         "bm_mescola": "Yes",
         "bm_maficions": "No",
         "s_amics": "10",
         "a_suficients": "Quite okay",
         "a_tractebe": "Totally agree",
         "a_bejunts": "Totally agree",
         "a_suport": "Quite okay",
         "a_freq_foraescola": "1 or 2 days a week",
         "s_vidaestudiant": "9",
         "s_aprenentatges": "10",
         "s_igualsclasse": "10",
         "temps_trajecte_escolar": "30 minutes or less",
         "seguretat_trajecte_escolar": "Pretty safe",
         "e_preocupacio": "Totally agree",
         "e_suportmestres": "Totally agree",
         "e_suportiguals": "Totally agree",
         "e_discussions_inv": "Quite okay",
         "e_escolta": "Totally agree",
         "e_eleccio": "Quite okay",
         "e_seguretat": "Totally agree",
         "e_freq_baralles": "At least one day a week",
         "e_vfisica_inv": "Never",
         "e_vverbal_inv": "Once",
         "e_vbuit_inv": "Once",
         "e_afisic_inv": "Never",
         "e_averbal_inv": "Once",
         "e_abuit_inv": "Never",
         "s_barri": "10",
         "b_seguretat": "Quite okay",
         "b_joc": "Quite okay",
         "b_suport": "More or less agree",
         "b_amabilitat": "Totally agree",
         "b_llibertat": "Quite okay",
         "b_escolta": "More or less agree",
         "b_freq_baralles": "Less often",
         "s_seguretat": "9",
         "s_llibertat": "7",
         "s_cos": "9",
         "contrastslssm_exps": "10",
         "s_escoltaadulta": "9",
         "s_salut": "9",
         "contrastslssm_olsm": "9",
         "SLSSm": "9,4",
         "SLSSmc": "A lot [90, 100]",
         "slssm_vabe": "10",
         "slssm_hauria": "8",
         "slssm_bona": "9",
         "slssm_excel": "10",
         "slssm_agrada": "10",
         "slssm_gaudi": "10",
         "slssm_feliç": "10",
         "f_felicitat": "9",
         "f_tristesa": "1",
         "f_calma": "9",
         "f_estres": "1",
         "f_energia": "9",
         "f_avorriment": "2",
         "contrastslssm_exp2": "9",
         "s_ustemps": "8",
         "s_tempslliure": "8",
         "t_ajuda": "5 or 6 days a week",
         "t_cuida": "5 or 6 days a week",
         "t_treball": "Never or almost never",
         "t_classes": "1 or 2 days a week",
         "t_deures": "Every day",
         "t_tv": "5 or 6 days a week",
         "t_esport": "5 or 6 days a week",
         "t_familia": "5 or 6 days a week",
         "t_airelliure": "3 or 4 days a week",
         "t_xarxes": "5 or 6 days a week",
         "t_videojocs": "One day a month",
         "t_resrepos": "1 or 2 days a week",
         "d_drets": "Yes",
         "d_convencio": "Yes",
         "_deepnote_index_column": 0
        },
        {
         "ID": 2,
         "Codi_Districte_Educatiu": 8,
         "Nom_Districte_Educatiu": "Nou Barris",
         "Curs": "6è",
         "Sexe": "Boy",
         "Llar_BCN": "Yes",
         "ERFDbllp": "Intermediate income neighborhoods",
         "Edat": "11",
         "amb_qui_vius": "I live with my family",
         "familia_altra_casa": "Yes",
         "frequencia_altra_familia": "Never or almost never",
         "mare": "Yes",
         "pare": "Yes",
         "parella_mare": "No",
         "segona_mare": "No",
         "parella_pare": "No",
         "segon_pare": "No",
         "germans": "Yes",
         "avis": "No",
         "altres_infants": "No",
         "altres_adults": "No",
         "animals": "No",
         "germans_mateixa_llar": "1",
         "avis_mateixa_llar": "VF",
         "s_familia": "10",
         "f_preocupacio": "Totally agree",
         "f_suport": "Totally agree",
         "f_bejunts": "Totally agree",
         "f_seguretat": "Totally agree",
         "f_escolta": "I do not know",
         "f_llibertat": "I do not know",
         "on_vas_niexer": "Catalonia",
         "on_va_neixer_mare_progenitor1": "In another country",
         "on_va_neixer_pare_progenitor2": "In another country",
         "dificultat_fisica": "No",
         "dificultat_aprenentatge": "I'm not sure",
         "dificultat_per_malaltia": "No",
         "ps_malcap": "One day a month",
         "ps_panxa": "I'm not sure",
         "ps_esquena": "One day a month",
         "ps_insomni": "Every day",
         "s_llar": "8",
         "ll_estudi": "No",
         "ll_joc": "No",
         "cotxe": "No",
         "habitacio": "I sleep in a room alone or alone",
         "ordinadors": "One",
         "banys": "One",
         "rentaplats": "Yes",
         "vacances": "Cap",
         "preocupacio_diners": "Often",
         "amb_qui_vius_feina": "More than two",
         "s_bmaterials": "6",
         "bm_internet": "Yes",
         "bm_mobil": "Yes",
         "bm_sabates": "Yes",
         "bm_mescola": "Yes",
         "bm_maficions": "No",
         "s_amics": "10",
         "a_suficients": "People agree",
         "a_tractebe": "Totally agree",
         "a_bejunts": "Totally agree",
         "a_suport": "Totally agree",
         "a_freq_foraescola": "One day a month",
         "s_vidaestudiant": "7",
         "s_aprenentatges": "8",
         "s_igualsclasse": "10",
         "temps_trajecte_escolar": "Almost 1 hour",
         "seguretat_trajecte_escolar": "Pretty safe",
         "e_preocupacio": "Totally agree",
         "e_suportmestres": "Totally agree",
         "e_suportiguals": "Totally agree",
         "e_discussions_inv": "I do not know",
         "e_escolta": "Quite okay",
         "e_eleccio": "Totally agree",
         "e_seguretat": "Totally agree",
         "e_freq_baralles": "I do not know",
         "e_vfisica_inv": "Once",
         "e_vverbal_inv": "Més de 3 vegades",
         "e_vbuit_inv": "Never",
         "e_afisic_inv": "Never",
         "e_averbal_inv": "2 or 3 times",
         "e_abuit_inv": "Never",
         "s_barri": "3",
         "b_seguretat": "Little agreement",
         "b_joc": "I do not know",
         "b_suport": "People agree",
         "b_amabilitat": "I do not know",
         "b_llibertat": "People agree",
         "b_escolta": "I do not know",
         "b_freq_baralles": "I do not know",
         "s_seguretat": "9",
         "s_llibertat": "4",
         "s_cos": "10",
         "contrastslssm_exps": "6",
         "s_escoltaadulta": "8",
         "s_salut": "10",
         "contrastslssm_olsm": "10",
         "SLSSm": "7,8",
         "SLSSmc": "Enough [70, 89]",
         "slssm_vabe": "7",
         "slssm_hauria": "8",
         "slssm_bona": "9",
         "slssm_excel": "7",
         "slssm_agrada": "8",
         "slssm_gaudi": "9",
         "slssm_feliç": "10",
         "f_felicitat": "5",
         "f_tristesa": "8",
         "f_calma": "9",
         "f_estres": "4",
         "f_energia": "7",
         "f_avorriment": "9",
         "contrastslssm_exp2": "9",
         "s_ustemps": "7",
         "s_tempslliure": "10",
         "t_ajuda": "5 or 6 days a week",
         "t_cuida": "One day a month",
         "t_treball": "Never or almost never",
         "t_classes": "1 or 2 days a week",
         "t_deures": "Every day",
         "t_tv": "Every day",
         "t_esport": "1 or 2 days a week",
         "t_familia": "One day a month",
         "t_airelliure": "One day a month",
         "t_xarxes": "3 or 4 days a week",
         "t_videojocs": "1 or 2 days a week",
         "t_resrepos": "1 or 2 days a week",
         "d_drets": "Yes",
         "d_convencio": "I'm not sure",
         "_deepnote_index_column": 1
        },
        {
         "ID": 3,
         "Codi_Districte_Educatiu": 8,
         "Nom_Districte_Educatiu": "Nou Barris",
         "Curs": "6è",
         "Sexe": "Girl",
         "Llar_BCN": "Yes",
         "ERFDbllp": "Low-income neighborhoods",
         "Edat": "11",
         "amb_qui_vius": "I live with my family",
         "familia_altra_casa": "No",
         "frequencia_altra_familia": "VF",
         "mare": "Yes",
         "pare": "Yes",
         "parella_mare": "No",
         "segona_mare": "No",
         "parella_pare": "No",
         "segon_pare": "No",
         "germans": "Yes",
         "avis": "No",
         "altres_infants": "No",
         "altres_adults": "No",
         "animals": "Yes",
         "germans_mateixa_llar": "1",
         "avis_mateixa_llar": "VF",
         "s_familia": "10",
         "f_preocupacio": "Totally agree",
         "f_suport": "Totally agree",
         "f_bejunts": "Totally agree",
         "f_seguretat": "Totally agree",
         "f_escolta": "Totally agree",
         "f_llibertat": "Totally agree",
         "on_vas_niexer": "Catalonia",
         "on_va_neixer_mare_progenitor1": "Catalonia",
         "on_va_neixer_pare_progenitor2": "NC",
         "dificultat_fisica": "No",
         "dificultat_aprenentatge": "No",
         "dificultat_per_malaltia": "No",
         "ps_malcap": "One day a month",
         "ps_panxa": "1 or 2 days a week",
         "ps_esquena": "5 or 6 days a week",
         "ps_insomni": "Every day",
         "s_llar": "9",
         "ll_estudi": "No",
         "ll_joc": "No",
         "cotxe": "Two or more",
         "habitacio": "I sleep in a room alone or alone",
         "ordinadors": "More than two",
         "banys": "Two",
         "rentaplats": "Yes",
         "vacances": "Cap",
         "preocupacio_diners": "Always",
         "amb_qui_vius_feina": "More than two",
         "s_bmaterials": "9",
         "bm_internet": "Yes",
         "bm_mobil": "Yes",
         "bm_sabates": "Yes",
         "bm_mescola": "Yes",
         "bm_maficions": "Yes",
         "s_amics": "7",
         "a_suficients": "Totally agree",
         "a_tractebe": "More or less agree",
         "a_bejunts": "Quite okay",
         "a_suport": "More or less agree",
         "a_freq_foraescola": "3 or 4 days a week",
         "s_vidaestudiant": "8",
         "s_aprenentatges": "9",
         "s_igualsclasse": "7",
         "temps_trajecte_escolar": "30 minutes or less",
         "seguretat_trajecte_escolar": "Pretty safe",
         "e_preocupacio": "Totally agree",
         "e_suportmestres": "Totally agree",
         "e_suportiguals": "More or less agree",
         "e_discussions_inv": "Quite okay",
         "e_escolta": "Totally agree",
         "e_eleccio": "Quite okay",
         "e_seguretat": "Totally agree",
         "e_freq_baralles": "At least one day a week",
         "e_vfisica_inv": "Never",
         "e_vverbal_inv": "Once",
         "e_vbuit_inv": "Més de 3 vegades",
         "e_afisic_inv": "Once",
         "e_averbal_inv": "Once",
         "e_abuit_inv": "Once",
         "s_barri": "9",
         "b_seguretat": "Quite okay",
         "b_joc": "Totally agree",
         "b_suport": "More or less agree",
         "b_amabilitat": "More or less agree",
         "b_llibertat": "More or less agree",
         "b_escolta": "I do not know",
         "b_freq_baralles": "I do not know",
         "s_seguretat": "7",
         "s_llibertat": "9",
         "s_cos": "10",
         "contrastslssm_exps": "7",
         "s_escoltaadulta": "5",
         "s_salut": "10",
         "contrastslssm_olsm": "7",
         "SLSSm": "8,8",
         "SLSSmc": "Enough [70, 89]",
         "slssm_vabe": "9",
         "slssm_hauria": "8",
         "slssm_bona": "9",
         "slssm_excel": "8",
         "slssm_agrada": "10",
         "slssm_gaudi": "10",
         "slssm_feliç": "9",
         "f_felicitat": "9",
         "f_tristesa": "7",
         "f_calma": "5",
         "f_estres": "0",
         "f_energia": "10",
         "f_avorriment": "10",
         "contrastslssm_exp2": "7",
         "s_ustemps": "10",
         "s_tempslliure": "7",
         "t_ajuda": "3 or 4 days a week",
         "t_cuida": "One day a month",
         "t_treball": "Never or almost never",
         "t_classes": "Never or almost never",
         "t_deures": "Every day",
         "t_tv": "5 or 6 days a week",
         "t_esport": "Every day",
         "t_familia": "Every day",
         "t_airelliure": "3 or 4 days a week",
         "t_xarxes": "3 or 4 days a week",
         "t_videojocs": "1 or 2 days a week",
         "t_resrepos": "Every day",
         "d_drets": "I'm not sure",
         "d_convencio": "Yes",
         "_deepnote_index_column": 2
        },
        {
         "ID": 4,
         "Codi_Districte_Educatiu": 8,
         "Nom_Districte_Educatiu": "Nou Barris",
         "Curs": "6è",
         "Sexe": "Girl",
         "Llar_BCN": "Yes",
         "ERFDbllp": "Low-income neighborhoods",
         "Edat": "11",
         "amb_qui_vius": "I live with my family",
         "familia_altra_casa": "No",
         "frequencia_altra_familia": "VF",
         "mare": "Yes",
         "pare": "Yes",
         "parella_mare": "No",
         "segona_mare": "No",
         "parella_pare": "No",
         "segon_pare": "No",
         "germans": "Yes",
         "avis": "No",
         "altres_infants": "No",
         "altres_adults": "No",
         "animals": "Yes",
         "germans_mateixa_llar": "2",
         "avis_mateixa_llar": "VF",
         "s_familia": "10",
         "f_preocupacio": "Totally agree",
         "f_suport": "Totally agree",
         "f_bejunts": "Totally agree",
         "f_seguretat": "Totally agree",
         "f_escolta": "Totally agree",
         "f_llibertat": "Totally agree",
         "on_vas_niexer": "Rest of Spain",
         "on_va_neixer_mare_progenitor1": "Rest of Spain",
         "on_va_neixer_pare_progenitor2": "Catalonia",
         "dificultat_fisica": "No",
         "dificultat_aprenentatge": "No",
         "dificultat_per_malaltia": "No",
         "ps_malcap": "1 or 2 days a week",
         "ps_panxa": "One day a month",
         "ps_esquena": "One day a month",
         "ps_insomni": "Never or almost never",
         "s_llar": "10",
         "ll_estudi": "Yes",
         "ll_joc": "Yes",
         "cotxe": "No",
         "habitacio": "I sleep in a room that I share with siblings or other people",
         "ordinadors": "One",
         "banys": "One",
         "rentaplats": "Yes",
         "vacances": "More than two",
         "preocupacio_diners": "Sometimes",
         "amb_qui_vius_feina": "Two",
         "s_bmaterials": "10",
         "bm_internet": "Yes",
         "bm_mobil": "Yes",
         "bm_sabates": "Yes",
         "bm_mescola": "Yes",
         "bm_maficions": "Yes",
         "s_amics": "10",
         "a_suficients": "Totally agree",
         "a_tractebe": "Totally agree",
         "a_bejunts": "Totally agree",
         "a_suport": "Totally agree",
         "a_freq_foraescola": "1 or 2 days a week",
         "s_vidaestudiant": "10",
         "s_aprenentatges": "10",
         "s_igualsclasse": "10",
         "temps_trajecte_escolar": "30 minutes or less",
         "seguretat_trajecte_escolar": "Pretty safe",
         "e_preocupacio": "Totally agree",
         "e_suportmestres": "Totally agree",
         "e_suportiguals": "Totally agree",
         "e_discussions_inv": "People agree",
         "e_escolta": "Totally agree",
         "e_eleccio": "Quite okay",
         "e_seguretat": "Totally agree",
         "e_freq_baralles": "Less often",
         "e_vfisica_inv": "Never",
         "e_vverbal_inv": "Once",
         "e_vbuit_inv": "Never",
         "e_afisic_inv": "Never",
         "e_averbal_inv": "Never",
         "e_abuit_inv": "Never",
         "s_barri": "9",
         "b_seguretat": "More or less agree",
         "b_joc": "More or less agree",
         "b_suport": "More or less agree",
         "b_amabilitat": "Quite okay",
         "b_llibertat": "Totally agree",
         "b_escolta": "Totally agree",
         "b_freq_baralles": "I do not know",
         "s_seguretat": "10",
         "s_llibertat": "8",
         "s_cos": "10",
         "contrastslssm_exps": "10",
         "s_escoltaadulta": "9",
         "s_salut": "9",
         "contrastslssm_olsm": "10",
         "SLSSm": "10",
         "SLSSmc": "A lot [90, 100]",
         "slssm_vabe": "10",
         "slssm_hauria": "10",
         "slssm_bona": "10",
         "slssm_excel": "10",
         "slssm_agrada": "10",
         "slssm_gaudi": "10",
         "slssm_feliç": "10",
         "f_felicitat": "10",
         "f_tristesa": "1",
         "f_calma": "10",
         "f_estres": "0",
         "f_energia": "10",
         "f_avorriment": "3",
         "contrastslssm_exp2": "10",
         "s_ustemps": "10",
         "s_tempslliure": "10",
         "t_ajuda": "3 or 4 days a week",
         "t_cuida": "Every day",
         "t_treball": "Never or almost never",
         "t_classes": "1 or 2 days a week",
         "t_deures": "3 or 4 days a week",
         "t_tv": "5 or 6 days a week",
         "t_esport": "Every day",
         "t_familia": "5 or 6 days a week",
         "t_airelliure": "3 or 4 days a week",
         "t_xarxes": "Every day",
         "t_videojocs": "1 or 2 days a week",
         "t_resrepos": "3 or 4 days a week",
         "d_drets": "Yes",
         "d_convencio": "Yes",
         "_deepnote_index_column": 3
        },
        {
         "ID": 5,
         "Codi_Districte_Educatiu": 8,
         "Nom_Districte_Educatiu": "Nou Barris",
         "Curs": "6è",
         "Sexe": "Girl",
         "Llar_BCN": "Yes",
         "ERFDbllp": "Low-income neighborhoods",
         "Edat": "11",
         "amb_qui_vius": "I live with my family",
         "familia_altra_casa": "No",
         "frequencia_altra_familia": "VF",
         "mare": "Yes",
         "pare": "Yes",
         "parella_mare": "No",
         "segona_mare": "No",
         "parella_pare": "No",
         "segon_pare": "No",
         "germans": "No",
         "avis": "Yes",
         "altres_infants": "No",
         "altres_adults": "Yes",
         "animals": "No",
         "germans_mateixa_llar": "VF",
         "avis_mateixa_llar": "3 or more",
         "s_familia": "10",
         "f_preocupacio": "Totally agree",
         "f_suport": "Quite okay",
         "f_bejunts": "Totally agree",
         "f_seguretat": "Totally agree",
         "f_escolta": "Quite okay",
         "f_llibertat": "More or less agree",
         "on_vas_niexer": "Catalonia",
         "on_va_neixer_mare_progenitor1": "Catalonia",
         "on_va_neixer_pare_progenitor2": "Catalonia",
         "dificultat_fisica": "No",
         "dificultat_aprenentatge": "No",
         "dificultat_per_malaltia": "No",
         "ps_malcap": "Never or almost never",
         "ps_panxa": "Never or almost never",
         "ps_esquena": "Never or almost never",
         "ps_insomni": "Never or almost never",
         "s_llar": "10",
         "ll_estudi": "Yes",
         "ll_joc": "Yes",
         "cotxe": "One",
         "habitacio": "I sleep in a room alone or alone",
         "ordinadors": "One",
         "banys": "One",
         "rentaplats": "No",
         "vacances": "Two",
         "preocupacio_diners": "Never",
         "amb_qui_vius_feina": "One",
         "s_bmaterials": "10",
         "bm_internet": "Yes",
         "bm_mobil": "Yes",
         "bm_sabates": "Yes",
         "bm_mescola": "Yes",
         "bm_maficions": "Yes",
         "s_amics": "10",
         "a_suficients": "Quite okay",
         "a_tractebe": "Totally agree",
         "a_bejunts": "Quite okay",
         "a_suport": "Totally agree",
         "a_freq_foraescola": "Never or almost never",
         "s_vidaestudiant": "10",
         "s_aprenentatges": "10",
         "s_igualsclasse": "10",
         "temps_trajecte_escolar": "30 minutes or less",
         "seguretat_trajecte_escolar": "Very safe",
         "e_preocupacio": "Quite okay",
         "e_suportmestres": "Quite okay",
         "e_suportiguals": "Totally agree",
         "e_discussions_inv": "More or less agree",
         "e_escolta": "Totally agree",
         "e_eleccio": "Totally agree",
         "e_seguretat": "Totally agree",
         "e_freq_baralles": "Less often",
         "e_vfisica_inv": "Never",
         "e_vverbal_inv": "Never",
         "e_vbuit_inv": "Never",
         "e_afisic_inv": "Never",
         "e_averbal_inv": "Never",
         "e_abuit_inv": "Never",
         "s_barri": "10",
         "b_seguretat": "Totally agree",
         "b_joc": "Totally agree",
         "b_suport": "Totally agree",
         "b_amabilitat": "Totally agree",
         "b_llibertat": "Totally agree",
         "b_escolta": "Totally agree",
         "b_freq_baralles": "Less often",
         "s_seguretat": "10",
         "s_llibertat": "8",
         "s_cos": "10",
         "contrastslssm_exps": "10",
         "s_escoltaadulta": "10",
         "s_salut": "10",
         "contrastslssm_olsm": "10",
         "SLSSm": "10",
         "SLSSmc": "A lot [90, 100]",
         "slssm_vabe": "10",
         "slssm_hauria": "10",
         "slssm_bona": "10",
         "slssm_excel": "10",
         "slssm_agrada": "10",
         "slssm_gaudi": "10",
         "slssm_feliç": "10",
         "f_felicitat": "10",
         "f_tristesa": "0",
         "f_calma": "10",
         "f_estres": "0",
         "f_energia": "10",
         "f_avorriment": "0",
         "contrastslssm_exp2": "10",
         "s_ustemps": "10",
         "s_tempslliure": "10",
         "t_ajuda": "Every day",
         "t_cuida": "1 or 2 days a week",
         "t_treball": "Every day",
         "t_classes": "Never or almost never",
         "t_deures": "Every day",
         "t_tv": "5 or 6 days a week",
         "t_esport": "One day a month",
         "t_familia": "3 or 4 days a week",
         "t_airelliure": "3 or 4 days a week",
         "t_xarxes": "1 or 2 days a week",
         "t_videojocs": "One day a month",
         "t_resrepos": "Never or almost never",
         "d_drets": "Yes",
         "d_convencio": "Yes",
         "_deepnote_index_column": 4
        }
       ],
       "rows_bottom": null
      },
      "text/plain": "   ID  Codi_Districte_Educatiu Nom_Districte_Educatiu Curs  Sexe Llar_BCN  \\\n0   1                        8             Nou Barris   6è  Girl      Yes   \n1   2                        8             Nou Barris   6è   Boy      Yes   \n2   3                        8             Nou Barris   6è  Girl      Yes   \n3   4                        8             Nou Barris   6è  Girl      Yes   \n4   5                        8             Nou Barris   6è  Girl      Yes   \n\n                            ERFDbllp Edat           amb_qui_vius  \\\n0           Low-income neighborhoods   11  I live with my family   \n1  Intermediate income neighborhoods   11  I live with my family   \n2           Low-income neighborhoods   11  I live with my family   \n3           Low-income neighborhoods   11  I live with my family   \n4           Low-income neighborhoods   11  I live with my family   \n\n  familia_altra_casa  ...            t_deures                t_tv  \\\n0                 No  ...           Every day  5 or 6 days a week   \n1                Yes  ...           Every day           Every day   \n2                 No  ...           Every day  5 or 6 days a week   \n3                 No  ...  3 or 4 days a week  5 or 6 days a week   \n4                 No  ...           Every day  5 or 6 days a week   \n\n             t_esport           t_familia        t_airelliure  \\\n0  5 or 6 days a week  5 or 6 days a week  3 or 4 days a week   \n1  1 or 2 days a week     One day a month     One day a month   \n2           Every day           Every day  3 or 4 days a week   \n3           Every day  5 or 6 days a week  3 or 4 days a week   \n4     One day a month  3 or 4 days a week  3 or 4 days a week   \n\n             t_xarxes         t_videojocs             t_resrepos  \\\n0  5 or 6 days a week     One day a month     1 or 2 days a week   \n1  3 or 4 days a week  1 or 2 days a week     1 or 2 days a week   \n2  3 or 4 days a week  1 or 2 days a week              Every day   \n3           Every day  1 or 2 days a week     3 or 4 days a week   \n4  1 or 2 days a week     One day a month  Never or almost never   \n\n        d_drets   d_convencio  \n0           Yes           Yes  \n1           Yes  I'm not sure  \n2  I'm not sure           Yes  \n3           Yes           Yes  \n4           Yes           Yes  \n\n[5 rows x 130 columns]",
      "text/html": "<div>\n<style scoped>\n    .dataframe tbody tr th:only-of-type {\n        vertical-align: middle;\n    }\n\n    .dataframe tbody tr th {\n        vertical-align: top;\n    }\n\n    .dataframe thead th {\n        text-align: right;\n    }\n</style>\n<table border=\"1\" class=\"dataframe\">\n  <thead>\n    <tr style=\"text-align: right;\">\n      <th></th>\n      <th>ID</th>\n      <th>Codi_Districte_Educatiu</th>\n      <th>Nom_Districte_Educatiu</th>\n      <th>Curs</th>\n      <th>Sexe</th>\n      <th>Llar_BCN</th>\n      <th>ERFDbllp</th>\n      <th>Edat</th>\n      <th>amb_qui_vius</th>\n      <th>familia_altra_casa</th>\n      <th>...</th>\n      <th>t_deures</th>\n      <th>t_tv</th>\n      <th>t_esport</th>\n      <th>t_familia</th>\n      <th>t_airelliure</th>\n      <th>t_xarxes</th>\n      <th>t_videojocs</th>\n      <th>t_resrepos</th>\n      <th>d_drets</th>\n      <th>d_convencio</th>\n    </tr>\n  </thead>\n  <tbody>\n    <tr>\n      <th>0</th>\n      <td>1</td>\n      <td>8</td>\n      <td>Nou Barris</td>\n      <td>6è</td>\n      <td>Girl</td>\n      <td>Yes</td>\n      <td>Low-income neighborhoods</td>\n      <td>11</td>\n      <td>I live with my family</td>\n      <td>No</td>\n      <td>...</td>\n      <td>Every day</td>\n      <td>5 or 6 days a week</td>\n      <td>5 or 6 days a week</td>\n      <td>5 or 6 days a week</td>\n      <td>3 or 4 days a week</td>\n      <td>5 or 6 days a week</td>\n      <td>One day a month</td>\n      <td>1 or 2 days a week</td>\n      <td>Yes</td>\n      <td>Yes</td>\n    </tr>\n    <tr>\n      <th>1</th>\n      <td>2</td>\n      <td>8</td>\n      <td>Nou Barris</td>\n      <td>6è</td>\n      <td>Boy</td>\n      <td>Yes</td>\n      <td>Intermediate income neighborhoods</td>\n      <td>11</td>\n      <td>I live with my family</td>\n      <td>Yes</td>\n      <td>...</td>\n      <td>Every day</td>\n      <td>Every day</td>\n      <td>1 or 2 days a week</td>\n      <td>One day a month</td>\n      <td>One day a month</td>\n      <td>3 or 4 days a week</td>\n      <td>1 or 2 days a week</td>\n      <td>1 or 2 days a week</td>\n      <td>Yes</td>\n      <td>I'm not sure</td>\n    </tr>\n    <tr>\n      <th>2</th>\n      <td>3</td>\n      <td>8</td>\n      <td>Nou Barris</td>\n      <td>6è</td>\n      <td>Girl</td>\n      <td>Yes</td>\n      <td>Low-income neighborhoods</td>\n      <td>11</td>\n      <td>I live with my family</td>\n      <td>No</td>\n      <td>...</td>\n      <td>Every day</td>\n      <td>5 or 6 days a week</td>\n      <td>Every day</td>\n      <td>Every day</td>\n      <td>3 or 4 days a week</td>\n      <td>3 or 4 days a week</td>\n      <td>1 or 2 days a week</td>\n      <td>Every day</td>\n      <td>I'm not sure</td>\n      <td>Yes</td>\n    </tr>\n    <tr>\n      <th>3</th>\n      <td>4</td>\n      <td>8</td>\n      <td>Nou Barris</td>\n      <td>6è</td>\n      <td>Girl</td>\n      <td>Yes</td>\n      <td>Low-income neighborhoods</td>\n      <td>11</td>\n      <td>I live with my family</td>\n      <td>No</td>\n      <td>...</td>\n      <td>3 or 4 days a week</td>\n      <td>5 or 6 days a week</td>\n      <td>Every day</td>\n      <td>5 or 6 days a week</td>\n      <td>3 or 4 days a week</td>\n      <td>Every day</td>\n      <td>1 or 2 days a week</td>\n      <td>3 or 4 days a week</td>\n      <td>Yes</td>\n      <td>Yes</td>\n    </tr>\n    <tr>\n      <th>4</th>\n      <td>5</td>\n      <td>8</td>\n      <td>Nou Barris</td>\n      <td>6è</td>\n      <td>Girl</td>\n      <td>Yes</td>\n      <td>Low-income neighborhoods</td>\n      <td>11</td>\n      <td>I live with my family</td>\n      <td>No</td>\n      <td>...</td>\n      <td>Every day</td>\n      <td>5 or 6 days a week</td>\n      <td>One day a month</td>\n      <td>3 or 4 days a week</td>\n      <td>3 or 4 days a week</td>\n      <td>1 or 2 days a week</td>\n      <td>One day a month</td>\n      <td>Never or almost never</td>\n      <td>Yes</td>\n      <td>Yes</td>\n    </tr>\n  </tbody>\n</table>\n<p>5 rows × 130 columns</p>\n</div>"
     },
     "metadata": {}
    }
   ]
  },
  {
   "cell_type": "markdown",
   "source": "## 1. Find relevant columns manually and filter for those:",
   "metadata": {
    "tags": [],
    "cell_id": "00002-ca5e67b2-51c2-42d8-bc0b-bf2cf0422fbe",
    "deepnote_cell_type": "markdown"
   }
  },
  {
   "cell_type": "code",
   "metadata": {
    "tags": [],
    "cell_id": "00004-fd56455e-33b9-4d7d-9d07-16db503b3ebb",
    "deepnote_to_be_reexecuted": false,
    "source_hash": "1c06bc16",
    "execution_start": 1620136086598,
    "execution_millis": 0,
    "deepnote_cell_type": "code"
   },
   "source": "# Relevant columns\nrel_col = ['Nom_Districte_Educatiu', 'Codi_Districte_Educatiu', 'ERFDbllp',  # District name, district number, Income in neighbourhood\n           'amb_qui_vius', 'familia_altra_casa', 'mare', 'pare',             # Who do you live with, family another house, mom , dad\n           'parella_mare', 'segona_mare', 'parella_pare', 'segon_pare',      # Parallel mom?, second mom, parallel dad?, second dad\n           'germans', 'avis', 'altres_infants', 'altres_adults',             # Brothers (siblings?), grandparents, other children, other adults\n           'animals', 'germans_mateixa_llar', 'avis_mateixa_llar',           # animals, siblings at home, grandparents at home\n           's_familia', 'f_preocupacio', 'f_suport', 'f_bejunts',            # Satisfied with family (10 = best), people worried about me, support for problems, great time together \n           'f_seguretat', 'f_escolta', 'f_llibertat']                        # feel safe at home, parents listen to me, parents make sure i have freedom",
   "execution_count": null,
   "outputs": []
  },
  {
   "cell_type": "code",
   "metadata": {
    "tags": [],
    "cell_id": "00003-04380db0-64ea-42ee-91c8-b74b1ab9b26e",
    "deepnote_to_be_reexecuted": false,
    "source_hash": "a1e0d560",
    "execution_start": 1620138531053,
    "execution_millis": 0,
    "deepnote_cell_type": "code"
   },
   "source": "family_df = df_t.copy()[rel_col]\n# family_df.head()",
   "execution_count": null,
   "outputs": []
  },
  {
   "cell_type": "markdown",
   "source": "## 2. Basic statistics\n\n#### Summary of finding so far:\n\nNot all columns is of interest. Columns such as `amb_qui_vius` have very few entrees that aren't `I live with my family`. \n\nSo far, columns of interest could me `mare`, `pare`, `familia_altra_casa` (indicator if parents are seperated/divorced), `animals` (animals could be interesting, as to see if kids with animals are happier).\n\n\n### 2.1 Distribution of income levels",
   "metadata": {
    "tags": [],
    "cell_id": "00005-9c276576-3827-4eac-b104-d5e34fb4a5f9",
    "deepnote_cell_type": "markdown"
   }
  },
  {
   "cell_type": "code",
   "metadata": {
    "tags": [],
    "cell_id": "00004-97a16c78-2bf9-4a6d-9986-f62760b82c05",
    "deepnote_to_be_reexecuted": false,
    "source_hash": "e32a8e22",
    "execution_start": 1620125189590,
    "execution_millis": 175,
    "deepnote_cell_type": "code"
   },
   "source": "income = family_df.groupby(['ERFDbllp']).count()['mare']\n\nx = income.index.values\ny = income.values\n\nplt.bar(x, y)\nplt.xticks(rotation=90)\nplt.show()",
   "execution_count": null,
   "outputs": [
    {
     "data": {
      "text/plain": "<Figure size 432x288 with 1 Axes>",
      "image/png": "[encoded data removed]"
     },
     "metadata": {
      "image/png": {
       "width": 381,
       "height": 448
      }
     },
     "output_type": "display_data"
    }
   ]
  },
  {
   "cell_type": "markdown",
   "source": "### 2.2 Family info",
   "metadata": {
    "tags": [],
    "cell_id": "00007-b88a3921-9dd3-48da-ad6e-d5fd362f89af",
    "deepnote_cell_type": "markdown"
   }
  },
  {
   "cell_type": "markdown",
   "source": "#### 2.2.1 Mom, dad, animal, divorced",
   "metadata": {
    "tags": [],
    "cell_id": "00008-08b3570e-0f04-4719-a8fe-349a20a8a6dc",
    "deepnote_cell_type": "markdown"
   }
  },
  {
   "cell_type": "code",
   "metadata": {
    "tags": [],
    "cell_id": "00004-18a8c29f-eec8-4576-9d0d-61fcd10111e7",
    "deepnote_to_be_reexecuted": false,
    "source_hash": "1ef7c46b",
    "execution_start": 1620122215686,
    "execution_millis": 5,
    "deepnote_cell_type": "code"
   },
   "source": "who_live = family_df.groupby(['amb_qui_vius']).count()['mare']\n\n# Doesn't make sense to plot\nwho_live",
   "execution_count": null,
   "outputs": [
    {
     "output_type": "execute_result",
     "execution_count": 55,
     "data": {
      "text/plain": "amb_qui_vius\nI live in a boys and girls residence       4\nI live with a host family                 15\nI live with my family                   3929\nNC                                        14\nName: mare, dtype: int64"
     },
     "metadata": {}
    }
   ]
  },
  {
   "cell_type": "code",
   "metadata": {
    "tags": [],
    "cell_id": "00008-b8e02e4d-3758-408e-865b-380ce3fa570e",
    "deepnote_to_be_reexecuted": false,
    "source_hash": "3d316e38",
    "execution_start": 1620126259914,
    "execution_millis": 375,
    "deepnote_cell_type": "code"
   },
   "source": "mare = family_df.groupby(['Nom_Districte_Educatiu','mare']).count()['pare']\nplot_yes_no('mare')",
   "execution_count": null,
   "outputs": [
    {
     "data": {
      "text/plain": "<Figure size 1080x360 with 2 Axes>",
      "image/png": "[encoded data removed]"
     },
     "metadata": {
      "image/png": {
       "width": 874,
       "height": 406
      }
     },
     "output_type": "display_data"
    }
   ]
  },
  {
   "cell_type": "code",
   "metadata": {
    "tags": [],
    "cell_id": "00010-c19be740-c18b-4841-8e98-7926ec2fd7d9",
    "deepnote_to_be_reexecuted": false,
    "source_hash": "5cf391d",
    "execution_start": 1620126270293,
    "execution_millis": 384,
    "deepnote_cell_type": "code"
   },
   "source": "plot_yes_no('pare')",
   "execution_count": null,
   "outputs": [
    {
     "data": {
      "text/plain": "<Figure size 1080x360 with 2 Axes>",
      "image/png": "[encoded data removed]"
     },
     "metadata": {
      "image/png": {
       "width": 874,
       "height": 406
      }
     },
     "output_type": "display_data"
    }
   ]
  },
  {
   "cell_type": "code",
   "metadata": {
    "tags": [],
    "cell_id": "00009-b9f1f3ae-124a-4ff1-8e97-28dd5c0678e9",
    "deepnote_to_be_reexecuted": false,
    "source_hash": "489eb738",
    "execution_start": 1620129498734,
    "execution_millis": 362,
    "deepnote_cell_type": "code"
   },
   "source": "plot_yes_no('animals')",
   "execution_count": null,
   "outputs": [
    {
     "data": {
      "text/plain": "<Figure size 1080x360 with 2 Axes>",
      "image/png": "[encoded data removed]"
     },
     "metadata": {
      "image/png": {
       "width": 874,
       "height": 406
      }
     },
     "output_type": "display_data"
    }
   ]
  },
  {
   "cell_type": "code",
   "metadata": {
    "tags": [],
    "cell_id": "00012-f0795b97-016c-4116-81a1-36cb226609c3",
    "deepnote_to_be_reexecuted": false,
    "source_hash": "bee0f48d",
    "execution_start": 1620135099338,
    "execution_millis": 389,
    "deepnote_cell_type": "code"
   },
   "source": "plot_yes_no('familia_altra_casa')",
   "execution_count": null,
   "outputs": [
    {
     "data": {
      "text/plain": "<Figure size 1080x360 with 2 Axes>",
      "image/png": "[encoded data removed]"
     },
     "metadata": {
      "image/png": {
       "width": 880,
       "height": 406
      }
     },
     "output_type": "display_data"
    }
   ]
  },
  {
   "cell_type": "markdown",
   "source": "#### 2.2.2 Question 7, question about home\n\nPlots regarding question 7 in block 2.\n\nFunction that takes a question and display a grouped bar plot of each answer in every district in percent.",
   "metadata": {
    "tags": [],
    "cell_id": "00014-51153f67-2a3f-45b9-ace5-00191f5556d1",
    "deepnote_cell_type": "markdown"
   }
  },
  {
   "cell_type": "code",
   "metadata": {
    "tags": [],
    "cell_id": "00013-80f04ef8-688c-414a-8c32-fa39a8de36be",
    "deepnote_to_be_reexecuted": false,
    "source_hash": "a3f0b702",
    "execution_start": 1620141632333,
    "execution_millis": 1,
    "deepnote_cell_type": "code"
   },
   "source": "def plot_question7(question: str):\n\n    choices = ['People agree', 'Little agreement', 'More or less agree', 'Quite okay',  'Totally agree', 'I do not know', 'NC']  # Same order as in the question\n    question_df = df_t[['Nom_Districte_Educatiu', question]]  # Only interested in district and question\n\n    districts = question_df['Nom_Districte_Educatiu'].unique()\n    district_count = question_df.groupby('Nom_Districte_Educatiu').count()[question]\n\n    count_dict = pd.Series(district_count.values,index=district_count.index).to_dict()\n\n    # set width of bars\n    barWidth = 0.15\n\n    bars = {}\n    for c in choices:\n        counts = []\n        choice_filter = (question_df[question] == c)  # filter for choice\n\n        for dis in districts:\n            district_filter = (question_df['Nom_Districte_Educatiu'] == dis)  # filter for district\n            val = question_df[district_filter & choice_filter].count().values[0]\n            counts.append(val/count_dict[dis])\n        \n        bars[c] = counts\n    \n    # Set position of bar on X axis\n    position = {}\n    for i, c in enumerate(choices):\n        if position.keys():\n            idx = list(position.keys())[i-1]\n            position[c] = [x + barWidth for x in position[idx]]\n        else:\n            position[c] = np.arange(len(bars[c]))   \n\n    \n    plt.figure(figsize=(10, 7))\n\n    # Make the plot\n    for c in choices:\n        plt.bar(position[c], bars[c], width=barWidth, edgecolor='white', label=c)\n\n    # Add xticks on the middle of the group bars\n    idx = list(bars.keys())[0]\n    plt.xticks([r + barWidth for r in range(len(bars[idx]))], districts, rotation=90)\n    \n    # Create legend & Show graphic\n    plt.legend()\n    plt.show()\n    ",
   "execution_count": null,
   "outputs": []
  },
  {
   "cell_type": "code",
   "metadata": {
    "tags": [],
    "cell_id": "00016-00ccdd7d-128a-4f9a-8b28-15d5b22184ad",
    "deepnote_to_be_reexecuted": false,
    "source_hash": "150c71f",
    "execution_start": 1620141641820,
    "execution_millis": 518,
    "deepnote_cell_type": "code"
   },
   "source": "#'f_preocupacio', 'f_suport', 'f_bejunts', 'f_seguretat', 'f_escolta', 'f_llibertat'\n# 'Nou Barris', 'Ciutat Vella', 'Sant Martí', 'Horta-Guinardó', 'Sarrià-Sant Gervasi', 'Sants-Montjuïc', 'Sant Andreu', 'Les Corts', 'Gràcia', \"L'Eixample\"\n\nplot_question7('f_llibertat')",
   "execution_count": null,
   "outputs": [
    {
     "data": {
      "text/plain": "<Figure size 720x504 with 1 Axes>",
      "image/png": "[encoded data removed]"
     },
     "metadata": {
      "image/png": {
       "width": 595,
       "height": 498
      }
     },
     "output_type": "display_data"
    }
   ]
  },
  {
   "cell_type": "code",
   "metadata": {
    "tags": [],
    "cell_id": "00017-5c5f5ffb-0296-4f1e-975a-f70c6ddafe0b",
    "deepnote_cell_type": "code"
   },
   "source": "",
   "execution_count": null,
   "outputs": []
  },
  {
   "cell_type": "markdown",
   "source": "<a style='text-decoration:none;line-height:16px;display:flex;color:#5B5B62;padding:10px;justify-content:end;' href='https://deepnote.com?utm_source=created-in-deepnote-cell&projectId=5cb1a2c0-2f56-40d6-8008-fedeaf8b6a17' target=\"_blank\">\n<img alt='Created in deepnote.com' style='display:inline;max-height:16px;margin:0px;margin-right:7.5px;' src='data:image/svg+xml;base64,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' > </img>\nCreated in <span style='font-weight:600;margin-left:4px;'>Deepnote</span></a>",
   "metadata": {
    "tags": [],
    "created_in_deepnote_cell": true,
    "deepnote_cell_type": "markdown"
   }
  }
 ],
 "nbformat": 4,
 "nbformat_minor": 2,
 "metadata": {
  "orig_nbformat": 2,
  "deepnote": {
   "is_reactive": false
  },
  "deepnote_notebook_id": "55c6266c-ff21-431c-9921-bacfddb9d65d",
  "deepnote_execution_queue": []
 }
}